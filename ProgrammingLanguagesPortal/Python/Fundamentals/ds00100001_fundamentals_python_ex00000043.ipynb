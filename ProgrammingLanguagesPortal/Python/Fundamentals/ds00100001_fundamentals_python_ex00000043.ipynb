{
 "cells": [
  {
   "cell_type": "code",
   "execution_count": 1,
   "metadata": {
    "collapsed": true
   },
   "outputs": [],
   "source": [
    "# encoding=utf8"
   ]
  },
  {
   "cell_type": "markdown",
   "metadata": {},
   "source": [
    "# Fundamentals of Python\n"
   ]
  },
  {
   "cell_type": "markdown",
   "metadata": {
    "collapsed": true
   },
   "source": [
    "Python程序结构\n",
    "\n",
    "+ 程序由模块构成\n",
    "\n",
    "+ 模块包含语句\n",
    "\n",
    "+ 语句包含表达式\n",
    "\n",
    "+ 表达式建立并处理对象"
   ]
  },
  {
   "cell_type": "markdown",
   "metadata": {},
   "source": [
    "## 变量\n"
   ]
  },
  {
   "cell_type": "markdown",
   "metadata": {},
   "source": [
    "Python 中的变量不需要声明。每个变量在使用前都必须赋值，变量赋值以后该变量才会被创建。\n",
    "\n",
    "在 Python 中，变量就是变量，它没有类型，我们所说的\"类型\"是变量所指的内存中对象的类型。\n",
    "\n",
    "等号（=）用来给变量赋值。\n",
    "\n",
    "等号（=）运算符左边是一个变量名,等号（=）运算符右边是存储在变量中的值。例如：\n",
    "\n"
   ]
  },
  {
   "cell_type": "code",
   "execution_count": 7,
   "metadata": {
    "collapsed": false
   },
   "outputs": [
    {
     "name": "stdout",
     "output_type": "stream",
     "text": [
      "100\n",
      "1000.0\n",
      "runoob\n"
     ]
    }
   ],
   "source": [
    "counter = 100          # 整型变量\n",
    "miles   = 1000.0       # 浮点型变量\n",
    "name    = \"runoob\"     # 字符串\n",
    " \n",
    "print (counter)\n",
    "print (miles)\n",
    "print (name)"
   ]
  },
  {
   "cell_type": "code",
   "execution_count": 8,
   "metadata": {
    "collapsed": false
   },
   "outputs": [
    {
     "data": {
      "text/plain": [
       "NoneType"
      ]
     },
     "execution_count": 8,
     "metadata": {},
     "output_type": "execute_result"
    }
   ],
   "source": [
    "type(None)"
   ]
  },
  {
   "cell_type": "code",
   "execution_count": 2,
   "metadata": {
    "collapsed": true
   },
   "outputs": [],
   "source": [
    "# 数据类型\n"
   ]
  },
  {
   "cell_type": "markdown",
   "metadata": {},
   "source": [
    "\n",
    "## 关键字\n"
   ]
  },
  {
   "cell_type": "code",
   "execution_count": 9,
   "metadata": {
    "collapsed": false
   },
   "outputs": [
    {
     "name": "stdout",
     "output_type": "stream",
     "text": [
      "\n",
      "Here is a list of the Python keywords.  Enter any keyword to get more help.\n",
      "\n",
      "False               def                 if                  raise\n",
      "None                del                 import              return\n",
      "True                elif                in                  try\n",
      "and                 else                is                  while\n",
      "as                  except              lambda              with\n",
      "assert              finally             nonlocal            yield\n",
      "break               for                 not                 \n",
      "class               from                or                  \n",
      "continue            global              pass                \n",
      "\n"
     ]
    }
   ],
   "source": [
    "help(\"keywords\")\n"
   ]
  },
  {
   "cell_type": "code",
   "execution_count": null,
   "metadata": {
    "collapsed": false
   },
   "outputs": [
    {
     "name": "stdout",
     "output_type": "stream",
     "text": [
      "\n",
      "Please wait a moment while I gather a list of all available modules...\n",
      "\n"
     ]
    },
    {
     "name": "stderr",
     "output_type": "stream",
     "text": [
      "/Users/bater.makhabel/anaconda3/lib/python3.6/site-packages/IPython/kernel/__init__.py:13: ShimWarning: The `IPython.kernel` package has been deprecated. You should import from ipykernel or jupyter_client instead.\n",
      "  \"You should import from ipykernel or jupyter_client instead.\", ShimWarning)\n",
      "/Users/bater.makhabel/anaconda3/lib/python3.6/site-packages/blaze/server/server.py:17: ExtDeprecationWarning: Importing flask.ext.cors is deprecated, use flask_cors instead.\n",
      "  from flask.ext.cors import cross_origin\n",
      "/Users/bater.makhabel/anaconda3/lib/python3.6/site-packages/IPython/html.py:14: ShimWarning: The `IPython.html` package has been deprecated. You should import from `notebook` instead. `IPython.html.widgets` has moved to `ipywidgets`.\n",
      "  \"`IPython.html.widgets` has moved to `ipywidgets`.\", ShimWarning)\n",
      "/Users/bater.makhabel/anaconda3/lib/python3.6/site-packages/IPython/utils/traitlets.py:5: UserWarning: IPython.utils.traitlets has moved to a top-level traitlets package.\n",
      "  warn(\"IPython.utils.traitlets has moved to a top-level traitlets package.\")\n",
      "/Users/bater.makhabel/anaconda3/lib/python3.6/site-packages/matplotlib/cbook.py:136: MatplotlibDeprecationWarning: The matplotlib.delaunay module was deprecated in version 1.4. Use matplotlib.tri.Triangulation instead.\n",
      "  warnings.warn(message, mplDeprecation, stacklevel=1)\n"
     ]
    },
    {
     "name": "stdout",
     "output_type": "stream",
     "text": [
      "nibabel required for fmri I/O. See http://nipy.org/nibabel\n"
     ]
    },
    {
     "name": "stderr",
     "output_type": "stream",
     "text": [
      "/Users/bater.makhabel/anaconda3/lib/python3.6/site-packages/nltk/twitter/__init__.py:20: UserWarning: The twython library has not been installed. Some functionality from the twitter package will not be available.\n",
      "  warnings.warn(\"The twython library has not been installed. \"\n",
      "/Users/bater.makhabel/anaconda3/lib/python3.6/pkgutil.py:92: FutureWarning: The pandas.rpy module is deprecated and will be removed in a future version. We refer to external packages like rpy2. \n",
      "See here for a guide on how to port your code to rpy2: http://pandas.pydata.org/pandas-docs/stable/r_interface.html\n",
      "  __import__(info.name)\n"
     ]
    },
    {
     "data": {
      "application/javascript": [
       "window.genUID = function() {\n",
       "    return 'xxxxxxxx-xxxx-4xxx-yxxx-xxxxxxxxxxxx'.replace(/[xy]/g, function(c) {\n",
       "        var r = Math.random()*16|0, v = c == 'x' ? r : (r&0x3|0x8);\n",
       "        return v.toString(16);\n",
       "    });\n",
       "};\n",
       "\n",
       "var IPYTHON_VERSION = '3';\n",
       "\n",
       "require([\"widgets/js/widget\", \"widgets/js/manager\"], function (widget, manager) {\n",
       "    if (!('DOMWidgetView' in widget)) {\n",
       "\n",
       "        // we're in IPython2, things moved a bit from 2 --> 3.\n",
       "        // construct the expected IPython3 widget API\n",
       "        IPYTHON_VERSION = '2';\n",
       "        manager = {WidgetManager: widget};\n",
       "        widget = {DOMWidgetView: IPython.DOMWidgetView};\n",
       "    }\n",
       "\n",
       "    var GraphView = widget.DOMWidgetView.extend({\n",
       "        render: function(){\n",
       "            var that = this;\n",
       "\n",
       "            var graphId = window.genUID();\n",
       "            var loadingId = 'loading-'+graphId;\n",
       "\n",
       "\n",
       "            var _graph_url = that.model.get('_graph_url');\n",
       "\n",
       "            // variable plotlyDomain in the case of enterprise\n",
       "            var url_parts = _graph_url.split('/');\n",
       "            var plotlyDomain = url_parts[0] + '//' + url_parts[2];\n",
       "\n",
       "            if(!('plotlyDomains' in window)){\n",
       "                window.plotlyDomains = {};\n",
       "            }\n",
       "            window.plotlyDomains[graphId] = plotlyDomain;\n",
       "\n",
       "            // Place IFrame in output cell div `$el`\n",
       "            that.$el.css('width', '100%');\n",
       "            that.$graph = $(['<iframe id=\"'+graphId+'\"',\n",
       "                             'src=\"'+_graph_url+'.embed\"',\n",
       "                             'seamless',\n",
       "                             'style=\"border: none;\"',\n",
       "                             'width=\"100%\"',\n",
       "                             'height=\"600\">',\n",
       "                             '</iframe>'].join(' '));\n",
       "            that.$graph.appendTo(that.$el);\n",
       "\n",
       "            that.$loading = $('<div id=\"'+loadingId+'\">Initializing...</div>')\n",
       "                            .appendTo(that.$el);\n",
       "\n",
       "            // for some reason the 'width' is being changed in IPython 3.0.0\n",
       "            // for the containing `div` element. There's a flicker here, but\n",
       "            // I was unable to fix it otherwise.\n",
       "            setTimeout(function ()  {\n",
       "                if (IPYTHON_VERSION === '3') {\n",
       "                    $('#' + graphId)[0].parentElement.style.width = '100%';\n",
       "                }\n",
       "            }, 500);\n",
       "\n",
       "            // initialize communication with the iframe\n",
       "            if(!('pingers' in window)){\n",
       "                window.pingers = {};\n",
       "            }\n",
       "\n",
       "            window.pingers[graphId] = setInterval(function() {\n",
       "                that.graphContentWindow = $('#'+graphId)[0].contentWindow;\n",
       "                that.graphContentWindow.postMessage({task: 'ping'}, plotlyDomain);\n",
       "            }, 200);\n",
       "\n",
       "            // Assign a message listener to the 'message' events\n",
       "            // from iframe's postMessage protocol.\n",
       "            // Filter the messages by iframe src so that the right message\n",
       "            // gets passed to the right widget\n",
       "            if(!('messageListeners' in window)){\n",
       "                 window.messageListeners = {};\n",
       "            }\n",
       "\n",
       "            window.messageListeners[graphId] = function(e) {\n",
       "                if(_graph_url.indexOf(e.origin)>-1) {\n",
       "                    var frame = document.getElementById(graphId);\n",
       "\n",
       "                    if(frame === null){\n",
       "                        // frame doesn't exist in the dom anymore, clean up it's old event listener\n",
       "                        window.removeEventListener('message', window.messageListeners[graphId]);\n",
       "                        clearInterval(window.pingers[graphId]);\n",
       "                    } else if(frame.contentWindow === e.source) {\n",
       "                        // TODO: Stop event propagation, so each frame doesn't listen and filter\n",
       "                        var frameContentWindow = $('#'+graphId)[0].contentWindow;\n",
       "                        var message = e.data;\n",
       "\n",
       "                        if('pong' in message && message.pong) {\n",
       "                            $('#loading-'+graphId).hide();\n",
       "                            clearInterval(window.pingers[graphId]);\n",
       "                            that.send({event: 'pong', graphId: graphId});\n",
       "                        } else if (message.type==='hover' ||\n",
       "                                   message.type==='zoom'  ||\n",
       "                                   message.type==='click' ||\n",
       "                                   message.type==='unhover') {\n",
       "\n",
       "                            // click and hover events contain all of the data in the traces,\n",
       "                            // which can be a very large object and may take a ton of time\n",
       "                            // to pass to the python backend. Strip out the data, and require\n",
       "                            // the user to call get_figure if they need trace information\n",
       "                            if(message.type !== 'zoom') {\n",
       "                                for(var i in message.points) {\n",
       "                                    delete message.points[i].data;\n",
       "                                    delete message.points[i].fullData;\n",
       "                                }\n",
       "                            }\n",
       "                            that.send({event: message.type, message: message, graphId: graphId});\n",
       "                        } else if (message.task === 'getAttributes') {\n",
       "                            that.send({event: 'getAttributes', response: message.response});\n",
       "                        }\n",
       "                    }\n",
       "                }\n",
       "            };\n",
       "\n",
       "            window.removeEventListener('message', window.messageListeners[graphId]);\n",
       "            window.addEventListener('message', window.messageListeners[graphId]);\n",
       "\n",
       "        },\n",
       "\n",
       "        update: function() {\n",
       "            // Listen for messages from the graph widget in python\n",
       "            var jmessage = this.model.get('_message');\n",
       "            var message = JSON.parse(jmessage);\n",
       "\n",
       "            // check for duplicate messages\n",
       "            if(!('messageIds' in window)){\n",
       "                window.messageIds = {};\n",
       "            }\n",
       "\n",
       "            if(!(message.uid in window.messageIds)){\n",
       "                // message hasn't been received yet, do stuff\n",
       "                window.messageIds[message.uid] = true;\n",
       "\n",
       "                if (message.fadeTo) {\n",
       "                    this.fadeTo(message);\n",
       "                } else {\n",
       "                    var plot = $('#' + message.graphId)[0].contentWindow;\n",
       "                    plot.postMessage(message, window.plotlyDomains[message.graphId]);\n",
       "                }\n",
       "            }\n",
       "\n",
       "            return GraphView.__super__.update.apply(this);\n",
       "        },\n",
       "\n",
       "        /**\n",
       "         * Wrapper for jquery's `fadeTo` function.\n",
       "         *\n",
       "         * @param message Contains the id we need to find the element.\n",
       "         */\n",
       "        fadeTo: function (message) {\n",
       "            var plot = $('#' + message.graphId);\n",
       "            plot.fadeTo(message.duration, message.opacity);\n",
       "        }\n",
       "    });\n",
       "\n",
       "    // Register the GraphView with the widget manager.\n",
       "    manager.WidgetManager.register_widget_view('GraphView', GraphView);\n",
       "\n",
       "});\n",
       "\n",
       "//@ sourceURL=graphWidget.js\n"
      ],
      "text/plain": [
       "<IPython.core.display.Javascript object>"
      ]
     },
     "metadata": {},
     "output_type": "display_data"
    },
    {
     "name": "stderr",
     "output_type": "stream",
     "text": [
      "/Users/bater.makhabel/anaconda3/lib/python3.6/site-packages/skimage/filter/__init__.py:6: skimage_deprecation:\n",
      "\n",
      "The `skimage.filter` module has been renamed to `skimage.filters`.  This placeholder module will be removed in v0.13.\n",
      "\n",
      "/Users/bater.makhabel/anaconda3/lib/python3.6/site-packages/skimage/viewer/utils/core.py:10: UserWarning:\n",
      "\n",
      "Recommended matplotlib backend is `Agg` for full skimage.viewer functionality.\n",
      "\n"
     ]
    }
   ],
   "source": [
    "# 查看python所有的modules：\n",
    "help(\"modules\") \n"
   ]
  },
  {
   "cell_type": "code",
   "execution_count": 1,
   "metadata": {
    "collapsed": false
   },
   "outputs": [
    {
     "name": "stdout",
     "output_type": "stream",
     "text": [
      "Help on package pandas:\n",
      "\n",
      "NAME\n",
      "    pandas\n",
      "\n",
      "DESCRIPTION\n",
      "    pandas - a powerful data analysis and manipulation library for Python\n",
      "    =====================================================================\n",
      "    \n",
      "    See http://pandas.pydata.org/ for full documentation. Otherwise, see the\n",
      "    docstrings of the various objects in the pandas namespace:\n",
      "    \n",
      "    Series\n",
      "    DataFrame\n",
      "    Panel\n",
      "    Index\n",
      "    DatetimeIndex\n",
      "    HDFStore\n",
      "    bdate_range\n",
      "    date_range\n",
      "    read_csv\n",
      "    read_fwf\n",
      "    read_table\n",
      "    ols\n",
      "\n",
      "PACKAGE CONTENTS\n",
      "    _hash\n",
      "    _join\n",
      "    _period\n",
      "    _sparse\n",
      "    _testing\n",
      "    _version\n",
      "    _window\n",
      "    algos\n",
      "    api (package)\n",
      "    compat (package)\n",
      "    computation (package)\n",
      "    core (package)\n",
      "    formats (package)\n",
      "    hashtable\n",
      "    index\n",
      "    indexes (package)\n",
      "    info\n",
      "    io (package)\n",
      "    json\n",
      "    lib\n",
      "    msgpack (package)\n",
      "    parser\n",
      "    rpy (package)\n",
      "    sparse (package)\n",
      "    stats (package)\n",
      "    tests (package)\n",
      "    tools (package)\n",
      "    tseries (package)\n",
      "    tslib\n",
      "    types (package)\n",
      "    util (package)\n",
      "\n",
      "SUBMODULES\n",
      "    offsets\n",
      "\n",
      "DATA\n",
      "    IndexSlice = <pandas.core.indexing._IndexSlice object>\n",
      "    NaT = NaT\n",
      "    __docformat__ = 'restructuredtext'\n",
      "    datetools = <module 'pandas.core.datetools' from '/Users/bat...ython3....\n",
      "    describe_option = <pandas.core.config.CallableDynamicDoc object>\n",
      "    get_option = <pandas.core.config.CallableDynamicDoc object>\n",
      "    options = <pandas.core.config.DictWrapper object>\n",
      "    plot_params = {'xaxis.compat': False}\n",
      "    reset_option = <pandas.core.config.CallableDynamicDoc object>\n",
      "    set_option = <pandas.core.config.CallableDynamicDoc object>\n",
      "\n",
      "VERSION\n",
      "    0.19.2\n",
      "\n",
      "FILE\n",
      "    /Users/bater.makhabel/anaconda3/lib/python3.6/site-packages/pandas/__init__.py\n",
      "\n",
      "\n"
     ]
    }
   ],
   "source": [
    "# 单看python所有的modules中包含指定字符串的modules： \n",
    "help(\"pandas\") \n"
   ]
  },
  {
   "cell_type": "code",
   "execution_count": 2,
   "metadata": {
    "collapsed": false
   },
   "outputs": [
    {
     "name": "stdout",
     "output_type": "stream",
     "text": [
      "\n",
      "Here is a list of available topics.  Enter any topic name to get more help.\n",
      "\n",
      "ASSERTION           DELETION            LOOPING             SHIFTING\n",
      "ASSIGNMENT          DICTIONARIES        MAPPINGMETHODS      SLICINGS\n",
      "ATTRIBUTEMETHODS    DICTIONARYLITERALS  MAPPINGS            SPECIALATTRIBUTES\n",
      "ATTRIBUTES          DYNAMICFEATURES     METHODS             SPECIALIDENTIFIERS\n",
      "AUGMENTEDASSIGNMENT ELLIPSIS            MODULES             SPECIALMETHODS\n",
      "BASICMETHODS        EXCEPTIONS          NAMESPACES          STRINGMETHODS\n",
      "BINARY              EXECUTION           NONE                STRINGS\n",
      "BITWISE             EXPRESSIONS         NUMBERMETHODS       SUBSCRIPTS\n",
      "BOOLEAN             FLOAT               NUMBERS             TRACEBACKS\n",
      "CALLABLEMETHODS     FORMATTING          OBJECTS             TRUTHVALUE\n",
      "CALLS               FRAMEOBJECTS        OPERATORS           TUPLELITERALS\n",
      "CLASSES             FRAMES              PACKAGES            TUPLES\n",
      "CODEOBJECTS         FUNCTIONS           POWER               TYPEOBJECTS\n",
      "COMPARISON          IDENTIFIERS         PRECEDENCE          TYPES\n",
      "COMPLEX             IMPORTING           PRIVATENAMES        UNARY\n",
      "CONDITIONAL         INTEGER             RETURNING           UNICODE\n",
      "CONTEXTMANAGERS     LISTLITERALS        SCOPING             \n",
      "CONVERSIONS         LISTS               SEQUENCEMETHODS     \n",
      "DEBUGGING           LITERALS            SEQUENCES           \n",
      "\n"
     ]
    }
   ],
   "source": [
    "# 查看python中常见的topics： \n",
    "help(\"topics\") \n"
   ]
  },
  {
   "cell_type": "code",
   "execution_count": 4,
   "metadata": {
    "collapsed": false
   },
   "outputs": [
    {
     "name": "stdout",
     "output_type": "stream",
     "text": [
      "Help on module posixpath in os:\n",
      "\n",
      "NAME\n",
      "    posixpath - Common operations on Posix pathnames.\n",
      "\n",
      "MODULE REFERENCE\n",
      "    https://docs.python.org/3.6/library/posixpath\n",
      "    \n",
      "    The following documentation is automatically generated from the Python\n",
      "    source files.  It may be incomplete, incorrect or include features that\n",
      "    are considered implementation detail and may vary between Python\n",
      "    implementations.  When in doubt, consult the module reference at the\n",
      "    location listed above.\n",
      "\n",
      "DESCRIPTION\n",
      "    Instead of importing this module directly, import os and refer to\n",
      "    this module as os.path.  The \"os.path\" name is an alias for this\n",
      "    module on Posix systems; on other systems (e.g. Mac, Windows),\n",
      "    os.path provides the same operations in a manner specific to that\n",
      "    platform, and is an alias to another module (e.g. macpath, ntpath).\n",
      "    \n",
      "    Some of this can actually be useful on non-Posix systems too, e.g.\n",
      "    for manipulation of the pathname component of URLs.\n",
      "\n",
      "FUNCTIONS\n",
      "    abspath(path)\n",
      "        Return an absolute path.\n",
      "    \n",
      "    basename(p)\n",
      "        Returns the final component of a pathname\n",
      "    \n",
      "    commonpath(paths)\n",
      "        Given a sequence of path names, returns the longest common sub-path.\n",
      "    \n",
      "    commonprefix(m)\n",
      "        Given a list of pathnames, returns the longest common leading component\n",
      "    \n",
      "    dirname(p)\n",
      "        Returns the directory component of a pathname\n",
      "    \n",
      "    exists(path)\n",
      "        Test whether a path exists.  Returns False for broken symbolic links\n",
      "    \n",
      "    expanduser(path)\n",
      "        Expand ~ and ~user constructions.  If user or $HOME is unknown,\n",
      "        do nothing.\n",
      "    \n",
      "    expandvars(path)\n",
      "        Expand shell variables of form $var and ${var}.  Unknown variables\n",
      "        are left unchanged.\n",
      "    \n",
      "    getatime(filename)\n",
      "        Return the last access time of a file, reported by os.stat().\n",
      "    \n",
      "    getctime(filename)\n",
      "        Return the metadata change time of a file, reported by os.stat().\n",
      "    \n",
      "    getmtime(filename)\n",
      "        Return the last modification time of a file, reported by os.stat().\n",
      "    \n",
      "    getsize(filename)\n",
      "        Return the size of a file, reported by os.stat().\n",
      "    \n",
      "    isabs(s)\n",
      "        Test whether a path is absolute\n",
      "    \n",
      "    isdir(s)\n",
      "        Return true if the pathname refers to an existing directory.\n",
      "    \n",
      "    isfile(path)\n",
      "        Test whether a path is a regular file\n",
      "    \n",
      "    islink(path)\n",
      "        Test whether a path is a symbolic link\n",
      "    \n",
      "    ismount(path)\n",
      "        Test whether a path is a mount point\n",
      "    \n",
      "    join(a, *p)\n",
      "        Join two or more pathname components, inserting '/' as needed.\n",
      "        If any component is an absolute path, all previous path components\n",
      "        will be discarded.  An empty last part will result in a path that\n",
      "        ends with a separator.\n",
      "    \n",
      "    lexists(path)\n",
      "        Test whether a path exists.  Returns True for broken symbolic links\n",
      "    \n",
      "    normcase(s)\n",
      "        Normalize case of pathname.  Has no effect under Posix\n",
      "    \n",
      "    normpath(path)\n",
      "        Normalize path, eliminating double slashes, etc.\n",
      "    \n",
      "    realpath(filename)\n",
      "        Return the canonical path of the specified filename, eliminating any\n",
      "        symbolic links encountered in the path.\n",
      "    \n",
      "    relpath(path, start=None)\n",
      "        Return a relative version of a path\n",
      "    \n",
      "    samefile(f1, f2)\n",
      "        Test whether two pathnames reference the same actual file\n",
      "    \n",
      "    sameopenfile(fp1, fp2)\n",
      "        Test whether two open file objects reference the same file\n",
      "    \n",
      "    samestat(s1, s2)\n",
      "        Test whether two stat buffers reference the same file\n",
      "    \n",
      "    split(p)\n",
      "        Split a pathname.  Returns tuple \"(head, tail)\" where \"tail\" is\n",
      "        everything after the final slash.  Either part may be empty.\n",
      "    \n",
      "    splitdrive(p)\n",
      "        Split a pathname into drive and path. On Posix, drive is always\n",
      "        empty.\n",
      "    \n",
      "    splitext(p)\n",
      "        Split the extension from a pathname.\n",
      "        \n",
      "        Extension is everything from the last dot to the end, ignoring\n",
      "        leading dots.  Returns \"(root, ext)\"; ext may be empty.\n",
      "\n",
      "DATA\n",
      "    __all__ = ['normcase', 'isabs', 'join', 'splitdrive', 'split', 'splite...\n",
      "    altsep = None\n",
      "    curdir = '.'\n",
      "    defpath = ':/bin:/usr/bin'\n",
      "    devnull = '/dev/null'\n",
      "    extsep = '.'\n",
      "    pardir = '..'\n",
      "    pathsep = ':'\n",
      "    sep = '/'\n",
      "    supports_unicode_filenames = True\n",
      "\n",
      "FILE\n",
      "    /Users/bater.makhabel/anaconda3/lib/python3.6/posixpath.py\n",
      "\n",
      "\n"
     ]
    }
   ],
   "source": [
    "# 查看python标准库中的module：\n",
    "import os.path \n",
    "help(\"os.path\") \n"
   ]
  },
  {
   "cell_type": "code",
   "execution_count": 5,
   "metadata": {
    "collapsed": false
   },
   "outputs": [
    {
     "name": "stdout",
     "output_type": "stream",
     "text": [
      "Help on class list in module builtins:\n",
      "\n",
      "class list(object)\n",
      " |  list() -> new empty list\n",
      " |  list(iterable) -> new list initialized from iterable's items\n",
      " |  \n",
      " |  Methods defined here:\n",
      " |  \n",
      " |  __add__(self, value, /)\n",
      " |      Return self+value.\n",
      " |  \n",
      " |  __contains__(self, key, /)\n",
      " |      Return key in self.\n",
      " |  \n",
      " |  __delitem__(self, key, /)\n",
      " |      Delete self[key].\n",
      " |  \n",
      " |  __eq__(self, value, /)\n",
      " |      Return self==value.\n",
      " |  \n",
      " |  __ge__(self, value, /)\n",
      " |      Return self>=value.\n",
      " |  \n",
      " |  __getattribute__(self, name, /)\n",
      " |      Return getattr(self, name).\n",
      " |  \n",
      " |  __getitem__(...)\n",
      " |      x.__getitem__(y) <==> x[y]\n",
      " |  \n",
      " |  __gt__(self, value, /)\n",
      " |      Return self>value.\n",
      " |  \n",
      " |  __iadd__(self, value, /)\n",
      " |      Implement self+=value.\n",
      " |  \n",
      " |  __imul__(self, value, /)\n",
      " |      Implement self*=value.\n",
      " |  \n",
      " |  __init__(self, /, *args, **kwargs)\n",
      " |      Initialize self.  See help(type(self)) for accurate signature.\n",
      " |  \n",
      " |  __iter__(self, /)\n",
      " |      Implement iter(self).\n",
      " |  \n",
      " |  __le__(self, value, /)\n",
      " |      Return self<=value.\n",
      " |  \n",
      " |  __len__(self, /)\n",
      " |      Return len(self).\n",
      " |  \n",
      " |  __lt__(self, value, /)\n",
      " |      Return self<value.\n",
      " |  \n",
      " |  __mul__(self, value, /)\n",
      " |      Return self*value.n\n",
      " |  \n",
      " |  __ne__(self, value, /)\n",
      " |      Return self!=value.\n",
      " |  \n",
      " |  __new__(*args, **kwargs) from builtins.type\n",
      " |      Create and return a new object.  See help(type) for accurate signature.\n",
      " |  \n",
      " |  __repr__(self, /)\n",
      " |      Return repr(self).\n",
      " |  \n",
      " |  __reversed__(...)\n",
      " |      L.__reversed__() -- return a reverse iterator over the list\n",
      " |  \n",
      " |  __rmul__(self, value, /)\n",
      " |      Return self*value.\n",
      " |  \n",
      " |  __setitem__(self, key, value, /)\n",
      " |      Set self[key] to value.\n",
      " |  \n",
      " |  __sizeof__(...)\n",
      " |      L.__sizeof__() -- size of L in memory, in bytes\n",
      " |  \n",
      " |  append(...)\n",
      " |      L.append(object) -> None -- append object to end\n",
      " |  \n",
      " |  clear(...)\n",
      " |      L.clear() -> None -- remove all items from L\n",
      " |  \n",
      " |  copy(...)\n",
      " |      L.copy() -> list -- a shallow copy of L\n",
      " |  \n",
      " |  count(...)\n",
      " |      L.count(value) -> integer -- return number of occurrences of value\n",
      " |  \n",
      " |  extend(...)\n",
      " |      L.extend(iterable) -> None -- extend list by appending elements from the iterable\n",
      " |  \n",
      " |  index(...)\n",
      " |      L.index(value, [start, [stop]]) -> integer -- return first index of value.\n",
      " |      Raises ValueError if the value is not present.\n",
      " |  \n",
      " |  insert(...)\n",
      " |      L.insert(index, object) -- insert object before index\n",
      " |  \n",
      " |  pop(...)\n",
      " |      L.pop([index]) -> item -- remove and return item at index (default last).\n",
      " |      Raises IndexError if list is empty or index is out of range.\n",
      " |  \n",
      " |  remove(...)\n",
      " |      L.remove(value) -> None -- remove first occurrence of value.\n",
      " |      Raises ValueError if the value is not present.\n",
      " |  \n",
      " |  reverse(...)\n",
      " |      L.reverse() -- reverse *IN PLACE*\n",
      " |  \n",
      " |  sort(...)\n",
      " |      L.sort(key=None, reverse=False) -> None -- stable sort *IN PLACE*\n",
      " |  \n",
      " |  ----------------------------------------------------------------------\n",
      " |  Data and other attributes defined here:\n",
      " |  \n",
      " |  __hash__ = None\n",
      "\n"
     ]
    }
   ],
   "source": [
    "# 查看python内置的类型：\n",
    "help(\"list\") \n"
   ]
  },
  {
   "cell_type": "code",
   "execution_count": 6,
   "metadata": {
    "collapsed": false
   },
   "outputs": [
    {
     "name": "stdout",
     "output_type": "stream",
     "text": [
      "Help on method_descriptor in str:\n",
      "\n",
      "str.find = find(...)\n",
      "    S.find(sub[, start[, end]]) -> int\n",
      "    \n",
      "    Return the lowest index in S where substring sub is found,\n",
      "    such that sub is contained within S[start:end].  Optional\n",
      "    arguments start and end are interpreted as in slice notation.\n",
      "    \n",
      "    Return -1 on failure.\n",
      "\n"
     ]
    }
   ],
   "source": [
    "# 查看python类型的成员方法：\n",
    "help(\"str.find\") \n"
   ]
  },
  {
   "cell_type": "code",
   "execution_count": 7,
   "metadata": {
    "collapsed": false
   },
   "outputs": [
    {
     "name": "stdout",
     "output_type": "stream",
     "text": [
      "Help on built-in function open in module io:\n",
      "\n",
      "open(file, mode='r', buffering=-1, encoding=None, errors=None, newline=None, closefd=True, opener=None)\n",
      "    Open file and return a stream.  Raise IOError upon failure.\n",
      "    \n",
      "    file is either a text or byte string giving the name (and the path\n",
      "    if the file isn't in the current working directory) of the file to\n",
      "    be opened or an integer file descriptor of the file to be\n",
      "    wrapped. (If a file descriptor is given, it is closed when the\n",
      "    returned I/O object is closed, unless closefd is set to False.)\n",
      "    \n",
      "    mode is an optional string that specifies the mode in which the file\n",
      "    is opened. It defaults to 'r' which means open for reading in text\n",
      "    mode.  Other common values are 'w' for writing (truncating the file if\n",
      "    it already exists), 'x' for creating and writing to a new file, and\n",
      "    'a' for appending (which on some Unix systems, means that all writes\n",
      "    append to the end of the file regardless of the current seek position).\n",
      "    In text mode, if encoding is not specified the encoding used is platform\n",
      "    dependent: locale.getpreferredencoding(False) is called to get the\n",
      "    current locale encoding. (For reading and writing raw bytes use binary\n",
      "    mode and leave encoding unspecified.) The available modes are:\n",
      "    \n",
      "    ========= ===============================================================\n",
      "    Character Meaning\n",
      "    --------- ---------------------------------------------------------------\n",
      "    'r'       open for reading (default)\n",
      "    'w'       open for writing, truncating the file first\n",
      "    'x'       create a new file and open it for writing\n",
      "    'a'       open for writing, appending to the end of the file if it exists\n",
      "    'b'       binary mode\n",
      "    't'       text mode (default)\n",
      "    '+'       open a disk file for updating (reading and writing)\n",
      "    'U'       universal newline mode (deprecated)\n",
      "    ========= ===============================================================\n",
      "    \n",
      "    The default mode is 'rt' (open for reading text). For binary random\n",
      "    access, the mode 'w+b' opens and truncates the file to 0 bytes, while\n",
      "    'r+b' opens the file without truncation. The 'x' mode implies 'w' and\n",
      "    raises an `FileExistsError` if the file already exists.\n",
      "    \n",
      "    Python distinguishes between files opened in binary and text modes,\n",
      "    even when the underlying operating system doesn't. Files opened in\n",
      "    binary mode (appending 'b' to the mode argument) return contents as\n",
      "    bytes objects without any decoding. In text mode (the default, or when\n",
      "    't' is appended to the mode argument), the contents of the file are\n",
      "    returned as strings, the bytes having been first decoded using a\n",
      "    platform-dependent encoding or using the specified encoding if given.\n",
      "    \n",
      "    'U' mode is deprecated and will raise an exception in future versions\n",
      "    of Python.  It has no effect in Python 3.  Use newline to control\n",
      "    universal newlines mode.\n",
      "    \n",
      "    buffering is an optional integer used to set the buffering policy.\n",
      "    Pass 0 to switch buffering off (only allowed in binary mode), 1 to select\n",
      "    line buffering (only usable in text mode), and an integer > 1 to indicate\n",
      "    the size of a fixed-size chunk buffer.  When no buffering argument is\n",
      "    given, the default buffering policy works as follows:\n",
      "    \n",
      "    * Binary files are buffered in fixed-size chunks; the size of the buffer\n",
      "      is chosen using a heuristic trying to determine the underlying device's\n",
      "      \"block size\" and falling back on `io.DEFAULT_BUFFER_SIZE`.\n",
      "      On many systems, the buffer will typically be 4096 or 8192 bytes long.\n",
      "    \n",
      "    * \"Interactive\" text files (files for which isatty() returns True)\n",
      "      use line buffering.  Other text files use the policy described above\n",
      "      for binary files.\n",
      "    \n",
      "    encoding is the name of the encoding used to decode or encode the\n",
      "    file. This should only be used in text mode. The default encoding is\n",
      "    platform dependent, but any encoding supported by Python can be\n",
      "    passed.  See the codecs module for the list of supported encodings.\n",
      "    \n",
      "    errors is an optional string that specifies how encoding errors are to\n",
      "    be handled---this argument should not be used in binary mode. Pass\n",
      "    'strict' to raise a ValueError exception if there is an encoding error\n",
      "    (the default of None has the same effect), or pass 'ignore' to ignore\n",
      "    errors. (Note that ignoring encoding errors can lead to data loss.)\n",
      "    See the documentation for codecs.register or run 'help(codecs.Codec)'\n",
      "    for a list of the permitted encoding error strings.\n",
      "    \n",
      "    newline controls how universal newlines works (it only applies to text\n",
      "    mode). It can be None, '', '\\n', '\\r', and '\\r\\n'.  It works as\n",
      "    follows:\n",
      "    \n",
      "    * On input, if newline is None, universal newlines mode is\n",
      "      enabled. Lines in the input can end in '\\n', '\\r', or '\\r\\n', and\n",
      "      these are translated into '\\n' before being returned to the\n",
      "      caller. If it is '', universal newline mode is enabled, but line\n",
      "      endings are returned to the caller untranslated. If it has any of\n",
      "      the other legal values, input lines are only terminated by the given\n",
      "      string, and the line ending is returned to the caller untranslated.\n",
      "    \n",
      "    * On output, if newline is None, any '\\n' characters written are\n",
      "      translated to the system default line separator, os.linesep. If\n",
      "      newline is '' or '\\n', no translation takes place. If newline is any\n",
      "      of the other legal values, any '\\n' characters written are translated\n",
      "      to the given string.\n",
      "    \n",
      "    If closefd is False, the underlying file descriptor will be kept open\n",
      "    when the file is closed. This does not work when a file name is given\n",
      "    and must be True in that case.\n",
      "    \n",
      "    A custom opener can be used by passing a callable as *opener*. The\n",
      "    underlying file descriptor for the file object is then obtained by\n",
      "    calling *opener* with (*file*, *flags*). *opener* must return an open\n",
      "    file descriptor (passing os.open as *opener* results in functionality\n",
      "    similar to passing None).\n",
      "    \n",
      "    open() returns a file object whose type depends on the mode, and\n",
      "    through which the standard file operations such as reading and writing\n",
      "    are performed. When open() is used to open a file in a text mode ('w',\n",
      "    'r', 'wt', 'rt', etc.), it returns a TextIOWrapper. When used to open\n",
      "    a file in a binary mode, the returned class varies: in read binary\n",
      "    mode, it returns a BufferedReader; in write binary and append binary\n",
      "    modes, it returns a BufferedWriter, and in read/write mode, it returns\n",
      "    a BufferedRandom.\n",
      "    \n",
      "    It is also possible to use a string or bytearray as a file for both\n",
      "    reading and writing. For strings StringIO can be used like a file\n",
      "    opened in a text mode, and for bytes a BytesIO can be used like a file\n",
      "    opened in a binary mode.\n",
      "\n"
     ]
    }
   ],
   "source": [
    "# 查看python内置函数：\n",
    "help(\"open\")\n",
    "\n"
   ]
  },
  {
   "cell_type": "markdown",
   "metadata": {},
   "source": [
    "## 注释\n"
   ]
  },
  {
   "cell_type": "code",
   "execution_count": 8,
   "metadata": {
    "collapsed": false
   },
   "outputs": [
    {
     "name": "stdout",
     "output_type": "stream",
     "text": [
      "Python中单行注释以 # 开头\n"
     ]
    }
   ],
   "source": [
    "# 这是一个单行注释\n",
    "print(\"Python中单行注释以 # 开头\") "
   ]
  },
  {
   "cell_type": "code",
   "execution_count": 9,
   "metadata": {
    "collapsed": false
   },
   "outputs": [
    {
     "name": "stdout",
     "output_type": "stream",
     "text": [
      "多行注释用三个单引号 ''' 或者三个双引号 \"\"\" 将注释括起来!\n"
     ]
    }
   ],
   "source": [
    "'''\n",
    "这是多行注释，用三个单引号\n",
    "这是多行注释，用三个单引号 \n",
    "这是多行注释，用三个单引号\n",
    "'''\n",
    "print(\"多行注释用三个单引号 \\'\\'\\' 或者三个双引号 \\\"\\\"\\\" 将注释括起来!\") "
   ]
  },
  {
   "cell_type": "code",
   "execution_count": 10,
   "metadata": {
    "collapsed": false
   },
   "outputs": [
    {
     "name": "stdout",
     "output_type": "stream",
     "text": [
      "多行注释用三个单引号 ''' 或者三个双引号 \"\"\" 将注释括起来!\n"
     ]
    }
   ],
   "source": [
    "\"\"\"\n",
    "这是多行注释，用三个双引号\n",
    "这是多行注释，用三个双引号 \n",
    "这是多行注释，用三个双引号\n",
    "\"\"\"\n",
    "print(\"多行注释用三个单引号 \\'\\'\\' 或者三个双引号 \\\"\\\"\\\" 将注释括起来!\") "
   ]
  },
  {
   "cell_type": "markdown",
   "metadata": {},
   "source": [
    "## 运算符\n"
   ]
  },
  {
   "cell_type": "markdown",
   "metadata": {},
   "source": [
    "### 算术运算符\n",
    "\n"
   ]
  },
  {
   "cell_type": "code",
   "execution_count": 12,
   "metadata": {
    "collapsed": false
   },
   "outputs": [
    {
     "name": "stdout",
     "output_type": "stream",
     "text": [
      "1 - c 的值为： 31\n",
      "2 - c 的值为： 11\n",
      "3 - c 的值为： 210\n",
      "4 - c 的值为： 2.1\n",
      "5 - c 的值为： 1\n",
      "6 - c 的值为： 8\n",
      "7 - c 的值为： 2\n"
     ]
    }
   ],
   "source": [
    "a = 21\n",
    "b = 10\n",
    "c = 0\n",
    " \n",
    "c = a + b\n",
    "print (\"1 - c 的值为：\", c)\n",
    " \n",
    "c = a - b\n",
    "print (\"2 - c 的值为：\", c)\n",
    " \n",
    "c = a * b\n",
    "print (\"3 - c 的值为：\", c)\n",
    " \n",
    "c = a / b\n",
    "print (\"4 - c 的值为：\", c)\n",
    " \n",
    "c = a % b\n",
    "print (\"5 - c 的值为：\", c)\n",
    " \n",
    "# 修改变量 a 、b 、c\n",
    "a = 2\n",
    "b = 3\n",
    "c = a**b \n",
    "print (\"6 - c 的值为：\", c)\n",
    " \n",
    "a = 10\n",
    "b = 5\n",
    "c = a//b \n",
    "print (\"7 - c 的值为：\", c)"
   ]
  },
  {
   "cell_type": "code",
   "execution_count": 13,
   "metadata": {
    "collapsed": true
   },
   "outputs": [],
   "source": [
    "### 比较运算符\n",
    "\n"
   ]
  },
  {
   "cell_type": "code",
   "execution_count": 14,
   "metadata": {
    "collapsed": false
   },
   "outputs": [
    {
     "name": "stdout",
     "output_type": "stream",
     "text": [
      "1 - a 不等于 b\n",
      "2 - a 不等于 b\n",
      "3 - a 大于等于 b\n",
      "4 - a 大于 b\n",
      "5 - a 小于等于 b\n",
      "6 - b 大于等于 a\n"
     ]
    }
   ],
   "source": [
    "a = 21\n",
    "b = 10\n",
    "c = 0\n",
    " \n",
    "if ( a == b ):\n",
    "   print (\"1 - a 等于 b\")\n",
    "else:\n",
    "   print (\"1 - a 不等于 b\")\n",
    " \n",
    "if ( a != b ):\n",
    "   print (\"2 - a 不等于 b\")\n",
    "else:\n",
    "   print (\"2 - a 等于 b\")\n",
    " \n",
    "if ( a < b ):\n",
    "   print (\"3 - a 小于 b\")\n",
    "else:\n",
    "   print (\"3 - a 大于等于 b\")\n",
    " \n",
    "if ( a > b ):\n",
    "   print (\"4 - a 大于 b\")\n",
    "else:\n",
    "   print (\"4 - a 小于等于 b\")\n",
    " \n",
    "# 修改变量 a 和 b 的值\n",
    "a = 5;\n",
    "b = 20;\n",
    "if ( a <= b ):\n",
    "   print (\"5 - a 小于等于 b\")\n",
    "else:\n",
    "   print (\"5 - a 大于  b\")\n",
    " \n",
    "if ( b >= a ):\n",
    "   print (\"6 - b 大于等于 a\")\n",
    "else:\n",
    "   print (\"6 - b 小于 a\")"
   ]
  },
  {
   "cell_type": "markdown",
   "metadata": {},
   "source": [
    "### 赋值运算符\n"
   ]
  },
  {
   "cell_type": "code",
   "execution_count": 15,
   "metadata": {
    "collapsed": false
   },
   "outputs": [
    {
     "name": "stdout",
     "output_type": "stream",
     "text": [
      "1 - c 的值为： 31\n",
      "2 - c 的值为： 52\n",
      "3 - c 的值为： 1092\n",
      "4 - c 的值为： 52.0\n",
      "5 - c 的值为： 2\n",
      "6 - c 的值为： 2097152\n",
      "7 - c 的值为： 99864\n"
     ]
    }
   ],
   "source": [
    "a = 21\n",
    "b = 10\n",
    "c = 0\n",
    " \n",
    "c = a + b\n",
    "print (\"1 - c 的值为：\", c)\n",
    " \n",
    "c += a\n",
    "print (\"2 - c 的值为：\", c)\n",
    " \n",
    "c *= a\n",
    "print (\"3 - c 的值为：\", c)\n",
    " \n",
    "c /= a \n",
    "print (\"4 - c 的值为：\", c)\n",
    " \n",
    "c = 2\n",
    "c %= a\n",
    "print (\"5 - c 的值为：\", c)\n",
    " \n",
    "c **= a\n",
    "print (\"6 - c 的值为：\", c)\n",
    " \n",
    "c //= a\n",
    "print (\"7 - c 的值为：\", c)"
   ]
  },
  {
   "cell_type": "markdown",
   "metadata": {},
   "source": [
    "### 位运算符\n"
   ]
  },
  {
   "cell_type": "code",
   "execution_count": 21,
   "metadata": {
    "collapsed": false
   },
   "outputs": [
    {
     "name": "stdout",
     "output_type": "stream",
     "text": [
      "1 - c 的值为： 12\n",
      "2 - c 的值为： 61\n",
      "3 - c 的值为： 49\n",
      "4 - c 的值为： -61\n",
      "5 - c 的值为： 240\n",
      "6 - c 的值为： 15\n"
     ]
    }
   ],
   "source": [
    "\n",
    "a = 60            # 60 = 0011 1100 \n",
    "b = 13            # 13 = 0000 1101 \n",
    "c = 0\n",
    " \n",
    "c = a & b;        # 12 = 0000 1100\n",
    "print (\"1 - c 的值为：\", c)\n",
    " \n",
    "c = a | b;        # 61 = 0011 1101 \n",
    "print (\"2 - c 的值为：\", c)\n",
    " \n",
    "c = a ^ b;        # 49 = 0011 0001\n",
    "print (\"3 - c 的值为：\", c)\n",
    " \n",
    "c = ~a;           # -61 = 1100 0011\n",
    "print (\"4 - c 的值为：\", c)\n",
    " \n",
    "c = a << 2;       # 240 = 1111 0000\n",
    "print (\"5 - c 的值为：\", c)\n",
    " \n",
    "c = a >> 2;       # 15 = 0000 1111\n",
    "print (\"6 - c 的值为：\", c)"
   ]
  },
  {
   "cell_type": "markdown",
   "metadata": {},
   "source": [
    "### 逻辑运算符\n"
   ]
  },
  {
   "cell_type": "code",
   "execution_count": 22,
   "metadata": {
    "collapsed": false
   },
   "outputs": [
    {
     "name": "stdout",
     "output_type": "stream",
     "text": [
      "1 - 变量 a 和 b 都为 true\n",
      "2 - 变量 a 和 b 都为 true，或其中一个变量为 true\n",
      "3 - 变量 a 和 b 有一个不为 true\n",
      "4 - 变量 a 和 b 都为 true，或其中一个变量为 true\n",
      "5 - 变量 a 和 b 都为 false，或其中一个变量为 false\n"
     ]
    }
   ],
   "source": [
    "a = 10\n",
    "b = 20\n",
    " \n",
    "if ( a and b ):\n",
    "   print (\"1 - 变量 a 和 b 都为 true\")\n",
    "else:\n",
    "   print (\"1 - 变量 a 和 b 有一个不为 true\")\n",
    " \n",
    "if ( a or b ):\n",
    "   print (\"2 - 变量 a 和 b 都为 true，或其中一个变量为 true\")\n",
    "else:\n",
    "   print (\"2 - 变量 a 和 b 都不为 true\")\n",
    " \n",
    "# 修改变量 a 的值\n",
    "a = 0\n",
    "if ( a and b ):\n",
    "   print (\"3 - 变量 a 和 b 都为 true\")\n",
    "else:\n",
    "   print (\"3 - 变量 a 和 b 有一个不为 true\")\n",
    " \n",
    "if ( a or b ):\n",
    "   print (\"4 - 变量 a 和 b 都为 true，或其中一个变量为 true\")\n",
    "else:\n",
    "   print (\"4 - 变量 a 和 b 都不为 true\")\n",
    " \n",
    "if not( a and b ):\n",
    "   print (\"5 - 变量 a 和 b 都为 false，或其中一个变量为 false\")\n",
    "else:\n",
    "   print (\"5 - 变量 a 和 b 都为 true\")"
   ]
  },
  {
   "cell_type": "markdown",
   "metadata": {},
   "source": [
    "### 成员运算符\n"
   ]
  },
  {
   "cell_type": "code",
   "execution_count": 24,
   "metadata": {
    "collapsed": false
   },
   "outputs": [
    {
     "name": "stdout",
     "output_type": "stream",
     "text": [
      "1 - 变量 a 不在给定的列表中 list 中\n",
      "2 - 变量 b 不在给定的列表中 list 中\n",
      "3 - 变量 a 在给定的列表中 list 中\n"
     ]
    }
   ],
   "source": [
    "a = 10\n",
    "b = 20\n",
    "list = [1, 2, 3, 4, 5 ];\n",
    " \n",
    "if ( a in list ):\n",
    "   print (\"1 - 变量 a 在给定的列表中 list 中\")\n",
    "else:\n",
    "   print (\"1 - 变量 a 不在给定的列表中 list 中\")\n",
    " \n",
    "if ( b not in list ):\n",
    "   print (\"2 - 变量 b 不在给定的列表中 list 中\")\n",
    "else:\n",
    "   print (\"2 - 变量 b 在给定的列表中 list 中\")\n",
    " \n",
    "# 修改变量 a 的值\n",
    "a = 2\n",
    "if ( a in list ):\n",
    "   print (\"3 - 变量 a 在给定的列表中 list 中\")\n",
    "else:\n",
    "   print (\"3 - 变量 a 不在给定的列表中 list 中\")"
   ]
  },
  {
   "cell_type": "markdown",
   "metadata": {},
   "source": [
    "### 身份运算符\n"
   ]
  },
  {
   "cell_type": "code",
   "execution_count": 25,
   "metadata": {
    "collapsed": false
   },
   "outputs": [
    {
     "name": "stdout",
     "output_type": "stream",
     "text": [
      "1 - a 和 b 有相同的标识\n",
      "2 - a 和 b 有相同的标识\n",
      "3 - a 和 b 没有相同的标识\n",
      "4 - a 和 b 没有相同的标识\n"
     ]
    }
   ],
   "source": [
    "a = 20\n",
    "b = 20\n",
    " \n",
    "if ( a is b ):\n",
    "   print (\"1 - a 和 b 有相同的标识\")\n",
    "else:\n",
    "   print (\"1 - a 和 b 没有相同的标识\")\n",
    " \n",
    "if ( id(a) == id(b) ):\n",
    "   print (\"2 - a 和 b 有相同的标识\")\n",
    "else:\n",
    "   print (\"2 - a 和 b 没有相同的标识\")\n",
    " \n",
    "# 修改变量 b 的值\n",
    "b = 30\n",
    "if ( a is b ):\n",
    "   print (\"3 - a 和 b 有相同的标识\")\n",
    "else:\n",
    "   print (\"3 - a 和 b 没有相同的标识\")\n",
    " \n",
    "if ( a is not b ):\n",
    "   print (\"4 - a 和 b 没有相同的标识\")\n",
    "else:\n",
    "   print (\"4 - a 和 b 有相同的标识\")"
   ]
  },
  {
   "cell_type": "code",
   "execution_count": 26,
   "metadata": {
    "collapsed": true
   },
   "outputs": [],
   "source": [
    "# is 用于判断两个变量引用对象是否为同一个， == 用于判断引用变量的值是否相等"
   ]
  },
  {
   "cell_type": "code",
   "execution_count": 27,
   "metadata": {
    "collapsed": false
   },
   "outputs": [
    {
     "data": {
      "text/plain": [
       "True"
      ]
     },
     "execution_count": 27,
     "metadata": {},
     "output_type": "execute_result"
    }
   ],
   "source": [
    "a = [1, 2, 3]\n",
    "b = a\n",
    "b is a \n",
    "b == a\n",
    "b = a[:]\n",
    "b is a\n",
    "b == a\n"
   ]
  },
  {
   "cell_type": "markdown",
   "metadata": {},
   "source": [
    "### 运算符优先级\n"
   ]
  },
  {
   "cell_type": "code",
   "execution_count": 28,
   "metadata": {
    "collapsed": false
   },
   "outputs": [
    {
     "name": "stdout",
     "output_type": "stream",
     "text": [
      "(a + b) * c / d 运算结果为： 90.0\n",
      "((a + b) * c) / d 运算结果为： 90.0\n",
      "(a + b) * (c / d) 运算结果为： 90.0\n",
      "a + (b * c) / d 运算结果为： 50.0\n"
     ]
    }
   ],
   "source": [
    "a = 20\n",
    "b = 10\n",
    "c = 15\n",
    "d = 5\n",
    "e = 0\n",
    " \n",
    "e = (a + b) * c / d       #( 30 * 15 ) / 5\n",
    "print (\"(a + b) * c / d 运算结果为：\",  e)\n",
    " \n",
    "e = ((a + b) * c) / d     # (30 * 15 ) / 5\n",
    "print (\"((a + b) * c) / d 运算结果为：\",  e)\n",
    " \n",
    "e = (a + b) * (c / d);    # (30) * (15/5)\n",
    "print (\"(a + b) * (c / d) 运算结果为：\",  e)\n",
    " \n",
    "e = a + (b * c) / d;      #  20 + (150/5)\n",
    "print (\"a + (b * c) / d 运算结果为：\",  e)"
   ]
  },
  {
   "cell_type": "markdown",
   "metadata": {},
   "source": [
    "### 表达式\n"
   ]
  },
  {
   "cell_type": "code",
   "execution_count": null,
   "metadata": {
    "collapsed": true
   },
   "outputs": [],
   "source": []
  },
  {
   "cell_type": "markdown",
   "metadata": {},
   "source": [
    "### 语句\n"
   ]
  },
  {
   "cell_type": "code",
   "execution_count": null,
   "metadata": {
    "collapsed": true
   },
   "outputs": [],
   "source": []
  },
  {
   "cell_type": "markdown",
   "metadata": {},
   "source": [
    "#### 赋值语句\n"
   ]
  },
  {
   "cell_type": "code",
   "execution_count": 1,
   "metadata": {
    "collapsed": true
   },
   "outputs": [],
   "source": [
    "a,b,c = 'good','bad','ugly'"
   ]
  },
  {
   "cell_type": "code",
   "execution_count": 2,
   "metadata": {
    "collapsed": false
   },
   "outputs": [
    {
     "data": {
      "text/plain": [
       "('good', 'bad', 'ugly')"
      ]
     },
     "execution_count": 2,
     "metadata": {},
     "output_type": "execute_result"
    }
   ],
   "source": [
    "a,b,c"
   ]
  },
  {
   "cell_type": "markdown",
   "metadata": {},
   "source": [
    "#### 调用语句\n"
   ]
  },
  {
   "cell_type": "code",
   "execution_count": 4,
   "metadata": {
    "collapsed": false
   },
   "outputs": [
    {
     "data": {
      "text/plain": [
       "True"
      ]
     },
     "execution_count": 4,
     "metadata": {},
     "output_type": "execute_result"
    }
   ],
   "source": [
    "# all\n",
    "# 一个可迭代对象的所有元素都为真，则返回True\n",
    "\n",
    "all([1,2,3])"
   ]
  },
  {
   "cell_type": "code",
   "execution_count": 5,
   "metadata": {
    "collapsed": false
   },
   "outputs": [
    {
     "data": {
      "text/plain": [
       "False"
      ]
     },
     "execution_count": 5,
     "metadata": {},
     "output_type": "execute_result"
    }
   ],
   "source": [
    "all([0,1,2])"
   ]
  },
  {
   "cell_type": "code",
   "execution_count": 6,
   "metadata": {
    "collapsed": false
   },
   "outputs": [
    {
     "data": {
      "text/plain": [
       "True"
      ]
     },
     "execution_count": 6,
     "metadata": {},
     "output_type": "execute_result"
    }
   ],
   "source": [
    "# any\n",
    "# 一个可迭代对象中只要有一个元素为真，则返回True\n",
    "\n",
    "any([1,0,0])"
   ]
  },
  {
   "cell_type": "code",
   "execution_count": 7,
   "metadata": {
    "collapsed": false
   },
   "outputs": [
    {
     "data": {
      "text/plain": [
       "False"
      ]
     },
     "execution_count": 7,
     "metadata": {},
     "output_type": "execute_result"
    }
   ],
   "source": [
    "any([0])"
   ]
  },
  {
   "cell_type": "code",
   "execution_count": 8,
   "metadata": {
    "collapsed": false
   },
   "outputs": [
    {
     "data": {
      "text/plain": [
       "'0b10'"
      ]
     },
     "execution_count": 8,
     "metadata": {},
     "output_type": "execute_result"
    }
   ],
   "source": [
    "# bin\n",
    "# 将一个十进制数字转化成一个二进制数字的字符串\n",
    "\n",
    "bin(2)"
   ]
  },
  {
   "cell_type": "code",
   "execution_count": 9,
   "metadata": {
    "collapsed": false
   },
   "outputs": [
    {
     "data": {
      "text/plain": [
       "'0x2'"
      ]
     },
     "execution_count": 9,
     "metadata": {},
     "output_type": "execute_result"
    }
   ],
   "source": [
    "# hex\n",
    "# 将一个十进制数字转化成一个十六进制数字的字符串\n",
    "\n",
    "hex(2)"
   ]
  },
  {
   "cell_type": "code",
   "execution_count": 10,
   "metadata": {
    "collapsed": false
   },
   "outputs": [
    {
     "data": {
      "text/plain": [
       "'0o10'"
      ]
     },
     "execution_count": 10,
     "metadata": {},
     "output_type": "execute_result"
    }
   ],
   "source": [
    "# oct\n",
    "# 将一个十进制数字转化成一个八进制数字的字符串\n",
    "\n",
    "oct(8)"
   ]
  },
  {
   "cell_type": "code",
   "execution_count": 12,
   "metadata": {
    "collapsed": false
   },
   "outputs": [
    {
     "name": "stdout",
     "output_type": "stream",
     "text": [
      "False True\n"
     ]
    }
   ],
   "source": [
    "# callable\n",
    "# 判断一个对象是否是可以被调用的，那么什么样才是可被调用的呢，即类似于“test()”这样的写法。函数与类皆可以被调用\n",
    "\n",
    "b = 2\n",
    "def callable_func():\n",
    "    pass\n",
    "\n",
    "print(callable(b),callable(callable_func))  "
   ]
  },
  {
   "cell_type": "code",
   "execution_count": 13,
   "metadata": {
    "collapsed": false
   },
   "outputs": [
    {
     "name": "stdout",
     "output_type": "stream",
     "text": [
      "0\n",
      "1\n",
      "2\n",
      "3\n",
      "4\n",
      "5\n",
      "6\n",
      "7\n",
      "8\n",
      "9\n"
     ]
    }
   ],
   "source": [
    "# exec\n",
    "# 将一串代码字符串，以代码的形式执行\n",
    "\n",
    "code = '''\n",
    "n = 0\n",
    "while n < 10:\n",
    "    print(n)\n",
    "    n+=1\n",
    "'''\n",
    "exec(code)"
   ]
  },
  {
   "cell_type": "code",
   "execution_count": 14,
   "metadata": {
    "collapsed": false
   },
   "outputs": [
    {
     "name": "stdout",
     "output_type": "stream",
     "text": [
      "1\n"
     ]
    }
   ],
   "source": [
    "# eval\n",
    "# 将一串基本数据类型的字符串，转化成基本数据类型\n",
    "\n",
    "s_list = \"[1,2,3,4]\"\n",
    "l = eval(s_list)    \n",
    "print(l[0])        "
   ]
  },
  {
   "cell_type": "code",
   "execution_count": 15,
   "metadata": {
    "collapsed": false
   },
   "outputs": [
    {
     "name": "stdout",
     "output_type": "stream",
     "text": [
      "['__add__', '__class__', '__contains__', '__delattr__', '__delitem__', '__dir__', '__doc__', '__eq__', '__format__', '__ge__', '__getattribute__', '__getitem__', '__gt__', '__hash__', '__iadd__', '__imul__', '__init__', '__init_subclass__', '__iter__', '__le__', '__len__', '__lt__', '__mul__', '__ne__', '__new__', '__reduce__', '__reduce_ex__', '__repr__', '__reversed__', '__rmul__', '__setattr__', '__setitem__', '__sizeof__', '__str__', '__subclasshook__', 'append', 'clear', 'copy', 'count', 'extend', 'index', 'insert', 'pop', 'remove', 'reverse', 'sort']\n"
     ]
    }
   ],
   "source": [
    "# dir\n",
    "# 查看某个类型下的所有方法\n",
    "\n",
    "l = [1,2,3]\n",
    "print(dir(l))   \n"
   ]
  },
  {
   "cell_type": "code",
   "execution_count": 16,
   "metadata": {
    "collapsed": false
   },
   "outputs": [
    {
     "name": "stdout",
     "output_type": "stream",
     "text": [
      "(2, 1)\n"
     ]
    }
   ],
   "source": [
    "# divmod\n",
    "# 获取两个数相除后的商和余数\n",
    "\n",
    "print(divmod(5,2))"
   ]
  },
  {
   "cell_type": "code",
   "execution_count": 17,
   "metadata": {
    "collapsed": false
   },
   "outputs": [
    {
     "name": "stdout",
     "output_type": "stream",
     "text": [
      "8\n"
     ]
    }
   ],
   "source": [
    "# max\n",
    "# 获取某个可迭代对象的最大值\n",
    "\n",
    "print(max([4,3,2,8])) "
   ]
  },
  {
   "cell_type": "code",
   "execution_count": 18,
   "metadata": {
    "collapsed": false
   },
   "outputs": [
    {
     "name": "stdout",
     "output_type": "stream",
     "text": [
      "2\n"
     ]
    }
   ],
   "source": [
    "# min\n",
    "# 获取某个可迭代对象的最小值\n",
    "\n",
    "print(min([4,3,2,8])) "
   ]
  },
  {
   "cell_type": "code",
   "execution_count": 19,
   "metadata": {
    "collapsed": false
   },
   "outputs": [
    {
     "data": {
      "text/plain": [
       "17"
      ]
     },
     "execution_count": 19,
     "metadata": {},
     "output_type": "execute_result"
    }
   ],
   "source": [
    "# sum\n",
    "# 获取某个可迭代对象的和\n",
    "\n",
    "sum([4,3,2,8])"
   ]
  },
  {
   "cell_type": "code",
   "execution_count": 20,
   "metadata": {
    "collapsed": false
   },
   "outputs": [
    {
     "data": {
      "text/plain": [
       "27"
      ]
     },
     "execution_count": 20,
     "metadata": {},
     "output_type": "execute_result"
    }
   ],
   "source": [
    "# pow\n",
    "# 获取a的b次方\n",
    "\n",
    "pow(3,3)"
   ]
  },
  {
   "cell_type": "code",
   "execution_count": 21,
   "metadata": {
    "collapsed": false
   },
   "outputs": [
    {
     "data": {
      "text/plain": [
       "str"
      ]
     },
     "execution_count": 21,
     "metadata": {},
     "output_type": "execute_result"
    }
   ],
   "source": [
    "# type\n",
    "# 查看数据类型\n",
    "\n",
    "type(\"abc\")"
   ]
  },
  {
   "cell_type": "code",
   "execution_count": 22,
   "metadata": {
    "collapsed": false
   },
   "outputs": [
    {
     "data": {
      "text/plain": [
       "1.34"
      ]
     },
     "execution_count": 22,
     "metadata": {},
     "output_type": "execute_result"
    }
   ],
   "source": [
    "# round\n",
    "# 保留小数。注意：它的保留方式是向下保留，并不是四舍五入\n",
    "\n",
    "round(1.345,2)"
   ]
  },
  {
   "cell_type": "code",
   "execution_count": 23,
   "metadata": {
    "collapsed": false
   },
   "outputs": [
    {
     "name": "stdout",
     "output_type": "stream",
     "text": [
      "6\n",
      "7\n",
      "8\n",
      "9\n"
     ]
    }
   ],
   "source": [
    "# filter\n",
    "# 将一个可迭代对象按某种特定方式过滤，生成一个新的可迭代对象\n",
    "\n",
    "f = filter(lambda x : x > 5,range(10))\n",
    "for index in f:\n",
    "    print(index) "
   ]
  },
  {
   "cell_type": "code",
   "execution_count": 24,
   "metadata": {
    "collapsed": false
   },
   "outputs": [
    {
     "name": "stdout",
     "output_type": "stream",
     "text": [
      "0\n",
      "2\n",
      "4\n",
      "6\n",
      "8\n",
      "10\n",
      "12\n",
      "14\n",
      "16\n",
      "18\n",
      "0\n",
      "2\n",
      "4\n",
      "6\n",
      "8\n",
      "10\n",
      "12\n",
      "14\n",
      "16\n",
      "18\n"
     ]
    }
   ],
   "source": [
    "# map\n",
    "# 将一个可迭代对象按某种特定方式处理，生成一个新的可迭代对象。效果与列表生成式一样\n",
    "\n",
    "m = map(lambda x : x * 2,range(10))\n",
    "for index in m:\n",
    "    print(index)\n",
    "\n",
    "# 列表生成式写法\n",
    "l = [x * 2 for x in range(10)]\n",
    "for index in l:\n",
    "    print(index)"
   ]
  },
  {
   "cell_type": "code",
   "execution_count": 25,
   "metadata": {
    "collapsed": true
   },
   "outputs": [],
   "source": [
    "# frozenset\n",
    "# 将一个可迭代对象转化成一个不可变的，如将列表原来可以调用append方法，转化以后将不可调用append方法\n"
   ]
  },
  {
   "cell_type": "code",
   "execution_count": 26,
   "metadata": {
    "collapsed": false
   },
   "outputs": [
    {
     "name": "stdout",
     "output_type": "stream",
     "text": [
      "[2, 3, 4, 8]\n",
      "[('a', 4), ('b', 2), ('d', 1)]\n",
      "[('d', 1), ('b', 2), ('a', 4)]\n"
     ]
    }
   ],
   "source": [
    "# sorted\n",
    "# 排序\n",
    "\n",
    "# 列表的排序\n",
    "l = [3,2,4,8]\n",
    "print(sorted(l))    # 结果：[2,3,4,8]\n",
    "\n",
    "# 字典的排序。众所周知，字典是无序的，首先先将字典转化成一个元组列表，在根据key或者value排序\n",
    "d = {\"b\":2,\"d\":1,\"a\":4}\n",
    "l = sorted(d.items())   # 根据key排序\n",
    "print(l)    # 结果：[('a', 4), ('b', 2), ('d', 1)]\n",
    "\n",
    "l = sorted(d.items(),key=lambda x:x[1])   # 根据value排序\n",
    "print(l)    # 结果：[('d', 1), ('b', 2), ('a', 4)]"
   ]
  },
  {
   "cell_type": "code",
   "execution_count": 27,
   "metadata": {
    "collapsed": false
   },
   "outputs": [
    {
     "name": "stdout",
     "output_type": "stream",
     "text": [
      "(1, 'a')\n",
      "(2, 'b')\n",
      "(3, 'c')\n",
      "(4, 'd')\n"
     ]
    }
   ],
   "source": [
    "# zip\n",
    "# 将两个或多个列表拼接成一个元组列表\n",
    "\n",
    "list_1 = [1,2,3,4]\n",
    "list_2 = ['a','b','c','d']\n",
    "z = zip(list_1,list_2)\n",
    "for index in z:\n",
    "    print(index)"
   ]
  },
  {
   "cell_type": "code",
   "execution_count": 28,
   "metadata": {
    "collapsed": true
   },
   "outputs": [],
   "source": [
    "# __import__\n",
    "# 相当于import,只不过import()中传入的模块的字符串名称\n"
   ]
  },
  {
   "cell_type": "markdown",
   "metadata": {},
   "source": [
    "#### 打印调用\n"
   ]
  },
  {
   "cell_type": "code",
   "execution_count": 32,
   "metadata": {
    "collapsed": false
   },
   "outputs": [
    {
     "name": "stdout",
     "output_type": "stream",
     "text": [
      "Bater.Makhabel is Myteries Novolist.\n"
     ]
    }
   ],
   "source": [
    "novolist = \"Bater.Makhabel\"\n",
    "print(novolist, 'is Myteries Novolist.')"
   ]
  },
  {
   "cell_type": "markdown",
   "metadata": {},
   "source": [
    "#### 选择语句if/elif/else\n"
   ]
  },
  {
   "cell_type": "code",
   "execution_count": 34,
   "metadata": {
    "collapsed": false
   },
   "outputs": [
    {
     "name": "stdout",
     "output_type": "stream",
     "text": [
      "['Python', 'is', 'a', 'script', 'language']\n"
     ]
    }
   ],
   "source": [
    "text = ['Python','is','a','script', 'language']\n",
    "\n",
    "if 'Python' in text:\n",
    "    print (text) "
   ]
  },
  {
   "cell_type": "markdown",
   "metadata": {},
   "source": [
    "#### 循环语句for/else\n"
   ]
  },
  {
   "cell_type": "code",
   "execution_count": 38,
   "metadata": {
    "collapsed": false
   },
   "outputs": [
    {
     "name": "stdout",
     "output_type": "stream",
     "text": [
      "1\n",
      "2\n",
      "3\n",
      "4\n"
     ]
    }
   ],
   "source": [
    "mylist = [1,2,3,4]\n",
    "for x in mylist:\n",
    "    print (x)"
   ]
  },
  {
   "cell_type": "markdown",
   "metadata": {},
   "source": [
    "#### 循环语句while/else\n"
   ]
  },
  {
   "cell_type": "code",
   "execution_count": 3,
   "metadata": {
    "collapsed": false
   },
   "outputs": [
    {
     "name": "stdout",
     "output_type": "stream",
     "text": [
      "3.141592653589793 2.718281828459045\n"
     ]
    }
   ],
   "source": [
    "import math\n",
    "x = math.pi\n",
    "y = math.e\n",
    "print(x,y)\n",
    "while x < y:\n",
    "    print ('hello')"
   ]
  },
  {
   "cell_type": "markdown",
   "metadata": {},
   "source": [
    "#### 空占位符pass语句\n"
   ]
  },
  {
   "cell_type": "code",
   "execution_count": 4,
   "metadata": {
    "collapsed": true
   },
   "outputs": [],
   "source": [
    "x = False\n",
    "while x:\n",
    "    pass"
   ]
  },
  {
   "cell_type": "markdown",
   "metadata": {},
   "source": [
    "#### break语句\n"
   ]
  },
  {
   "cell_type": "code",
   "execution_count": 1,
   "metadata": {
    "collapsed": false
   },
   "outputs": [],
   "source": [
    "\n",
    "\n",
    "while True:\n",
    "    if True:break"
   ]
  },
  {
   "cell_type": "markdown",
   "metadata": {},
   "source": [
    "#### continue语句\n"
   ]
  },
  {
   "cell_type": "code",
   "execution_count": null,
   "metadata": {
    "collapsed": true
   },
   "outputs": [],
   "source": [
    "x = 3 \n",
    "while True:\n",
    "    if x>0:x-=1;continue"
   ]
  },
  {
   "cell_type": "markdown",
   "metadata": {},
   "source": [
    "#### def语句\n"
   ]
  },
  {
   "cell_type": "code",
   "execution_count": null,
   "metadata": {
    "collapsed": true
   },
   "outputs": [],
   "source": [
    "def f(a, b, c=1,*d):\n",
    "    print (a+b+c+d[0])"
   ]
  },
  {
   "cell_type": "markdown",
   "metadata": {},
   "source": [
    "#### return语句\n"
   ]
  },
  {
   "cell_type": "code",
   "execution_count": null,
   "metadata": {
    "collapsed": true
   },
   "outputs": [],
   "source": [
    "def f(a, b, c=1,*d):\n",
    "    return a+b+c+d[0]"
   ]
  },
  {
   "cell_type": "markdown",
   "metadata": {},
   "source": [
    "#### yield语句\n"
   ]
  },
  {
   "cell_type": "code",
   "execution_count": null,
   "metadata": {
    "collapsed": true
   },
   "outputs": [],
   "source": [
    "def gen(n):\n",
    "    for i in n:\n",
    "        yield i*2"
   ]
  },
  {
   "cell_type": "markdown",
   "metadata": {},
   "source": [
    "#### global语句\n"
   ]
  },
  {
   "cell_type": "code",
   "execution_count": null,
   "metadata": {
    "collapsed": true
   },
   "outputs": [],
   "source": [
    "x = 'old'\n",
    "def function():\n",
    "    global x,y; x = 'new'"
   ]
  },
  {
   "cell_type": "markdown",
   "metadata": {},
   "source": [
    "#### nonlocal语句\n"
   ]
  },
  {
   "cell_type": "code",
   "execution_count": null,
   "metadata": {
    "collapsed": true
   },
   "outputs": [],
   "source": [
    "def outer():\n",
    "    x = 'old'\n",
    "    def function():\n",
    "        nonlocal x; \n",
    "        x = 'new'"
   ]
  },
  {
   "cell_type": "markdown",
   "metadata": {},
   "source": [
    "#### import语句\n"
   ]
  },
  {
   "cell_type": "code",
   "execution_count": null,
   "metadata": {
    "collapsed": true
   },
   "outputs": [],
   "source": [
    "import sys"
   ]
  },
  {
   "cell_type": "markdown",
   "metadata": {},
   "source": [
    "#### from语句\n"
   ]
  },
  {
   "cell_type": "code",
   "execution_count": 1,
   "metadata": {
    "collapsed": false
   },
   "outputs": [
    {
     "name": "stdout",
     "output_type": "stream",
     "text": [
      "2.718281828459045\n"
     ]
    }
   ],
   "source": [
    "from math import e\n",
    "\n",
    "print(e)"
   ]
  },
  {
   "cell_type": "markdown",
   "metadata": {},
   "source": [
    "#### class语句\n"
   ]
  },
  {
   "cell_type": "code",
   "execution_count": 3,
   "metadata": {
    "collapsed": false
   },
   "outputs": [],
   "source": [
    "class Superclass:\n",
    "    ;\n",
    "class Subclass (Superclass):\n",
    "      staticData = []\n",
    "      def method(self):pass"
   ]
  },
  {
   "cell_type": "markdown",
   "metadata": {},
   "source": [
    "#### try/except/finally语句\n"
   ]
  },
  {
   "cell_type": "code",
   "execution_count": 4,
   "metadata": {
    "collapsed": false
   },
   "outputs": [
    {
     "name": "stdout",
     "output_type": "stream",
     "text": [
      "hello world!\n"
     ]
    }
   ],
   "source": [
    "def action():\n",
    "    print(\"hello world!\")\n",
    "    \n",
    "try:\n",
    "    action()\n",
    "except:\n",
    "    print('action error')"
   ]
  },
  {
   "cell_type": "markdown",
   "metadata": {},
   "source": [
    "#### raise语句\n"
   ]
  },
  {
   "cell_type": "markdown",
   "metadata": {},
   "source": [
    "在Python中，要想引发异常，基本形式就是输入关键字raise，后跟要引发的异常的名称。\n",
    "\n",
    "异常名称标识出具体的类： \n",
    "\n",
    "+ Python异常处理是那些类的对象。\n",
    "+ 执行raise语句时，Python会创建指定的异常类的一个对象。\n",
    "+ raise语句还可指定对异常对象进行初始化的参数。异常类的名称后添加一个逗号以及指定的参数（或者由参数构成的一个元组）。\n"
   ]
  },
  {
   "cell_type": "code",
   "execution_count": 13,
   "metadata": {
    "collapsed": false
   },
   "outputs": [
    {
     "ename": "Exception",
     "evalue": "",
     "output_type": "error",
     "traceback": [
      "\u001b[0;31m---------------------------------------------------------------------------\u001b[0m",
      "\u001b[0;31mException\u001b[0m                                 Traceback (most recent call last)",
      "\u001b[0;32m<ipython-input-13-d5d464f888c1>\u001b[0m in \u001b[0;36m<module>\u001b[0;34m()\u001b[0m\n\u001b[1;32m      1\u001b[0m \u001b[0;34m\u001b[0m\u001b[0m\n\u001b[0;32m----> 2\u001b[0;31m \u001b[0;32mraise\u001b[0m \u001b[0mException\u001b[0m\u001b[0;34m(\u001b[0m\u001b[0;34m)\u001b[0m\u001b[0;34m\u001b[0m\u001b[0m\n\u001b[0m",
      "\u001b[0;31mException\u001b[0m: "
     ]
    }
   ],
   "source": [
    "\n",
    "raise Exception()"
   ]
  },
  {
   "cell_type": "markdown",
   "metadata": {
    "collapsed": true
   },
   "source": [
    "#### assert语句\n"
   ]
  },
  {
   "cell_type": "code",
   "execution_count": 16,
   "metadata": {
    "collapsed": false
   },
   "outputs": [],
   "source": [
    "import math\n",
    "x = math.pi\n",
    "y = math.e\n",
    "\n",
    "assert x>y, 'e is less than pi!'"
   ]
  },
  {
   "cell_type": "markdown",
   "metadata": {},
   "source": [
    "#### with/as语句\n"
   ]
  },
  {
   "cell_type": "code",
   "execution_count": 18,
   "metadata": {
    "collapsed": false
   },
   "outputs": [
    {
     "name": "stdout",
     "output_type": "stream",
     "text": [
      "/Users/bater.makhabel/WorkSpace/MyStartups/AITrainingSchool/GitBase/Python/Fundamentals\r\n"
     ]
    }
   ],
   "source": [
    "!pwd"
   ]
  },
  {
   "cell_type": "code",
   "execution_count": 19,
   "metadata": {
    "collapsed": false
   },
   "outputs": [
    {
     "name": "stdout",
     "output_type": "stream",
     "text": [
      "18.0   8   307.0      130.0      3504.      12.0   70  1\t\"chevrolet chevelle malibu\"\n",
      "15.0   8   350.0      165.0      3693.      11.5   70  1\t\"buick skylark 320\"\n",
      "18.0   8   318.0      150.0      3436.      11.0   70  1\t\"plymouth satellite\"\n",
      "16.0   8   304.0      150.0      3433.      12.0   70  1\t\"amc rebel sst\"\n",
      "17.0   8   302.0      140.0      3449.      10.5   70  1\t\"ford torino\"\n",
      "15.0   8   429.0      198.0      4341.      10.0   70  1\t\"ford galaxie 500\"\n",
      "14.0   8   454.0      220.0      4354.       9.0   70  1\t\"chevrolet impala\"\n",
      "14.0   8   440.0      215.0      4312.       8.5   70  1\t\"plymouth fury iii\"\n",
      "14.0   8   455.0      225.0      4425.      10.0   70  1\t\"pontiac catalina\"\n",
      "15.0   8   390.0      190.0      3850.       8.5   70  1\t\"amc ambassador dpl\"\n",
      "15.0   8   383.0      170.0      3563.      10.0   70  1\t\"dodge challenger se\"\n",
      "14.0   8   340.0      160.0      3609.       8.0   70  1\t\"plymouth 'cuda 340\"\n",
      "15.0   8   400.0      150.0      3761.       9.5   70  1\t\"chevrolet monte carlo\"\n",
      "14.0   8   455.0      225.0      3086.      10.0   70  1\t\"buick estate wagon (sw)\"\n",
      "24.0   4   113.0      95.00      2372.      15.0   70  3\t\"toyota corona mark ii\"\n",
      "22.0   6   198.0      95.00      2833.      15.5   70  1\t\"plymouth duster\"\n",
      "18.0   6   199.0      97.00      2774.      15.5   70  1\t\"amc hornet\"\n",
      "21.0   6   200.0      85.00      2587.      16.0   70  1\t\"ford maverick\"\n",
      "27.0   4   97.00      88.00      2130.      14.5   70  3\t\"datsun pl510\"\n",
      "26.0   4   97.00      46.00      1835.      20.5   70  2\t\"volkswagen 1131 deluxe sedan\"\n",
      "25.0   4   110.0      87.00      2672.      17.5   70  2\t\"peugeot 504\"\n",
      "24.0   4   107.0      90.00      2430.      14.5   70  2\t\"audi 100 ls\"\n",
      "25.0   4   104.0      95.00      2375.      17.5   70  2\t\"saab 99e\"\n",
      "26.0   4   121.0      113.0      2234.      12.5   70  2\t\"bmw 2002\"\n",
      "21.0   6   199.0      90.00      2648.      15.0   70  1\t\"amc gremlin\"\n",
      "10.0   8   360.0      215.0      4615.      14.0   70  1\t\"ford f250\"\n",
      "10.0   8   307.0      200.0      4376.      15.0   70  1\t\"chevy c20\"\n",
      "11.0   8   318.0      210.0      4382.      13.5   70  1\t\"dodge d200\"\n",
      "9.0    8   304.0      193.0      4732.      18.5   70  1\t\"hi 1200d\"\n",
      "27.0   4   97.00      88.00      2130.      14.5   71  3\t\"datsun pl510\"\n",
      "28.0   4   140.0      90.00      2264.      15.5   71  1\t\"chevrolet vega 2300\"\n",
      "25.0   4   113.0      95.00      2228.      14.0   71  3\t\"toyota corona\"\n",
      "25.0   4   98.00      ?          2046.      19.0   71  1\t\"ford pinto\"\n",
      "19.0   6   232.0      100.0      2634.      13.0   71  1\t\"amc gremlin\"\n",
      "16.0   6   225.0      105.0      3439.      15.5   71  1\t\"plymouth satellite custom\"\n",
      "17.0   6   250.0      100.0      3329.      15.5   71  1\t\"chevrolet chevelle malibu\"\n",
      "19.0   6   250.0      88.00      3302.      15.5   71  1\t\"ford torino 500\"\n",
      "18.0   6   232.0      100.0      3288.      15.5   71  1\t\"amc matador\"\n",
      "14.0   8   350.0      165.0      4209.      12.0   71  1\t\"chevrolet impala\"\n",
      "14.0   8   400.0      175.0      4464.      11.5   71  1\t\"pontiac catalina brougham\"\n",
      "14.0   8   351.0      153.0      4154.      13.5   71  1\t\"ford galaxie 500\"\n",
      "14.0   8   318.0      150.0      4096.      13.0   71  1\t\"plymouth fury iii\"\n",
      "12.0   8   383.0      180.0      4955.      11.5   71  1\t\"dodge monaco (sw)\"\n",
      "13.0   8   400.0      170.0      4746.      12.0   71  1\t\"ford country squire (sw)\"\n",
      "13.0   8   400.0      175.0      5140.      12.0   71  1\t\"pontiac safari (sw)\"\n",
      "18.0   6   258.0      110.0      2962.      13.5   71  1\t\"amc hornet sportabout (sw)\"\n",
      "22.0   4   140.0      72.00      2408.      19.0   71  1\t\"chevrolet vega (sw)\"\n",
      "19.0   6   250.0      100.0      3282.      15.0   71  1\t\"pontiac firebird\"\n",
      "18.0   6   250.0      88.00      3139.      14.5   71  1\t\"ford mustang\"\n",
      "23.0   4   122.0      86.00      2220.      14.0   71  1\t\"mercury capri 2000\"\n",
      "28.0   4   116.0      90.00      2123.      14.0   71  2\t\"opel 1900\"\n",
      "30.0   4   79.00      70.00      2074.      19.5   71  2\t\"peugeot 304\"\n",
      "30.0   4   88.00      76.00      2065.      14.5   71  2\t\"fiat 124b\"\n",
      "31.0   4   71.00      65.00      1773.      19.0   71  3\t\"toyota corolla 1200\"\n",
      "35.0   4   72.00      69.00      1613.      18.0   71  3\t\"datsun 1200\"\n",
      "27.0   4   97.00      60.00      1834.      19.0   71  2\t\"volkswagen model 111\"\n",
      "26.0   4   91.00      70.00      1955.      20.5   71  1\t\"plymouth cricket\"\n",
      "24.0   4   113.0      95.00      2278.      15.5   72  3\t\"toyota corona hardtop\"\n",
      "25.0   4   97.50      80.00      2126.      17.0   72  1\t\"dodge colt hardtop\"\n",
      "23.0   4   97.00      54.00      2254.      23.5   72  2\t\"volkswagen type 3\"\n",
      "20.0   4   140.0      90.00      2408.      19.5   72  1\t\"chevrolet vega\"\n",
      "21.0   4   122.0      86.00      2226.      16.5   72  1\t\"ford pinto runabout\"\n",
      "13.0   8   350.0      165.0      4274.      12.0   72  1\t\"chevrolet impala\"\n",
      "14.0   8   400.0      175.0      4385.      12.0   72  1\t\"pontiac catalina\"\n",
      "15.0   8   318.0      150.0      4135.      13.5   72  1\t\"plymouth fury iii\"\n",
      "14.0   8   351.0      153.0      4129.      13.0   72  1\t\"ford galaxie 500\"\n",
      "17.0   8   304.0      150.0      3672.      11.5   72  1\t\"amc ambassador sst\"\n",
      "11.0   8   429.0      208.0      4633.      11.0   72  1\t\"mercury marquis\"\n",
      "13.0   8   350.0      155.0      4502.      13.5   72  1\t\"buick lesabre custom\"\n",
      "12.0   8   350.0      160.0      4456.      13.5   72  1\t\"oldsmobile delta 88 royale\"\n",
      "13.0   8   400.0      190.0      4422.      12.5   72  1\t\"chrysler newport royal\"\n",
      "19.0   3   70.00      97.00      2330.      13.5   72  3\t\"mazda rx2 coupe\"\n",
      "15.0   8   304.0      150.0      3892.      12.5   72  1\t\"amc matador (sw)\"\n",
      "13.0   8   307.0      130.0      4098.      14.0   72  1\t\"chevrolet chevelle concours (sw)\"\n",
      "13.0   8   302.0      140.0      4294.      16.0   72  1\t\"ford gran torino (sw)\"\n",
      "14.0   8   318.0      150.0      4077.      14.0   72  1\t\"plymouth satellite custom (sw)\"\n",
      "18.0   4   121.0      112.0      2933.      14.5   72  2\t\"volvo 145e (sw)\"\n",
      "22.0   4   121.0      76.00      2511.      18.0   72  2\t\"volkswagen 411 (sw)\"\n",
      "21.0   4   120.0      87.00      2979.      19.5   72  2\t\"peugeot 504 (sw)\"\n",
      "26.0   4   96.00      69.00      2189.      18.0   72  2\t\"renault 12 (sw)\"\n",
      "22.0   4   122.0      86.00      2395.      16.0   72  1\t\"ford pinto (sw)\"\n",
      "28.0   4   97.00      92.00      2288.      17.0   72  3\t\"datsun 510 (sw)\"\n",
      "23.0   4   120.0      97.00      2506.      14.5   72  3\t\"toyouta corona mark ii (sw)\"\n",
      "28.0   4   98.00      80.00      2164.      15.0   72  1\t\"dodge colt (sw)\"\n",
      "27.0   4   97.00      88.00      2100.      16.5   72  3\t\"toyota corolla 1600 (sw)\"\n",
      "13.0   8   350.0      175.0      4100.      13.0   73  1\t\"buick century 350\"\n",
      "14.0   8   304.0      150.0      3672.      11.5   73  1\t\"amc matador\"\n",
      "13.0   8   350.0      145.0      3988.      13.0   73  1\t\"chevrolet malibu\"\n",
      "14.0   8   302.0      137.0      4042.      14.5   73  1\t\"ford gran torino\"\n",
      "15.0   8   318.0      150.0      3777.      12.5   73  1\t\"dodge coronet custom\"\n",
      "12.0   8   429.0      198.0      4952.      11.5   73  1\t\"mercury marquis brougham\"\n",
      "13.0   8   400.0      150.0      4464.      12.0   73  1\t\"chevrolet caprice classic\"\n",
      "13.0   8   351.0      158.0      4363.      13.0   73  1\t\"ford ltd\"\n",
      "14.0   8   318.0      150.0      4237.      14.5   73  1\t\"plymouth fury gran sedan\"\n",
      "13.0   8   440.0      215.0      4735.      11.0   73  1\t\"chrysler new yorker brougham\"\n",
      "12.0   8   455.0      225.0      4951.      11.0   73  1\t\"buick electra 225 custom\"\n",
      "13.0   8   360.0      175.0      3821.      11.0   73  1\t\"amc ambassador brougham\"\n",
      "18.0   6   225.0      105.0      3121.      16.5   73  1\t\"plymouth valiant\"\n",
      "16.0   6   250.0      100.0      3278.      18.0   73  1\t\"chevrolet nova custom\"\n",
      "18.0   6   232.0      100.0      2945.      16.0   73  1\t\"amc hornet\"\n",
      "18.0   6   250.0      88.00      3021.      16.5   73  1\t\"ford maverick\"\n",
      "23.0   6   198.0      95.00      2904.      16.0   73  1\t\"plymouth duster\"\n",
      "26.0   4   97.00      46.00      1950.      21.0   73  2\t\"volkswagen super beetle\"\n",
      "11.0   8   400.0      150.0      4997.      14.0   73  1\t\"chevrolet impala\"\n",
      "12.0   8   400.0      167.0      4906.      12.5   73  1\t\"ford country\"\n",
      "13.0   8   360.0      170.0      4654.      13.0   73  1\t\"plymouth custom suburb\"\n",
      "12.0   8   350.0      180.0      4499.      12.5   73  1\t\"oldsmobile vista cruiser\"\n",
      "18.0   6   232.0      100.0      2789.      15.0   73  1\t\"amc gremlin\"\n",
      "20.0   4   97.00      88.00      2279.      19.0   73  3\t\"toyota carina\"\n",
      "21.0   4   140.0      72.00      2401.      19.5   73  1\t\"chevrolet vega\"\n",
      "22.0   4   108.0      94.00      2379.      16.5   73  3\t\"datsun 610\"\n",
      "18.0   3   70.00      90.00      2124.      13.5   73  3\t\"maxda rx3\"\n",
      "19.0   4   122.0      85.00      2310.      18.5   73  1\t\"ford pinto\"\n",
      "21.0   6   155.0      107.0      2472.      14.0   73  1\t\"mercury capri v6\"\n",
      "26.0   4   98.00      90.00      2265.      15.5   73  2\t\"fiat 124 sport coupe\"\n",
      "15.0   8   350.0      145.0      4082.      13.0   73  1\t\"chevrolet monte carlo s\"\n",
      "16.0   8   400.0      230.0      4278.      9.50   73  1\t\"pontiac grand prix\"\n",
      "29.0   4   68.00      49.00      1867.      19.5   73  2\t\"fiat 128\"\n",
      "24.0   4   116.0      75.00      2158.      15.5   73  2\t\"opel manta\"\n",
      "20.0   4   114.0      91.00      2582.      14.0   73  2\t\"audi 100ls\"\n",
      "19.0   4   121.0      112.0      2868.      15.5   73  2\t\"volvo 144ea\"\n",
      "15.0   8   318.0      150.0      3399.      11.0   73  1\t\"dodge dart custom\"\n",
      "24.0   4   121.0      110.0      2660.      14.0   73  2\t\"saab 99le\"\n",
      "20.0   6   156.0      122.0      2807.      13.5   73  3\t\"toyota mark ii\"\n",
      "11.0   8   350.0      180.0      3664.      11.0   73  1\t\"oldsmobile omega\"\n",
      "20.0   6   198.0      95.00      3102.      16.5   74  1\t\"plymouth duster\"\n",
      "21.0   6   200.0      ?          2875.      17.0   74  1\t\"ford maverick\"\n",
      "19.0   6   232.0      100.0      2901.      16.0   74  1\t\"amc hornet\"\n",
      "15.0   6   250.0      100.0      3336.      17.0   74  1\t\"chevrolet nova\"\n",
      "31.0   4   79.00      67.00      1950.      19.0   74  3\t\"datsun b210\"\n",
      "26.0   4   122.0      80.00      2451.      16.5   74  1\t\"ford pinto\"\n",
      "32.0   4   71.00      65.00      1836.      21.0   74  3\t\"toyota corolla 1200\"\n",
      "25.0   4   140.0      75.00      2542.      17.0   74  1\t\"chevrolet vega\"\n",
      "16.0   6   250.0      100.0      3781.      17.0   74  1\t\"chevrolet chevelle malibu classic\"\n",
      "16.0   6   258.0      110.0      3632.      18.0   74  1\t\"amc matador\"\n",
      "18.0   6   225.0      105.0      3613.      16.5   74  1\t\"plymouth satellite sebring\"\n",
      "16.0   8   302.0      140.0      4141.      14.0   74  1\t\"ford gran torino\"\n",
      "13.0   8   350.0      150.0      4699.      14.5   74  1\t\"buick century luxus (sw)\"\n",
      "14.0   8   318.0      150.0      4457.      13.5   74  1\t\"dodge coronet custom (sw)\"\n",
      "14.0   8   302.0      140.0      4638.      16.0   74  1\t\"ford gran torino (sw)\"\n",
      "14.0   8   304.0      150.0      4257.      15.5   74  1\t\"amc matador (sw)\"\n",
      "29.0   4   98.00      83.00      2219.      16.5   74  2\t\"audi fox\"\n",
      "26.0   4   79.00      67.00      1963.      15.5   74  2\t\"volkswagen dasher\"\n",
      "26.0   4   97.00      78.00      2300.      14.5   74  2\t\"opel manta\"\n",
      "31.0   4   76.00      52.00      1649.      16.5   74  3\t\"toyota corona\"\n",
      "32.0   4   83.00      61.00      2003.      19.0   74  3\t\"datsun 710\"\n",
      "28.0   4   90.00      75.00      2125.      14.5   74  1\t\"dodge colt\"\n",
      "24.0   4   90.00      75.00      2108.      15.5   74  2\t\"fiat 128\"\n",
      "26.0   4   116.0      75.00      2246.      14.0   74  2\t\"fiat 124 tc\"\n",
      "24.0   4   120.0      97.00      2489.      15.0   74  3\t\"honda civic\"\n",
      "26.0   4   108.0      93.00      2391.      15.5   74  3\t\"subaru\"\n",
      "31.0   4   79.00      67.00      2000.      16.0   74  2\t\"fiat x1.9\"\n",
      "19.0   6   225.0      95.00      3264.      16.0   75  1\t\"plymouth valiant custom\"\n",
      "18.0   6   250.0      105.0      3459.      16.0   75  1\t\"chevrolet nova\"\n",
      "15.0   6   250.0      72.00      3432.      21.0   75  1\t\"mercury monarch\"\n",
      "15.0   6   250.0      72.00      3158.      19.5   75  1\t\"ford maverick\"\n",
      "16.0   8   400.0      170.0      4668.      11.5   75  1\t\"pontiac catalina\"\n",
      "15.0   8   350.0      145.0      4440.      14.0   75  1\t\"chevrolet bel air\"\n",
      "16.0   8   318.0      150.0      4498.      14.5   75  1\t\"plymouth grand fury\"\n",
      "14.0   8   351.0      148.0      4657.      13.5   75  1\t\"ford ltd\"\n",
      "17.0   6   231.0      110.0      3907.      21.0   75  1\t\"buick century\"\n",
      "16.0   6   250.0      105.0      3897.      18.5   75  1\t\"chevroelt chevelle malibu\"\n",
      "15.0   6   258.0      110.0      3730.      19.0   75  1\t\"amc matador\"\n",
      "18.0   6   225.0      95.00      3785.      19.0   75  1\t\"plymouth fury\"\n",
      "21.0   6   231.0      110.0      3039.      15.0   75  1\t\"buick skyhawk\"\n",
      "20.0   8   262.0      110.0      3221.      13.5   75  1\t\"chevrolet monza 2+2\"\n",
      "13.0   8   302.0      129.0      3169.      12.0   75  1\t\"ford mustang ii\"\n",
      "29.0   4   97.00      75.00      2171.      16.0   75  3\t\"toyota corolla\"\n",
      "23.0   4   140.0      83.00      2639.      17.0   75  1\t\"ford pinto\"\n",
      "20.0   6   232.0      100.0      2914.      16.0   75  1\t\"amc gremlin\"\n",
      "23.0   4   140.0      78.00      2592.      18.5   75  1\t\"pontiac astro\"\n",
      "24.0   4   134.0      96.00      2702.      13.5   75  3\t\"toyota corona\"\n",
      "25.0   4   90.00      71.00      2223.      16.5   75  2\t\"volkswagen dasher\"\n",
      "24.0   4   119.0      97.00      2545.      17.0   75  3\t\"datsun 710\"\n",
      "18.0   6   171.0      97.00      2984.      14.5   75  1\t\"ford pinto\"\n",
      "29.0   4   90.00      70.00      1937.      14.0   75  2\t\"volkswagen rabbit\"\n",
      "19.0   6   232.0      90.00      3211.      17.0   75  1\t\"amc pacer\"\n",
      "23.0   4   115.0      95.00      2694.      15.0   75  2\t\"audi 100ls\"\n",
      "23.0   4   120.0      88.00      2957.      17.0   75  2\t\"peugeot 504\"\n",
      "22.0   4   121.0      98.00      2945.      14.5   75  2\t\"volvo 244dl\"\n",
      "25.0   4   121.0      115.0      2671.      13.5   75  2\t\"saab 99le\"\n",
      "33.0   4   91.00      53.00      1795.      17.5   75  3\t\"honda civic cvcc\"\n",
      "28.0   4   107.0      86.00      2464.      15.5   76  2\t\"fiat 131\"\n",
      "25.0   4   116.0      81.00      2220.      16.9   76  2\t\"opel 1900\"\n",
      "25.0   4   140.0      92.00      2572.      14.9   76  1\t\"capri ii\"\n",
      "26.0   4   98.00      79.00      2255.      17.7   76  1\t\"dodge colt\"\n",
      "27.0   4   101.0      83.00      2202.      15.3   76  2\t\"renault 12tl\"\n",
      "17.5   8   305.0      140.0      4215.      13.0   76  1\t\"chevrolet chevelle malibu classic\"\n",
      "16.0   8   318.0      150.0      4190.      13.0   76  1\t\"dodge coronet brougham\"\n",
      "15.5   8   304.0      120.0      3962.      13.9   76  1\t\"amc matador\"\n",
      "14.5   8   351.0      152.0      4215.      12.8   76  1\t\"ford gran torino\"\n",
      "22.0   6   225.0      100.0      3233.      15.4   76  1\t\"plymouth valiant\"\n",
      "22.0   6   250.0      105.0      3353.      14.5   76  1\t\"chevrolet nova\"\n",
      "24.0   6   200.0      81.00      3012.      17.6   76  1\t\"ford maverick\"\n",
      "22.5   6   232.0      90.00      3085.      17.6   76  1\t\"amc hornet\"\n",
      "29.0   4   85.00      52.00      2035.      22.2   76  1\t\"chevrolet chevette\"\n",
      "24.5   4   98.00      60.00      2164.      22.1   76  1\t\"chevrolet woody\"\n",
      "29.0   4   90.00      70.00      1937.      14.2   76  2\t\"vw rabbit\"\n",
      "33.0   4   91.00      53.00      1795.      17.4   76  3\t\"honda civic\"\n",
      "20.0   6   225.0      100.0      3651.      17.7   76  1\t\"dodge aspen se\"\n",
      "18.0   6   250.0      78.00      3574.      21.0   76  1\t\"ford granada ghia\"\n",
      "18.5   6   250.0      110.0      3645.      16.2   76  1\t\"pontiac ventura sj\"\n",
      "17.5   6   258.0      95.00      3193.      17.8   76  1\t\"amc pacer d/l\"\n",
      "29.5   4   97.00      71.00      1825.      12.2   76  2\t\"volkswagen rabbit\"\n",
      "32.0   4   85.00      70.00      1990.      17.0   76  3\t\"datsun b-210\"\n",
      "28.0   4   97.00      75.00      2155.      16.4   76  3\t\"toyota corolla\"\n",
      "26.5   4   140.0      72.00      2565.      13.6   76  1\t\"ford pinto\"\n",
      "20.0   4   130.0      102.0      3150.      15.7   76  2\t\"volvo 245\"\n",
      "13.0   8   318.0      150.0      3940.      13.2   76  1\t\"plymouth volare premier v8\"\n",
      "19.0   4   120.0      88.00      3270.      21.9   76  2\t\"peugeot 504\"\n",
      "19.0   6   156.0      108.0      2930.      15.5   76  3\t\"toyota mark ii\"\n",
      "16.5   6   168.0      120.0      3820.      16.7   76  2\t\"mercedes-benz 280s\"\n",
      "16.5   8   350.0      180.0      4380.      12.1   76  1\t\"cadillac seville\"\n",
      "13.0   8   350.0      145.0      4055.      12.0   76  1\t\"chevy c10\"\n",
      "13.0   8   302.0      130.0      3870.      15.0   76  1\t\"ford f108\"\n",
      "13.0   8   318.0      150.0      3755.      14.0   76  1\t\"dodge d100\"\n",
      "31.5   4   98.00      68.00      2045.      18.5   77  3\t\"honda accord cvcc\"\n",
      "30.0   4   111.0      80.00      2155.      14.8   77  1\t\"buick opel isuzu deluxe\"\n",
      "36.0   4   79.00      58.00      1825.      18.6   77  2\t\"renault 5 gtl\"\n",
      "25.5   4   122.0      96.00      2300.      15.5   77  1\t\"plymouth arrow gs\"\n",
      "33.5   4   85.00      70.00      1945.      16.8   77  3\t\"datsun f-10 hatchback\"\n",
      "17.5   8   305.0      145.0      3880.      12.5   77  1\t\"chevrolet caprice classic\"\n",
      "17.0   8   260.0      110.0      4060.      19.0   77  1\t\"oldsmobile cutlass supreme\"\n",
      "15.5   8   318.0      145.0      4140.      13.7   77  1\t\"dodge monaco brougham\"\n",
      "15.0   8   302.0      130.0      4295.      14.9   77  1\t\"mercury cougar brougham\"\n",
      "17.5   6   250.0      110.0      3520.      16.4   77  1\t\"chevrolet concours\"\n",
      "20.5   6   231.0      105.0      3425.      16.9   77  1\t\"buick skylark\"\n",
      "19.0   6   225.0      100.0      3630.      17.7   77  1\t\"plymouth volare custom\"\n",
      "18.5   6   250.0      98.00      3525.      19.0   77  1\t\"ford granada\"\n",
      "16.0   8   400.0      180.0      4220.      11.1   77  1\t\"pontiac grand prix lj\"\n",
      "15.5   8   350.0      170.0      4165.      11.4   77  1\t\"chevrolet monte carlo landau\"\n",
      "15.5   8   400.0      190.0      4325.      12.2   77  1\t\"chrysler cordoba\"\n",
      "16.0   8   351.0      149.0      4335.      14.5   77  1\t\"ford thunderbird\"\n",
      "29.0   4   97.00      78.00      1940.      14.5   77  2\t\"volkswagen rabbit custom\"\n",
      "24.5   4   151.0      88.00      2740.      16.0   77  1\t\"pontiac sunbird coupe\"\n",
      "26.0   4   97.00      75.00      2265.      18.2   77  3\t\"toyota corolla liftback\"\n",
      "25.5   4   140.0      89.00      2755.      15.8   77  1\t\"ford mustang ii 2+2\"\n",
      "30.5   4   98.00      63.00      2051.      17.0   77  1\t\"chevrolet chevette\"\n",
      "33.5   4   98.00      83.00      2075.      15.9   77  1\t\"dodge colt m/m\"\n",
      "30.0   4   97.00      67.00      1985.      16.4   77  3\t\"subaru dl\"\n",
      "30.5   4   97.00      78.00      2190.      14.1   77  2\t\"volkswagen dasher\"\n",
      "22.0   6   146.0      97.00      2815.      14.5   77  3\t\"datsun 810\"\n",
      "21.5   4   121.0      110.0      2600.      12.8   77  2\t\"bmw 320i\"\n",
      "21.5   3   80.00      110.0      2720.      13.5   77  3\t\"mazda rx-4\"\n",
      "43.1   4   90.00      48.00      1985.      21.5   78  2\t\"volkswagen rabbit custom diesel\"\n",
      "36.1   4   98.00      66.00      1800.      14.4   78  1\t\"ford fiesta\"\n",
      "32.8   4   78.00      52.00      1985.      19.4   78  3\t\"mazda glc deluxe\"\n",
      "39.4   4   85.00      70.00      2070.      18.6   78  3\t\"datsun b210 gx\"\n",
      "36.1   4   91.00      60.00      1800.      16.4   78  3\t\"honda civic cvcc\"\n",
      "19.9   8   260.0      110.0      3365.      15.5   78  1\t\"oldsmobile cutlass salon brougham\"\n",
      "19.4   8   318.0      140.0      3735.      13.2   78  1\t\"dodge diplomat\"\n",
      "20.2   8   302.0      139.0      3570.      12.8   78  1\t\"mercury monarch ghia\"\n",
      "19.2   6   231.0      105.0      3535.      19.2   78  1\t\"pontiac phoenix lj\"\n",
      "20.5   6   200.0      95.00      3155.      18.2   78  1\t\"chevrolet malibu\"\n",
      "20.2   6   200.0      85.00      2965.      15.8   78  1\t\"ford fairmont (auto)\"\n",
      "25.1   4   140.0      88.00      2720.      15.4   78  1\t\"ford fairmont (man)\"\n",
      "20.5   6   225.0      100.0      3430.      17.2   78  1\t\"plymouth volare\"\n",
      "19.4   6   232.0      90.00      3210.      17.2   78  1\t\"amc concord\"\n",
      "20.6   6   231.0      105.0      3380.      15.8   78  1\t\"buick century special\"\n",
      "20.8   6   200.0      85.00      3070.      16.7   78  1\t\"mercury zephyr\"\n",
      "18.6   6   225.0      110.0      3620.      18.7   78  1\t\"dodge aspen\"\n",
      "18.1   6   258.0      120.0      3410.      15.1   78  1\t\"amc concord d/l\"\n",
      "19.2   8   305.0      145.0      3425.      13.2   78  1\t\"chevrolet monte carlo landau\"\n",
      "17.7   6   231.0      165.0      3445.      13.4   78  1\t\"buick regal sport coupe (turbo)\"\n",
      "18.1   8   302.0      139.0      3205.      11.2   78  1\t\"ford futura\"\n",
      "17.5   8   318.0      140.0      4080.      13.7   78  1\t\"dodge magnum xe\"\n",
      "30.0   4   98.00      68.00      2155.      16.5   78  1\t\"chevrolet chevette\"\n",
      "27.5   4   134.0      95.00      2560.      14.2   78  3\t\"toyota corona\"\n",
      "27.2   4   119.0      97.00      2300.      14.7   78  3\t\"datsun 510\"\n",
      "30.9   4   105.0      75.00      2230.      14.5   78  1\t\"dodge omni\"\n",
      "21.1   4   134.0      95.00      2515.      14.8   78  3\t\"toyota celica gt liftback\"\n",
      "23.2   4   156.0      105.0      2745.      16.7   78  1\t\"plymouth sapporo\"\n",
      "23.8   4   151.0      85.00      2855.      17.6   78  1\t\"oldsmobile starfire sx\"\n",
      "23.9   4   119.0      97.00      2405.      14.9   78  3\t\"datsun 200-sx\"\n",
      "20.3   5   131.0      103.0      2830.      15.9   78  2\t\"audi 5000\"\n",
      "17.0   6   163.0      125.0      3140.      13.6   78  2\t\"volvo 264gl\"\n",
      "21.6   4   121.0      115.0      2795.      15.7   78  2\t\"saab 99gle\"\n",
      "16.2   6   163.0      133.0      3410.      15.8   78  2\t\"peugeot 604sl\"\n",
      "31.5   4   89.00      71.00      1990.      14.9   78  2\t\"volkswagen scirocco\"\n",
      "29.5   4   98.00      68.00      2135.      16.6   78  3\t\"honda accord lx\"\n",
      "21.5   6   231.0      115.0      3245.      15.4   79  1\t\"pontiac lemans v6\"\n",
      "19.8   6   200.0      85.00      2990.      18.2   79  1\t\"mercury zephyr 6\"\n",
      "22.3   4   140.0      88.00      2890.      17.3   79  1\t\"ford fairmont 4\"\n",
      "20.2   6   232.0      90.00      3265.      18.2   79  1\t\"amc concord dl 6\"\n",
      "20.6   6   225.0      110.0      3360.      16.6   79  1\t\"dodge aspen 6\"\n",
      "17.0   8   305.0      130.0      3840.      15.4   79  1\t\"chevrolet caprice classic\"\n",
      "17.6   8   302.0      129.0      3725.      13.4   79  1\t\"ford ltd landau\"\n",
      "16.5   8   351.0      138.0      3955.      13.2   79  1\t\"mercury grand marquis\"\n",
      "18.2   8   318.0      135.0      3830.      15.2   79  1\t\"dodge st. regis\"\n",
      "16.9   8   350.0      155.0      4360.      14.9   79  1\t\"buick estate wagon (sw)\"\n",
      "15.5   8   351.0      142.0      4054.      14.3   79  1\t\"ford country squire (sw)\"\n",
      "19.2   8   267.0      125.0      3605.      15.0   79  1\t\"chevrolet malibu classic (sw)\"\n",
      "18.5   8   360.0      150.0      3940.      13.0   79  1\t\"chrysler lebaron town @ country (sw)\"\n",
      "31.9   4   89.00      71.00      1925.      14.0   79  2\t\"vw rabbit custom\"\n",
      "34.1   4   86.00      65.00      1975.      15.2   79  3\t\"maxda glc deluxe\"\n",
      "35.7   4   98.00      80.00      1915.      14.4   79  1\t\"dodge colt hatchback custom\"\n",
      "27.4   4   121.0      80.00      2670.      15.0   79  1\t\"amc spirit dl\"\n",
      "25.4   5   183.0      77.00      3530.      20.1   79  2\t\"mercedes benz 300d\"\n",
      "23.0   8   350.0      125.0      3900.      17.4   79  1\t\"cadillac eldorado\"\n",
      "27.2   4   141.0      71.00      3190.      24.8   79  2\t\"peugeot 504\"\n",
      "23.9   8   260.0      90.00      3420.      22.2   79  1\t\"oldsmobile cutlass salon brougham\"\n",
      "34.2   4   105.0      70.00      2200.      13.2   79  1\t\"plymouth horizon\"\n",
      "34.5   4   105.0      70.00      2150.      14.9   79  1\t\"plymouth horizon tc3\"\n",
      "31.8   4   85.00      65.00      2020.      19.2   79  3\t\"datsun 210\"\n",
      "37.3   4   91.00      69.00      2130.      14.7   79  2\t\"fiat strada custom\"\n",
      "28.4   4   151.0      90.00      2670.      16.0   79  1\t\"buick skylark limited\"\n",
      "28.8   6   173.0      115.0      2595.      11.3   79  1\t\"chevrolet citation\"\n",
      "26.8   6   173.0      115.0      2700.      12.9   79  1\t\"oldsmobile omega brougham\"\n",
      "33.5   4   151.0      90.00      2556.      13.2   79  1\t\"pontiac phoenix\"\n",
      "41.5   4   98.00      76.00      2144.      14.7   80  2\t\"vw rabbit\"\n",
      "38.1   4   89.00      60.00      1968.      18.8   80  3\t\"toyota corolla tercel\"\n",
      "32.1   4   98.00      70.00      2120.      15.5   80  1\t\"chevrolet chevette\"\n",
      "37.2   4   86.00      65.00      2019.      16.4   80  3\t\"datsun 310\"\n",
      "28.0   4   151.0      90.00      2678.      16.5   80  1\t\"chevrolet citation\"\n",
      "26.4   4   140.0      88.00      2870.      18.1   80  1\t\"ford fairmont\"\n",
      "24.3   4   151.0      90.00      3003.      20.1   80  1\t\"amc concord\"\n",
      "19.1   6   225.0      90.00      3381.      18.7   80  1\t\"dodge aspen\"\n",
      "34.3   4   97.00      78.00      2188.      15.8   80  2\t\"audi 4000\"\n",
      "29.8   4   134.0      90.00      2711.      15.5   80  3\t\"toyota corona liftback\"\n",
      "31.3   4   120.0      75.00      2542.      17.5   80  3\t\"mazda 626\"\n",
      "37.0   4   119.0      92.00      2434.      15.0   80  3\t\"datsun 510 hatchback\"\n",
      "32.2   4   108.0      75.00      2265.      15.2   80  3\t\"toyota corolla\"\n",
      "46.6   4   86.00      65.00      2110.      17.9   80  3\t\"mazda glc\"\n",
      "27.9   4   156.0      105.0      2800.      14.4   80  1\t\"dodge colt\"\n",
      "40.8   4   85.00      65.00      2110.      19.2   80  3\t\"datsun 210\"\n",
      "44.3   4   90.00      48.00      2085.      21.7   80  2\t\"vw rabbit c (diesel)\"\n",
      "43.4   4   90.00      48.00      2335.      23.7   80  2\t\"vw dasher (diesel)\"\n",
      "36.4   5   121.0      67.00      2950.      19.9   80  2\t\"audi 5000s (diesel)\"\n",
      "30.0   4   146.0      67.00      3250.      21.8   80  2\t\"mercedes-benz 240d\"\n",
      "44.6   4   91.00      67.00      1850.      13.8   80  3\t\"honda civic 1500 gl\"\n",
      "40.9   4   85.00      ?          1835.      17.3   80  2\t\"renault lecar deluxe\"\n",
      "33.8   4   97.00      67.00      2145.      18.0   80  3\t\"subaru dl\"\n",
      "29.8   4   89.00      62.00      1845.      15.3   80  2\t\"vokswagen rabbit\"\n",
      "32.7   6   168.0      132.0      2910.      11.4   80  3\t\"datsun 280-zx\"\n",
      "23.7   3   70.00      100.0      2420.      12.5   80  3\t\"mazda rx-7 gs\"\n",
      "35.0   4   122.0      88.00      2500.      15.1   80  2\t\"triumph tr7 coupe\"\n",
      "23.6   4   140.0      ?          2905.      14.3   80  1\t\"ford mustang cobra\"\n",
      "32.4   4   107.0      72.00      2290.      17.0   80  3\t\"honda accord\"\n",
      "27.2   4   135.0      84.00      2490.      15.7   81  1\t\"plymouth reliant\"\n",
      "26.6   4   151.0      84.00      2635.      16.4   81  1\t\"buick skylark\"\n",
      "25.8   4   156.0      92.00      2620.      14.4   81  1\t\"dodge aries wagon (sw)\"\n",
      "23.5   6   173.0      110.0      2725.      12.6   81  1\t\"chevrolet citation\"\n",
      "30.0   4   135.0      84.00      2385.      12.9   81  1\t\"plymouth reliant\"\n",
      "39.1   4   79.00      58.00      1755.      16.9   81  3\t\"toyota starlet\"\n",
      "39.0   4   86.00      64.00      1875.      16.4   81  1\t\"plymouth champ\"\n",
      "35.1   4   81.00      60.00      1760.      16.1   81  3\t\"honda civic 1300\"\n",
      "32.3   4   97.00      67.00      2065.      17.8   81  3\t\"subaru\"\n",
      "37.0   4   85.00      65.00      1975.      19.4   81  3\t\"datsun 210 mpg\"\n",
      "37.7   4   89.00      62.00      2050.      17.3   81  3\t\"toyota tercel\"\n",
      "34.1   4   91.00      68.00      1985.      16.0   81  3\t\"mazda glc 4\"\n",
      "34.7   4   105.0      63.00      2215.      14.9   81  1\t\"plymouth horizon 4\"\n",
      "34.4   4   98.00      65.00      2045.      16.2   81  1\t\"ford escort 4w\"\n",
      "29.9   4   98.00      65.00      2380.      20.7   81  1\t\"ford escort 2h\"\n",
      "33.0   4   105.0      74.00      2190.      14.2   81  2\t\"volkswagen jetta\"\n",
      "34.5   4   100.0      ?          2320.      15.8   81  2\t\"renault 18i\"\n",
      "33.7   4   107.0      75.00      2210.      14.4   81  3\t\"honda prelude\"\n",
      "32.4   4   108.0      75.00      2350.      16.8   81  3\t\"toyota corolla\"\n",
      "32.9   4   119.0      100.0      2615.      14.8   81  3\t\"datsun 200sx\"\n",
      "31.6   4   120.0      74.00      2635.      18.3   81  3\t\"mazda 626\"\n",
      "28.1   4   141.0      80.00      3230.      20.4   81  2\t\"peugeot 505s turbo diesel\"\n",
      "30.7   6   145.0      76.00      3160.      19.6   81  2\t\"volvo diesel\"\n",
      "25.4   6   168.0      116.0      2900.      12.6   81  3\t\"toyota cressida\"\n",
      "24.2   6   146.0      120.0      2930.      13.8   81  3\t\"datsun 810 maxima\"\n",
      "22.4   6   231.0      110.0      3415.      15.8   81  1\t\"buick century\"\n",
      "26.6   8   350.0      105.0      3725.      19.0   81  1\t\"oldsmobile cutlass ls\"\n",
      "20.2   6   200.0      88.00      3060.      17.1   81  1\t\"ford granada gl\"\n",
      "17.6   6   225.0      85.00      3465.      16.6   81  1\t\"chrysler lebaron salon\"\n",
      "28.0   4   112.0      88.00      2605.      19.6   82  1\t\"chevrolet cavalier\"\n",
      "27.0   4   112.0      88.00      2640.      18.6   82  1\t\"chevrolet cavalier wagon\"\n",
      "34.0   4   112.0      88.00      2395.      18.0   82  1\t\"chevrolet cavalier 2-door\"\n",
      "31.0   4   112.0      85.00      2575.      16.2   82  1\t\"pontiac j2000 se hatchback\"\n",
      "29.0   4   135.0      84.00      2525.      16.0   82  1\t\"dodge aries se\"\n",
      "27.0   4   151.0      90.00      2735.      18.0   82  1\t\"pontiac phoenix\"\n",
      "24.0   4   140.0      92.00      2865.      16.4   82  1\t\"ford fairmont futura\"\n",
      "23.0   4   151.0      ?          3035.      20.5   82  1\t\"amc concord dl\"\n",
      "36.0   4   105.0      74.00      1980.      15.3   82  2\t\"volkswagen rabbit l\"\n",
      "37.0   4   91.00      68.00      2025.      18.2   82  3\t\"mazda glc custom l\"\n",
      "31.0   4   91.00      68.00      1970.      17.6   82  3\t\"mazda glc custom\"\n",
      "38.0   4   105.0      63.00      2125.      14.7   82  1\t\"plymouth horizon miser\"\n",
      "36.0   4   98.00      70.00      2125.      17.3   82  1\t\"mercury lynx l\"\n",
      "36.0   4   120.0      88.00      2160.      14.5   82  3\t\"nissan stanza xe\"\n",
      "36.0   4   107.0      75.00      2205.      14.5   82  3\t\"honda accord\"\n",
      "34.0   4   108.0      70.00      2245       16.9   82  3\t\"toyota corolla\"\n",
      "38.0   4   91.00      67.00      1965.      15.0   82  3\t\"honda civic\"\n",
      "32.0   4   91.00      67.00      1965.      15.7   82  3\t\"honda civic (auto)\"\n",
      "38.0   4   91.00      67.00      1995.      16.2   82  3\t\"datsun 310 gx\"\n",
      "25.0   6   181.0      110.0      2945.      16.4   82  1\t\"buick century limited\"\n",
      "38.0   6   262.0      85.00      3015.      17.0   82  1\t\"oldsmobile cutlass ciera (diesel)\"\n",
      "26.0   4   156.0      92.00      2585.      14.5   82  1\t\"chrysler lebaron medallion\"\n",
      "22.0   6   232.0      112.0      2835       14.7   82  1\t\"ford granada l\"\n",
      "32.0   4   144.0      96.00      2665.      13.9   82  3\t\"toyota celica gt\"\n",
      "36.0   4   135.0      84.00      2370.      13.0   82  1\t\"dodge charger 2.2\"\n",
      "27.0   4   151.0      90.00      2950.      17.3   82  1\t\"chevrolet camaro\"\n",
      "27.0   4   140.0      86.00      2790.      15.6   82  1\t\"ford mustang gl\"\n",
      "44.0   4   97.00      52.00      2130.      24.6   82  2\t\"vw pickup\"\n",
      "32.0   4   135.0      84.00      2295.      11.6   82  1\t\"dodge rampage\"\n",
      "28.0   4   120.0      79.00      2625.      18.6   82  1\t\"ford ranger\"\n",
      "31.0   4   119.0      82.00      2720.      19.4   82  1\t\"chevy s-10\"\n",
      "\n",
      "True\n"
     ]
    }
   ],
   "source": [
    "with open('../../DataSets/pybk018master/auto-mpg.data.txt', 'r', encoding='utf-8') as f:\n",
    "    print(f.read())\n",
    "print(f.closed)"
   ]
  },
  {
   "cell_type": "markdown",
   "metadata": {},
   "source": [
    "#### del语句\n"
   ]
  },
  {
   "cell_type": "code",
   "execution_count": null,
   "metadata": {
    "collapsed": true
   },
   "outputs": [],
   "source": [
    "\n",
    "+ 使用 del 语句可以从一个列表中依索引而不是值来删除一个元素。\n",
    "+ 可以用 del 语句从列表中删除一个切割,或清空整个列表。\n"
   ]
  },
  {
   "cell_type": "code",
   "execution_count": null,
   "metadata": {
    "collapsed": true
   },
   "outputs": [],
   "source": [
    "del data[k]\n",
    "del data[i:j]\n",
    "del obj.attr\n",
    "del variable"
   ]
  },
  {
   "cell_type": "code",
   "execution_count": 32,
   "metadata": {
    "collapsed": false
   },
   "outputs": [
    {
     "name": "stdout",
     "output_type": "stream",
     "text": [
      "[-1, 2, 66.25, 333, 333, 2343.6]\n"
     ]
    }
   ],
   "source": [
    "a=[-1,2,66.25,333,333,2343.6]\n",
    "print(a)"
   ]
  },
  {
   "cell_type": "code",
   "execution_count": 33,
   "metadata": {
    "collapsed": false
   },
   "outputs": [
    {
     "name": "stdout",
     "output_type": "stream",
     "text": [
      "[2, 66.25, 333, 333, 2343.6]\n"
     ]
    }
   ],
   "source": [
    "del a[0]\n",
    "print(a)"
   ]
  },
  {
   "cell_type": "code",
   "execution_count": 34,
   "metadata": {
    "collapsed": false
   },
   "outputs": [
    {
     "name": "stdout",
     "output_type": "stream",
     "text": [
      "[2, 66.25, 2343.6]\n"
     ]
    }
   ],
   "source": [
    "del a[2:4]\n",
    "print(a)"
   ]
  },
  {
   "cell_type": "code",
   "execution_count": 35,
   "metadata": {
    "collapsed": true
   },
   "outputs": [],
   "source": [
    "del a[:]"
   ]
  },
  {
   "cell_type": "code",
   "execution_count": 36,
   "metadata": {
    "collapsed": false
   },
   "outputs": [
    {
     "name": "stdout",
     "output_type": "stream",
     "text": [
      "[]\n"
     ]
    }
   ],
   "source": [
    "print(a)"
   ]
  },
  {
   "cell_type": "code",
   "execution_count": 37,
   "metadata": {
    "collapsed": true
   },
   "outputs": [],
   "source": [
    "del a"
   ]
  },
  {
   "cell_type": "code",
   "execution_count": 39,
   "metadata": {
    "collapsed": false
   },
   "outputs": [
    {
     "ename": "NameError",
     "evalue": "name 'a' is not defined",
     "output_type": "error",
     "traceback": [
      "\u001b[0;31m---------------------------------------------------------------------------\u001b[0m",
      "\u001b[0;31mNameError\u001b[0m                                 Traceback (most recent call last)",
      "\u001b[0;32m<ipython-input-39-c5a4f3535135>\u001b[0m in \u001b[0;36m<module>\u001b[0;34m()\u001b[0m\n\u001b[0;32m----> 1\u001b[0;31m \u001b[0mprint\u001b[0m\u001b[0;34m(\u001b[0m\u001b[0ma\u001b[0m\u001b[0;34m)\u001b[0m\u001b[0;34m\u001b[0m\u001b[0m\n\u001b[0m",
      "\u001b[0;31mNameError\u001b[0m: name 'a' is not defined"
     ]
    }
   ],
   "source": [
    "print(a)"
   ]
  },
  {
   "cell_type": "markdown",
   "metadata": {},
   "source": [
    "### 异常与断言\n"
   ]
  },
  {
   "cell_type": "markdown",
   "metadata": {},
   "source": [
    "\n",
    "+ Exceptions\n",
    "+ Handling Exceptions\n",
    "+ Raising Exceptions\n",
    "+ User-defined Exceptions\n",
    "+ Defining Clean-up Actions\n",
    "+ Predefined Clean-up Actions\n"
   ]
  },
  {
   "cell_type": "markdown",
   "metadata": {},
   "source": [
    "#### Exceptions\n"
   ]
  },
  {
   "cell_type": "code",
   "execution_count": 47,
   "metadata": {
    "collapsed": false
   },
   "outputs": [
    {
     "data": {
      "text/plain": [
       "'\\nBaseException\\n +-- SystemExit\\n +-- KeyboardInterrupt\\n +-- GeneratorExit\\n +-- Exception\\n      +-- StopIteration\\n      +-- StopAsyncIteration\\n      +-- ArithmeticError\\n      |    +-- FloatingPointError\\n      |    +-- OverflowError\\n      |    +-- ZeroDivisionError\\n      +-- AssertionError\\n      +-- AttributeError\\n      +-- BufferError\\n      +-- EOFError\\n      +-- ImportError\\n      |    +-- ModuleNotFoundError\\n      +-- LookupError\\n      |    +-- IndexError\\n      |    +-- KeyError\\n      +-- MemoryError\\n      +-- NameError\\n      |    +-- UnboundLocalError\\n      +-- OSError\\n      |    +-- BlockingIOError\\n      |    +-- ChildProcessError\\n      |    +-- ConnectionError\\n      |    |    +-- BrokenPipeError\\n      |    |    +-- ConnectionAbortedError\\n      |    |    +-- ConnectionRefusedError\\n      |    |    +-- ConnectionResetError\\n      |    +-- FileExistsError\\n      |    +-- FileNotFoundError\\n      |    +-- InterruptedError\\n      |    +-- IsADirectoryError\\n      |    +-- NotADirectoryError\\n      |    +-- PermissionError\\n      |    +-- ProcessLookupError\\n      |    +-- TimeoutError\\n      +-- ReferenceError\\n      +-- RuntimeError\\n      |    +-- NotImplementedError\\n      |    +-- RecursionError\\n      +-- SyntaxError\\n      |    +-- IndentationError\\n      |         +-- TabError\\n      +-- SystemError\\n      +-- TypeError\\n      +-- ValueError\\n      |    +-- UnicodeError\\n      |         +-- UnicodeDecodeError\\n      |         +-- UnicodeEncodeError\\n      |         +-- UnicodeTranslateError\\n      +-- Warning\\n           +-- DeprecationWarning\\n           +-- PendingDeprecationWarning\\n           +-- RuntimeWarning\\n           +-- SyntaxWarning\\n           +-- UserWarning\\n           +-- FutureWarning\\n           +-- ImportWarning\\n           +-- UnicodeWarning\\n           +-- BytesWarning\\n           +-- ResourceWarning\\n'"
      ]
     },
     "execution_count": 47,
     "metadata": {},
     "output_type": "execute_result"
    }
   ],
   "source": [
    "\n",
    "# The class hierarchy for built-in exceptions\n",
    "\n",
    "\"\"\"\n",
    "BaseException\n",
    " +-- SystemExit\n",
    " +-- KeyboardInterrupt\n",
    " +-- GeneratorExit\n",
    " +-- Exception\n",
    "      +-- StopIteration\n",
    "      +-- StopAsyncIteration\n",
    "      +-- ArithmeticError\n",
    "      |    +-- FloatingPointError\n",
    "      |    +-- OverflowError\n",
    "      |    +-- ZeroDivisionError\n",
    "      +-- AssertionError\n",
    "      +-- AttributeError\n",
    "      +-- BufferError\n",
    "      +-- EOFError\n",
    "      +-- ImportError\n",
    "      |    +-- ModuleNotFoundError\n",
    "      +-- LookupError\n",
    "      |    +-- IndexError\n",
    "      |    +-- KeyError\n",
    "      +-- MemoryError\n",
    "      +-- NameError\n",
    "      |    +-- UnboundLocalError\n",
    "      +-- OSError\n",
    "      |    +-- BlockingIOError\n",
    "      |    +-- ChildProcessError\n",
    "      |    +-- ConnectionError\n",
    "      |    |    +-- BrokenPipeError\n",
    "      |    |    +-- ConnectionAbortedError\n",
    "      |    |    +-- ConnectionRefusedError\n",
    "      |    |    +-- ConnectionResetError\n",
    "      |    +-- FileExistsError\n",
    "      |    +-- FileNotFoundError\n",
    "      |    +-- InterruptedError\n",
    "      |    +-- IsADirectoryError\n",
    "      |    +-- NotADirectoryError\n",
    "      |    +-- PermissionError\n",
    "      |    +-- ProcessLookupError\n",
    "      |    +-- TimeoutError\n",
    "      +-- ReferenceError\n",
    "      +-- RuntimeError\n",
    "      |    +-- NotImplementedError\n",
    "      |    +-- RecursionError\n",
    "      +-- SyntaxError\n",
    "      |    +-- IndentationError\n",
    "      |         +-- TabError\n",
    "      +-- SystemError\n",
    "      +-- TypeError\n",
    "      +-- ValueError\n",
    "      |    +-- UnicodeError\n",
    "      |         +-- UnicodeDecodeError\n",
    "      |         +-- UnicodeEncodeError\n",
    "      |         +-- UnicodeTranslateError\n",
    "      +-- Warning\n",
    "           +-- DeprecationWarning\n",
    "           +-- PendingDeprecationWarning\n",
    "           +-- RuntimeWarning\n",
    "           +-- SyntaxWarning\n",
    "           +-- UserWarning\n",
    "           +-- FutureWarning\n",
    "           +-- ImportWarning\n",
    "           +-- UnicodeWarning\n",
    "           +-- BytesWarning\n",
    "           +-- ResourceWarning\n",
    "\"\"\""
   ]
  },
  {
   "cell_type": "markdown",
   "metadata": {},
   "source": [
    "#### Handling Exceptions\n"
   ]
  },
  {
   "cell_type": "code",
   "execution_count": 48,
   "metadata": {
    "collapsed": false
   },
   "outputs": [
    {
     "name": "stdout",
     "output_type": "stream",
     "text": [
      "OS error: [Errno 2] No such file or directory: 'myfile.txt'\n"
     ]
    }
   ],
   "source": [
    "# Handling Exceptions异常处理\n",
    "\n",
    "import sys\n",
    "\n",
    "try:\n",
    "    f = open('myfile.txt')\n",
    "    s = f.readline()\n",
    "    i = int(s.strip())\n",
    "except OSError as err:\n",
    "    print(\"OS error: {0}\".format(err))\n",
    "except ValueError:\n",
    "    print(\"Could not convert data to an integer.\")\n",
    "except:\n",
    "    print(\"Unexpected error:\", sys.exc_info()[0])\n",
    "    raise"
   ]
  },
  {
   "cell_type": "code",
   "execution_count": 50,
   "metadata": {
    "collapsed": false
   },
   "outputs": [
    {
     "name": "stdout",
     "output_type": "stream",
     "text": [
      "cannot open -f\n",
      "/Users/bater.makhabel/Library/Jupyter/runtime/kernel-d6ada473-b77d-448f-93f5-152c8566e6a4.json has 12 lines\n"
     ]
    }
   ],
   "source": [
    "# try … except 语句可以带有一个 else子句，该子句只能出现在所有 except 子句之后。\n",
    "# 当 try 语句没有抛出异常时，需要执行一些代码，可以使用这个子句。\n",
    "\n",
    "for arg in sys.argv[1:]:\n",
    "    try:\n",
    "        f = open(arg, 'r')\n",
    "    except IOError:\n",
    "        print('cannot open', arg)\n",
    "    else:\n",
    "        print(arg, 'has', len(f.readlines()), 'lines')\n",
    "        f.close()"
   ]
  },
  {
   "cell_type": "markdown",
   "metadata": {},
   "source": [
    "#### Raising Exceptions\n"
   ]
  },
  {
   "cell_type": "code",
   "execution_count": 51,
   "metadata": {
    "collapsed": false
   },
   "outputs": [
    {
     "ename": "Exception",
     "evalue": "HiThere",
     "output_type": "error",
     "traceback": [
      "\u001b[0;31m---------------------------------------------------------------------------\u001b[0m",
      "\u001b[0;31mException\u001b[0m                                 Traceback (most recent call last)",
      "\u001b[0;32m<ipython-input-51-bbf527a5e406>\u001b[0m in \u001b[0;36m<module>\u001b[0;34m()\u001b[0m\n\u001b[1;32m      1\u001b[0m \u001b[0;31m# Raising Exceptions抛出异常\u001b[0m\u001b[0;34m\u001b[0m\u001b[0;34m\u001b[0m\u001b[0m\n\u001b[1;32m      2\u001b[0m \u001b[0;34m\u001b[0m\u001b[0m\n\u001b[0;32m----> 3\u001b[0;31m \u001b[0;32mraise\u001b[0m \u001b[0mException\u001b[0m\u001b[0;34m(\u001b[0m\u001b[0;34m'HiThere'\u001b[0m\u001b[0;34m)\u001b[0m\u001b[0;34m\u001b[0m\u001b[0m\n\u001b[0m",
      "\u001b[0;31mException\u001b[0m: HiThere"
     ]
    }
   ],
   "source": [
    "# Raising Exceptions抛出异常\n",
    "\n",
    "raise Exception('HiThere')"
   ]
  },
  {
   "cell_type": "markdown",
   "metadata": {},
   "source": [
    "#### User-defined Exceptions\n"
   ]
  },
  {
   "cell_type": "code",
   "execution_count": 56,
   "metadata": {
    "collapsed": true
   },
   "outputs": [],
   "source": [
    "# User-defined Exceptions用户自定义异常\n",
    "\n",
    "# Predefined Clean-up Actions预定义清理行为\n",
    "\n",
    "class Error(Exception):\n",
    "    \"\"\"Base class for exceptions in this module.\"\"\"\n",
    "    pass\n",
    "\n",
    "class InputError(Error):\n",
    "    \"\"\"Exception raised for errors in the input.\n",
    "\n",
    "    Attributes:\n",
    "        expression -- input expression in which the error occurred\n",
    "        message -- explanation of the error\n",
    "    \"\"\"\n",
    "\n",
    "    def __init__(self, expression, message):\n",
    "        self.expression = expression\n",
    "        self.message = message\n",
    "\n",
    "class TransitionError(Error):\n",
    "    \"\"\"Raised when an operation attempts a state transition that's not\n",
    "    allowed.\n",
    "\n",
    "    Attributes:\n",
    "        previous -- state at beginning of transition\n",
    "        next -- attempted new state\n",
    "        message -- explanation of why the specific transition is not allowed\n",
    "    \"\"\"\n",
    "\n",
    "    def __init__(self, previous, next, message):\n",
    "        self.previous = previous\n",
    "        self.next = next\n",
    "        self.message = message"
   ]
  },
  {
   "cell_type": "code",
   "execution_count": 58,
   "metadata": {
    "collapsed": true
   },
   "outputs": [],
   "source": [
    "class MyError(Error):\n",
    "    def __init__(self, value):\n",
    "        self.value = value\n",
    "    def __str__(self):\n",
    "        return repr(self.value)"
   ]
  },
  {
   "cell_type": "code",
   "execution_count": 59,
   "metadata": {
    "collapsed": false
   },
   "outputs": [
    {
     "name": "stdout",
     "output_type": "stream",
     "text": [
      "My exception occurred, value: 4\n"
     ]
    }
   ],
   "source": [
    "try:\n",
    "    raise MyError(2*2)\n",
    "except MyError as e:\n",
    "    print('My exception occurred, value:', e.value)"
   ]
  },
  {
   "cell_type": "code",
   "execution_count": 60,
   "metadata": {
    "collapsed": false
   },
   "outputs": [
    {
     "ename": "MyError",
     "evalue": "'oops!'",
     "output_type": "error",
     "traceback": [
      "\u001b[0;31m---------------------------------------------------------------------------\u001b[0m",
      "\u001b[0;31mMyError\u001b[0m                                   Traceback (most recent call last)",
      "\u001b[0;32m<ipython-input-60-a0e384d42914>\u001b[0m in \u001b[0;36m<module>\u001b[0;34m()\u001b[0m\n\u001b[0;32m----> 1\u001b[0;31m \u001b[0;32mraise\u001b[0m \u001b[0mMyError\u001b[0m\u001b[0;34m(\u001b[0m\u001b[0;34m'oops!'\u001b[0m\u001b[0;34m)\u001b[0m\u001b[0;34m\u001b[0m\u001b[0m\n\u001b[0m",
      "\u001b[0;31mMyError\u001b[0m: 'oops!'"
     ]
    }
   ],
   "source": [
    "raise MyError('oops!')"
   ]
  },
  {
   "cell_type": "markdown",
   "metadata": {},
   "source": [
    "#### Defining Clean-up Actions\n"
   ]
  },
  {
   "cell_type": "code",
   "execution_count": 61,
   "metadata": {
    "collapsed": true
   },
   "outputs": [],
   "source": [
    "# Defining Clean-up Actions定义清理行为\n",
    "\n",
    "def divide(x, y):\n",
    "    try:\n",
    "        result = x / y\n",
    "    except ZeroDivisionError:\n",
    "        print(\"division by zero!\")\n",
    "    else:\n",
    "        print(\"result is\", result)\n",
    "    finally:\n",
    "        print(\"executing finally clause\")"
   ]
  },
  {
   "cell_type": "code",
   "execution_count": 62,
   "metadata": {
    "collapsed": false
   },
   "outputs": [
    {
     "name": "stdout",
     "output_type": "stream",
     "text": [
      "result is 2.0\n",
      "executing finally clause\n"
     ]
    }
   ],
   "source": [
    "divide(2, 1)"
   ]
  },
  {
   "cell_type": "code",
   "execution_count": 63,
   "metadata": {
    "collapsed": false
   },
   "outputs": [
    {
     "name": "stdout",
     "output_type": "stream",
     "text": [
      "division by zero!\n",
      "executing finally clause\n"
     ]
    }
   ],
   "source": [
    "divide(2, 0)"
   ]
  },
  {
   "cell_type": "code",
   "execution_count": 64,
   "metadata": {
    "collapsed": false
   },
   "outputs": [
    {
     "name": "stdout",
     "output_type": "stream",
     "text": [
      "executing finally clause\n"
     ]
    },
    {
     "ename": "TypeError",
     "evalue": "unsupported operand type(s) for /: 'str' and 'str'",
     "output_type": "error",
     "traceback": [
      "\u001b[0;31m---------------------------------------------------------------------------\u001b[0m",
      "\u001b[0;31mTypeError\u001b[0m                                 Traceback (most recent call last)",
      "\u001b[0;32m<ipython-input-64-62cca4a1982f>\u001b[0m in \u001b[0;36m<module>\u001b[0;34m()\u001b[0m\n\u001b[0;32m----> 1\u001b[0;31m \u001b[0mdivide\u001b[0m\u001b[0;34m(\u001b[0m\u001b[0;34m\"2\"\u001b[0m\u001b[0;34m,\u001b[0m \u001b[0;34m\"1\"\u001b[0m\u001b[0;34m)\u001b[0m\u001b[0;34m\u001b[0m\u001b[0m\n\u001b[0m",
      "\u001b[0;32m<ipython-input-61-ff5e2d7777f5>\u001b[0m in \u001b[0;36mdivide\u001b[0;34m(x, y)\u001b[0m\n\u001b[1;32m      3\u001b[0m \u001b[0;32mdef\u001b[0m \u001b[0mdivide\u001b[0m\u001b[0;34m(\u001b[0m\u001b[0mx\u001b[0m\u001b[0;34m,\u001b[0m \u001b[0my\u001b[0m\u001b[0;34m)\u001b[0m\u001b[0;34m:\u001b[0m\u001b[0;34m\u001b[0m\u001b[0m\n\u001b[1;32m      4\u001b[0m     \u001b[0;32mtry\u001b[0m\u001b[0;34m:\u001b[0m\u001b[0;34m\u001b[0m\u001b[0m\n\u001b[0;32m----> 5\u001b[0;31m         \u001b[0mresult\u001b[0m \u001b[0;34m=\u001b[0m \u001b[0mx\u001b[0m \u001b[0;34m/\u001b[0m \u001b[0my\u001b[0m\u001b[0;34m\u001b[0m\u001b[0m\n\u001b[0m\u001b[1;32m      6\u001b[0m     \u001b[0;32mexcept\u001b[0m \u001b[0mZeroDivisionError\u001b[0m\u001b[0;34m:\u001b[0m\u001b[0;34m\u001b[0m\u001b[0m\n\u001b[1;32m      7\u001b[0m         \u001b[0mprint\u001b[0m\u001b[0;34m(\u001b[0m\u001b[0;34m\"division by zero!\"\u001b[0m\u001b[0;34m)\u001b[0m\u001b[0;34m\u001b[0m\u001b[0m\n",
      "\u001b[0;31mTypeError\u001b[0m: unsupported operand type(s) for /: 'str' and 'str'"
     ]
    }
   ],
   "source": [
    "divide(\"2\", \"1\")"
   ]
  },
  {
   "cell_type": "code",
   "execution_count": null,
   "metadata": {
    "collapsed": true
   },
   "outputs": [],
   "source": []
  },
  {
   "cell_type": "markdown",
   "metadata": {},
   "source": [
    "#### Predefined Clean-up Actions\n"
   ]
  },
  {
   "cell_type": "code",
   "execution_count": 65,
   "metadata": {
    "collapsed": false
   },
   "outputs": [
    {
     "name": "stdout",
     "output_type": "stream",
     "text": [
      "18.0   8   307.0      130.0      3504.      12.0   70  1\t\"chevrolet chevelle malibu\"\n",
      "\n",
      "15.0   8   350.0      165.0      3693.      11.5   70  1\t\"buick skylark 320\"\n",
      "\n",
      "18.0   8   318.0      150.0      3436.      11.0   70  1\t\"plymouth satellite\"\n",
      "\n",
      "16.0   8   304.0      150.0      3433.      12.0   70  1\t\"amc rebel sst\"\n",
      "\n",
      "17.0   8   302.0      140.0      3449.      10.5   70  1\t\"ford torino\"\n",
      "\n",
      "15.0   8   429.0      198.0      4341.      10.0   70  1\t\"ford galaxie 500\"\n",
      "\n",
      "14.0   8   454.0      220.0      4354.       9.0   70  1\t\"chevrolet impala\"\n",
      "\n",
      "14.0   8   440.0      215.0      4312.       8.5   70  1\t\"plymouth fury iii\"\n",
      "\n",
      "14.0   8   455.0      225.0      4425.      10.0   70  1\t\"pontiac catalina\"\n",
      "\n",
      "15.0   8   390.0      190.0      3850.       8.5   70  1\t\"amc ambassador dpl\"\n",
      "\n",
      "15.0   8   383.0      170.0      3563.      10.0   70  1\t\"dodge challenger se\"\n",
      "\n",
      "14.0   8   340.0      160.0      3609.       8.0   70  1\t\"plymouth 'cuda 340\"\n",
      "\n",
      "15.0   8   400.0      150.0      3761.       9.5   70  1\t\"chevrolet monte carlo\"\n",
      "\n",
      "14.0   8   455.0      225.0      3086.      10.0   70  1\t\"buick estate wagon (sw)\"\n",
      "\n",
      "24.0   4   113.0      95.00      2372.      15.0   70  3\t\"toyota corona mark ii\"\n",
      "\n",
      "22.0   6   198.0      95.00      2833.      15.5   70  1\t\"plymouth duster\"\n",
      "\n",
      "18.0   6   199.0      97.00      2774.      15.5   70  1\t\"amc hornet\"\n",
      "\n",
      "21.0   6   200.0      85.00      2587.      16.0   70  1\t\"ford maverick\"\n",
      "\n",
      "27.0   4   97.00      88.00      2130.      14.5   70  3\t\"datsun pl510\"\n",
      "\n",
      "26.0   4   97.00      46.00      1835.      20.5   70  2\t\"volkswagen 1131 deluxe sedan\"\n",
      "\n",
      "25.0   4   110.0      87.00      2672.      17.5   70  2\t\"peugeot 504\"\n",
      "\n",
      "24.0   4   107.0      90.00      2430.      14.5   70  2\t\"audi 100 ls\"\n",
      "\n",
      "25.0   4   104.0      95.00      2375.      17.5   70  2\t\"saab 99e\"\n",
      "\n",
      "26.0   4   121.0      113.0      2234.      12.5   70  2\t\"bmw 2002\"\n",
      "\n",
      "21.0   6   199.0      90.00      2648.      15.0   70  1\t\"amc gremlin\"\n",
      "\n",
      "10.0   8   360.0      215.0      4615.      14.0   70  1\t\"ford f250\"\n",
      "\n",
      "10.0   8   307.0      200.0      4376.      15.0   70  1\t\"chevy c20\"\n",
      "\n",
      "11.0   8   318.0      210.0      4382.      13.5   70  1\t\"dodge d200\"\n",
      "\n",
      "9.0    8   304.0      193.0      4732.      18.5   70  1\t\"hi 1200d\"\n",
      "\n",
      "27.0   4   97.00      88.00      2130.      14.5   71  3\t\"datsun pl510\"\n",
      "\n",
      "28.0   4   140.0      90.00      2264.      15.5   71  1\t\"chevrolet vega 2300\"\n",
      "\n",
      "25.0   4   113.0      95.00      2228.      14.0   71  3\t\"toyota corona\"\n",
      "\n",
      "25.0   4   98.00      ?          2046.      19.0   71  1\t\"ford pinto\"\n",
      "\n",
      "19.0   6   232.0      100.0      2634.      13.0   71  1\t\"amc gremlin\"\n",
      "\n",
      "16.0   6   225.0      105.0      3439.      15.5   71  1\t\"plymouth satellite custom\"\n",
      "\n",
      "17.0   6   250.0      100.0      3329.      15.5   71  1\t\"chevrolet chevelle malibu\"\n",
      "\n",
      "19.0   6   250.0      88.00      3302.      15.5   71  1\t\"ford torino 500\"\n",
      "\n",
      "18.0   6   232.0      100.0      3288.      15.5   71  1\t\"amc matador\"\n",
      "\n",
      "14.0   8   350.0      165.0      4209.      12.0   71  1\t\"chevrolet impala\"\n",
      "\n",
      "14.0   8   400.0      175.0      4464.      11.5   71  1\t\"pontiac catalina brougham\"\n",
      "\n",
      "14.0   8   351.0      153.0      4154.      13.5   71  1\t\"ford galaxie 500\"\n",
      "\n",
      "14.0   8   318.0      150.0      4096.      13.0   71  1\t\"plymouth fury iii\"\n",
      "\n",
      "12.0   8   383.0      180.0      4955.      11.5   71  1\t\"dodge monaco (sw)\"\n",
      "\n",
      "13.0   8   400.0      170.0      4746.      12.0   71  1\t\"ford country squire (sw)\"\n",
      "\n",
      "13.0   8   400.0      175.0      5140.      12.0   71  1\t\"pontiac safari (sw)\"\n",
      "\n",
      "18.0   6   258.0      110.0      2962.      13.5   71  1\t\"amc hornet sportabout (sw)\"\n",
      "\n",
      "22.0   4   140.0      72.00      2408.      19.0   71  1\t\"chevrolet vega (sw)\"\n",
      "\n",
      "19.0   6   250.0      100.0      3282.      15.0   71  1\t\"pontiac firebird\"\n",
      "\n",
      "18.0   6   250.0      88.00      3139.      14.5   71  1\t\"ford mustang\"\n",
      "\n",
      "23.0   4   122.0      86.00      2220.      14.0   71  1\t\"mercury capri 2000\"\n",
      "\n",
      "28.0   4   116.0      90.00      2123.      14.0   71  2\t\"opel 1900\"\n",
      "\n",
      "30.0   4   79.00      70.00      2074.      19.5   71  2\t\"peugeot 304\"\n",
      "\n",
      "30.0   4   88.00      76.00      2065.      14.5   71  2\t\"fiat 124b\"\n",
      "\n",
      "31.0   4   71.00      65.00      1773.      19.0   71  3\t\"toyota corolla 1200\"\n",
      "\n",
      "35.0   4   72.00      69.00      1613.      18.0   71  3\t\"datsun 1200\"\n",
      "\n",
      "27.0   4   97.00      60.00      1834.      19.0   71  2\t\"volkswagen model 111\"\n",
      "\n",
      "26.0   4   91.00      70.00      1955.      20.5   71  1\t\"plymouth cricket\"\n",
      "\n",
      "24.0   4   113.0      95.00      2278.      15.5   72  3\t\"toyota corona hardtop\"\n",
      "\n",
      "25.0   4   97.50      80.00      2126.      17.0   72  1\t\"dodge colt hardtop\"\n",
      "\n",
      "23.0   4   97.00      54.00      2254.      23.5   72  2\t\"volkswagen type 3\"\n",
      "\n",
      "20.0   4   140.0      90.00      2408.      19.5   72  1\t\"chevrolet vega\"\n",
      "\n",
      "21.0   4   122.0      86.00      2226.      16.5   72  1\t\"ford pinto runabout\"\n",
      "\n",
      "13.0   8   350.0      165.0      4274.      12.0   72  1\t\"chevrolet impala\"\n",
      "\n",
      "14.0   8   400.0      175.0      4385.      12.0   72  1\t\"pontiac catalina\"\n",
      "\n",
      "15.0   8   318.0      150.0      4135.      13.5   72  1\t\"plymouth fury iii\"\n",
      "\n",
      "14.0   8   351.0      153.0      4129.      13.0   72  1\t\"ford galaxie 500\"\n",
      "\n",
      "17.0   8   304.0      150.0      3672.      11.5   72  1\t\"amc ambassador sst\"\n",
      "\n",
      "11.0   8   429.0      208.0      4633.      11.0   72  1\t\"mercury marquis\"\n",
      "\n",
      "13.0   8   350.0      155.0      4502.      13.5   72  1\t\"buick lesabre custom\"\n",
      "\n",
      "12.0   8   350.0      160.0      4456.      13.5   72  1\t\"oldsmobile delta 88 royale\"\n",
      "\n",
      "13.0   8   400.0      190.0      4422.      12.5   72  1\t\"chrysler newport royal\"\n",
      "\n",
      "19.0   3   70.00      97.00      2330.      13.5   72  3\t\"mazda rx2 coupe\"\n",
      "\n",
      "15.0   8   304.0      150.0      3892.      12.5   72  1\t\"amc matador (sw)\"\n",
      "\n",
      "13.0   8   307.0      130.0      4098.      14.0   72  1\t\"chevrolet chevelle concours (sw)\"\n",
      "\n",
      "13.0   8   302.0      140.0      4294.      16.0   72  1\t\"ford gran torino (sw)\"\n",
      "\n",
      "14.0   8   318.0      150.0      4077.      14.0   72  1\t\"plymouth satellite custom (sw)\"\n",
      "\n",
      "18.0   4   121.0      112.0      2933.      14.5   72  2\t\"volvo 145e (sw)\"\n",
      "\n",
      "22.0   4   121.0      76.00      2511.      18.0   72  2\t\"volkswagen 411 (sw)\"\n",
      "\n",
      "21.0   4   120.0      87.00      2979.      19.5   72  2\t\"peugeot 504 (sw)\"\n",
      "\n",
      "26.0   4   96.00      69.00      2189.      18.0   72  2\t\"renault 12 (sw)\"\n",
      "\n",
      "22.0   4   122.0      86.00      2395.      16.0   72  1\t\"ford pinto (sw)\"\n",
      "\n",
      "28.0   4   97.00      92.00      2288.      17.0   72  3\t\"datsun 510 (sw)\"\n",
      "\n",
      "23.0   4   120.0      97.00      2506.      14.5   72  3\t\"toyouta corona mark ii (sw)\"\n",
      "\n",
      "28.0   4   98.00      80.00      2164.      15.0   72  1\t\"dodge colt (sw)\"\n",
      "\n",
      "27.0   4   97.00      88.00      2100.      16.5   72  3\t\"toyota corolla 1600 (sw)\"\n",
      "\n",
      "13.0   8   350.0      175.0      4100.      13.0   73  1\t\"buick century 350\"\n",
      "\n",
      "14.0   8   304.0      150.0      3672.      11.5   73  1\t\"amc matador\"\n",
      "\n",
      "13.0   8   350.0      145.0      3988.      13.0   73  1\t\"chevrolet malibu\"\n",
      "\n",
      "14.0   8   302.0      137.0      4042.      14.5   73  1\t\"ford gran torino\"\n",
      "\n",
      "15.0   8   318.0      150.0      3777.      12.5   73  1\t\"dodge coronet custom\"\n",
      "\n",
      "12.0   8   429.0      198.0      4952.      11.5   73  1\t\"mercury marquis brougham\"\n",
      "\n",
      "13.0   8   400.0      150.0      4464.      12.0   73  1\t\"chevrolet caprice classic\"\n",
      "\n",
      "13.0   8   351.0      158.0      4363.      13.0   73  1\t\"ford ltd\"\n",
      "\n",
      "14.0   8   318.0      150.0      4237.      14.5   73  1\t\"plymouth fury gran sedan\"\n",
      "\n",
      "13.0   8   440.0      215.0      4735.      11.0   73  1\t\"chrysler new yorker brougham\"\n",
      "\n",
      "12.0   8   455.0      225.0      4951.      11.0   73  1\t\"buick electra 225 custom\"\n",
      "\n",
      "13.0   8   360.0      175.0      3821.      11.0   73  1\t\"amc ambassador brougham\"\n",
      "\n",
      "18.0   6   225.0      105.0      3121.      16.5   73  1\t\"plymouth valiant\"\n",
      "\n",
      "16.0   6   250.0      100.0      3278.      18.0   73  1\t\"chevrolet nova custom\"\n",
      "\n",
      "18.0   6   232.0      100.0      2945.      16.0   73  1\t\"amc hornet\"\n",
      "\n",
      "18.0   6   250.0      88.00      3021.      16.5   73  1\t\"ford maverick\"\n",
      "\n",
      "23.0   6   198.0      95.00      2904.      16.0   73  1\t\"plymouth duster\"\n",
      "\n",
      "26.0   4   97.00      46.00      1950.      21.0   73  2\t\"volkswagen super beetle\"\n",
      "\n",
      "11.0   8   400.0      150.0      4997.      14.0   73  1\t\"chevrolet impala\"\n",
      "\n",
      "12.0   8   400.0      167.0      4906.      12.5   73  1\t\"ford country\"\n",
      "\n",
      "13.0   8   360.0      170.0      4654.      13.0   73  1\t\"plymouth custom suburb\"\n",
      "\n",
      "12.0   8   350.0      180.0      4499.      12.5   73  1\t\"oldsmobile vista cruiser\"\n",
      "\n",
      "18.0   6   232.0      100.0      2789.      15.0   73  1\t\"amc gremlin\"\n",
      "\n",
      "20.0   4   97.00      88.00      2279.      19.0   73  3\t\"toyota carina\"\n",
      "\n",
      "21.0   4   140.0      72.00      2401.      19.5   73  1\t\"chevrolet vega\"\n",
      "\n",
      "22.0   4   108.0      94.00      2379.      16.5   73  3\t\"datsun 610\"\n",
      "\n",
      "18.0   3   70.00      90.00      2124.      13.5   73  3\t\"maxda rx3\"\n",
      "\n",
      "19.0   4   122.0      85.00      2310.      18.5   73  1\t\"ford pinto\"\n",
      "\n",
      "21.0   6   155.0      107.0      2472.      14.0   73  1\t\"mercury capri v6\"\n",
      "\n",
      "26.0   4   98.00      90.00      2265.      15.5   73  2\t\"fiat 124 sport coupe\"\n",
      "\n",
      "15.0   8   350.0      145.0      4082.      13.0   73  1\t\"chevrolet monte carlo s\"\n",
      "\n",
      "16.0   8   400.0      230.0      4278.      9.50   73  1\t\"pontiac grand prix\"\n",
      "\n",
      "29.0   4   68.00      49.00      1867.      19.5   73  2\t\"fiat 128\"\n",
      "\n",
      "24.0   4   116.0      75.00      2158.      15.5   73  2\t\"opel manta\"\n",
      "\n",
      "20.0   4   114.0      91.00      2582.      14.0   73  2\t\"audi 100ls\"\n",
      "\n",
      "19.0   4   121.0      112.0      2868.      15.5   73  2\t\"volvo 144ea\"\n",
      "\n",
      "15.0   8   318.0      150.0      3399.      11.0   73  1\t\"dodge dart custom\"\n",
      "\n",
      "24.0   4   121.0      110.0      2660.      14.0   73  2\t\"saab 99le\"\n",
      "\n",
      "20.0   6   156.0      122.0      2807.      13.5   73  3\t\"toyota mark ii\"\n",
      "\n",
      "11.0   8   350.0      180.0      3664.      11.0   73  1\t\"oldsmobile omega\"\n",
      "\n",
      "20.0   6   198.0      95.00      3102.      16.5   74  1\t\"plymouth duster\"\n",
      "\n",
      "21.0   6   200.0      ?          2875.      17.0   74  1\t\"ford maverick\"\n",
      "\n",
      "19.0   6   232.0      100.0      2901.      16.0   74  1\t\"amc hornet\"\n",
      "\n",
      "15.0   6   250.0      100.0      3336.      17.0   74  1\t\"chevrolet nova\"\n",
      "\n",
      "31.0   4   79.00      67.00      1950.      19.0   74  3\t\"datsun b210\"\n",
      "\n",
      "26.0   4   122.0      80.00      2451.      16.5   74  1\t\"ford pinto\"\n",
      "\n",
      "32.0   4   71.00      65.00      1836.      21.0   74  3\t\"toyota corolla 1200\"\n",
      "\n",
      "25.0   4   140.0      75.00      2542.      17.0   74  1\t\"chevrolet vega\"\n",
      "\n",
      "16.0   6   250.0      100.0      3781.      17.0   74  1\t\"chevrolet chevelle malibu classic\"\n",
      "\n",
      "16.0   6   258.0      110.0      3632.      18.0   74  1\t\"amc matador\"\n",
      "\n",
      "18.0   6   225.0      105.0      3613.      16.5   74  1\t\"plymouth satellite sebring\"\n",
      "\n",
      "16.0   8   302.0      140.0      4141.      14.0   74  1\t\"ford gran torino\"\n",
      "\n",
      "13.0   8   350.0      150.0      4699.      14.5   74  1\t\"buick century luxus (sw)\"\n",
      "\n",
      "14.0   8   318.0      150.0      4457.      13.5   74  1\t\"dodge coronet custom (sw)\"\n",
      "\n",
      "14.0   8   302.0      140.0      4638.      16.0   74  1\t\"ford gran torino (sw)\"\n",
      "\n",
      "14.0   8   304.0      150.0      4257.      15.5   74  1\t\"amc matador (sw)\"\n",
      "\n",
      "29.0   4   98.00      83.00      2219.      16.5   74  2\t\"audi fox\"\n",
      "\n",
      "26.0   4   79.00      67.00      1963.      15.5   74  2\t\"volkswagen dasher\"\n",
      "\n",
      "26.0   4   97.00      78.00      2300.      14.5   74  2\t\"opel manta\"\n",
      "\n",
      "31.0   4   76.00      52.00      1649.      16.5   74  3\t\"toyota corona\"\n",
      "\n",
      "32.0   4   83.00      61.00      2003.      19.0   74  3\t\"datsun 710\"\n",
      "\n",
      "28.0   4   90.00      75.00      2125.      14.5   74  1\t\"dodge colt\"\n",
      "\n",
      "24.0   4   90.00      75.00      2108.      15.5   74  2\t\"fiat 128\"\n",
      "\n",
      "26.0   4   116.0      75.00      2246.      14.0   74  2\t\"fiat 124 tc\"\n",
      "\n",
      "24.0   4   120.0      97.00      2489.      15.0   74  3\t\"honda civic\"\n",
      "\n",
      "26.0   4   108.0      93.00      2391.      15.5   74  3\t\"subaru\"\n",
      "\n",
      "31.0   4   79.00      67.00      2000.      16.0   74  2\t\"fiat x1.9\"\n",
      "\n",
      "19.0   6   225.0      95.00      3264.      16.0   75  1\t\"plymouth valiant custom\"\n",
      "\n",
      "18.0   6   250.0      105.0      3459.      16.0   75  1\t\"chevrolet nova\"\n",
      "\n",
      "15.0   6   250.0      72.00      3432.      21.0   75  1\t\"mercury monarch\"\n",
      "\n",
      "15.0   6   250.0      72.00      3158.      19.5   75  1\t\"ford maverick\"\n",
      "\n",
      "16.0   8   400.0      170.0      4668.      11.5   75  1\t\"pontiac catalina\"\n",
      "\n",
      "15.0   8   350.0      145.0      4440.      14.0   75  1\t\"chevrolet bel air\"\n",
      "\n",
      "16.0   8   318.0      150.0      4498.      14.5   75  1\t\"plymouth grand fury\"\n",
      "\n",
      "14.0   8   351.0      148.0      4657.      13.5   75  1\t\"ford ltd\"\n",
      "\n",
      "17.0   6   231.0      110.0      3907.      21.0   75  1\t\"buick century\"\n",
      "\n",
      "16.0   6   250.0      105.0      3897.      18.5   75  1\t\"chevroelt chevelle malibu\"\n",
      "\n",
      "15.0   6   258.0      110.0      3730.      19.0   75  1\t\"amc matador\"\n",
      "\n",
      "18.0   6   225.0      95.00      3785.      19.0   75  1\t\"plymouth fury\"\n",
      "\n",
      "21.0   6   231.0      110.0      3039.      15.0   75  1\t\"buick skyhawk\"\n",
      "\n",
      "20.0   8   262.0      110.0      3221.      13.5   75  1\t\"chevrolet monza 2+2\"\n",
      "\n",
      "13.0   8   302.0      129.0      3169.      12.0   75  1\t\"ford mustang ii\"\n",
      "\n",
      "29.0   4   97.00      75.00      2171.      16.0   75  3\t\"toyota corolla\"\n",
      "\n",
      "23.0   4   140.0      83.00      2639.      17.0   75  1\t\"ford pinto\"\n",
      "\n",
      "20.0   6   232.0      100.0      2914.      16.0   75  1\t\"amc gremlin\"\n",
      "\n",
      "23.0   4   140.0      78.00      2592.      18.5   75  1\t\"pontiac astro\"\n",
      "\n",
      "24.0   4   134.0      96.00      2702.      13.5   75  3\t\"toyota corona\"\n",
      "\n",
      "25.0   4   90.00      71.00      2223.      16.5   75  2\t\"volkswagen dasher\"\n",
      "\n",
      "24.0   4   119.0      97.00      2545.      17.0   75  3\t\"datsun 710\"\n",
      "\n",
      "18.0   6   171.0      97.00      2984.      14.5   75  1\t\"ford pinto\"\n",
      "\n",
      "29.0   4   90.00      70.00      1937.      14.0   75  2\t\"volkswagen rabbit\"\n",
      "\n",
      "19.0   6   232.0      90.00      3211.      17.0   75  1\t\"amc pacer\"\n",
      "\n",
      "23.0   4   115.0      95.00      2694.      15.0   75  2\t\"audi 100ls\"\n",
      "\n",
      "23.0   4   120.0      88.00      2957.      17.0   75  2\t\"peugeot 504\"\n",
      "\n",
      "22.0   4   121.0      98.00      2945.      14.5   75  2\t\"volvo 244dl\"\n",
      "\n",
      "25.0   4   121.0      115.0      2671.      13.5   75  2\t\"saab 99le\"\n",
      "\n",
      "33.0   4   91.00      53.00      1795.      17.5   75  3\t\"honda civic cvcc\"\n",
      "\n",
      "28.0   4   107.0      86.00      2464.      15.5   76  2\t\"fiat 131\"\n",
      "\n",
      "25.0   4   116.0      81.00      2220.      16.9   76  2\t\"opel 1900\"\n",
      "\n",
      "25.0   4   140.0      92.00      2572.      14.9   76  1\t\"capri ii\"\n",
      "\n",
      "26.0   4   98.00      79.00      2255.      17.7   76  1\t\"dodge colt\"\n",
      "\n",
      "27.0   4   101.0      83.00      2202.      15.3   76  2\t\"renault 12tl\"\n",
      "\n",
      "17.5   8   305.0      140.0      4215.      13.0   76  1\t\"chevrolet chevelle malibu classic\"\n",
      "\n",
      "16.0   8   318.0      150.0      4190.      13.0   76  1\t\"dodge coronet brougham\"\n",
      "\n",
      "15.5   8   304.0      120.0      3962.      13.9   76  1\t\"amc matador\"\n",
      "\n",
      "14.5   8   351.0      152.0      4215.      12.8   76  1\t\"ford gran torino\"\n",
      "\n",
      "22.0   6   225.0      100.0      3233.      15.4   76  1\t\"plymouth valiant\"\n",
      "\n",
      "22.0   6   250.0      105.0      3353.      14.5   76  1\t\"chevrolet nova\"\n",
      "\n",
      "24.0   6   200.0      81.00      3012.      17.6   76  1\t\"ford maverick\"\n",
      "\n",
      "22.5   6   232.0      90.00      3085.      17.6   76  1\t\"amc hornet\"\n",
      "\n",
      "29.0   4   85.00      52.00      2035.      22.2   76  1\t\"chevrolet chevette\"\n",
      "\n",
      "24.5   4   98.00      60.00      2164.      22.1   76  1\t\"chevrolet woody\"\n",
      "\n",
      "29.0   4   90.00      70.00      1937.      14.2   76  2\t\"vw rabbit\"\n",
      "\n",
      "33.0   4   91.00      53.00      1795.      17.4   76  3\t\"honda civic\"\n",
      "\n",
      "20.0   6   225.0      100.0      3651.      17.7   76  1\t\"dodge aspen se\"\n",
      "\n",
      "18.0   6   250.0      78.00      3574.      21.0   76  1\t\"ford granada ghia\"\n",
      "\n",
      "18.5   6   250.0      110.0      3645.      16.2   76  1\t\"pontiac ventura sj\"\n",
      "\n",
      "17.5   6   258.0      95.00      3193.      17.8   76  1\t\"amc pacer d/l\"\n",
      "\n",
      "29.5   4   97.00      71.00      1825.      12.2   76  2\t\"volkswagen rabbit\"\n",
      "\n",
      "32.0   4   85.00      70.00      1990.      17.0   76  3\t\"datsun b-210\"\n",
      "\n",
      "28.0   4   97.00      75.00      2155.      16.4   76  3\t\"toyota corolla\"\n",
      "\n",
      "26.5   4   140.0      72.00      2565.      13.6   76  1\t\"ford pinto\"\n",
      "\n",
      "20.0   4   130.0      102.0      3150.      15.7   76  2\t\"volvo 245\"\n",
      "\n",
      "13.0   8   318.0      150.0      3940.      13.2   76  1\t\"plymouth volare premier v8\"\n",
      "\n",
      "19.0   4   120.0      88.00      3270.      21.9   76  2\t\"peugeot 504\"\n",
      "\n",
      "19.0   6   156.0      108.0      2930.      15.5   76  3\t\"toyota mark ii\"\n",
      "\n",
      "16.5   6   168.0      120.0      3820.      16.7   76  2\t\"mercedes-benz 280s\"\n",
      "\n",
      "16.5   8   350.0      180.0      4380.      12.1   76  1\t\"cadillac seville\"\n",
      "\n",
      "13.0   8   350.0      145.0      4055.      12.0   76  1\t\"chevy c10\"\n",
      "\n",
      "13.0   8   302.0      130.0      3870.      15.0   76  1\t\"ford f108\"\n",
      "\n",
      "13.0   8   318.0      150.0      3755.      14.0   76  1\t\"dodge d100\"\n",
      "\n",
      "31.5   4   98.00      68.00      2045.      18.5   77  3\t\"honda accord cvcc\"\n",
      "\n",
      "30.0   4   111.0      80.00      2155.      14.8   77  1\t\"buick opel isuzu deluxe\"\n",
      "\n",
      "36.0   4   79.00      58.00      1825.      18.6   77  2\t\"renault 5 gtl\"\n",
      "\n",
      "25.5   4   122.0      96.00      2300.      15.5   77  1\t\"plymouth arrow gs\"\n",
      "\n",
      "33.5   4   85.00      70.00      1945.      16.8   77  3\t\"datsun f-10 hatchback\"\n",
      "\n",
      "17.5   8   305.0      145.0      3880.      12.5   77  1\t\"chevrolet caprice classic\"\n",
      "\n",
      "17.0   8   260.0      110.0      4060.      19.0   77  1\t\"oldsmobile cutlass supreme\"\n",
      "\n",
      "15.5   8   318.0      145.0      4140.      13.7   77  1\t\"dodge monaco brougham\"\n",
      "\n",
      "15.0   8   302.0      130.0      4295.      14.9   77  1\t\"mercury cougar brougham\"\n",
      "\n",
      "17.5   6   250.0      110.0      3520.      16.4   77  1\t\"chevrolet concours\"\n",
      "\n",
      "20.5   6   231.0      105.0      3425.      16.9   77  1\t\"buick skylark\"\n",
      "\n",
      "19.0   6   225.0      100.0      3630.      17.7   77  1\t\"plymouth volare custom\"\n",
      "\n",
      "18.5   6   250.0      98.00      3525.      19.0   77  1\t\"ford granada\"\n",
      "\n",
      "16.0   8   400.0      180.0      4220.      11.1   77  1\t\"pontiac grand prix lj\"\n",
      "\n",
      "15.5   8   350.0      170.0      4165.      11.4   77  1\t\"chevrolet monte carlo landau\"\n",
      "\n",
      "15.5   8   400.0      190.0      4325.      12.2   77  1\t\"chrysler cordoba\"\n",
      "\n",
      "16.0   8   351.0      149.0      4335.      14.5   77  1\t\"ford thunderbird\"\n",
      "\n",
      "29.0   4   97.00      78.00      1940.      14.5   77  2\t\"volkswagen rabbit custom\"\n",
      "\n",
      "24.5   4   151.0      88.00      2740.      16.0   77  1\t\"pontiac sunbird coupe\"\n",
      "\n",
      "26.0   4   97.00      75.00      2265.      18.2   77  3\t\"toyota corolla liftback\"\n",
      "\n",
      "25.5   4   140.0      89.00      2755.      15.8   77  1\t\"ford mustang ii 2+2\"\n",
      "\n",
      "30.5   4   98.00      63.00      2051.      17.0   77  1\t\"chevrolet chevette\"\n",
      "\n",
      "33.5   4   98.00      83.00      2075.      15.9   77  1\t\"dodge colt m/m\"\n",
      "\n",
      "30.0   4   97.00      67.00      1985.      16.4   77  3\t\"subaru dl\"\n",
      "\n",
      "30.5   4   97.00      78.00      2190.      14.1   77  2\t\"volkswagen dasher\"\n",
      "\n",
      "22.0   6   146.0      97.00      2815.      14.5   77  3\t\"datsun 810\"\n",
      "\n",
      "21.5   4   121.0      110.0      2600.      12.8   77  2\t\"bmw 320i\"\n",
      "\n",
      "21.5   3   80.00      110.0      2720.      13.5   77  3\t\"mazda rx-4\"\n",
      "\n",
      "43.1   4   90.00      48.00      1985.      21.5   78  2\t\"volkswagen rabbit custom diesel\"\n",
      "\n",
      "36.1   4   98.00      66.00      1800.      14.4   78  1\t\"ford fiesta\"\n",
      "\n",
      "32.8   4   78.00      52.00      1985.      19.4   78  3\t\"mazda glc deluxe\"\n",
      "\n",
      "39.4   4   85.00      70.00      2070.      18.6   78  3\t\"datsun b210 gx\"\n",
      "\n",
      "36.1   4   91.00      60.00      1800.      16.4   78  3\t\"honda civic cvcc\"\n",
      "\n",
      "19.9   8   260.0      110.0      3365.      15.5   78  1\t\"oldsmobile cutlass salon brougham\"\n",
      "\n",
      "19.4   8   318.0      140.0      3735.      13.2   78  1\t\"dodge diplomat\"\n",
      "\n",
      "20.2   8   302.0      139.0      3570.      12.8   78  1\t\"mercury monarch ghia\"\n",
      "\n",
      "19.2   6   231.0      105.0      3535.      19.2   78  1\t\"pontiac phoenix lj\"\n",
      "\n",
      "20.5   6   200.0      95.00      3155.      18.2   78  1\t\"chevrolet malibu\"\n",
      "\n",
      "20.2   6   200.0      85.00      2965.      15.8   78  1\t\"ford fairmont (auto)\"\n",
      "\n",
      "25.1   4   140.0      88.00      2720.      15.4   78  1\t\"ford fairmont (man)\"\n",
      "\n",
      "20.5   6   225.0      100.0      3430.      17.2   78  1\t\"plymouth volare\"\n",
      "\n",
      "19.4   6   232.0      90.00      3210.      17.2   78  1\t\"amc concord\"\n",
      "\n",
      "20.6   6   231.0      105.0      3380.      15.8   78  1\t\"buick century special\"\n",
      "\n",
      "20.8   6   200.0      85.00      3070.      16.7   78  1\t\"mercury zephyr\"\n",
      "\n",
      "18.6   6   225.0      110.0      3620.      18.7   78  1\t\"dodge aspen\"\n",
      "\n",
      "18.1   6   258.0      120.0      3410.      15.1   78  1\t\"amc concord d/l\"\n",
      "\n",
      "19.2   8   305.0      145.0      3425.      13.2   78  1\t\"chevrolet monte carlo landau\"\n",
      "\n",
      "17.7   6   231.0      165.0      3445.      13.4   78  1\t\"buick regal sport coupe (turbo)\"\n",
      "\n",
      "18.1   8   302.0      139.0      3205.      11.2   78  1\t\"ford futura\"\n",
      "\n",
      "17.5   8   318.0      140.0      4080.      13.7   78  1\t\"dodge magnum xe\"\n",
      "\n",
      "30.0   4   98.00      68.00      2155.      16.5   78  1\t\"chevrolet chevette\"\n",
      "\n",
      "27.5   4   134.0      95.00      2560.      14.2   78  3\t\"toyota corona\"\n",
      "\n",
      "27.2   4   119.0      97.00      2300.      14.7   78  3\t\"datsun 510\"\n",
      "\n",
      "30.9   4   105.0      75.00      2230.      14.5   78  1\t\"dodge omni\"\n",
      "\n",
      "21.1   4   134.0      95.00      2515.      14.8   78  3\t\"toyota celica gt liftback\"\n",
      "\n",
      "23.2   4   156.0      105.0      2745.      16.7   78  1\t\"plymouth sapporo\"\n",
      "\n",
      "23.8   4   151.0      85.00      2855.      17.6   78  1\t\"oldsmobile starfire sx\"\n",
      "\n",
      "23.9   4   119.0      97.00      2405.      14.9   78  3\t\"datsun 200-sx\"\n",
      "\n",
      "20.3   5   131.0      103.0      2830.      15.9   78  2\t\"audi 5000\"\n",
      "\n",
      "17.0   6   163.0      125.0      3140.      13.6   78  2\t\"volvo 264gl\"\n",
      "\n",
      "21.6   4   121.0      115.0      2795.      15.7   78  2\t\"saab 99gle\"\n",
      "\n",
      "16.2   6   163.0      133.0      3410.      15.8   78  2\t\"peugeot 604sl\"\n",
      "\n",
      "31.5   4   89.00      71.00      1990.      14.9   78  2\t\"volkswagen scirocco\"\n",
      "\n",
      "29.5   4   98.00      68.00      2135.      16.6   78  3\t\"honda accord lx\"\n",
      "\n",
      "21.5   6   231.0      115.0      3245.      15.4   79  1\t\"pontiac lemans v6\"\n",
      "\n",
      "19.8   6   200.0      85.00      2990.      18.2   79  1\t\"mercury zephyr 6\"\n",
      "\n",
      "22.3   4   140.0      88.00      2890.      17.3   79  1\t\"ford fairmont 4\"\n",
      "\n",
      "20.2   6   232.0      90.00      3265.      18.2   79  1\t\"amc concord dl 6\"\n",
      "\n",
      "20.6   6   225.0      110.0      3360.      16.6   79  1\t\"dodge aspen 6\"\n",
      "\n",
      "17.0   8   305.0      130.0      3840.      15.4   79  1\t\"chevrolet caprice classic\"\n",
      "\n",
      "17.6   8   302.0      129.0      3725.      13.4   79  1\t\"ford ltd landau\"\n",
      "\n",
      "16.5   8   351.0      138.0      3955.      13.2   79  1\t\"mercury grand marquis\"\n",
      "\n",
      "18.2   8   318.0      135.0      3830.      15.2   79  1\t\"dodge st. regis\"\n",
      "\n",
      "16.9   8   350.0      155.0      4360.      14.9   79  1\t\"buick estate wagon (sw)\"\n",
      "\n",
      "15.5   8   351.0      142.0      4054.      14.3   79  1\t\"ford country squire (sw)\"\n",
      "\n",
      "19.2   8   267.0      125.0      3605.      15.0   79  1\t\"chevrolet malibu classic (sw)\"\n",
      "\n",
      "18.5   8   360.0      150.0      3940.      13.0   79  1\t\"chrysler lebaron town @ country (sw)\"\n",
      "\n",
      "31.9   4   89.00      71.00      1925.      14.0   79  2\t\"vw rabbit custom\"\n",
      "\n",
      "34.1   4   86.00      65.00      1975.      15.2   79  3\t\"maxda glc deluxe\"\n",
      "\n",
      "35.7   4   98.00      80.00      1915.      14.4   79  1\t\"dodge colt hatchback custom\"\n",
      "\n",
      "27.4   4   121.0      80.00      2670.      15.0   79  1\t\"amc spirit dl\"\n",
      "\n",
      "25.4   5   183.0      77.00      3530.      20.1   79  2\t\"mercedes benz 300d\"\n",
      "\n",
      "23.0   8   350.0      125.0      3900.      17.4   79  1\t\"cadillac eldorado\"\n",
      "\n",
      "27.2   4   141.0      71.00      3190.      24.8   79  2\t\"peugeot 504\"\n",
      "\n",
      "23.9   8   260.0      90.00      3420.      22.2   79  1\t\"oldsmobile cutlass salon brougham\"\n",
      "\n",
      "34.2   4   105.0      70.00      2200.      13.2   79  1\t\"plymouth horizon\"\n",
      "\n",
      "34.5   4   105.0      70.00      2150.      14.9   79  1\t\"plymouth horizon tc3\"\n",
      "\n",
      "31.8   4   85.00      65.00      2020.      19.2   79  3\t\"datsun 210\"\n",
      "\n",
      "37.3   4   91.00      69.00      2130.      14.7   79  2\t\"fiat strada custom\"\n",
      "\n",
      "28.4   4   151.0      90.00      2670.      16.0   79  1\t\"buick skylark limited\"\n",
      "\n",
      "28.8   6   173.0      115.0      2595.      11.3   79  1\t\"chevrolet citation\"\n",
      "\n",
      "26.8   6   173.0      115.0      2700.      12.9   79  1\t\"oldsmobile omega brougham\"\n",
      "\n",
      "33.5   4   151.0      90.00      2556.      13.2   79  1\t\"pontiac phoenix\"\n",
      "\n",
      "41.5   4   98.00      76.00      2144.      14.7   80  2\t\"vw rabbit\"\n",
      "\n",
      "38.1   4   89.00      60.00      1968.      18.8   80  3\t\"toyota corolla tercel\"\n",
      "\n",
      "32.1   4   98.00      70.00      2120.      15.5   80  1\t\"chevrolet chevette\"\n",
      "\n",
      "37.2   4   86.00      65.00      2019.      16.4   80  3\t\"datsun 310\"\n",
      "\n",
      "28.0   4   151.0      90.00      2678.      16.5   80  1\t\"chevrolet citation\"\n",
      "\n",
      "26.4   4   140.0      88.00      2870.      18.1   80  1\t\"ford fairmont\"\n",
      "\n",
      "24.3   4   151.0      90.00      3003.      20.1   80  1\t\"amc concord\"\n",
      "\n",
      "19.1   6   225.0      90.00      3381.      18.7   80  1\t\"dodge aspen\"\n",
      "\n",
      "34.3   4   97.00      78.00      2188.      15.8   80  2\t\"audi 4000\"\n",
      "\n",
      "29.8   4   134.0      90.00      2711.      15.5   80  3\t\"toyota corona liftback\"\n",
      "\n",
      "31.3   4   120.0      75.00      2542.      17.5   80  3\t\"mazda 626\"\n",
      "\n",
      "37.0   4   119.0      92.00      2434.      15.0   80  3\t\"datsun 510 hatchback\"\n",
      "\n",
      "32.2   4   108.0      75.00      2265.      15.2   80  3\t\"toyota corolla\"\n",
      "\n",
      "46.6   4   86.00      65.00      2110.      17.9   80  3\t\"mazda glc\"\n",
      "\n",
      "27.9   4   156.0      105.0      2800.      14.4   80  1\t\"dodge colt\"\n",
      "\n",
      "40.8   4   85.00      65.00      2110.      19.2   80  3\t\"datsun 210\"\n",
      "\n",
      "44.3   4   90.00      48.00      2085.      21.7   80  2\t\"vw rabbit c (diesel)\"\n",
      "\n",
      "43.4   4   90.00      48.00      2335.      23.7   80  2\t\"vw dasher (diesel)\"\n",
      "\n",
      "36.4   5   121.0      67.00      2950.      19.9   80  2\t\"audi 5000s (diesel)\"\n",
      "\n",
      "30.0   4   146.0      67.00      3250.      21.8   80  2\t\"mercedes-benz 240d\"\n",
      "\n",
      "44.6   4   91.00      67.00      1850.      13.8   80  3\t\"honda civic 1500 gl\"\n",
      "\n",
      "40.9   4   85.00      ?          1835.      17.3   80  2\t\"renault lecar deluxe\"\n",
      "\n",
      "33.8   4   97.00      67.00      2145.      18.0   80  3\t\"subaru dl\"\n",
      "\n",
      "29.8   4   89.00      62.00      1845.      15.3   80  2\t\"vokswagen rabbit\"\n",
      "\n",
      "32.7   6   168.0      132.0      2910.      11.4   80  3\t\"datsun 280-zx\"\n",
      "\n",
      "23.7   3   70.00      100.0      2420.      12.5   80  3\t\"mazda rx-7 gs\"\n",
      "\n",
      "35.0   4   122.0      88.00      2500.      15.1   80  2\t\"triumph tr7 coupe\"\n",
      "\n",
      "23.6   4   140.0      ?          2905.      14.3   80  1\t\"ford mustang cobra\"\n",
      "\n",
      "32.4   4   107.0      72.00      2290.      17.0   80  3\t\"honda accord\"\n",
      "\n",
      "27.2   4   135.0      84.00      2490.      15.7   81  1\t\"plymouth reliant\"\n",
      "\n",
      "26.6   4   151.0      84.00      2635.      16.4   81  1\t\"buick skylark\"\n",
      "\n",
      "25.8   4   156.0      92.00      2620.      14.4   81  1\t\"dodge aries wagon (sw)\"\n",
      "\n",
      "23.5   6   173.0      110.0      2725.      12.6   81  1\t\"chevrolet citation\"\n",
      "\n",
      "30.0   4   135.0      84.00      2385.      12.9   81  1\t\"plymouth reliant\"\n",
      "\n",
      "39.1   4   79.00      58.00      1755.      16.9   81  3\t\"toyota starlet\"\n",
      "\n",
      "39.0   4   86.00      64.00      1875.      16.4   81  1\t\"plymouth champ\"\n",
      "\n",
      "35.1   4   81.00      60.00      1760.      16.1   81  3\t\"honda civic 1300\"\n",
      "\n",
      "32.3   4   97.00      67.00      2065.      17.8   81  3\t\"subaru\"\n",
      "\n",
      "37.0   4   85.00      65.00      1975.      19.4   81  3\t\"datsun 210 mpg\"\n",
      "\n",
      "37.7   4   89.00      62.00      2050.      17.3   81  3\t\"toyota tercel\"\n",
      "\n",
      "34.1   4   91.00      68.00      1985.      16.0   81  3\t\"mazda glc 4\"\n",
      "\n",
      "34.7   4   105.0      63.00      2215.      14.9   81  1\t\"plymouth horizon 4\"\n",
      "\n",
      "34.4   4   98.00      65.00      2045.      16.2   81  1\t\"ford escort 4w\"\n",
      "\n",
      "29.9   4   98.00      65.00      2380.      20.7   81  1\t\"ford escort 2h\"\n",
      "\n",
      "33.0   4   105.0      74.00      2190.      14.2   81  2\t\"volkswagen jetta\"\n",
      "\n",
      "34.5   4   100.0      ?          2320.      15.8   81  2\t\"renault 18i\"\n",
      "\n",
      "33.7   4   107.0      75.00      2210.      14.4   81  3\t\"honda prelude\"\n",
      "\n",
      "32.4   4   108.0      75.00      2350.      16.8   81  3\t\"toyota corolla\"\n",
      "\n",
      "32.9   4   119.0      100.0      2615.      14.8   81  3\t\"datsun 200sx\"\n",
      "\n",
      "31.6   4   120.0      74.00      2635.      18.3   81  3\t\"mazda 626\"\n",
      "\n",
      "28.1   4   141.0      80.00      3230.      20.4   81  2\t\"peugeot 505s turbo diesel\"\n",
      "\n",
      "30.7   6   145.0      76.00      3160.      19.6   81  2\t\"volvo diesel\"\n",
      "\n",
      "25.4   6   168.0      116.0      2900.      12.6   81  3\t\"toyota cressida\"\n",
      "\n",
      "24.2   6   146.0      120.0      2930.      13.8   81  3\t\"datsun 810 maxima\"\n",
      "\n",
      "22.4   6   231.0      110.0      3415.      15.8   81  1\t\"buick century\"\n",
      "\n",
      "26.6   8   350.0      105.0      3725.      19.0   81  1\t\"oldsmobile cutlass ls\"\n",
      "\n",
      "20.2   6   200.0      88.00      3060.      17.1   81  1\t\"ford granada gl\"\n",
      "\n",
      "17.6   6   225.0      85.00      3465.      16.6   81  1\t\"chrysler lebaron salon\"\n",
      "\n",
      "28.0   4   112.0      88.00      2605.      19.6   82  1\t\"chevrolet cavalier\"\n",
      "\n",
      "27.0   4   112.0      88.00      2640.      18.6   82  1\t\"chevrolet cavalier wagon\"\n",
      "\n",
      "34.0   4   112.0      88.00      2395.      18.0   82  1\t\"chevrolet cavalier 2-door\"\n",
      "\n",
      "31.0   4   112.0      85.00      2575.      16.2   82  1\t\"pontiac j2000 se hatchback\"\n",
      "\n",
      "29.0   4   135.0      84.00      2525.      16.0   82  1\t\"dodge aries se\"\n",
      "\n",
      "27.0   4   151.0      90.00      2735.      18.0   82  1\t\"pontiac phoenix\"\n",
      "\n",
      "24.0   4   140.0      92.00      2865.      16.4   82  1\t\"ford fairmont futura\"\n",
      "\n",
      "23.0   4   151.0      ?          3035.      20.5   82  1\t\"amc concord dl\"\n",
      "\n",
      "36.0   4   105.0      74.00      1980.      15.3   82  2\t\"volkswagen rabbit l\"\n",
      "\n",
      "37.0   4   91.00      68.00      2025.      18.2   82  3\t\"mazda glc custom l\"\n",
      "\n",
      "31.0   4   91.00      68.00      1970.      17.6   82  3\t\"mazda glc custom\"\n",
      "\n",
      "38.0   4   105.0      63.00      2125.      14.7   82  1\t\"plymouth horizon miser\"\n",
      "\n",
      "36.0   4   98.00      70.00      2125.      17.3   82  1\t\"mercury lynx l\"\n",
      "\n",
      "36.0   4   120.0      88.00      2160.      14.5   82  3\t\"nissan stanza xe\"\n",
      "\n",
      "36.0   4   107.0      75.00      2205.      14.5   82  3\t\"honda accord\"\n",
      "\n",
      "34.0   4   108.0      70.00      2245       16.9   82  3\t\"toyota corolla\"\n",
      "\n",
      "38.0   4   91.00      67.00      1965.      15.0   82  3\t\"honda civic\"\n",
      "\n",
      "32.0   4   91.00      67.00      1965.      15.7   82  3\t\"honda civic (auto)\"\n",
      "\n",
      "38.0   4   91.00      67.00      1995.      16.2   82  3\t\"datsun 310 gx\"\n",
      "\n",
      "25.0   6   181.0      110.0      2945.      16.4   82  1\t\"buick century limited\"\n",
      "\n",
      "38.0   6   262.0      85.00      3015.      17.0   82  1\t\"oldsmobile cutlass ciera (diesel)\"\n",
      "\n",
      "26.0   4   156.0      92.00      2585.      14.5   82  1\t\"chrysler lebaron medallion\"\n",
      "\n",
      "22.0   6   232.0      112.0      2835       14.7   82  1\t\"ford granada l\"\n",
      "\n",
      "32.0   4   144.0      96.00      2665.      13.9   82  3\t\"toyota celica gt\"\n",
      "\n",
      "36.0   4   135.0      84.00      2370.      13.0   82  1\t\"dodge charger 2.2\"\n",
      "\n",
      "27.0   4   151.0      90.00      2950.      17.3   82  1\t\"chevrolet camaro\"\n",
      "\n",
      "27.0   4   140.0      86.00      2790.      15.6   82  1\t\"ford mustang gl\"\n",
      "\n",
      "44.0   4   97.00      52.00      2130.      24.6   82  2\t\"vw pickup\"\n",
      "\n",
      "32.0   4   135.0      84.00      2295.      11.6   82  1\t\"dodge rampage\"\n",
      "\n",
      "28.0   4   120.0      79.00      2625.      18.6   82  1\t\"ford ranger\"\n",
      "\n",
      "31.0   4   119.0      82.00      2720.      19.4   82  1\t\"chevy s-10\"\n",
      "\n"
     ]
    }
   ],
   "source": [
    "with open('../../DataSets/pybk018master/auto-mpg.data.txt', 'r', encoding='utf-8') as f:\n",
    "    for line in f:\n",
    "        print(line)\n"
   ]
  },
  {
   "cell_type": "markdown",
   "metadata": {},
   "source": [
    "### 模块\n"
   ]
  },
  {
   "cell_type": "markdown",
   "metadata": {},
   "source": [
    "#### 使用模块\n"
   ]
  },
  {
   "cell_type": "markdown",
   "metadata": {},
   "source": [
    "\n",
    "导入一个叫 fibo 的模块时，解释器先在当前目录中搜索名为 fibo.py 的文件。如果没有找到的话，接着会到 sys.path 变量中给出的目录列表中查找。sys.path 变量的初始值来自如下：\n",
    "\n",
    "+ 输入脚本的目录（当前目录）。\n",
    "\n",
    "+ 环境变量 PYTHONPATH 表示的目录列表中搜索 (这和 shell 变量 PATH 具有一样的语法，即一系列目录名的列表)。\n",
    "\n",
    "+ Python 默认安装路径中搜索。"
   ]
  },
  {
   "cell_type": "code",
   "execution_count": 15,
   "metadata": {
    "collapsed": false
   },
   "outputs": [],
   "source": [
    "# define fibo module in the file fibo.py\n",
    "\n",
    "import fibo"
   ]
  },
  {
   "cell_type": "code",
   "execution_count": 16,
   "metadata": {
    "collapsed": false
   },
   "outputs": [
    {
     "name": "stdout",
     "output_type": "stream",
     "text": [
      "Help on module fibo:\n",
      "\n",
      "NAME\n",
      "    fibo\n",
      "\n",
      "FILE\n",
      "    /Users/bater.makhabel/WorkSpace/MyStartups/AITrainingSchool/GitBase/Python/Fundamentals/fibo.py\n",
      "\n",
      "\n"
     ]
    }
   ],
   "source": [
    "help(fibo)"
   ]
  },
  {
   "cell_type": "code",
   "execution_count": 17,
   "metadata": {
    "collapsed": false
   },
   "outputs": [
    {
     "name": "stdout",
     "output_type": "stream",
     "text": [
      "1 1 2 3 5 8 13 21 34 55 89 144 233 377 610 987 \n"
     ]
    }
   ],
   "source": [
    "fib(1000)"
   ]
  },
  {
   "cell_type": "code",
   "execution_count": 18,
   "metadata": {
    "collapsed": false
   },
   "outputs": [
    {
     "data": {
      "text/plain": [
       "[1, 1, 2, 3, 5, 8, 13, 21, 34, 55, 89]"
      ]
     },
     "execution_count": 18,
     "metadata": {},
     "output_type": "execute_result"
    }
   ],
   "source": [
    "fib2(100)"
   ]
  },
  {
   "cell_type": "markdown",
   "metadata": {},
   "source": [
    "#### 标准模块\n"
   ]
  },
  {
   "cell_type": "code",
   "execution_count": null,
   "metadata": {
    "collapsed": true
   },
   "outputs": [],
   "source": []
  },
  {
   "cell_type": "markdown",
   "metadata": {},
   "source": [
    "#### dir() 函数\n",
    "\n",
    "+ 内置函数 dir() 用于按模块名搜索模块定义，它返回一个字符串类型的存储列表。\n",
    "+ 无参数调用时，dir() 函数返回当前定义的命名。\n",
    "+ 列出所有类型的名称：变量，模块，函数，等等。\n",
    "+ dir() 不会列出内置函数和变量名。如果你想列出这些内容，它们在标准模块 builtins 中定义。\n"
   ]
  },
  {
   "cell_type": "code",
   "execution_count": 21,
   "metadata": {
    "collapsed": false
   },
   "outputs": [
    {
     "data": {
      "text/plain": [
       "['__builtins__',\n",
       " '__cached__',\n",
       " '__doc__',\n",
       " '__file__',\n",
       " '__loader__',\n",
       " '__name__',\n",
       " '__package__',\n",
       " '__spec__']"
      ]
     },
     "execution_count": 21,
     "metadata": {},
     "output_type": "execute_result"
    }
   ],
   "source": [
    "dir(fibo)"
   ]
  },
  {
   "cell_type": "markdown",
   "metadata": {},
   "source": [
    "### 列表List\n"
   ]
  },
  {
   "cell_type": "code",
   "execution_count": null,
   "metadata": {
    "collapsed": true
   },
   "outputs": [],
   "source": []
  },
  {
   "cell_type": "markdown",
   "metadata": {},
   "source": [
    "### 元组Tuple\n"
   ]
  },
  {
   "cell_type": "code",
   "execution_count": 22,
   "metadata": {
    "collapsed": true
   },
   "outputs": [],
   "source": [
    "t = ()"
   ]
  },
  {
   "cell_type": "code",
   "execution_count": 23,
   "metadata": {
    "collapsed": false
   },
   "outputs": [
    {
     "data": {
      "text/plain": [
       "()"
      ]
     },
     "execution_count": 23,
     "metadata": {},
     "output_type": "execute_result"
    }
   ],
   "source": [
    "t"
   ]
  },
  {
   "cell_type": "code",
   "execution_count": 24,
   "metadata": {
    "collapsed": true
   },
   "outputs": [],
   "source": [
    "t1 = (1,2,3,4,5)"
   ]
  },
  {
   "cell_type": "code",
   "execution_count": 25,
   "metadata": {
    "collapsed": false
   },
   "outputs": [
    {
     "data": {
      "text/plain": [
       "(1, 2, 3, 4, 5)"
      ]
     },
     "execution_count": 25,
     "metadata": {},
     "output_type": "execute_result"
    }
   ],
   "source": [
    "t1"
   ]
  },
  {
   "cell_type": "code",
   "execution_count": 30,
   "metadata": {
    "collapsed": false
   },
   "outputs": [],
   "source": [
    "t2 = (1,2,3,4,5,[6,7,8,9,10])"
   ]
  },
  {
   "cell_type": "code",
   "execution_count": 31,
   "metadata": {
    "collapsed": false
   },
   "outputs": [
    {
     "data": {
      "text/plain": [
       "(1, 2, 3, 4, 5, [6, 7, 8, 9, 10])"
      ]
     },
     "execution_count": 31,
     "metadata": {},
     "output_type": "execute_result"
    }
   ],
   "source": [
    "t2"
   ]
  },
  {
   "cell_type": "code",
   "execution_count": 32,
   "metadata": {
    "collapsed": false
   },
   "outputs": [],
   "source": [
    "t2[5][1] = 0"
   ]
  },
  {
   "cell_type": "code",
   "execution_count": 33,
   "metadata": {
    "collapsed": false
   },
   "outputs": [
    {
     "data": {
      "text/plain": [
       "(1, 2, 3, 4, 5, [6, 0, 8, 9, 10])"
      ]
     },
     "execution_count": 33,
     "metadata": {},
     "output_type": "execute_result"
    }
   ],
   "source": [
    "t2"
   ]
  },
  {
   "cell_type": "code",
   "execution_count": 34,
   "metadata": {
    "collapsed": true
   },
   "outputs": [],
   "source": [
    "t3 = t1 + t2"
   ]
  },
  {
   "cell_type": "code",
   "execution_count": 35,
   "metadata": {
    "collapsed": false
   },
   "outputs": [
    {
     "data": {
      "text/plain": [
       "(1, 2, 3, 4, 5, 1, 2, 3, 4, 5, [6, 0, 8, 9, 10])"
      ]
     },
     "execution_count": 35,
     "metadata": {},
     "output_type": "execute_result"
    }
   ],
   "source": [
    "t3"
   ]
  },
  {
   "cell_type": "code",
   "execution_count": 36,
   "metadata": {
    "collapsed": true
   },
   "outputs": [],
   "source": [
    "t4 = t1[1:]"
   ]
  },
  {
   "cell_type": "code",
   "execution_count": 37,
   "metadata": {
    "collapsed": false
   },
   "outputs": [
    {
     "data": {
      "text/plain": [
       "(2, 3, 4, 5)"
      ]
     },
     "execution_count": 37,
     "metadata": {},
     "output_type": "execute_result"
    }
   ],
   "source": [
    "t4\n"
   ]
  },
  {
   "cell_type": "code",
   "execution_count": 38,
   "metadata": {
    "collapsed": true
   },
   "outputs": [],
   "source": [
    "del t4"
   ]
  },
  {
   "cell_type": "code",
   "execution_count": 39,
   "metadata": {
    "collapsed": false
   },
   "outputs": [
    {
     "ename": "NameError",
     "evalue": "name 't4' is not defined",
     "output_type": "error",
     "traceback": [
      "\u001b[0;31m---------------------------------------------------------------------------\u001b[0m",
      "\u001b[0;31mNameError\u001b[0m                                 Traceback (most recent call last)",
      "\u001b[0;32m<ipython-input-39-07fe6510e028>\u001b[0m in \u001b[0;36m<module>\u001b[0;34m()\u001b[0m\n\u001b[0;32m----> 1\u001b[0;31m \u001b[0mt4\u001b[0m\u001b[0;34m\u001b[0m\u001b[0m\n\u001b[0m",
      "\u001b[0;31mNameError\u001b[0m: name 't4' is not defined"
     ]
    }
   ],
   "source": [
    "t4"
   ]
  },
  {
   "cell_type": "code",
   "execution_count": 40,
   "metadata": {
    "collapsed": false
   },
   "outputs": [
    {
     "data": {
      "text/plain": [
       "(5, 6, 11)"
      ]
     },
     "execution_count": 40,
     "metadata": {},
     "output_type": "execute_result"
    }
   ],
   "source": [
    "len(t1),len(t2),len(t3)"
   ]
  },
  {
   "cell_type": "code",
   "execution_count": 41,
   "metadata": {
    "collapsed": false
   },
   "outputs": [
    {
     "data": {
      "text/plain": [
       "True"
      ]
     },
     "execution_count": 41,
     "metadata": {},
     "output_type": "execute_result"
    }
   ],
   "source": [
    "3 in t1"
   ]
  },
  {
   "cell_type": "markdown",
   "metadata": {},
   "source": [
    "### 字典\n"
   ]
  },
  {
   "cell_type": "code",
   "execution_count": 44,
   "metadata": {
    "collapsed": false
   },
   "outputs": [],
   "source": [
    "d1={\"da\",\"za\",\"wa\"}"
   ]
  },
  {
   "cell_type": "code",
   "execution_count": 45,
   "metadata": {
    "collapsed": false
   },
   "outputs": [
    {
     "data": {
      "text/plain": [
       "{'da', 'wa', 'za'}"
      ]
     },
     "execution_count": 45,
     "metadata": {},
     "output_type": "execute_result"
    }
   ],
   "source": [
    "d1"
   ]
  },
  {
   "cell_type": "code",
   "execution_count": 46,
   "metadata": {
    "collapsed": true
   },
   "outputs": [],
   "source": [
    "curriculum_ds={'ds00100001':'Python编程实战课程','ds00200001':'R编程实战课程','ds00300001':'C编程实战课程'}"
   ]
  },
  {
   "cell_type": "code",
   "execution_count": 47,
   "metadata": {
    "collapsed": false
   },
   "outputs": [
    {
     "data": {
      "text/plain": [
       "{'ds00100001': 'Python编程实战课程',\n",
       " 'ds00200001': 'R编程实战课程',\n",
       " 'ds00300001': 'C编程实战课程'}"
      ]
     },
     "execution_count": 47,
     "metadata": {},
     "output_type": "execute_result"
    }
   ],
   "source": [
    "curriculum_ds"
   ]
  },
  {
   "cell_type": "code",
   "execution_count": 48,
   "metadata": {
    "collapsed": true
   },
   "outputs": [],
   "source": [
    "curriculum_ds['ds00400001']='C++编程实战课程'"
   ]
  },
  {
   "cell_type": "code",
   "execution_count": 49,
   "metadata": {
    "collapsed": false
   },
   "outputs": [
    {
     "data": {
      "text/plain": [
       "{'ds00100001': 'Python编程实战课程',\n",
       " 'ds00200001': 'R编程实战课程',\n",
       " 'ds00300001': 'C编程实战课程',\n",
       " 'ds00400001': 'C++编程实战课程'}"
      ]
     },
     "execution_count": 49,
     "metadata": {},
     "output_type": "execute_result"
    }
   ],
   "source": [
    "curriculum_ds"
   ]
  },
  {
   "cell_type": "markdown",
   "metadata": {},
   "source": [
    "#### 创建字典\n"
   ]
  },
  {
   "cell_type": "code",
   "execution_count": 50,
   "metadata": {
    "collapsed": true
   },
   "outputs": [],
   "source": [
    "info = {}"
   ]
  },
  {
   "cell_type": "code",
   "execution_count": 51,
   "metadata": {
    "collapsed": true
   },
   "outputs": [],
   "source": [
    "info = dict()"
   ]
  },
  {
   "cell_type": "markdown",
   "metadata": {},
   "source": [
    "#### 初始化字典\n"
   ]
  },
  {
   "cell_type": "code",
   "execution_count": 52,
   "metadata": {
    "collapsed": true
   },
   "outputs": [],
   "source": [
    "info = {\"name\" : 'cold'}"
   ]
  },
  {
   "cell_type": "code",
   "execution_count": 53,
   "metadata": {
    "collapsed": true
   },
   "outputs": [],
   "source": [
    "info = dict(name = 'cold') "
   ]
  },
  {
   "cell_type": "code",
   "execution_count": 54,
   "metadata": {
    "collapsed": true
   },
   "outputs": [],
   "source": [
    "key = 'name'"
   ]
  },
  {
   "cell_type": "code",
   "execution_count": 55,
   "metadata": {
    "collapsed": true
   },
   "outputs": [],
   "source": [
    "info = { key :'cold'}"
   ]
  },
  {
   "cell_type": "code",
   "execution_count": 56,
   "metadata": {
    "collapsed": true
   },
   "outputs": [],
   "source": [
    "info = dict(key = 'cold')"
   ]
  },
  {
   "cell_type": "code",
   "execution_count": 57,
   "metadata": {
    "collapsed": true
   },
   "outputs": [],
   "source": [
    "info = {}.fromkeys(['name', 'blog'])"
   ]
  },
  {
   "cell_type": "code",
   "execution_count": 58,
   "metadata": {
    "collapsed": false
   },
   "outputs": [
    {
     "data": {
      "text/plain": [
       "{'blog': None, 'name': None}"
      ]
     },
     "execution_count": 58,
     "metadata": {},
     "output_type": "execute_result"
    }
   ],
   "source": [
    "info"
   ]
  },
  {
   "cell_type": "code",
   "execution_count": 59,
   "metadata": {
    "collapsed": true
   },
   "outputs": [],
   "source": [
    "info = dict().fromkeys(['name', 'blog'])"
   ]
  },
  {
   "cell_type": "code",
   "execution_count": 60,
   "metadata": {
    "collapsed": false
   },
   "outputs": [
    {
     "data": {
      "text/plain": [
       "{'blog': None, 'name': None}"
      ]
     },
     "execution_count": 60,
     "metadata": {},
     "output_type": "execute_result"
    }
   ],
   "source": [
    "info"
   ]
  },
  {
   "cell_type": "code",
   "execution_count": 61,
   "metadata": {
    "collapsed": true
   },
   "outputs": [],
   "source": [
    "info = dict().fromkeys(['name', 'blog'], 'linuxzen.com')"
   ]
  },
  {
   "cell_type": "code",
   "execution_count": 62,
   "metadata": {
    "collapsed": false
   },
   "outputs": [
    {
     "data": {
      "text/plain": [
       "{'blog': 'linuxzen.com', 'name': 'linuxzen.com'}"
      ]
     },
     "execution_count": 62,
     "metadata": {},
     "output_type": "execute_result"
    }
   ],
   "source": [
    "info"
   ]
  },
  {
   "cell_type": "markdown",
   "metadata": {},
   "source": [
    "#### 获取键值\n"
   ]
  },
  {
   "cell_type": "code",
   "execution_count": 63,
   "metadata": {
    "collapsed": true
   },
   "outputs": [],
   "source": [
    "info = {'name':'cold', 'blog':'linuxzen.com'}"
   ]
  },
  {
   "cell_type": "code",
   "execution_count": 64,
   "metadata": {
    "collapsed": false
   },
   "outputs": [
    {
     "data": {
      "text/plain": [
       "'cold'"
      ]
     },
     "execution_count": 64,
     "metadata": {},
     "output_type": "execute_result"
    }
   ],
   "source": [
    "info['name']"
   ]
  },
  {
   "cell_type": "code",
   "execution_count": 65,
   "metadata": {
    "collapsed": true
   },
   "outputs": [],
   "source": [
    "info = dict(name= 'cold', blog='www.linuxzen.com')"
   ]
  },
  {
   "cell_type": "code",
   "execution_count": 66,
   "metadata": {
    "collapsed": false
   },
   "outputs": [
    {
     "data": {
      "text/plain": [
       "'cold'"
      ]
     },
     "execution_count": 66,
     "metadata": {},
     "output_type": "execute_result"
    }
   ],
   "source": [
    "info.get('name')"
   ]
  },
  {
   "cell_type": "code",
   "execution_count": 68,
   "metadata": {
    "collapsed": true
   },
   "outputs": [],
   "source": [
    "info.get('blogname')\n"
   ]
  },
  {
   "cell_type": "code",
   "execution_count": 69,
   "metadata": {
    "collapsed": false
   },
   "outputs": [
    {
     "data": {
      "text/plain": [
       "'linuxzen'"
      ]
     },
     "execution_count": 69,
     "metadata": {},
     "output_type": "execute_result"
    }
   ],
   "source": [
    "info.get('blogname', 'linuxzen')"
   ]
  },
  {
   "cell_type": "markdown",
   "metadata": {},
   "source": [
    "#### 更新/添加\n"
   ]
  },
  {
   "cell_type": "code",
   "execution_count": 70,
   "metadata": {
    "collapsed": true
   },
   "outputs": [],
   "source": [
    "info = dict()"
   ]
  },
  {
   "cell_type": "code",
   "execution_count": 71,
   "metadata": {
    "collapsed": true
   },
   "outputs": [],
   "source": [
    "info['name'] = 'cold'"
   ]
  },
  {
   "cell_type": "code",
   "execution_count": 72,
   "metadata": {
    "collapsed": true
   },
   "outputs": [],
   "source": [
    "info['blog'] = 'linuxzen.com'"
   ]
  },
  {
   "cell_type": "code",
   "execution_count": 73,
   "metadata": {
    "collapsed": false
   },
   "outputs": [
    {
     "data": {
      "text/plain": [
       "{'blog': 'linuxzen.com', 'name': 'cold'}"
      ]
     },
     "execution_count": 73,
     "metadata": {},
     "output_type": "execute_result"
    }
   ],
   "source": [
    "info"
   ]
  },
  {
   "cell_type": "code",
   "execution_count": 74,
   "metadata": {
    "collapsed": true
   },
   "outputs": [],
   "source": [
    "info = dict(name='cold', blog='linuxzen.com')"
   ]
  },
  {
   "cell_type": "code",
   "execution_count": 75,
   "metadata": {
    "collapsed": false
   },
   "outputs": [
    {
     "data": {
      "text/plain": [
       "{'blog': 'linuxzen.com', 'name': 'cold'}"
      ]
     },
     "execution_count": 75,
     "metadata": {},
     "output_type": "execute_result"
    }
   ],
   "source": [
    "info"
   ]
  },
  {
   "cell_type": "code",
   "execution_count": 76,
   "metadata": {
    "collapsed": true
   },
   "outputs": [],
   "source": [
    "info.update({'name':'cold night', 'blogname':'linuxzen'})"
   ]
  },
  {
   "cell_type": "code",
   "execution_count": 77,
   "metadata": {
    "collapsed": false
   },
   "outputs": [
    {
     "data": {
      "text/plain": [
       "{'blog': 'linuxzen.com', 'blogname': 'linuxzen', 'name': 'cold night'}"
      ]
     },
     "execution_count": 77,
     "metadata": {},
     "output_type": "execute_result"
    }
   ],
   "source": [
    "info"
   ]
  },
  {
   "cell_type": "code",
   "execution_count": 78,
   "metadata": {
    "collapsed": true
   },
   "outputs": [],
   "source": [
    "info.update(name='cold', blog='www.linuxzen.com') "
   ]
  },
  {
   "cell_type": "code",
   "execution_count": 79,
   "metadata": {
    "collapsed": false
   },
   "outputs": [
    {
     "data": {
      "text/plain": [
       "{'blog': 'www.linuxzen.com', 'blogname': 'linuxzen', 'name': 'cold'}"
      ]
     },
     "execution_count": 79,
     "metadata": {},
     "output_type": "execute_result"
    }
   ],
   "source": [
    "info"
   ]
  },
  {
   "cell_type": "markdown",
   "metadata": {},
   "source": [
    "#### 删除\n"
   ]
  },
  {
   "cell_type": "code",
   "execution_count": 80,
   "metadata": {
    "collapsed": true
   },
   "outputs": [],
   "source": [
    "info = dict(name='cold', blog='linuxzen.com')"
   ]
  },
  {
   "cell_type": "code",
   "execution_count": 81,
   "metadata": {
    "collapsed": false
   },
   "outputs": [
    {
     "data": {
      "text/plain": [
       "{'blog': 'linuxzen.com', 'name': 'cold'}"
      ]
     },
     "execution_count": 81,
     "metadata": {},
     "output_type": "execute_result"
    }
   ],
   "source": [
    "info"
   ]
  },
  {
   "cell_type": "code",
   "execution_count": 82,
   "metadata": {
    "collapsed": true
   },
   "outputs": [],
   "source": [
    "del info['name']"
   ]
  },
  {
   "cell_type": "code",
   "execution_count": 86,
   "metadata": {
    "collapsed": false
   },
   "outputs": [
    {
     "data": {
      "text/plain": [
       "'linuxzen.com'"
      ]
     },
     "execution_count": 86,
     "metadata": {},
     "output_type": "execute_result"
    }
   ],
   "source": [
    "info.pop('blog')"
   ]
  },
  {
   "cell_type": "markdown",
   "metadata": {},
   "source": [
    "#### 获取所有key\n"
   ]
  },
  {
   "cell_type": "code",
   "execution_count": 87,
   "metadata": {
    "collapsed": true
   },
   "outputs": [],
   "source": [
    "info = dict(name='cold', blog='linuxzen.com')"
   ]
  },
  {
   "cell_type": "code",
   "execution_count": 88,
   "metadata": {
    "collapsed": false
   },
   "outputs": [
    {
     "data": {
      "text/plain": [
       "{'blog': 'linuxzen.com', 'name': 'cold'}"
      ]
     },
     "execution_count": 88,
     "metadata": {},
     "output_type": "execute_result"
    }
   ],
   "source": [
    "info"
   ]
  },
  {
   "cell_type": "code",
   "execution_count": 89,
   "metadata": {
    "collapsed": false
   },
   "outputs": [
    {
     "data": {
      "text/plain": [
       "dict_keys(['name', 'blog'])"
      ]
     },
     "execution_count": 89,
     "metadata": {},
     "output_type": "execute_result"
    }
   ],
   "source": [
    "info.keys()"
   ]
  },
  {
   "cell_type": "code",
   "execution_count": 91,
   "metadata": {
    "collapsed": false
   },
   "outputs": [
    {
     "name": "stdout",
     "output_type": "stream",
     "text": [
      "name : cold\n",
      "blog : linuxzen.com\n"
     ]
    }
   ],
   "source": [
    "for key, value in info.items():\n",
    "    print (key, ':',  value)"
   ]
  },
  {
   "cell_type": "markdown",
   "metadata": {},
   "source": [
    "### 迭代器（iterator）\n"
   ]
  },
  {
   "cell_type": "code",
   "execution_count": 93,
   "metadata": {
    "collapsed": false
   },
   "outputs": [
    {
     "name": "stdout",
     "output_type": "stream",
     "text": [
      "iterable:1\n",
      "iterable:2\n",
      "iterable:3\n"
     ]
    }
   ],
   "source": [
    "class Iterable_:  \n",
    "   def __iter__(self):  \n",
    "       return iter([1, 2, 3])   \n",
    "it = iter((Iterable_()))  \n",
    "for i in it:   \n",
    "    print (\"iterable:\" + str(i))"
   ]
  },
  {
   "cell_type": "code",
   "execution_count": 96,
   "metadata": {
    "collapsed": false
   },
   "outputs": [
    {
     "name": "stdout",
     "output_type": "stream",
     "text": [
      "second iterator:5\n",
      "second iterator:6\n",
      "second iterator:7\n"
     ]
    }
   ],
   "source": [
    "class Iterator_:  \n",
    "   def __init__(self, s, e):   \n",
    "       self.current = s   \n",
    "       self.end = e   \n",
    "   def __iter__(self):  \n",
    "       return self  \n",
    "   def __next__(self):  \n",
    "       if self.current < self.end:  \n",
    "           self.index = self.current  \n",
    "           self.current += 1  \n",
    "           return self.index  \n",
    "       else:  \n",
    "           raise StopIteration  \n",
    "\n",
    "#print again  \n",
    "it = Iterator_(5, 8)  \n",
    "for i in it:   \n",
    "    print (\"second iterator:\" + str(i) )"
   ]
  },
  {
   "cell_type": "markdown",
   "metadata": {},
   "source": [
    "### 生成器(generator)\n"
   ]
  },
  {
   "cell_type": "code",
   "execution_count": 98,
   "metadata": {
    "collapsed": false
   },
   "outputs": [
    {
     "name": "stdout",
     "output_type": "stream",
     "text": [
      "0\n",
      "1\n",
      "2\n",
      "generator:1\n",
      "generator:2\n",
      "generator:3\n"
     ]
    }
   ],
   "source": [
    "\n",
    "#first way   \n",
    "my_generator = (x for x in range(3))  \n",
    "for i in my_generator:  \n",
    "    print (i)\n",
    "#second way  \n",
    "def Generator_(l):  \n",
    "   n = 0   \n",
    "   size = len(l)  \n",
    "   while n < size:  \n",
    "       yield l[n]     \n",
    "       n += 1  \n",
    "  \n",
    "ge = Generator_([1, 2, 3])   \n",
    "for g in ge:   \n",
    "    print (\"generator:\" + str(g))"
   ]
  },
  {
   "cell_type": "markdown",
   "metadata": {},
   "source": [
    "### 变量作用域\n"
   ]
  },
  {
   "cell_type": "code",
   "execution_count": 101,
   "metadata": {
    "collapsed": true
   },
   "outputs": [],
   "source": [
    "x = int(2.9)  # 内建作用域\n",
    " \n",
    "g_count = 0  # 全局作用域\n",
    "def outer():\n",
    "    o_count = 1  # 闭包函数外的函数中\n",
    "    def inner():\n",
    "        i_count = 2  # 局部作用域"
   ]
  },
  {
   "cell_type": "code",
   "execution_count": 103,
   "metadata": {
    "collapsed": false
   },
   "outputs": [
    {
     "name": "stdout",
     "output_type": "stream",
     "text": [
      "函数内是局部变量 :  30\n",
      "函数外是全局变量 :  0\n"
     ]
    }
   ],
   "source": [
    "total = 0; # 全局变量\n",
    "\n",
    "def sum( arg1, arg2 ):\n",
    "    #返回2个参数的和.\"\n",
    "    total = arg1 + arg2; # 局部变量.\n",
    "    print (\"函数内是局部变量 : \", total)\n",
    "    return total;\n",
    "\n",
    "#调用sum函数\n",
    "sum( 10, 20 );\n",
    "print (\"函数外是全局变量 : \", total)"
   ]
  },
  {
   "cell_type": "code",
   "execution_count": 104,
   "metadata": {
    "collapsed": false
   },
   "outputs": [
    {
     "name": "stdout",
     "output_type": "stream",
     "text": [
      "1\n",
      "123\n"
     ]
    }
   ],
   "source": [
    "# 当内部作用域想修改外部作用域的变量时，就要用到global和nonlocal关键字\n",
    "num = 1\n",
    "def fun1():\n",
    "    global num  # 需要使用 global 关键字声明\n",
    "    print(num) \n",
    "    num = 123\n",
    "    print(num)\n",
    "fun1()\n"
   ]
  },
  {
   "cell_type": "code",
   "execution_count": 106,
   "metadata": {
    "collapsed": false
   },
   "outputs": [
    {
     "name": "stdout",
     "output_type": "stream",
     "text": [
      "100\n",
      "100\n"
     ]
    }
   ],
   "source": [
    "# 如果要修改嵌套作用域（enclosing 作用域，外层非全局作用域）中的变量则需要 nonlocal 关键字\n",
    "def outer():\n",
    "    num = 10\n",
    "    def inner():\n",
    "        nonlocal num   # nonlocal关键字声明\n",
    "        num = 100\n",
    "        print(num)\n",
    "    inner()\n",
    "    print(num)\n",
    "outer()"
   ]
  },
  {
   "cell_type": "markdown",
   "metadata": {},
   "source": [
    "### 日期和时间\n"
   ]
  },
  {
   "cell_type": "code",
   "execution_count": 108,
   "metadata": {
    "collapsed": false
   },
   "outputs": [
    {
     "name": "stdout",
     "output_type": "stream",
     "text": [
      "当前时间戳为: 1522552783.881512\n"
     ]
    }
   ],
   "source": [
    "import time;  # 引入time模块\n",
    "\n",
    "ticks = time.time()\n",
    "print(\"当前时间戳为:\", ticks)"
   ]
  },
  {
   "cell_type": "markdown",
   "metadata": {},
   "source": [
    "#### 获取当前时间\n"
   ]
  },
  {
   "cell_type": "code",
   "execution_count": 109,
   "metadata": {
    "collapsed": false
   },
   "outputs": [
    {
     "name": "stdout",
     "output_type": "stream",
     "text": [
      "本地时间为 : time.struct_time(tm_year=2018, tm_mon=4, tm_mday=1, tm_hour=11, tm_min=20, tm_sec=24, tm_wday=6, tm_yday=91, tm_isdst=0)\n"
     ]
    }
   ],
   "source": [
    "localtime = time.localtime(time.time())\n",
    "print (\"本地时间为 :\", localtime)"
   ]
  },
  {
   "cell_type": "markdown",
   "metadata": {},
   "source": [
    "#### 获取格式化的时间\n"
   ]
  },
  {
   "cell_type": "code",
   "execution_count": 110,
   "metadata": {
    "collapsed": true
   },
   "outputs": [],
   "source": [
    "ocaltime = time.asctime( time.localtime(time.time()) )\n"
   ]
  },
  {
   "cell_type": "markdown",
   "metadata": {},
   "source": [
    "#### 格式化日期\n"
   ]
  },
  {
   "cell_type": "code",
   "execution_count": 111,
   "metadata": {
    "collapsed": false
   },
   "outputs": [
    {
     "name": "stdout",
     "output_type": "stream",
     "text": [
      "2018-04-01 11:21:42\n"
     ]
    }
   ],
   "source": [
    "print( time.strftime(\"%Y-%m-%d %H:%M:%S\", time.localtime()) )\n"
   ]
  },
  {
   "cell_type": "code",
   "execution_count": 112,
   "metadata": {
    "collapsed": false
   },
   "outputs": [
    {
     "name": "stdout",
     "output_type": "stream",
     "text": [
      "Sun Apr 01 11:21:52 2018\n"
     ]
    }
   ],
   "source": [
    "print( time.strftime(\"%a %b %d %H:%M:%S %Y\", time.localtime()) )"
   ]
  },
  {
   "cell_type": "code",
   "execution_count": 114,
   "metadata": {
    "collapsed": false
   },
   "outputs": [
    {
     "name": "stdout",
     "output_type": "stream",
     "text": [
      "1522552942.0\n"
     ]
    }
   ],
   "source": [
    "a = \"Sun Apr 01 11:22:22 2018\"\n",
    "print (time.mktime(time.strptime(a,\"%a %b %d %H:%M:%S %Y\")))"
   ]
  },
  {
   "cell_type": "markdown",
   "metadata": {},
   "source": [
    "#### python中时间日期格式化符号：\n",
    "\n",
    "+ %y 两位数的年份表示（00-99）\n",
    "+ %Y 四位数的年份表示（000-9999）\n",
    "+ %m 月份（01-12）\n",
    "+ %d 月内中的一天（0-31）\n",
    "+ %H 24小时制小时数（0-23）\n",
    "+ %I 12小时制小时数（01-12）\n",
    "+ %M 分钟数（00=59）\n",
    "+ %S 秒（00-59）\n",
    "+ %a 本地简化星期名称\n",
    "+ %A 本地完整星期名称\n",
    "+ %b 本地简化的月份名称\n",
    "+ %B 本地完整的月份名称\n",
    "+ %c 本地相应的日期表示和时间表示\n",
    "+ %j 年内的一天（001-366）\n",
    "+ %p 本地A.M.或P.M.的等价符\n",
    "+ %U 一年中的星期数（00-53）星期天为星期的开始\n",
    "+ %w 星期（0-6），星期天为星期的开始\n",
    "+ %W 一年中的星期数（00-53）星期一为星期的开始\n",
    "+ %x 本地相应的日期表示\n",
    "+ %X 本地相应的时间表示\n",
    "+ %Z 当前时区的名称\n",
    "+ %% %号本身"
   ]
  },
  {
   "cell_type": "markdown",
   "metadata": {},
   "source": [
    "#### 获取某月日历\n"
   ]
  },
  {
   "cell_type": "code",
   "execution_count": 117,
   "metadata": {
    "collapsed": false
   },
   "outputs": [
    {
     "name": "stdout",
     "output_type": "stream",
     "text": [
      "以下输出2018年4月份的日历:\n",
      "     April 2018\n",
      "Mo Tu We Th Fr Sa Su\n",
      "                   1\n",
      " 2  3  4  5  6  7  8\n",
      " 9 10 11 12 13 14 15\n",
      "16 17 18 19 20 21 22\n",
      "23 24 25 26 27 28 29\n",
      "30\n",
      "\n"
     ]
    }
   ],
   "source": [
    "import calendar\n",
    "cal = calendar.month(2018, 4)\n",
    "print (\"以下输出2018年4月份的日历:\")\n",
    "print (cal)"
   ]
  },
  {
   "cell_type": "markdown",
   "metadata": {},
   "source": [
    "#### Time 模块\n"
   ]
  },
  {
   "cell_type": "markdown",
   "metadata": {},
   "source": [
    "#### Datetime 模块\n"
   ]
  },
  {
   "cell_type": "code",
   "execution_count": 119,
   "metadata": {
    "collapsed": false
   },
   "outputs": [
    {
     "name": "stdout",
     "output_type": "stream",
     "text": [
      "当前的日期和时间是 2018-04-01 11:26:10.832993\n",
      "ISO格式的日期和时间是 2018-04-01T11:26:10.832993\n",
      "当前的年份是 2018\n",
      "当前的月份是 4\n",
      "当前的日期是  1\n",
      "dd/mm/yyyy 格式是  1/4/2018\n",
      "当前小时是 11\n",
      "当前分钟是 26\n",
      "当前秒是  10\n"
     ]
    }
   ],
   "source": [
    "import datetime\n",
    "i = datetime.datetime.now()\n",
    "print (\"当前的日期和时间是 %s\" % i)\n",
    "print (\"ISO格式的日期和时间是 %s\" % i.isoformat() )\n",
    "print (\"当前的年份是 %s\" %i.year)\n",
    "print (\"当前的月份是 %s\" %i.month)\n",
    "print (\"当前的日期是  %s\" %i.day)\n",
    "print (\"dd/mm/yyyy 格式是  %s/%s/%s\" % (i.day, i.month, i.year) )\n",
    "print (\"当前小时是 %s\" %i.hour)\n",
    "print (\"当前分钟是 %s\" %i.minute)\n",
    "print (\"当前秒是  %s\" %i.second)\n"
   ]
  },
  {
   "cell_type": "code",
   "execution_count": null,
   "metadata": {
    "collapsed": true
   },
   "outputs": [],
   "source": []
  }
 ],
 "metadata": {
  "kernelspec": {
   "display_name": "Python 3",
   "language": "python",
   "name": "python3"
  },
  "language_info": {
   "codemirror_mode": {
    "name": "ipython",
    "version": 3
   },
   "file_extension": ".py",
   "mimetype": "text/x-python",
   "name": "python",
   "nbconvert_exporter": "python",
   "pygments_lexer": "ipython3",
   "version": "3.6.0"
  }
 },
 "nbformat": 4,
 "nbformat_minor": 2
}
