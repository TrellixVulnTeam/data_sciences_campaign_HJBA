{
 "cells": [
  {
   "cell_type": "code",
   "execution_count": 1,
   "metadata": {
    "collapsed": true
   },
   "outputs": [],
   "source": [
    "# encoding=utf8"
   ]
  },
  {
   "cell_type": "markdown",
   "metadata": {
    "deletable": true,
    "editable": true
   },
   "source": [
    "# Advanced pandas"
   ]
  },
  {
   "cell_type": "code",
   "execution_count": 2,
   "metadata": {
    "collapsed": false,
    "deletable": true,
    "editable": true
   },
   "outputs": [],
   "source": [
    "import numpy as np\n",
    "import pandas as pd\n",
    "np.random.seed(12345)\n",
    "import matplotlib.pyplot as plt\n",
    "plt.rc('figure', figsize=(10, 6))\n",
    "PREVIOUS_MAX_ROWS = pd.options.display.max_rows\n",
    "pd.options.display.max_rows = 20\n",
    "np.set_printoptions(precision=4, suppress=True)"
   ]
  },
  {
   "cell_type": "markdown",
   "metadata": {
    "deletable": true,
    "editable": true
   },
   "source": [
    "## Categorical Data"
   ]
  },
  {
   "cell_type": "code",
   "execution_count": null,
   "metadata": {
    "collapsed": true
   },
   "outputs": [],
   "source": []
  },
  {
   "cell_type": "markdown",
   "metadata": {
    "deletable": true,
    "editable": true
   },
   "source": [
    "### Background and Motivation"
   ]
  },
  {
   "cell_type": "code",
   "execution_count": 3,
   "metadata": {
    "collapsed": false,
    "deletable": true,
    "editable": true
   },
   "outputs": [
    {
     "name": "stdout",
     "output_type": "stream",
     "text": [
      "0     apple\n",
      "1    orange\n",
      "2     apple\n",
      "3     apple\n",
      "4     apple\n",
      "5    orange\n",
      "6     apple\n",
      "7     apple\n",
      "dtype: object\n",
      "['apple' 'orange']\n",
      "apple     6\n",
      "orange    2\n",
      "dtype: int64\n"
     ]
    }
   ],
   "source": [
    "values = pd.Series(['apple', 'orange', 'apple',\n",
    "                    'apple'] * 2)\n",
    "print(values)\n",
    "print(pd.unique(values))\n",
    "print(pd.value_counts(values))"
   ]
  },
  {
   "cell_type": "code",
   "execution_count": 4,
   "metadata": {
    "collapsed": false,
    "deletable": true,
    "editable": true
   },
   "outputs": [
    {
     "name": "stdout",
     "output_type": "stream",
     "text": [
      "0    0\n",
      "1    1\n",
      "2    0\n",
      "3    0\n",
      "4    0\n",
      "5    1\n",
      "6    0\n",
      "7    0\n",
      "dtype: int64\n",
      "0     apple\n",
      "1    orange\n",
      "dtype: object\n"
     ]
    }
   ],
   "source": [
    "values = pd.Series([0, 1, 0, 0] * 2)\n",
    "dim = pd.Series(['apple', 'orange'])\n",
    "print(values)\n",
    "print(dim)"
   ]
  },
  {
   "cell_type": "code",
   "execution_count": 5,
   "metadata": {
    "collapsed": false,
    "deletable": true,
    "editable": true
   },
   "outputs": [
    {
     "data": {
      "text/plain": [
       "0     apple\n",
       "1    orange\n",
       "0     apple\n",
       "0     apple\n",
       "0     apple\n",
       "1    orange\n",
       "0     apple\n",
       "0     apple\n",
       "dtype: object"
      ]
     },
     "execution_count": 5,
     "metadata": {},
     "output_type": "execute_result"
    }
   ],
   "source": [
    "dim.take(values)"
   ]
  },
  {
   "cell_type": "markdown",
   "metadata": {
    "deletable": true,
    "editable": true
   },
   "source": [
    "### Categorical Type in pandas"
   ]
  },
  {
   "cell_type": "code",
   "execution_count": 7,
   "metadata": {
    "collapsed": false,
    "deletable": true,
    "editable": true
   },
   "outputs": [
    {
     "name": "stdout",
     "output_type": "stream",
     "text": [
      "['apple', 'orange', 'apple', 'apple', 'apple', 'orange', 'apple', 'apple']\n",
      "8\n",
      "   basket_id   fruit  count    weight\n",
      "0          0   apple      9  0.201952\n",
      "1          1  orange     10  3.224939\n",
      "2          2   apple     14  3.723263\n",
      "3          3   apple     10  1.456118\n",
      "4          4   apple     10  2.763792\n",
      "5          5  orange     11  0.517258\n",
      "6          6   apple     10  3.330746\n",
      "7          7   apple      4  1.273415\n"
     ]
    }
   ],
   "source": [
    "fruits = ['apple', 'orange', 'apple', 'apple'] * 2\n",
    "N = len(fruits)\n",
    "print(fruits)\n",
    "print(N)\n",
    "df = pd.DataFrame({'fruit': fruits,\n",
    "                   'basket_id': np.arange(N),\n",
    "                   'count': np.random.randint(3, 15, size=N),\n",
    "                   'weight': np.random.uniform(0, 4, size=N)},\n",
    "                  columns=['basket_id', 'fruit', 'count', 'weight'])\n",
    "print(df)"
   ]
  },
  {
   "cell_type": "code",
   "execution_count": 11,
   "metadata": {
    "collapsed": false,
    "deletable": true,
    "editable": true
   },
   "outputs": [
    {
     "name": "stdout",
     "output_type": "stream",
     "text": [
      "<class 'pandas.core.frame.DataFrame'>\n",
      "RangeIndex: 8 entries, 0 to 7\n",
      "Data columns (total 4 columns):\n",
      "basket_id    8 non-null int64\n",
      "fruit        8 non-null object\n",
      "count        8 non-null int64\n",
      "weight       8 non-null float64\n",
      "dtypes: float64(1), int64(2), object(1)\n",
      "memory usage: 336.0+ bytes\n",
      "0     apple\n",
      "1    orange\n",
      "2     apple\n",
      "3     apple\n",
      "4     apple\n",
      "5    orange\n",
      "6     apple\n",
      "7     apple\n",
      "Name: fruit, dtype: category\n",
      "Categories (2, object): [apple, orange]\n"
     ]
    }
   ],
   "source": [
    "df.info()\n",
    "fruit_cat = df['fruit'].astype('category')\n",
    "print(fruit_cat)\n"
   ]
  },
  {
   "cell_type": "code",
   "execution_count": 13,
   "metadata": {
    "collapsed": false,
    "deletable": true,
    "editable": true
   },
   "outputs": [
    {
     "name": "stdout",
     "output_type": "stream",
     "text": [
      "[apple, orange, apple, apple, apple, orange, apple, apple]\n",
      "Categories (2, object): [apple, orange]\n",
      "<class 'pandas.core.categorical.Categorical'>\n"
     ]
    }
   ],
   "source": [
    "c = fruit_cat.values\n",
    "print(c)\n",
    "print(type(c))"
   ]
  },
  {
   "cell_type": "code",
   "execution_count": 15,
   "metadata": {
    "collapsed": false,
    "deletable": true,
    "editable": true
   },
   "outputs": [
    {
     "name": "stdout",
     "output_type": "stream",
     "text": [
      "Index(['apple', 'orange'], dtype='object')\n",
      "[0 1 0 0 0 1 0 0]\n"
     ]
    }
   ],
   "source": [
    "print(c.categories)\n",
    "print(c.codes)"
   ]
  },
  {
   "cell_type": "code",
   "execution_count": 16,
   "metadata": {
    "collapsed": false,
    "deletable": true,
    "editable": true
   },
   "outputs": [
    {
     "name": "stdout",
     "output_type": "stream",
     "text": [
      "   basket_id   fruit  count    weight\n",
      "0          0   apple      9  0.201952\n",
      "1          1  orange     10  3.224939\n",
      "2          2   apple     14  3.723263\n",
      "3          3   apple     10  1.456118\n",
      "4          4   apple     10  2.763792\n",
      "5          5  orange     11  0.517258\n",
      "6          6   apple     10  3.330746\n",
      "7          7   apple      4  1.273415\n",
      "<class 'pandas.core.frame.DataFrame'>\n",
      "RangeIndex: 8 entries, 0 to 7\n",
      "Data columns (total 4 columns):\n",
      "basket_id    8 non-null int64\n",
      "fruit        8 non-null category\n",
      "count        8 non-null int64\n",
      "weight       8 non-null float64\n",
      "dtypes: category(1), float64(1), int64(2)\n",
      "memory usage: 296.0 bytes\n",
      "None\n",
      "0     apple\n",
      "1    orange\n",
      "2     apple\n",
      "3     apple\n",
      "4     apple\n",
      "5    orange\n",
      "6     apple\n",
      "7     apple\n",
      "Name: fruit, dtype: category\n",
      "Categories (2, object): [apple, orange]\n"
     ]
    }
   ],
   "source": [
    "df['fruit'] = df['fruit'].astype('category')\n",
    "print(df)\n",
    "print(df.info())\n",
    "print(df.fruit)"
   ]
  },
  {
   "cell_type": "code",
   "execution_count": 17,
   "metadata": {
    "collapsed": false,
    "deletable": true,
    "editable": true
   },
   "outputs": [
    {
     "data": {
      "text/plain": [
       "[foo, bar, baz, foo, bar]\n",
       "Categories (3, object): [bar, baz, foo]"
      ]
     },
     "execution_count": 17,
     "metadata": {},
     "output_type": "execute_result"
    }
   ],
   "source": [
    "my_categories = pd.Categorical(['foo', 'bar', 'baz', 'foo', 'bar'])\n",
    "my_categories"
   ]
  },
  {
   "cell_type": "code",
   "execution_count": 18,
   "metadata": {
    "collapsed": false,
    "deletable": true,
    "editable": true
   },
   "outputs": [
    {
     "data": {
      "text/plain": [
       "[foo, bar, baz, foo, foo, bar]\n",
       "Categories (3, object): [foo, bar, baz]"
      ]
     },
     "execution_count": 18,
     "metadata": {},
     "output_type": "execute_result"
    }
   ],
   "source": [
    "categories = ['foo', 'bar', 'baz']\n",
    "codes = [0, 1, 2, 0, 0, 1]\n",
    "my_cats_2 = pd.Categorical.from_codes(codes, categories)\n",
    "my_cats_2"
   ]
  },
  {
   "cell_type": "code",
   "execution_count": 19,
   "metadata": {
    "collapsed": false,
    "deletable": true,
    "editable": true
   },
   "outputs": [
    {
     "data": {
      "text/plain": [
       "[foo, bar, baz, foo, foo, bar]\n",
       "Categories (3, object): [foo < bar < baz]"
      ]
     },
     "execution_count": 19,
     "metadata": {},
     "output_type": "execute_result"
    }
   ],
   "source": [
    "ordered_cat = pd.Categorical.from_codes(codes, categories,\n",
    "                                        ordered=True)\n",
    "ordered_cat"
   ]
  },
  {
   "cell_type": "code",
   "execution_count": 20,
   "metadata": {
    "collapsed": false,
    "deletable": true,
    "editable": true
   },
   "outputs": [
    {
     "data": {
      "text/plain": [
       "[foo, bar, baz, foo, foo, bar]\n",
       "Categories (3, object): [foo < bar < baz]"
      ]
     },
     "execution_count": 20,
     "metadata": {},
     "output_type": "execute_result"
    }
   ],
   "source": [
    "my_cats_2.as_ordered()"
   ]
  },
  {
   "cell_type": "markdown",
   "metadata": {
    "deletable": true,
    "editable": true
   },
   "source": [
    "### Computations with Categoricals"
   ]
  },
  {
   "cell_type": "code",
   "execution_count": 21,
   "metadata": {
    "collapsed": false,
    "deletable": true,
    "editable": true
   },
   "outputs": [
    {
     "name": "stdout",
     "output_type": "stream",
     "text": [
      "[-0.2047  0.4789 -0.5194 -0.5557  1.9658  1.3934  0.0929  0.2817  0.769\n",
      "  1.2464  1.0072 -1.2962  0.275   0.2289  1.3529  0.8864 -2.0016 -0.3718\n",
      "  1.669  -0.4386 -0.5397  0.477   3.2489 -1.0212 -0.5771  0.1241  0.3026\n",
      "  0.5238  0.0009  1.3438 -0.7135 -0.8312 -2.3702 -1.8608 -0.8608  0.5601\n",
      " -1.2659  0.1198 -1.0635  0.3329 -2.3594 -0.1995 -1.542  -0.9707 -1.307\n",
      "  0.2863  0.378  -0.7539  0.3313  1.3497  0.0699  0.2467 -0.0119  1.0048\n",
      "  1.3272 -0.9193 -1.5491  0.0222  0.7584 -0.6605  0.8626 -0.01    0.05\n",
      "  0.6702  0.853  -0.9559 -0.0235 -2.3042 -0.6525 -1.2183 -1.3326  1.0746\n",
      "  0.7236  0.69    1.0015 -0.5031 -0.6223 -0.9212 -0.7262  0.2229  0.0513\n",
      " -1.1577  0.8167  0.4336  1.0107  1.8249 -0.9975  0.8506 -0.1316  0.9124\n",
      "  0.1882  2.1695 -0.1149  2.0037  0.0296  0.7953  0.1181 -0.7485  0.585\n",
      "  0.1527 -1.5657 -0.5625 -0.0327 -0.929  -0.4826 -0.0363  1.0954  0.9809\n",
      " -0.5895  1.5817 -0.5287  0.457   0.93   -1.5693 -1.0225 -0.4028  0.2205\n",
      " -0.1934  0.6692 -1.649  -2.2528 -1.1668  0.3536  0.7021 -0.2746 -0.1391\n",
      "  0.1077 -0.6065 -0.4171 -0.017  -1.2241 -1.8008  1.6347  0.989   0.4579\n",
      "  0.5552  1.3067 -0.4406 -0.3014  0.4988 -0.824   1.3206  0.508  -0.6534\n",
      "  0.187  -0.3917 -0.2723 -0.0171  0.6803  0.6355 -0.7572  0.7181 -0.3043\n",
      " -1.6778  0.427  -1.5637 -0.3675  1.0459  1.22   -0.2477 -0.4162 -0.1167\n",
      " -1.8448  2.0687 -0.777   1.4402 -0.1106  1.2274  1.9208  0.7464  2.2247\n",
      " -0.6794  0.7274 -0.8687 -1.2139 -0.4706 -0.9192 -0.8388  0.4352 -0.5578\n",
      " -0.5675 -0.3726 -0.9266  1.7551  1.2098  1.27   -0.9744 -0.6347 -0.3957\n",
      " -0.2894 -0.7343 -0.7285  0.8388  0.2669  0.7212  0.911  -1.0209 -1.4134\n",
      "  1.2966  0.2523  1.1275 -0.5684  0.3094 -0.5774 -1.1686 -0.825  -2.6444\n",
      " -0.153  -0.7519 -0.1326  1.4573  0.6095 -0.4938  1.24   -0.1357  1.43\n",
      " -0.8469  0.6033  1.2636 -0.2555 -0.4457  0.4684 -0.9616 -1.8245  0.6254\n",
      "  1.0229  1.1074  0.0909 -0.3501  0.218  -0.8948 -1.7415 -1.0523  1.4366\n",
      " -0.5762 -2.4203 -1.0623  0.2374  0.001   0.0653 -1.3675 -0.0303  0.9405\n",
      " -0.6424  1.0402 -1.0829  0.4292 -0.2362  0.6418 -0.3317  1.3941 -1.0767\n",
      " -0.1925 -0.8712  0.4209 -1.2114 -0.2589 -0.5816 -1.2604  0.4646 -1.0702\n",
      "  0.8042 -0.1567  2.0104 -0.8871 -0.9779 -0.2672  0.4833 -0.4003  0.4499\n",
      "  0.3996 -0.1516 -2.5579  0.1608  0.0765 -0.2972 -1.2943 -0.8852 -0.1875\n",
      " -0.4936 -0.1154 -0.3507  0.0447 -0.8978  0.8909 -1.1512 -2.6123  1.1413\n",
      " -0.8671  0.3836 -0.437   0.3475 -1.2302  0.5711  0.0601 -0.2255  1.3497\n",
      "  1.3503 -0.3867  0.866   1.7472 -1.4102 -0.3782 -0.3458  0.3801  0.189\n",
      "  1.3233 -2.2646 -0.915  -0.479   1.0472  0.9239 -0.1142  0.4058  0.2885\n",
      " -0.4348  0.3588 -0.3882  2.1287  1.4096 -0.1054  0.7004  2.0929 -0.137\n",
      " -0.9305  0.3275  1.303  -1.4094 -0.1441 -0.7164  0.1036 -1.4957 -1.1749\n",
      "  2.614  -0.6893 -0.7517  0.6363 -1.1576  0.6147  1.0214  0.6683 -0.8095\n",
      " -0.9081  1.5123  0.0951  1.1847  0.637  -0.5393 -0.0551 -1.1359 -0.1705\n",
      " -1.1581  1.1046  0.6342  1.2597  0.9649 -0.4344 -0.8796 -0.6948  1.2264\n",
      "  0.4573  0.1157  1.014  -1.135  -0.2634  1.3064 -1.6108 -1.0266  1.2416\n",
      " -0.1568 -2.4491 -1.0339  1.5995  0.4741  0.1513 -0.5422 -0.4755  0.1064\n",
      " -1.3082  2.1732  0.5646 -0.1905 -0.9169 -0.9758  2.2123  0.0739  1.8186\n",
      " -1.5815 -0.7744  0.5529  0.1061  3.9275 -0.2551  0.8541 -0.3648  0.1311\n",
      " -0.6976  1.3356 -0.151   0.4429  0.9416  0.5334  0.3563 -0.0101  1.4158\n",
      "  0.5661  0.4565  0.1948 -0.6551 -0.5652  3.1769  0.9595 -0.9753 -1.1167\n",
      " -1.1044 -0.8988 -1.3666  0.4514 -1.5872 -0.7328 -0.5146 -0.6119 -0.0316\n",
      "  0.2341  0.2719  1.2308  1.2883  0.8518 -1.5292 -1.5517  0.2973  0.3448\n",
      " -0.3981  0.4294 -0.2859 -2.2284  0.0666  0.49    1.8679  2.0704 -0.2454\n",
      "  0.7623  0.129   0.6271 -1.0622 -1.4995  0.5452  0.4008 -1.9462  0.505\n",
      " -0.9105 -0.2197  0.4081 -0.6031 -0.3611  0.564  -1.0566  1.392  -1.7613\n",
      " -0.9116  0.6583 -1.5795  0.4577 -0.1833 -0.6855  0.1064 -0.3182  0.4337\n",
      "  0.5718  0.5671  0.0816 -0.3023 -0.7269  0.1803 -0.5202  0.3981 -0.9169\n",
      " -0.0827 -1.9397  1.408   1.5124  0.5265 -0.2669  0.8623  0.0838 -1.8723\n",
      " -0.9628  0.0801  0.1287 -0.4791 -0.6403  0.746  -0.6225  0.9363  0.75\n",
      " -0.0567  2.3007  0.5695  1.4894  1.2643 -0.7618 -0.3316 -1.7513  0.6289\n",
      "  0.2825 -1.3381 -0.5006  0.1216  1.7083 -0.971  -0.6193 -0.7267  1.2217\n",
      "  0.5037 -1.3879  0.2049  0.6037  0.5457  0.2355  0.1118 -1.2515 -2.9493\n",
      "  0.6346  0.1242  1.2976 -1.6869  1.0895  2.0609 -0.2412 -0.9479  0.6763\n",
      " -0.6534 -0.6523  0.5288  0.3578  0.1886  0.8694 -0.0507 -0.7164 -0.1033\n",
      " -1.141  -0.5008 -0.3893 -0.4739  0.1287  0.1537  0.4448  0.1285  0.2525\n",
      " -0.9406  1.0021 -0.5254 -0.8874  1.8313 -0.923   0.7005 -0.8922  2.3007\n",
      " -0.8178  0.5138  0.6236  1.4892  1.9405  0.5432  0.5062  1.662  -1.1892\n",
      "  0.0936 -0.5392 -1.4374  0.1879 -0.4505 -0.5169 -0.0956  0.3164  0.6033\n",
      " -1.4946 -0.1109  0.2413 -0.5826 -0.2411  0.2364  0.1247  1.0463 -0.2731\n",
      " -0.5348 -0.3066 -0.1622 -1.0832  0.7084  1.5207  0.2903 -0.6831 -0.9503\n",
      "  0.4007 -0.1261  0.3982  0.1416 -0.2641 -0.4522  0.7582 -0.5156 -0.5912\n",
      "  0.8967 -0.9714  1.8408  0.1539 -0.2741 -1.7849  0.981  -0.8737 -1.0156\n",
      " -0.4112  1.4656 -1.0062 -0.9021  0.7528 -0.4905 -0.5247 -0.6992  0.3524\n",
      "  0.0681 -0.9303  0.8454  0.0165  0.845   1.8508  0.0221 -1.3692  0.8872\n",
      "  0.0143 -0.0742 -0.0486  1.235  -0.4333  1.391   0.8202 -0.2474  0.3023\n",
      "  0.544  -0.9424 -1.2664  0.9372 -0.7201 -1.594  -0.3755 -0.9587  0.7943\n",
      " -1.6051  0.5437  0.9252 -1.4696 -0.3996  1.4173 -0.8976  1.8448  1.2532\n",
      " -1.4909 -0.0277  1.3752 -0.0252 -0.6679 -2.868   0.2107  1.2872 -0.5743\n",
      "  0.4953  0.396   0.5888 -1.2818  2.0299 -0.5019 -0.1593 -1.4962  0.0114\n",
      "  0.4194  2.0512 -0.3688 -1.6893  0.1477 -0.181   0.1581 -0.3966 -0.4002\n",
      " -0.8249 -0.2444  1.2195 -0.4336  0.8612 -0.3345  0.1596 -0.9842  0.7541\n",
      " -0.2844  0.3248 -0.8854 -1.2809  0.1961  0.9546 -0.801   0.0159  1.0876\n",
      " -0.6312 -0.0227  0.6859  0.5192  0.1827  0.2046 -0.266  -0.0002  1.2395\n",
      " -0.8197 -0.2604  0.5191  0.1431 -0.1167  1.4967 -1.4843 -1.6712  0.9172\n",
      " -0.758   2.0648 -0.8508  0.4995 -0.0793 -1.4033  1.5789  0.0004  0.9009\n",
      " -0.4549 -0.8645  1.1291  0.0579 -0.4337  0.0927 -1.3978  1.4578 -0.1768\n",
      " -0.2542 -1.2634  0.4523 -0.8401 -0.5027  0.5134  1.6417  0.5808 -1.7073\n",
      " -0.1784 -0.8285  1.2863 -0.4065  0.1566  0.0521  0.9558  0.7432 -0.4863\n",
      "  1.9205 -0.6527 -0.1733 -0.3604 -0.3804 -1.2981  0.5279 -0.0931  0.4012\n",
      " -0.1026  0.0309  2.6161 -0.7856 -0.507  -2.0182 -0.6769  2.6667  1.4515\n",
      "  0.6346 -0.5028  0.5129  1.7568 -0.9743  0.6804  0.9558  1.5015 -0.7563\n",
      "  0.4735  1.7137 -1.1477  0.0029 -1.1006 -0.2975  0.5024 -0.001  -0.6746\n",
      "  0.298   1.4656 -0.3036 -0.9945  0.1899 -1.684  -0.4584  0.5434 -1.1873\n",
      " -0.4126  1.1771 -0.3137  1.579   0.3754 -1.5681 -0.9009  0.6523  0.8716\n",
      "  0.2682  0.9477  0.1473 -1.7725  0.5924  0.0903  0.6511 -0.0812  0.8019\n",
      "  0.1398 -0.501  -0.1283  0.4146  0.6046  2.1341  0.9412 -0.9315 -0.1247\n",
      "  0.2007  0.1803 -0.3204 -1.5961 -1.2817  1.5026  0.6535 -0.3195  0.9551\n",
      "  0.262   0.1608 -0.5717  0.3517  1.115   1.1833  1.0609  0.5107 -0.9388\n",
      " -0.5465  0.59    1.4822  0.1021  0.2654  0.0032 -2.595  -1.5556  1.103\n",
      "  0.5547 -1.289   0.3852 -1.7173 -1.0184  0.0516  0.5033 -0.5432 -0.5067\n",
      "  0.7297  0.4343 -1.1337  1.424   0.2664 -0.8543 -0.5506 -0.6191  1.0389\n",
      " -0.9106  0.53   -0.0085 -1.129   0.5699 -0.8634 -1.3561 -0.0572 -0.1086\n",
      "  1.6524 -1.3509 -0.5461  0.9914  2.201   0.4279  0.2905  0.612  -0.5125\n",
      " -0.7242  1.6929 -0.2993  1.5717  0.4614 -0.6738 -1.141  -1.2289 -1.1593\n",
      " -0.3208  1.0883 -0.9062 -0.4642 -0.5134  1.6178 -0.8167  0.2447 -1.3111\n",
      "  0.3884  1.5924  0.8704  0.3352  0.649  -0.1832  0.5002  1.3688  0.8951\n",
      "  0.6473 -0.5679 -0.5795 -0.7514  1.0755 -0.6211  1.8786  1.2602  0.3101\n",
      "  0.1064  0.248  -1.3938 -0.6694 -0.5668 -0.3818 -0.9465 -1.0651 -1.3318\n",
      " -0.9865 -0.3784  0.7647  0.0604  0.6185 -0.4849 -0.2805  0.407   1.0252\n",
      "  0.2548  0.0875  0.0707 -0.5732  1.2289 -0.9622  1.5256  0.8273  0.9125\n",
      " -0.1273  0.6343 -1.5309 -1.2907 -0.5262 -1.1322 -0.4998 -0.7285 -0.5831\n",
      "  0.3293 -0.8269 -0.5369 -0.563   0.9184 -0.0794 -0.2786 -0.1305 -1.397\n",
      " -0.2447  0.8303  0.2408 -0.9157 -2.2253 -0.6631 -0.3212  0.4984  0.3803\n",
      " -1.067   0.2555  2.1113 -0.6342  1.3688 -0.9706  0.6542 -1.1719 -0.0032\n",
      " -0.7456  1.5983 -0.9134  2.4029 -0.5894  0.1077 -0.1393 -1.1599  0.619\n",
      "  1.3739]\n",
      "[-0.2047  0.4789 -0.5194 -0.5557  1.9658]\n"
     ]
    }
   ],
   "source": [
    "np.random.seed(12345)\n",
    "draws = np.random.randn(1000)\n",
    "print(draws)\n",
    "print(draws[:5])"
   ]
  },
  {
   "cell_type": "code",
   "execution_count": 22,
   "metadata": {
    "collapsed": false,
    "deletable": true,
    "editable": true
   },
   "outputs": [
    {
     "name": "stdout",
     "output_type": "stream",
     "text": [
      "[(-0.684, -0.0101], (-0.0101, 0.63], (-0.684, -0.0101], (-0.684, -0.0101], (0.63, 3.928], ..., (-0.0101, 0.63], (-0.684, -0.0101], [-2.949, -0.684], (-0.0101, 0.63], (0.63, 3.928]]\n",
      "Length: 1000\n",
      "Categories (4, object): [[-2.949, -0.684] < (-0.684, -0.0101] < (-0.0101, 0.63] < (0.63, 3.928]]\n"
     ]
    }
   ],
   "source": [
    "bins = pd.qcut(draws, 4)\n",
    "print(bins)"
   ]
  },
  {
   "cell_type": "code",
   "execution_count": 23,
   "metadata": {
    "collapsed": false,
    "deletable": true,
    "editable": true
   },
   "outputs": [
    {
     "name": "stdout",
     "output_type": "stream",
     "text": [
      "[Q2, Q3, Q2, Q2, Q4, ..., Q3, Q2, Q1, Q3, Q4]\n",
      "Length: 1000\n",
      "Categories (4, object): [Q1 < Q2 < Q3 < Q4]\n",
      "[1 2 1 1 3 3 2 2 3 3]\n"
     ]
    }
   ],
   "source": [
    "bins = pd.qcut(draws, 4, labels=['Q1', 'Q2', 'Q3', 'Q4'])\n",
    "print(bins)\n",
    "print(bins.codes[:10])"
   ]
  },
  {
   "cell_type": "code",
   "execution_count": 27,
   "metadata": {
    "collapsed": false,
    "deletable": true,
    "editable": true
   },
   "outputs": [
    {
     "name": "stdout",
     "output_type": "stream",
     "text": [
      "0      Q2\n",
      "1      Q3\n",
      "2      Q2\n",
      "3      Q2\n",
      "4      Q4\n",
      "5      Q4\n",
      "6      Q3\n",
      "7      Q3\n",
      "8      Q4\n",
      "9      Q4\n",
      "       ..\n",
      "990    Q1\n",
      "991    Q4\n",
      "992    Q1\n",
      "993    Q4\n",
      "994    Q2\n",
      "995    Q3\n",
      "996    Q2\n",
      "997    Q1\n",
      "998    Q3\n",
      "999    Q4\n",
      "Name: quartile, dtype: category\n",
      "Categories (4, object): [Q1 < Q2 < Q3 < Q4]\n",
      "  quartile  count       min       max\n",
      "0       Q1    250 -2.949343 -0.685484\n",
      "1       Q2    250 -0.683066 -0.010115\n",
      "2       Q3    250 -0.010032  0.628894\n",
      "3       Q4    250  0.634238  3.927528\n"
     ]
    }
   ],
   "source": [
    "bins = pd.Series(bins, name='quartile')\n",
    "print(bins)\n",
    "results = (pd.Series(draws)\n",
    "           .groupby(bins)\n",
    "           .agg(['count', 'min', 'max'])\n",
    "           .reset_index())\n",
    "print(results)"
   ]
  },
  {
   "cell_type": "code",
   "execution_count": 28,
   "metadata": {
    "collapsed": false,
    "deletable": true,
    "editable": true
   },
   "outputs": [
    {
     "data": {
      "text/plain": [
       "0    Q1\n",
       "1    Q2\n",
       "2    Q3\n",
       "3    Q4\n",
       "Name: quartile, dtype: category\n",
       "Categories (4, object): [Q1 < Q2 < Q3 < Q4]"
      ]
     },
     "execution_count": 28,
     "metadata": {},
     "output_type": "execute_result"
    }
   ],
   "source": [
    "results['quartile']"
   ]
  },
  {
   "cell_type": "markdown",
   "metadata": {
    "deletable": true,
    "editable": true
   },
   "source": [
    "#### Better performance with categoricals"
   ]
  },
  {
   "cell_type": "code",
   "execution_count": 29,
   "metadata": {
    "collapsed": false,
    "deletable": true,
    "editable": true
   },
   "outputs": [],
   "source": [
    "N = 10000000\n",
    "draws = pd.Series(np.random.randn(N))\n",
    "labels = pd.Series(['foo', 'bar', 'baz', 'qux'] * (N // 4))"
   ]
  },
  {
   "cell_type": "code",
   "execution_count": 30,
   "metadata": {
    "collapsed": false,
    "deletable": true,
    "editable": true
   },
   "outputs": [],
   "source": [
    "categories = labels.astype('category')"
   ]
  },
  {
   "cell_type": "code",
   "execution_count": 31,
   "metadata": {
    "collapsed": false,
    "deletable": true,
    "editable": true
   },
   "outputs": [
    {
     "data": {
      "text/plain": [
       "10000112"
      ]
     },
     "execution_count": 31,
     "metadata": {},
     "output_type": "execute_result"
    }
   ],
   "source": [
    "labels.memory_usage()\n",
    "categories.memory_usage()"
   ]
  },
  {
   "cell_type": "code",
   "execution_count": 32,
   "metadata": {
    "collapsed": false,
    "deletable": true,
    "editable": true
   },
   "outputs": [
    {
     "name": "stdout",
     "output_type": "stream",
     "text": [
      "CPU times: user 332 ms, sys: 30.6 ms, total: 362 ms\n",
      "Wall time: 362 ms\n"
     ]
    }
   ],
   "source": [
    "%time _ = labels.astype('category')"
   ]
  },
  {
   "cell_type": "markdown",
   "metadata": {
    "deletable": true,
    "editable": true
   },
   "source": [
    "### Categorical Methods"
   ]
  },
  {
   "cell_type": "code",
   "execution_count": 33,
   "metadata": {
    "collapsed": false,
    "deletable": true,
    "editable": true
   },
   "outputs": [
    {
     "data": {
      "text/plain": [
       "0    a\n",
       "1    b\n",
       "2    c\n",
       "3    d\n",
       "4    a\n",
       "5    b\n",
       "6    c\n",
       "7    d\n",
       "dtype: category\n",
       "Categories (4, object): [a, b, c, d]"
      ]
     },
     "execution_count": 33,
     "metadata": {},
     "output_type": "execute_result"
    }
   ],
   "source": [
    "s = pd.Series(['a', 'b', 'c', 'd'] * 2)\n",
    "cat_s = s.astype('category')\n",
    "cat_s"
   ]
  },
  {
   "cell_type": "code",
   "execution_count": 34,
   "metadata": {
    "collapsed": false,
    "deletable": true,
    "editable": true
   },
   "outputs": [
    {
     "data": {
      "text/plain": [
       "Index(['a', 'b', 'c', 'd'], dtype='object')"
      ]
     },
     "execution_count": 34,
     "metadata": {},
     "output_type": "execute_result"
    }
   ],
   "source": [
    "cat_s.cat.codes\n",
    "cat_s.cat.categories"
   ]
  },
  {
   "cell_type": "code",
   "execution_count": 35,
   "metadata": {
    "collapsed": false,
    "deletable": true,
    "editable": true
   },
   "outputs": [
    {
     "data": {
      "text/plain": [
       "0    a\n",
       "1    b\n",
       "2    c\n",
       "3    d\n",
       "4    a\n",
       "5    b\n",
       "6    c\n",
       "7    d\n",
       "dtype: category\n",
       "Categories (5, object): [a, b, c, d, e]"
      ]
     },
     "execution_count": 35,
     "metadata": {},
     "output_type": "execute_result"
    }
   ],
   "source": [
    "actual_categories = ['a', 'b', 'c', 'd', 'e']\n",
    "cat_s2 = cat_s.cat.set_categories(actual_categories)\n",
    "cat_s2"
   ]
  },
  {
   "cell_type": "code",
   "execution_count": 36,
   "metadata": {
    "collapsed": false,
    "deletable": true,
    "editable": true
   },
   "outputs": [
    {
     "data": {
      "text/plain": [
       "d    2\n",
       "c    2\n",
       "b    2\n",
       "a    2\n",
       "e    0\n",
       "dtype: int64"
      ]
     },
     "execution_count": 36,
     "metadata": {},
     "output_type": "execute_result"
    }
   ],
   "source": [
    "cat_s.value_counts()\n",
    "cat_s2.value_counts()"
   ]
  },
  {
   "cell_type": "code",
   "execution_count": 37,
   "metadata": {
    "collapsed": false,
    "deletable": true,
    "editable": true
   },
   "outputs": [
    {
     "data": {
      "text/plain": [
       "0    a\n",
       "1    b\n",
       "4    a\n",
       "5    b\n",
       "dtype: category\n",
       "Categories (2, object): [a, b]"
      ]
     },
     "execution_count": 37,
     "metadata": {},
     "output_type": "execute_result"
    }
   ],
   "source": [
    "cat_s3 = cat_s[cat_s.isin(['a', 'b'])]\n",
    "cat_s3\n",
    "cat_s3.cat.remove_unused_categories()"
   ]
  },
  {
   "cell_type": "markdown",
   "metadata": {
    "deletable": true,
    "editable": true
   },
   "source": [
    "#### Creating dummy variables for modeling"
   ]
  },
  {
   "cell_type": "code",
   "execution_count": 38,
   "metadata": {
    "collapsed": false,
    "deletable": true,
    "editable": true
   },
   "outputs": [],
   "source": [
    "cat_s = pd.Series(['a', 'b', 'c', 'd'] * 2, dtype='category')"
   ]
  },
  {
   "cell_type": "code",
   "execution_count": 39,
   "metadata": {
    "collapsed": false,
    "deletable": true,
    "editable": true
   },
   "outputs": [
    {
     "data": {
      "text/html": [
       "<div>\n",
       "<table border=\"1\" class=\"dataframe\">\n",
       "  <thead>\n",
       "    <tr style=\"text-align: right;\">\n",
       "      <th></th>\n",
       "      <th>a</th>\n",
       "      <th>b</th>\n",
       "      <th>c</th>\n",
       "      <th>d</th>\n",
       "    </tr>\n",
       "  </thead>\n",
       "  <tbody>\n",
       "    <tr>\n",
       "      <th>0</th>\n",
       "      <td>1</td>\n",
       "      <td>0</td>\n",
       "      <td>0</td>\n",
       "      <td>0</td>\n",
       "    </tr>\n",
       "    <tr>\n",
       "      <th>1</th>\n",
       "      <td>0</td>\n",
       "      <td>1</td>\n",
       "      <td>0</td>\n",
       "      <td>0</td>\n",
       "    </tr>\n",
       "    <tr>\n",
       "      <th>2</th>\n",
       "      <td>0</td>\n",
       "      <td>0</td>\n",
       "      <td>1</td>\n",
       "      <td>0</td>\n",
       "    </tr>\n",
       "    <tr>\n",
       "      <th>3</th>\n",
       "      <td>0</td>\n",
       "      <td>0</td>\n",
       "      <td>0</td>\n",
       "      <td>1</td>\n",
       "    </tr>\n",
       "    <tr>\n",
       "      <th>4</th>\n",
       "      <td>1</td>\n",
       "      <td>0</td>\n",
       "      <td>0</td>\n",
       "      <td>0</td>\n",
       "    </tr>\n",
       "    <tr>\n",
       "      <th>5</th>\n",
       "      <td>0</td>\n",
       "      <td>1</td>\n",
       "      <td>0</td>\n",
       "      <td>0</td>\n",
       "    </tr>\n",
       "    <tr>\n",
       "      <th>6</th>\n",
       "      <td>0</td>\n",
       "      <td>0</td>\n",
       "      <td>1</td>\n",
       "      <td>0</td>\n",
       "    </tr>\n",
       "    <tr>\n",
       "      <th>7</th>\n",
       "      <td>0</td>\n",
       "      <td>0</td>\n",
       "      <td>0</td>\n",
       "      <td>1</td>\n",
       "    </tr>\n",
       "  </tbody>\n",
       "</table>\n",
       "</div>"
      ],
      "text/plain": [
       "   a  b  c  d\n",
       "0  1  0  0  0\n",
       "1  0  1  0  0\n",
       "2  0  0  1  0\n",
       "3  0  0  0  1\n",
       "4  1  0  0  0\n",
       "5  0  1  0  0\n",
       "6  0  0  1  0\n",
       "7  0  0  0  1"
      ]
     },
     "execution_count": 39,
     "metadata": {},
     "output_type": "execute_result"
    }
   ],
   "source": [
    "pd.get_dummies(cat_s)"
   ]
  },
  {
   "cell_type": "markdown",
   "metadata": {
    "deletable": true,
    "editable": true
   },
   "source": [
    "## Advanced GroupBy Use"
   ]
  },
  {
   "cell_type": "markdown",
   "metadata": {
    "deletable": true,
    "editable": true
   },
   "source": [
    "### Group Transforms and \"Unwrapped\" GroupBys"
   ]
  },
  {
   "cell_type": "code",
   "execution_count": 40,
   "metadata": {
    "collapsed": false,
    "deletable": true,
    "editable": true
   },
   "outputs": [
    {
     "data": {
      "text/html": [
       "<div>\n",
       "<table border=\"1\" class=\"dataframe\">\n",
       "  <thead>\n",
       "    <tr style=\"text-align: right;\">\n",
       "      <th></th>\n",
       "      <th>key</th>\n",
       "      <th>value</th>\n",
       "    </tr>\n",
       "  </thead>\n",
       "  <tbody>\n",
       "    <tr>\n",
       "      <th>0</th>\n",
       "      <td>a</td>\n",
       "      <td>0.0</td>\n",
       "    </tr>\n",
       "    <tr>\n",
       "      <th>1</th>\n",
       "      <td>b</td>\n",
       "      <td>1.0</td>\n",
       "    </tr>\n",
       "    <tr>\n",
       "      <th>2</th>\n",
       "      <td>c</td>\n",
       "      <td>2.0</td>\n",
       "    </tr>\n",
       "    <tr>\n",
       "      <th>3</th>\n",
       "      <td>a</td>\n",
       "      <td>3.0</td>\n",
       "    </tr>\n",
       "    <tr>\n",
       "      <th>4</th>\n",
       "      <td>b</td>\n",
       "      <td>4.0</td>\n",
       "    </tr>\n",
       "    <tr>\n",
       "      <th>5</th>\n",
       "      <td>c</td>\n",
       "      <td>5.0</td>\n",
       "    </tr>\n",
       "    <tr>\n",
       "      <th>6</th>\n",
       "      <td>a</td>\n",
       "      <td>6.0</td>\n",
       "    </tr>\n",
       "    <tr>\n",
       "      <th>7</th>\n",
       "      <td>b</td>\n",
       "      <td>7.0</td>\n",
       "    </tr>\n",
       "    <tr>\n",
       "      <th>8</th>\n",
       "      <td>c</td>\n",
       "      <td>8.0</td>\n",
       "    </tr>\n",
       "    <tr>\n",
       "      <th>9</th>\n",
       "      <td>a</td>\n",
       "      <td>9.0</td>\n",
       "    </tr>\n",
       "    <tr>\n",
       "      <th>10</th>\n",
       "      <td>b</td>\n",
       "      <td>10.0</td>\n",
       "    </tr>\n",
       "    <tr>\n",
       "      <th>11</th>\n",
       "      <td>c</td>\n",
       "      <td>11.0</td>\n",
       "    </tr>\n",
       "  </tbody>\n",
       "</table>\n",
       "</div>"
      ],
      "text/plain": [
       "   key  value\n",
       "0    a    0.0\n",
       "1    b    1.0\n",
       "2    c    2.0\n",
       "3    a    3.0\n",
       "4    b    4.0\n",
       "5    c    5.0\n",
       "6    a    6.0\n",
       "7    b    7.0\n",
       "8    c    8.0\n",
       "9    a    9.0\n",
       "10   b   10.0\n",
       "11   c   11.0"
      ]
     },
     "execution_count": 40,
     "metadata": {},
     "output_type": "execute_result"
    }
   ],
   "source": [
    "df = pd.DataFrame({'key': ['a', 'b', 'c'] * 4,\n",
    "                   'value': np.arange(12.)})\n",
    "df"
   ]
  },
  {
   "cell_type": "code",
   "execution_count": 45,
   "metadata": {
    "collapsed": false,
    "deletable": true,
    "editable": true
   },
   "outputs": [
    {
     "name": "stdout",
     "output_type": "stream",
     "text": [
      "<pandas.core.groupby.SeriesGroupBy object at 0x10d3ee470>\n",
      "key\n",
      "a    4.5\n",
      "b    5.5\n",
      "c    6.5\n",
      "Name: value, dtype: float64\n"
     ]
    }
   ],
   "source": [
    "g = df.groupby('key').value\n",
    "print(g)\n",
    "print(g.mean())"
   ]
  },
  {
   "cell_type": "code",
   "execution_count": 46,
   "metadata": {
    "collapsed": false,
    "deletable": true,
    "editable": true
   },
   "outputs": [
    {
     "data": {
      "text/plain": [
       "0     4.5\n",
       "1     5.5\n",
       "2     6.5\n",
       "3     4.5\n",
       "4     5.5\n",
       "5     6.5\n",
       "6     4.5\n",
       "7     5.5\n",
       "8     6.5\n",
       "9     4.5\n",
       "10    5.5\n",
       "11    6.5\n",
       "Name: value, dtype: float64"
      ]
     },
     "execution_count": 46,
     "metadata": {},
     "output_type": "execute_result"
    }
   ],
   "source": [
    "g.transform(lambda x: x.mean())"
   ]
  },
  {
   "cell_type": "code",
   "execution_count": 47,
   "metadata": {
    "collapsed": false,
    "deletable": true,
    "editable": true
   },
   "outputs": [
    {
     "data": {
      "text/plain": [
       "0     4.5\n",
       "1     5.5\n",
       "2     6.5\n",
       "3     4.5\n",
       "4     5.5\n",
       "5     6.5\n",
       "6     4.5\n",
       "7     5.5\n",
       "8     6.5\n",
       "9     4.5\n",
       "10    5.5\n",
       "11    6.5\n",
       "Name: value, dtype: float64"
      ]
     },
     "execution_count": 47,
     "metadata": {},
     "output_type": "execute_result"
    }
   ],
   "source": [
    "g.transform('mean')"
   ]
  },
  {
   "cell_type": "code",
   "execution_count": 48,
   "metadata": {
    "collapsed": false,
    "deletable": true,
    "editable": true
   },
   "outputs": [
    {
     "data": {
      "text/plain": [
       "0      0.0\n",
       "1      2.0\n",
       "2      4.0\n",
       "3      6.0\n",
       "4      8.0\n",
       "5     10.0\n",
       "6     12.0\n",
       "7     14.0\n",
       "8     16.0\n",
       "9     18.0\n",
       "10    20.0\n",
       "11    22.0\n",
       "Name: value, dtype: float64"
      ]
     },
     "execution_count": 48,
     "metadata": {},
     "output_type": "execute_result"
    }
   ],
   "source": [
    "g.transform(lambda x: x * 2)"
   ]
  },
  {
   "cell_type": "code",
   "execution_count": 49,
   "metadata": {
    "collapsed": false,
    "deletable": true,
    "editable": true
   },
   "outputs": [
    {
     "data": {
      "text/plain": [
       "0     4.0\n",
       "1     4.0\n",
       "2     4.0\n",
       "3     3.0\n",
       "4     3.0\n",
       "5     3.0\n",
       "6     2.0\n",
       "7     2.0\n",
       "8     2.0\n",
       "9     1.0\n",
       "10    1.0\n",
       "11    1.0\n",
       "Name: value, dtype: float64"
      ]
     },
     "execution_count": 49,
     "metadata": {},
     "output_type": "execute_result"
    }
   ],
   "source": [
    "g.transform(lambda x: x.rank(ascending=False))"
   ]
  },
  {
   "cell_type": "code",
   "execution_count": 50,
   "metadata": {
    "collapsed": false,
    "deletable": true,
    "editable": true
   },
   "outputs": [],
   "source": [
    "def normalize(x):\n",
    "    return (x - x.mean()) / x.std()"
   ]
  },
  {
   "cell_type": "code",
   "execution_count": 51,
   "metadata": {
    "collapsed": false,
    "deletable": true,
    "editable": true
   },
   "outputs": [
    {
     "data": {
      "text/plain": [
       "0    -1.161895\n",
       "1    -1.161895\n",
       "2    -1.161895\n",
       "3    -0.387298\n",
       "4    -0.387298\n",
       "5    -0.387298\n",
       "6     0.387298\n",
       "7     0.387298\n",
       "8     0.387298\n",
       "9     1.161895\n",
       "10    1.161895\n",
       "11    1.161895\n",
       "Name: value, dtype: float64"
      ]
     },
     "execution_count": 51,
     "metadata": {},
     "output_type": "execute_result"
    }
   ],
   "source": [
    "g.transform(normalize)\n",
    "g.apply(normalize)"
   ]
  },
  {
   "cell_type": "code",
   "execution_count": 52,
   "metadata": {
    "collapsed": false,
    "deletable": true,
    "editable": true
   },
   "outputs": [
    {
     "data": {
      "text/plain": [
       "0    -1.161895\n",
       "1    -1.161895\n",
       "2    -1.161895\n",
       "3    -0.387298\n",
       "4    -0.387298\n",
       "5    -0.387298\n",
       "6     0.387298\n",
       "7     0.387298\n",
       "8     0.387298\n",
       "9     1.161895\n",
       "10    1.161895\n",
       "11    1.161895\n",
       "Name: value, dtype: float64"
      ]
     },
     "execution_count": 52,
     "metadata": {},
     "output_type": "execute_result"
    }
   ],
   "source": [
    "g.transform('mean')\n",
    "normalized = (df['value'] - g.transform('mean')) / g.transform('std')\n",
    "normalized"
   ]
  },
  {
   "cell_type": "markdown",
   "metadata": {
    "deletable": true,
    "editable": true
   },
   "source": [
    "### Grouped Time Resampling"
   ]
  },
  {
   "cell_type": "code",
   "execution_count": 53,
   "metadata": {
    "collapsed": false,
    "deletable": true,
    "editable": true
   },
   "outputs": [
    {
     "data": {
      "text/html": [
       "<div>\n",
       "<table border=\"1\" class=\"dataframe\">\n",
       "  <thead>\n",
       "    <tr style=\"text-align: right;\">\n",
       "      <th></th>\n",
       "      <th>time</th>\n",
       "      <th>value</th>\n",
       "    </tr>\n",
       "  </thead>\n",
       "  <tbody>\n",
       "    <tr>\n",
       "      <th>0</th>\n",
       "      <td>2017-05-20 00:00:00</td>\n",
       "      <td>0</td>\n",
       "    </tr>\n",
       "    <tr>\n",
       "      <th>1</th>\n",
       "      <td>2017-05-20 00:01:00</td>\n",
       "      <td>1</td>\n",
       "    </tr>\n",
       "    <tr>\n",
       "      <th>2</th>\n",
       "      <td>2017-05-20 00:02:00</td>\n",
       "      <td>2</td>\n",
       "    </tr>\n",
       "    <tr>\n",
       "      <th>3</th>\n",
       "      <td>2017-05-20 00:03:00</td>\n",
       "      <td>3</td>\n",
       "    </tr>\n",
       "    <tr>\n",
       "      <th>4</th>\n",
       "      <td>2017-05-20 00:04:00</td>\n",
       "      <td>4</td>\n",
       "    </tr>\n",
       "    <tr>\n",
       "      <th>5</th>\n",
       "      <td>2017-05-20 00:05:00</td>\n",
       "      <td>5</td>\n",
       "    </tr>\n",
       "    <tr>\n",
       "      <th>6</th>\n",
       "      <td>2017-05-20 00:06:00</td>\n",
       "      <td>6</td>\n",
       "    </tr>\n",
       "    <tr>\n",
       "      <th>7</th>\n",
       "      <td>2017-05-20 00:07:00</td>\n",
       "      <td>7</td>\n",
       "    </tr>\n",
       "    <tr>\n",
       "      <th>8</th>\n",
       "      <td>2017-05-20 00:08:00</td>\n",
       "      <td>8</td>\n",
       "    </tr>\n",
       "    <tr>\n",
       "      <th>9</th>\n",
       "      <td>2017-05-20 00:09:00</td>\n",
       "      <td>9</td>\n",
       "    </tr>\n",
       "    <tr>\n",
       "      <th>10</th>\n",
       "      <td>2017-05-20 00:10:00</td>\n",
       "      <td>10</td>\n",
       "    </tr>\n",
       "    <tr>\n",
       "      <th>11</th>\n",
       "      <td>2017-05-20 00:11:00</td>\n",
       "      <td>11</td>\n",
       "    </tr>\n",
       "    <tr>\n",
       "      <th>12</th>\n",
       "      <td>2017-05-20 00:12:00</td>\n",
       "      <td>12</td>\n",
       "    </tr>\n",
       "    <tr>\n",
       "      <th>13</th>\n",
       "      <td>2017-05-20 00:13:00</td>\n",
       "      <td>13</td>\n",
       "    </tr>\n",
       "    <tr>\n",
       "      <th>14</th>\n",
       "      <td>2017-05-20 00:14:00</td>\n",
       "      <td>14</td>\n",
       "    </tr>\n",
       "  </tbody>\n",
       "</table>\n",
       "</div>"
      ],
      "text/plain": [
       "                  time  value\n",
       "0  2017-05-20 00:00:00      0\n",
       "1  2017-05-20 00:01:00      1\n",
       "2  2017-05-20 00:02:00      2\n",
       "3  2017-05-20 00:03:00      3\n",
       "4  2017-05-20 00:04:00      4\n",
       "5  2017-05-20 00:05:00      5\n",
       "6  2017-05-20 00:06:00      6\n",
       "7  2017-05-20 00:07:00      7\n",
       "8  2017-05-20 00:08:00      8\n",
       "9  2017-05-20 00:09:00      9\n",
       "10 2017-05-20 00:10:00     10\n",
       "11 2017-05-20 00:11:00     11\n",
       "12 2017-05-20 00:12:00     12\n",
       "13 2017-05-20 00:13:00     13\n",
       "14 2017-05-20 00:14:00     14"
      ]
     },
     "execution_count": 53,
     "metadata": {},
     "output_type": "execute_result"
    }
   ],
   "source": [
    "N = 15\n",
    "times = pd.date_range('2017-05-20 00:00', freq='1min', periods=N)\n",
    "df = pd.DataFrame({'time': times,\n",
    "                   'value': np.arange(N)})\n",
    "df"
   ]
  },
  {
   "cell_type": "code",
   "execution_count": 54,
   "metadata": {
    "collapsed": false,
    "deletable": true,
    "editable": true
   },
   "outputs": [
    {
     "data": {
      "text/html": [
       "<div>\n",
       "<table border=\"1\" class=\"dataframe\">\n",
       "  <thead>\n",
       "    <tr style=\"text-align: right;\">\n",
       "      <th></th>\n",
       "      <th>value</th>\n",
       "    </tr>\n",
       "    <tr>\n",
       "      <th>time</th>\n",
       "      <th></th>\n",
       "    </tr>\n",
       "  </thead>\n",
       "  <tbody>\n",
       "    <tr>\n",
       "      <th>2017-05-20 00:00:00</th>\n",
       "      <td>5</td>\n",
       "    </tr>\n",
       "    <tr>\n",
       "      <th>2017-05-20 00:05:00</th>\n",
       "      <td>5</td>\n",
       "    </tr>\n",
       "    <tr>\n",
       "      <th>2017-05-20 00:10:00</th>\n",
       "      <td>5</td>\n",
       "    </tr>\n",
       "  </tbody>\n",
       "</table>\n",
       "</div>"
      ],
      "text/plain": [
       "                     value\n",
       "time                      \n",
       "2017-05-20 00:00:00      5\n",
       "2017-05-20 00:05:00      5\n",
       "2017-05-20 00:10:00      5"
      ]
     },
     "execution_count": 54,
     "metadata": {},
     "output_type": "execute_result"
    }
   ],
   "source": [
    "df.set_index('time').resample('5min').count()"
   ]
  },
  {
   "cell_type": "code",
   "execution_count": 55,
   "metadata": {
    "collapsed": false,
    "deletable": true,
    "editable": true
   },
   "outputs": [
    {
     "data": {
      "text/html": [
       "<div>\n",
       "<table border=\"1\" class=\"dataframe\">\n",
       "  <thead>\n",
       "    <tr style=\"text-align: right;\">\n",
       "      <th></th>\n",
       "      <th>key</th>\n",
       "      <th>time</th>\n",
       "      <th>value</th>\n",
       "    </tr>\n",
       "  </thead>\n",
       "  <tbody>\n",
       "    <tr>\n",
       "      <th>0</th>\n",
       "      <td>a</td>\n",
       "      <td>2017-05-20 00:00:00</td>\n",
       "      <td>0.0</td>\n",
       "    </tr>\n",
       "    <tr>\n",
       "      <th>1</th>\n",
       "      <td>b</td>\n",
       "      <td>2017-05-20 00:00:00</td>\n",
       "      <td>1.0</td>\n",
       "    </tr>\n",
       "    <tr>\n",
       "      <th>2</th>\n",
       "      <td>c</td>\n",
       "      <td>2017-05-20 00:00:00</td>\n",
       "      <td>2.0</td>\n",
       "    </tr>\n",
       "    <tr>\n",
       "      <th>3</th>\n",
       "      <td>a</td>\n",
       "      <td>2017-05-20 00:01:00</td>\n",
       "      <td>3.0</td>\n",
       "    </tr>\n",
       "    <tr>\n",
       "      <th>4</th>\n",
       "      <td>b</td>\n",
       "      <td>2017-05-20 00:01:00</td>\n",
       "      <td>4.0</td>\n",
       "    </tr>\n",
       "    <tr>\n",
       "      <th>5</th>\n",
       "      <td>c</td>\n",
       "      <td>2017-05-20 00:01:00</td>\n",
       "      <td>5.0</td>\n",
       "    </tr>\n",
       "    <tr>\n",
       "      <th>6</th>\n",
       "      <td>a</td>\n",
       "      <td>2017-05-20 00:02:00</td>\n",
       "      <td>6.0</td>\n",
       "    </tr>\n",
       "  </tbody>\n",
       "</table>\n",
       "</div>"
      ],
      "text/plain": [
       "  key                time  value\n",
       "0   a 2017-05-20 00:00:00    0.0\n",
       "1   b 2017-05-20 00:00:00    1.0\n",
       "2   c 2017-05-20 00:00:00    2.0\n",
       "3   a 2017-05-20 00:01:00    3.0\n",
       "4   b 2017-05-20 00:01:00    4.0\n",
       "5   c 2017-05-20 00:01:00    5.0\n",
       "6   a 2017-05-20 00:02:00    6.0"
      ]
     },
     "execution_count": 55,
     "metadata": {},
     "output_type": "execute_result"
    }
   ],
   "source": [
    "df2 = pd.DataFrame({'time': times.repeat(3),\n",
    "                    'key': np.tile(['a', 'b', 'c'], N),\n",
    "                    'value': np.arange(N * 3.)})\n",
    "df2[:7]"
   ]
  },
  {
   "cell_type": "code",
   "execution_count": 56,
   "metadata": {
    "collapsed": false,
    "deletable": true,
    "editable": true
   },
   "outputs": [],
   "source": [
    "time_key = pd.TimeGrouper('5min')"
   ]
  },
  {
   "cell_type": "code",
   "execution_count": 57,
   "metadata": {
    "collapsed": false,
    "deletable": true,
    "editable": true
   },
   "outputs": [
    {
     "data": {
      "text/html": [
       "<div>\n",
       "<table border=\"1\" class=\"dataframe\">\n",
       "  <thead>\n",
       "    <tr style=\"text-align: right;\">\n",
       "      <th></th>\n",
       "      <th>key</th>\n",
       "      <th>time</th>\n",
       "      <th>value</th>\n",
       "    </tr>\n",
       "  </thead>\n",
       "  <tbody>\n",
       "    <tr>\n",
       "      <th>0</th>\n",
       "      <td>a</td>\n",
       "      <td>2017-05-20 00:00:00</td>\n",
       "      <td>30.0</td>\n",
       "    </tr>\n",
       "    <tr>\n",
       "      <th>1</th>\n",
       "      <td>a</td>\n",
       "      <td>2017-05-20 00:05:00</td>\n",
       "      <td>105.0</td>\n",
       "    </tr>\n",
       "    <tr>\n",
       "      <th>2</th>\n",
       "      <td>a</td>\n",
       "      <td>2017-05-20 00:10:00</td>\n",
       "      <td>180.0</td>\n",
       "    </tr>\n",
       "    <tr>\n",
       "      <th>3</th>\n",
       "      <td>b</td>\n",
       "      <td>2017-05-20 00:00:00</td>\n",
       "      <td>35.0</td>\n",
       "    </tr>\n",
       "    <tr>\n",
       "      <th>4</th>\n",
       "      <td>b</td>\n",
       "      <td>2017-05-20 00:05:00</td>\n",
       "      <td>110.0</td>\n",
       "    </tr>\n",
       "    <tr>\n",
       "      <th>5</th>\n",
       "      <td>b</td>\n",
       "      <td>2017-05-20 00:10:00</td>\n",
       "      <td>185.0</td>\n",
       "    </tr>\n",
       "    <tr>\n",
       "      <th>6</th>\n",
       "      <td>c</td>\n",
       "      <td>2017-05-20 00:00:00</td>\n",
       "      <td>40.0</td>\n",
       "    </tr>\n",
       "    <tr>\n",
       "      <th>7</th>\n",
       "      <td>c</td>\n",
       "      <td>2017-05-20 00:05:00</td>\n",
       "      <td>115.0</td>\n",
       "    </tr>\n",
       "    <tr>\n",
       "      <th>8</th>\n",
       "      <td>c</td>\n",
       "      <td>2017-05-20 00:10:00</td>\n",
       "      <td>190.0</td>\n",
       "    </tr>\n",
       "  </tbody>\n",
       "</table>\n",
       "</div>"
      ],
      "text/plain": [
       "  key                time  value\n",
       "0   a 2017-05-20 00:00:00   30.0\n",
       "1   a 2017-05-20 00:05:00  105.0\n",
       "2   a 2017-05-20 00:10:00  180.0\n",
       "3   b 2017-05-20 00:00:00   35.0\n",
       "4   b 2017-05-20 00:05:00  110.0\n",
       "5   b 2017-05-20 00:10:00  185.0\n",
       "6   c 2017-05-20 00:00:00   40.0\n",
       "7   c 2017-05-20 00:05:00  115.0\n",
       "8   c 2017-05-20 00:10:00  190.0"
      ]
     },
     "execution_count": 57,
     "metadata": {},
     "output_type": "execute_result"
    }
   ],
   "source": [
    "resampled = (df2.set_index('time')\n",
    "             .groupby(['key', time_key])\n",
    "             .sum())\n",
    "resampled\n",
    "resampled.reset_index()"
   ]
  },
  {
   "cell_type": "markdown",
   "metadata": {
    "deletable": true,
    "editable": true
   },
   "source": [
    "## Techniques for Method Chaining"
   ]
  },
  {
   "cell_type": "markdown",
   "metadata": {
    "deletable": true,
    "editable": true
   },
   "source": [
    "```python\n",
    "df = load_data()\n",
    "df2 = df[df['col2'] < 0]\n",
    "df2['col1_demeaned'] = df2['col1'] - df2['col1'].mean()\n",
    "result = df2.groupby('key').col1_demeaned.std()\n",
    "```"
   ]
  },
  {
   "cell_type": "markdown",
   "metadata": {
    "deletable": true,
    "editable": true
   },
   "source": [
    "```python\n",
    "# Usual non-functional way\n",
    "df2 = df.copy()\n",
    "df2['k'] = v\n",
    "\n",
    "# Functional assign way\n",
    "df2 = df.assign(k=v)\n",
    "```"
   ]
  },
  {
   "cell_type": "markdown",
   "metadata": {
    "deletable": true,
    "editable": true
   },
   "source": [
    "```python\n",
    "result = (df2.assign(col1_demeaned=df2.col1 - df2.col2.mean())\n",
    "          .groupby('key')\n",
    "          .col1_demeaned.std())\n",
    "```"
   ]
  },
  {
   "cell_type": "markdown",
   "metadata": {
    "deletable": true,
    "editable": true
   },
   "source": [
    "```python\n",
    "df = load_data()\n",
    "df2 = df[df['col2'] < 0]\n",
    "```"
   ]
  },
  {
   "cell_type": "markdown",
   "metadata": {
    "deletable": true,
    "editable": true
   },
   "source": [
    "```python\n",
    "df = (load_data()\n",
    "      [lambda x: x['col2'] < 0])\n",
    "```"
   ]
  },
  {
   "cell_type": "markdown",
   "metadata": {
    "deletable": true,
    "editable": true
   },
   "source": [
    "```python\n",
    "result = (load_data()\n",
    "          [lambda x: x.col2 < 0]\n",
    "          .assign(col1_demeaned=lambda x: x.col1 - x.col1.mean())\n",
    "          .groupby('key')\n",
    "          .col1_demeaned.std())\n",
    "```"
   ]
  },
  {
   "cell_type": "markdown",
   "metadata": {
    "deletable": true,
    "editable": true
   },
   "source": [
    "### The pipe Method"
   ]
  },
  {
   "cell_type": "markdown",
   "metadata": {
    "deletable": true,
    "editable": true
   },
   "source": [
    "```python\n",
    "a = f(df, arg1=v1)\n",
    "b = g(a, v2, arg3=v3)\n",
    "c = h(b, arg4=v4)\n",
    "```"
   ]
  },
  {
   "cell_type": "markdown",
   "metadata": {
    "deletable": true,
    "editable": true
   },
   "source": [
    "```python\n",
    "result = (df.pipe(f, arg1=v1)\n",
    "          .pipe(g, v2, arg3=v3)\n",
    "          .pipe(h, arg4=v4))\n",
    "```"
   ]
  },
  {
   "cell_type": "markdown",
   "metadata": {
    "deletable": true,
    "editable": true
   },
   "source": [
    "```python\n",
    "g = df.groupby(['key1', 'key2'])\n",
    "df['col1'] = df['col1'] - g.transform('mean')\n",
    "```"
   ]
  },
  {
   "cell_type": "markdown",
   "metadata": {
    "deletable": true,
    "editable": true
   },
   "source": [
    "```python\n",
    "def group_demean(df, by, cols):\n",
    "    result = df.copy()\n",
    "    g = df.groupby(by)\n",
    "    for c in cols:\n",
    "        result[c] = df[c] - g[c].transform('mean')\n",
    "    return result\n",
    "```"
   ]
  },
  {
   "cell_type": "markdown",
   "metadata": {
    "deletable": true,
    "editable": true
   },
   "source": [
    "```python\n",
    "result = (df[df.col1 < 0]\n",
    "          .pipe(group_demean, ['key1', 'key2'], ['col1']))\n",
    "```"
   ]
  },
  {
   "cell_type": "code",
   "execution_count": null,
   "metadata": {
    "collapsed": true,
    "deletable": true,
    "editable": true
   },
   "outputs": [],
   "source": [
    "pd.options.display.max_rows = PREVIOUS_MAX_ROWS"
   ]
  },
  {
   "cell_type": "markdown",
   "metadata": {
    "deletable": true,
    "editable": true
   },
   "source": [
    "## Conclusion"
   ]
  }
 ],
 "metadata": {
  "kernelspec": {
   "display_name": "Python 3",
   "language": "python",
   "name": "python3"
  },
  "language_info": {
   "codemirror_mode": {
    "name": "ipython",
    "version": 3
   },
   "file_extension": ".py",
   "mimetype": "text/x-python",
   "name": "python",
   "nbconvert_exporter": "python",
   "pygments_lexer": "ipython3",
   "version": "3.6.0"
  }
 },
 "nbformat": 4,
 "nbformat_minor": 0
}
