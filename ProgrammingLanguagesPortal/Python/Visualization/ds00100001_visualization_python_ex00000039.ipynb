{
 "cells": [
  {
   "cell_type": "code",
   "execution_count": null,
   "metadata": {
    "collapsed": true
   },
   "outputs": [],
   "source": [
    "# encoding=utf8"
   ]
  },
  {
   "cell_type": "markdown",
   "metadata": {},
   "source": [
    "# Visualization\n"
   ]
  },
  {
   "cell_type": "code",
   "execution_count": 1,
   "metadata": {
    "collapsed": true
   },
   "outputs": [],
   "source": [
    "%matplotlib inline\n",
    "\n",
    "import matplotlib.pyplot as plt\n",
    "import numpy as np"
   ]
  },
  {
   "cell_type": "markdown",
   "metadata": {},
   "source": [
    "## Setup\n",
    "\n",
    "Just as we did in our last lesson, we want to turn off interactive mode for this lesson, since we want to be in complete control of when figures are displayed and destroyed."
   ]
  },
  {
   "cell_type": "code",
   "execution_count": 2,
   "metadata": {
    "collapsed": false
   },
   "outputs": [],
   "source": [
    "plt.ioff()"
   ]
  },
  {
   "cell_type": "markdown",
   "metadata": {},
   "source": [
    "The creator's of matplotlib are well aware that having a stateful layer of abstraction can lead to some confusing behavior at times, especially when you don't know how that layer of abstraction is doing its job, and so they've kindly added a few warnings to help out the developer whenever they engage in possibly problematic behavior. These warnings are made using the python standard library's `warnings` module. \n",
    "\n",
    "Now, if you're unfamiliar with warnings in python, they work very much like exceptions---in fact, all warnings inherit from the `Exception` class---the main difference is that issuing a warning does not halt your program. Instead, when a warning is issued, depending on the action associated with that warning type, a message is printed to `stderr`, and normal operation is resumed. The default action for all warnings is to be displayed only the first time the warning is issued and never again. The problem with this default behavior for us is that, the very first time we run into a possible problem, we'll see a warning, but every time after the first, it will appear as if nothing is wrong. In other words, we won't be able to tell if we've actually fixed the problem. To be sure that our fix has actually solved the problem, we'll need matplotlib's warnings to show up every time a problem is encountered, and to do that we'll need to change the default behavior for a specific class of warnings. \n",
    "\n",
    "In the following bit of code, we import the `warnings` module and change the behavior of the `RuntimeWarning` class to show the warning message every time the problem is encountered and not just the first time."
   ]
  },
  {
   "cell_type": "code",
   "execution_count": 3,
   "metadata": {
    "collapsed": true
   },
   "outputs": [],
   "source": [
    "import warnings\n",
    "warnings.simplefilter(action=\"always\", category=RuntimeWarning)"
   ]
  },
  {
   "cell_type": "markdown",
   "metadata": {},
   "source": [
    "## Memory Management\n",
    "\n",
    "Now that we have our environment properly configured to allow us to explore some bad behavior with the `pyplot` module, we're ready to see what happens when we unknowingly subvert `pyplot`'s automatic handling of the current figure. \n",
    "\n",
    "One of the common calls that you'll see in sample matplotlib code, and in an earlier example or two from this course, is a call to the `pyplot.figure` function. Reasons for calling this function vary, but the code below uses it to change the default size of the current figure."
   ]
  },
  {
   "cell_type": "code",
   "execution_count": 6,
   "metadata": {
    "collapsed": false
   },
   "outputs": [
    {
     "name": "stderr",
     "output_type": "stream",
     "text": [
      "/Users/bater.makhabel/anaconda3/lib/python3.6/site-packages/matplotlib/pyplot.py:524: RuntimeWarning: More than 20 figures have been opened. Figures created through the pyplot interface (`matplotlib.pyplot.figure`) are retained until explicitly closed and may consume too much memory. (To control this warning, see the rcParam `figure.max_open_warning`).\n",
      "  max_open_warning, RuntimeWarning)\n",
      "/Users/bater.makhabel/anaconda3/lib/python3.6/site-packages/matplotlib/pyplot.py:524: RuntimeWarning: More than 20 figures have been opened. Figures created through the pyplot interface (`matplotlib.pyplot.figure`) are retained until explicitly closed and may consume too much memory. (To control this warning, see the rcParam `figure.max_open_warning`).\n",
      "  max_open_warning, RuntimeWarning)\n",
      "/Users/bater.makhabel/anaconda3/lib/python3.6/site-packages/matplotlib/pyplot.py:524: RuntimeWarning: More than 20 figures have been opened. Figures created through the pyplot interface (`matplotlib.pyplot.figure`) are retained until explicitly closed and may consume too much memory. (To control this warning, see the rcParam `figure.max_open_warning`).\n",
      "  max_open_warning, RuntimeWarning)\n",
      "/Users/bater.makhabel/anaconda3/lib/python3.6/site-packages/matplotlib/pyplot.py:524: RuntimeWarning: More than 20 figures have been opened. Figures created through the pyplot interface (`matplotlib.pyplot.figure`) are retained until explicitly closed and may consume too much memory. (To control this warning, see the rcParam `figure.max_open_warning`).\n",
      "  max_open_warning, RuntimeWarning)\n",
      "/Users/bater.makhabel/anaconda3/lib/python3.6/site-packages/matplotlib/pyplot.py:524: RuntimeWarning: More than 20 figures have been opened. Figures created through the pyplot interface (`matplotlib.pyplot.figure`) are retained until explicitly closed and may consume too much memory. (To control this warning, see the rcParam `figure.max_open_warning`).\n",
      "  max_open_warning, RuntimeWarning)\n",
      "/Users/bater.makhabel/anaconda3/lib/python3.6/site-packages/matplotlib/pyplot.py:524: RuntimeWarning: More than 20 figures have been opened. Figures created through the pyplot interface (`matplotlib.pyplot.figure`) are retained until explicitly closed and may consume too much memory. (To control this warning, see the rcParam `figure.max_open_warning`).\n",
      "  max_open_warning, RuntimeWarning)\n",
      "/Users/bater.makhabel/anaconda3/lib/python3.6/site-packages/matplotlib/pyplot.py:524: RuntimeWarning: More than 20 figures have been opened. Figures created through the pyplot interface (`matplotlib.pyplot.figure`) are retained until explicitly closed and may consume too much memory. (To control this warning, see the rcParam `figure.max_open_warning`).\n",
      "  max_open_warning, RuntimeWarning)\n",
      "/Users/bater.makhabel/anaconda3/lib/python3.6/site-packages/matplotlib/pyplot.py:524: RuntimeWarning: More than 20 figures have been opened. Figures created through the pyplot interface (`matplotlib.pyplot.figure`) are retained until explicitly closed and may consume too much memory. (To control this warning, see the rcParam `figure.max_open_warning`).\n",
      "  max_open_warning, RuntimeWarning)\n",
      "/Users/bater.makhabel/anaconda3/lib/python3.6/site-packages/matplotlib/pyplot.py:524: RuntimeWarning: More than 20 figures have been opened. Figures created through the pyplot interface (`matplotlib.pyplot.figure`) are retained until explicitly closed and may consume too much memory. (To control this warning, see the rcParam `figure.max_open_warning`).\n",
      "  max_open_warning, RuntimeWarning)\n",
      "/Users/bater.makhabel/anaconda3/lib/python3.6/site-packages/matplotlib/pyplot.py:524: RuntimeWarning: More than 20 figures have been opened. Figures created through the pyplot interface (`matplotlib.pyplot.figure`) are retained until explicitly closed and may consume too much memory. (To control this warning, see the rcParam `figure.max_open_warning`).\n",
      "  max_open_warning, RuntimeWarning)\n",
      "/Users/bater.makhabel/anaconda3/lib/python3.6/site-packages/matplotlib/pyplot.py:524: RuntimeWarning: More than 20 figures have been opened. Figures created through the pyplot interface (`matplotlib.pyplot.figure`) are retained until explicitly closed and may consume too much memory. (To control this warning, see the rcParam `figure.max_open_warning`).\n",
      "  max_open_warning, RuntimeWarning)\n",
      "/Users/bater.makhabel/anaconda3/lib/python3.6/site-packages/matplotlib/pyplot.py:524: RuntimeWarning: More than 20 figures have been opened. Figures created through the pyplot interface (`matplotlib.pyplot.figure`) are retained until explicitly closed and may consume too much memory. (To control this warning, see the rcParam `figure.max_open_warning`).\n",
      "  max_open_warning, RuntimeWarning)\n",
      "/Users/bater.makhabel/anaconda3/lib/python3.6/site-packages/matplotlib/pyplot.py:524: RuntimeWarning: More than 20 figures have been opened. Figures created through the pyplot interface (`matplotlib.pyplot.figure`) are retained until explicitly closed and may consume too much memory. (To control this warning, see the rcParam `figure.max_open_warning`).\n",
      "  max_open_warning, RuntimeWarning)\n",
      "/Users/bater.makhabel/anaconda3/lib/python3.6/site-packages/matplotlib/pyplot.py:524: RuntimeWarning: More than 20 figures have been opened. Figures created through the pyplot interface (`matplotlib.pyplot.figure`) are retained until explicitly closed and may consume too much memory. (To control this warning, see the rcParam `figure.max_open_warning`).\n",
      "  max_open_warning, RuntimeWarning)\n",
      "/Users/bater.makhabel/anaconda3/lib/python3.6/site-packages/matplotlib/pyplot.py:524: RuntimeWarning: More than 20 figures have been opened. Figures created through the pyplot interface (`matplotlib.pyplot.figure`) are retained until explicitly closed and may consume too much memory. (To control this warning, see the rcParam `figure.max_open_warning`).\n",
      "  max_open_warning, RuntimeWarning)\n",
      "/Users/bater.makhabel/anaconda3/lib/python3.6/site-packages/matplotlib/pyplot.py:524: RuntimeWarning: More than 20 figures have been opened. Figures created through the pyplot interface (`matplotlib.pyplot.figure`) are retained until explicitly closed and may consume too much memory. (To control this warning, see the rcParam `figure.max_open_warning`).\n",
      "  max_open_warning, RuntimeWarning)\n",
      "/Users/bater.makhabel/anaconda3/lib/python3.6/site-packages/matplotlib/pyplot.py:524: RuntimeWarning: More than 20 figures have been opened. Figures created through the pyplot interface (`matplotlib.pyplot.figure`) are retained until explicitly closed and may consume too much memory. (To control this warning, see the rcParam `figure.max_open_warning`).\n",
      "  max_open_warning, RuntimeWarning)\n",
      "/Users/bater.makhabel/anaconda3/lib/python3.6/site-packages/matplotlib/pyplot.py:524: RuntimeWarning: More than 20 figures have been opened. Figures created through the pyplot interface (`matplotlib.pyplot.figure`) are retained until explicitly closed and may consume too much memory. (To control this warning, see the rcParam `figure.max_open_warning`).\n",
      "  max_open_warning, RuntimeWarning)\n",
      "/Users/bater.makhabel/anaconda3/lib/python3.6/site-packages/matplotlib/pyplot.py:524: RuntimeWarning: More than 20 figures have been opened. Figures created through the pyplot interface (`matplotlib.pyplot.figure`) are retained until explicitly closed and may consume too much memory. (To control this warning, see the rcParam `figure.max_open_warning`).\n",
      "  max_open_warning, RuntimeWarning)\n",
      "/Users/bater.makhabel/anaconda3/lib/python3.6/site-packages/matplotlib/pyplot.py:524: RuntimeWarning: More than 20 figures have been opened. Figures created through the pyplot interface (`matplotlib.pyplot.figure`) are retained until explicitly closed and may consume too much memory. (To control this warning, see the rcParam `figure.max_open_warning`).\n",
      "  max_open_warning, RuntimeWarning)\n",
      "/Users/bater.makhabel/anaconda3/lib/python3.6/site-packages/matplotlib/pyplot.py:524: RuntimeWarning: More than 20 figures have been opened. Figures created through the pyplot interface (`matplotlib.pyplot.figure`) are retained until explicitly closed and may consume too much memory. (To control this warning, see the rcParam `figure.max_open_warning`).\n",
      "  max_open_warning, RuntimeWarning)\n"
     ]
    }
   ],
   "source": [
    "for i in range(21):\n",
    "    plt.figure(figsize=(5, 5))\n",
    "    plt.hist(np.random.randn(1000))"
   ]
  },
  {
   "cell_type": "markdown",
   "metadata": {},
   "source": [
    "So, it looks like our code above got a warning saying that we've created too many figures.\n",
    "\n",
    "### Why does this happen?\n",
    "\n",
    "The `pyplot.figure` function, if you'll remember from our last lesson, creates a new instance of the `Figure` class, pushes it onto `pyplot`'s figure stack, and returns the new `Figure` object to the calling function. In short, it will create a new figure, and set it up as the current figure, every time it's called. The reason that this is a problem, is that every time through the loop, we create a new figure and place it on top of the stack, and so our stack just grows and grows, and we can see this by calling the `pyplot.get_fignums` function to show all of the figures in the stack."
   ]
  },
  {
   "cell_type": "code",
   "execution_count": 7,
   "metadata": {
    "collapsed": false
   },
   "outputs": [
    {
     "data": {
      "text/plain": [
       "[1,\n",
       " 2,\n",
       " 3,\n",
       " 4,\n",
       " 5,\n",
       " 6,\n",
       " 7,\n",
       " 8,\n",
       " 9,\n",
       " 10,\n",
       " 11,\n",
       " 12,\n",
       " 13,\n",
       " 14,\n",
       " 15,\n",
       " 16,\n",
       " 17,\n",
       " 18,\n",
       " 19,\n",
       " 20,\n",
       " 21,\n",
       " 22,\n",
       " 23,\n",
       " 24,\n",
       " 25,\n",
       " 26,\n",
       " 27,\n",
       " 28,\n",
       " 29,\n",
       " 30,\n",
       " 31,\n",
       " 32,\n",
       " 33,\n",
       " 34,\n",
       " 35,\n",
       " 36,\n",
       " 37,\n",
       " 38,\n",
       " 39,\n",
       " 40,\n",
       " 41,\n",
       " 42,\n",
       " 43,\n",
       " 44,\n",
       " 45,\n",
       " 46,\n",
       " 47,\n",
       " 48,\n",
       " 49,\n",
       " 50,\n",
       " 51,\n",
       " 52,\n",
       " 53,\n",
       " 54,\n",
       " 55,\n",
       " 56,\n",
       " 57,\n",
       " 58,\n",
       " 59,\n",
       " 60,\n",
       " 61,\n",
       " 62,\n",
       " 63]"
      ]
     },
     "execution_count": 7,
     "metadata": {},
     "output_type": "execute_result"
    }
   ],
   "source": [
    "plt.get_fignums()"
   ]
  },
  {
   "cell_type": "markdown",
   "metadata": {},
   "source": [
    "We can see from the call above, that we currently have 21 active `Figure` objects in the stack---far more than we actually need. \n",
    "\n",
    "### How do we solve the problem?\n",
    "\n",
    "Since the majority of the time that you're interacting with `pyplot`, you're most likely doing some interactive plotting of data, you'll likely never run into this problem as long as you let `pyplot` manage the creation of new `Figure` objects rather than bypassing it by using the `pyplot.figure` function as we just did. The `pyplot` interface normally takes care of everything for you by registering callbacks that destroy the current figure every time it's displayed. This behavior ensures that only one figure exists on the stack at any given time. \n",
    "\n",
    "In the case where you're running a script to create and save several figures, instead of interactively plotting your data, you'll again have just one figure on the stack, but if you'll remember from our last lesson, that figure will be reused, so it will be up to you to call the `pyplot.clf` function to clear the current figure every time you want to draw something to it.\n",
    "\n",
    "So, the only problem here is that our new figures are not being closed. If, however, we were to close the new figure at the end of every loop, that would resolve the problem and make our script act like it normally would had we not bypassed `pyplot`'s management of the current `Figure` object.\n",
    "\n",
    "In the next cell, we call the `pyplot.close` function and pass in the parameter `\"all\"` to make sure we close everything in the current stack to reset the `pyplot` stateful interface."
   ]
  },
  {
   "cell_type": "code",
   "execution_count": 8,
   "metadata": {
    "collapsed": false
   },
   "outputs": [
    {
     "data": {
      "text/plain": [
       "[]"
      ]
     },
     "execution_count": 8,
     "metadata": {},
     "output_type": "execute_result"
    }
   ],
   "source": [
    "plt.close(\"all\")\n",
    "# Show the stack just to be sure it's empty\n",
    "plt.get_fignums()"
   ]
  },
  {
   "cell_type": "markdown",
   "metadata": {},
   "source": [
    "Then, we perform the exact same task that we did above, however, this time, we'll call the `pyplot.close` function to close the current figure after we've finished with it, i.e., at the end of every loop. Doing so should resolve the issue we saw earlier by making sure that we have, at most, only one figure in our stack at all times."
   ]
  },
  {
   "cell_type": "code",
   "execution_count": 9,
   "metadata": {
    "collapsed": false
   },
   "outputs": [],
   "source": [
    "for i in range(21):\n",
    "    plt.figure(figsize=(5, 5))\n",
    "    plt.hist(np.random.randn(1000))\n",
    "    plt.close()"
   ]
  },
  {
   "cell_type": "markdown",
   "metadata": {},
   "source": [
    "And, it looks like we're no longer getting a warning because we're now closing each figure manually after we're finished with it. Calling the `pyplot.get_fignums` again should prove it."
   ]
  },
  {
   "cell_type": "code",
   "execution_count": 10,
   "metadata": {
    "collapsed": false
   },
   "outputs": [
    {
     "data": {
      "text/plain": [
       "[]"
      ]
     },
     "execution_count": 10,
     "metadata": {},
     "output_type": "execute_result"
    }
   ],
   "source": [
    "plt.get_fignums()"
   ]
  },
  {
   "cell_type": "markdown",
   "metadata": {},
   "source": [
    "And yes, it does, in fact, look like that's the case, since our figure stack is completely empty.\n",
    "\n",
    "## Conclusion\n",
    "\n",
    "So, to recap a bit, the problem we've just seen is that because we may not be aware of how certain parts of the `pyplot` interface work---in this case, the management of `Figure` objects as well as the behavior of the `pyplot.figure` function---we could possibly find ourselves getting into trouble, like running out of memory because of too many figures. We've just seen one solution to this specific problem, which is to simply close each new figure that we create once we're done using it. Another, arguably better, solution would be to get the current figure using the `pyplot.gcf` function, and call the `Figure.set_size_inches` function on it. This solution has the benefit of leaving the creation and destruction of figures still completely with `pyplot`. \n",
    "\n",
    "The point here isn't the problem, or the solution for that matter, but the idea that without a decent understanding of how `pyplot` works, you'll find that you continuously run into more problems, and have less success resolving them. On its surface, matplotlib seems very simple, and the `pyplot` interface goes a long way towards making it very user friendly, but once you progress past a simple visualization in an interactive session, you may find that it's much more complex than you had originally anticipated. Luckily, we've worked quite hard over the past two sections to develop a decent understanding of how `pyplot` does its job, so you should be more than prepared to deal with anything it can throw it at you.\n",
    "\n",
    "Lastly, this lesson concludes the fundamental knowledge that you need to work with matplotlib. In the rest of the lessons in this course, we'll switch gears a bit from understanding how matplotlib works, to seeing what's possible with the library now that you have a basic understanding of how to use it. Over the next several lessons, you'll learn how to do things like animate your data, display data in maps, work interactively with your visualizations using UI components, to name just a few of the topics that we'll be covering.\n",
    "\n",
    "## BONUS: Digging Deeper\n",
    "\n",
    "For those of you that want to actually see the default behavior in action, the next cell will use the `Logger` and `PrintLnFunc` callable classes from our last lesson to decorate the `pyplot.figure` and `pyplot.close` functions.\n",
    "\n",
    "As I've mentioned before, for the interactive backends, a callback function is used to close each figure once it's been displayed. Incidentally, that callback function is the `_pylab_helpers.destroy` function, if you want to do a little further investigation on your own. However, when using matplotlib with the inline backend for a Jupyter notebook, as we are here, the IPython kernel simply calls the `pyplot.close(\"all\")` function at the end of each call to the `ipykernel.pylab.backend_inline.show` function. The end result, in either case, is that `pyplot.close` function eventually gets called every time a figure is shown making sure that only one figure exists in the stack at any time.\n",
    "\n",
    "So, let's go ahead and set up our environment to print out the calls to the `pylot.figure` and `pyplot.close` functions."
   ]
  },
  {
   "cell_type": "code",
   "execution_count": 11,
   "metadata": {
    "collapsed": false
   },
   "outputs": [],
   "source": [
    "class PrintlnFunc(object):\n",
    "    def __init__(self):\n",
    "        self.line = 1\n",
    "    def __call__(self, msg):\n",
    "        print (\"%2d. %s\" % (self.line, msg))\n",
    "        self.line += 1\n",
    "    def reset(self):\n",
    "        self.line = 1\n",
    "println = PrintlnFunc()\n",
    "\n",
    "class Logger(object):\n",
    "    \"\"\"Wraps a function in a callable that prints call information\n",
    "    \"\"\"\n",
    "    level = 0\n",
    "\n",
    "    def __init__(self, fn):\n",
    "        self.fn = fn\n",
    "\n",
    "    def __call__(self, *args, **kwargs):\n",
    "        # Create the padding string according to the current level in the call\n",
    "        # stack, and increase the level since we're about to pop another \n",
    "        # function onto the stack.\n",
    "        padding = \"|\" + \"-\" * (Logger.level * 4 - 1) if Logger.level > 0 else \"\"\n",
    "        Logger.level += 1\n",
    "\n",
    "        # Print calling information, call the function, and print returning info\n",
    "        println(\"%sCalling %s.%s\" % (padding, self.fn.__module__, self.fn.__name__))\n",
    "        result = self.fn(*args, **kwargs)\n",
    "        println(\"%sReturning <%s:%s> from %s.%s\" % \\\n",
    "            (padding, result.__class__.__name__, id(result), self.fn.__module__, self.fn.__name__))\n",
    "\n",
    "        # Decrease the call stack level, since we are returning.\n",
    "        Logger.level -= 1\n",
    "        return result\n",
    "    \n",
    "# Decorate a couple of pyplot functions with Logger\n",
    "plt.figure = Logger(plt.figure)\n",
    "plt.close = Logger(plt.close)"
   ]
  },
  {
   "cell_type": "markdown",
   "metadata": {},
   "source": [
    "And then, we'll call the `pyplot.close` function with the `\"all\"` parameter to make sure our stack is empty before we start."
   ]
  },
  {
   "cell_type": "code",
   "execution_count": 12,
   "metadata": {
    "collapsed": false
   },
   "outputs": [
    {
     "name": "stdout",
     "output_type": "stream",
     "text": [
      " 1. Calling matplotlib.pyplot.close\n",
      " 2. Returning <NoneType:4483024808> from matplotlib.pyplot.close\n"
     ]
    }
   ],
   "source": [
    "plt.close(\"all\")\n",
    "println.reset()"
   ]
  },
  {
   "cell_type": "markdown",
   "metadata": {},
   "source": [
    "Finally, we'll do the same loop as we did above, but this time we'll actually display the result of the call to the `pyplot.hist` function."
   ]
  },
  {
   "cell_type": "code",
   "execution_count": 14,
   "metadata": {
    "collapsed": false,
    "scrolled": true
   },
   "outputs": [
    {
     "name": "stdout",
     "output_type": "stream",
     "text": [
      " 1. Calling matplotlib.pyplot.figure\n",
      " 2. Returning <Figure:4686361152> from matplotlib.pyplot.figure\n"
     ]
    },
    {
     "data": {
      "image/png": "[encoded data removed]",
      "text/plain": [
       "<matplotlib.figure.Figure at 0x117543240>"
      ]
     },
     "metadata": {},
     "output_type": "display_data"
    },
    {
     "name": "stdout",
     "output_type": "stream",
     "text": [
      " 3. Calling matplotlib.pyplot.close\n",
      " 4. Returning <NoneType:4483024808> from matplotlib.pyplot.close\n",
      "-------------------------------------------------------------------------------\n",
      " 1. Calling matplotlib.pyplot.figure\n",
      " 2. Returning <Figure:4698159592> from matplotlib.pyplot.figure\n"
     ]
    },
    {
     "data": {
      "image/png": "[encoded data removed]",
      "text/plain": [
       "<matplotlib.figure.Figure at 0x1180839e8>"
      ]
     },
     "metadata": {},
     "output_type": "display_data"
    },
    {
     "name": "stdout",
     "output_type": "stream",
     "text": [
      " 3. Calling matplotlib.pyplot.close\n",
      " 4. Returning <NoneType:4483024808> from matplotlib.pyplot.close\n",
      "-------------------------------------------------------------------------------\n",
      " 1. Calling matplotlib.pyplot.figure\n",
      " 2. Returning <Figure:4699015824> from matplotlib.pyplot.figure\n"
     ]
    },
    {
     "data": {
      "image/png": "[encoded data removed]",
      "text/plain": [
       "<matplotlib.figure.Figure at 0x118154a90>"
      ]
     },
     "metadata": {},
     "output_type": "display_data"
    },
    {
     "name": "stdout",
     "output_type": "stream",
     "text": [
      " 3. Calling matplotlib.pyplot.close\n",
      " 4. Returning <NoneType:4483024808> from matplotlib.pyplot.close\n",
      "-------------------------------------------------------------------------------\n",
      " 1. Calling matplotlib.pyplot.figure\n",
      " 2. Returning <Figure:4675472352> from matplotlib.pyplot.figure\n"
     ]
    },
    {
     "data": {
      "image/png": "[encoded data removed]",
      "text/plain": [
       "<matplotlib.figure.Figure at 0x116ae0be0>"
      ]
     },
     "metadata": {},
     "output_type": "display_data"
    },
    {
     "name": "stdout",
     "output_type": "stream",
     "text": [
      " 3. Calling matplotlib.pyplot.close\n",
      " 4. Returning <NoneType:4483024808> from matplotlib.pyplot.close\n",
      "-------------------------------------------------------------------------------\n",
      " 1. Calling matplotlib.pyplot.figure\n",
      " 2. Returning <Figure:4698784264> from matplotlib.pyplot.figure\n"
     ]
    },
    {
     "data": {
      "image/png": "[encoded data removed]",
      "text/plain": [
       "<matplotlib.figure.Figure at 0x11811c208>"
      ]
     },
     "metadata": {},
     "output_type": "display_data"
    },
    {
     "name": "stdout",
     "output_type": "stream",
     "text": [
      " 3. Calling matplotlib.pyplot.close\n",
      " 4. Returning <NoneType:4483024808> from matplotlib.pyplot.close\n",
      "-------------------------------------------------------------------------------\n",
      " 1. Calling matplotlib.pyplot.figure\n",
      " 2. Returning <Figure:4711440000> from matplotlib.pyplot.figure\n"
     ]
    },
    {
     "data": {
      "image/png": "[encoded data removed]",
      "text/plain": [
       "<matplotlib.figure.Figure at 0x118d2de80>"
      ]
     },
     "metadata": {},
     "output_type": "display_data"
    },
    {
     "name": "stdout",
     "output_type": "stream",
     "text": [
      " 3. Calling matplotlib.pyplot.close\n",
      " 4. Returning <NoneType:4483024808> from matplotlib.pyplot.close\n",
      "-------------------------------------------------------------------------------\n",
      " 1. Calling matplotlib.pyplot.figure\n",
      " 2. Returning <Figure:4673744680> from matplotlib.pyplot.figure\n"
     ]
    },
    {
     "data": {
      "image/png": "[encoded data removed]",
      "text/plain": [
       "<matplotlib.figure.Figure at 0x11693af28>"
      ]
     },
     "metadata": {},
     "output_type": "display_data"
    },
    {
     "name": "stdout",
     "output_type": "stream",
     "text": [
      " 3. Calling matplotlib.pyplot.close\n",
      " 4. Returning <NoneType:4483024808> from matplotlib.pyplot.close\n",
      "-------------------------------------------------------------------------------\n",
      " 1. Calling matplotlib.pyplot.figure\n",
      " 2. Returning <Figure:4674588232> from matplotlib.pyplot.figure\n"
     ]
    },
    {
     "data": {
      "image/png": "[encoded data removed]",
      "text/plain": [
       "<matplotlib.figure.Figure at 0x116a08e48>"
      ]
     },
     "metadata": {},
     "output_type": "display_data"
    },
    {
     "name": "stdout",
     "output_type": "stream",
     "text": [
      " 3. Calling matplotlib.pyplot.close\n",
      " 4. Returning <NoneType:4483024808> from matplotlib.pyplot.close\n",
      "-------------------------------------------------------------------------------\n",
      " 1. Calling matplotlib.pyplot.figure\n",
      " 2. Returning <Figure:4710151504> from matplotlib.pyplot.figure\n"
     ]
    },
    {
     "data": {
      "image/png": "[encoded data removed]",
      "text/plain": [
       "<matplotlib.figure.Figure at 0x118bf3550>"
      ]
     },
     "metadata": {},
     "output_type": "display_data"
    },
    {
     "name": "stdout",
     "output_type": "stream",
     "text": [
      " 3. Calling matplotlib.pyplot.close\n",
      " 4. Returning <NoneType:4483024808> from matplotlib.pyplot.close\n",
      "-------------------------------------------------------------------------------\n",
      " 1. Calling matplotlib.pyplot.figure\n",
      " 2. Returning <Figure:4711619384> from matplotlib.pyplot.figure\n"
     ]
    },
    {
     "data": {
      "image/png": "[encoded data removed]",
      "text/plain": [
       "<matplotlib.figure.Figure at 0x118d59b38>"
      ]
     },
     "metadata": {},
     "output_type": "display_data"
    },
    {
     "name": "stdout",
     "output_type": "stream",
     "text": [
      " 3. Calling matplotlib.pyplot.close\n",
      " 4. Returning <NoneType:4483024808> from matplotlib.pyplot.close\n",
      "-------------------------------------------------------------------------------\n",
      " 1. Calling matplotlib.pyplot.figure\n",
      " 2. Returning <Figure:4686771704> from matplotlib.pyplot.figure\n"
     ]
    },
    {
     "data": {
      "image/png": "[encoded data removed]",
      "text/plain": [
       "<matplotlib.figure.Figure at 0x1175a75f8>"
      ]
     },
     "metadata": {},
     "output_type": "display_data"
    },
    {
     "name": "stdout",
     "output_type": "stream",
     "text": [
      " 3. Calling matplotlib.pyplot.close\n",
      " 4. Returning <NoneType:4483024808> from matplotlib.pyplot.close\n",
      "-------------------------------------------------------------------------------\n",
      " 1. Calling matplotlib.pyplot.figure\n",
      " 2. Returning <Figure:4696022040> from matplotlib.pyplot.figure\n"
     ]
    },
    {
     "data": {
      "image/png": "[encoded data removed]",
      "text/plain": [
       "<matplotlib.figure.Figure at 0x117e79c18>"
      ]
     },
     "metadata": {},
     "output_type": "display_data"
    },
    {
     "name": "stdout",
     "output_type": "stream",
     "text": [
      " 3. Calling matplotlib.pyplot.close\n",
      " 4. Returning <NoneType:4483024808> from matplotlib.pyplot.close\n",
      "-------------------------------------------------------------------------------\n",
      " 1. Calling matplotlib.pyplot.figure\n",
      " 2. Returning <Figure:4709660208> from matplotlib.pyplot.figure\n"
     ]
    },
    {
     "data": {
      "image/png": "[encoded data removed]",
      "text/plain": [
       "<matplotlib.figure.Figure at 0x118b7b630>"
      ]
     },
     "metadata": {},
     "output_type": "display_data"
    },
    {
     "name": "stdout",
     "output_type": "stream",
     "text": [
      " 3. Calling matplotlib.pyplot.close\n",
      " 4. Returning <NoneType:4483024808> from matplotlib.pyplot.close\n",
      "-------------------------------------------------------------------------------\n",
      " 1. Calling matplotlib.pyplot.figure\n",
      " 2. Returning <Figure:4707709672> from matplotlib.pyplot.figure\n"
     ]
    },
    {
     "data": {
      "image/png": "[encoded data removed]",
      "text/plain": [
       "<matplotlib.figure.Figure at 0x11899f2e8>"
      ]
     },
     "metadata": {},
     "output_type": "display_data"
    },
    {
     "name": "stdout",
     "output_type": "stream",
     "text": [
      " 3. Calling matplotlib.pyplot.close\n",
      " 4. Returning <NoneType:4483024808> from matplotlib.pyplot.close\n",
      "-------------------------------------------------------------------------------\n",
      " 1. Calling matplotlib.pyplot.figure\n",
      " 2. Returning <Figure:4708830680> from matplotlib.pyplot.figure\n"
     ]
    },
    {
     "data": {
      "image/png": "[encoded data removed]",
      "text/plain": [
       "<matplotlib.figure.Figure at 0x118ab0dd8>"
      ]
     },
     "metadata": {},
     "output_type": "display_data"
    },
    {
     "name": "stdout",
     "output_type": "stream",
     "text": [
      " 3. Calling matplotlib.pyplot.close\n",
      " 4. Returning <NoneType:4483024808> from matplotlib.pyplot.close\n",
      "-------------------------------------------------------------------------------\n",
      " 1. Calling matplotlib.pyplot.figure\n",
      " 2. Returning <Figure:4707071032> from matplotlib.pyplot.figure\n"
     ]
    },
    {
     "data": {
      "image/png": "[encoded data removed]",
      "text/plain": [
       "<matplotlib.figure.Figure at 0x118903438>"
      ]
     },
     "metadata": {},
     "output_type": "display_data"
    },
    {
     "name": "stdout",
     "output_type": "stream",
     "text": [
      " 3. Calling matplotlib.pyplot.close\n",
      " 4. Returning <NoneType:4483024808> from matplotlib.pyplot.close\n",
      "-------------------------------------------------------------------------------\n",
      " 1. Calling matplotlib.pyplot.figure\n",
      " 2. Returning <Figure:4712088520> from matplotlib.pyplot.figure\n"
     ]
    },
    {
     "data": {
      "image/png": "[encoded data removed]",
      "text/plain": [
       "<matplotlib.figure.Figure at 0x118dcc3c8>"
      ]
     },
     "metadata": {},
     "output_type": "display_data"
    },
    {
     "name": "stdout",
     "output_type": "stream",
     "text": [
      " 3. Calling matplotlib.pyplot.close\n",
      " 4. Returning <NoneType:4483024808> from matplotlib.pyplot.close\n",
      "-------------------------------------------------------------------------------\n",
      " 1. Calling matplotlib.pyplot.figure\n",
      " 2. Returning <Figure:4707558512> from matplotlib.pyplot.figure\n"
     ]
    },
    {
     "data": {
      "image/png": "[encoded data removed]",
      "text/plain": [
       "<matplotlib.figure.Figure at 0x11897a470>"
      ]
     },
     "metadata": {},
     "output_type": "display_data"
    },
    {
     "name": "stdout",
     "output_type": "stream",
     "text": [
      " 3. Calling matplotlib.pyplot.close\n",
      " 4. Returning <NoneType:4483024808> from matplotlib.pyplot.close\n",
      "-------------------------------------------------------------------------------\n",
      " 1. Calling matplotlib.pyplot.figure\n",
      " 2. Returning <Figure:4711649520> from matplotlib.pyplot.figure\n"
     ]
    },
    {
     "data": {
      "image/png": "[encoded data removed]",
      "text/plain": [
       "<matplotlib.figure.Figure at 0x118d610f0>"
      ]
     },
     "metadata": {},
     "output_type": "display_data"
    },
    {
     "name": "stdout",
     "output_type": "stream",
     "text": [
      " 3. Calling matplotlib.pyplot.close\n",
      " 4. Returning <NoneType:4483024808> from matplotlib.pyplot.close\n",
      "-------------------------------------------------------------------------------\n",
      " 1. Calling matplotlib.pyplot.figure\n",
      " 2. Returning <Figure:4707012448> from matplotlib.pyplot.figure\n"
     ]
    },
    {
     "data": {
      "image/png": "[encoded data removed]",
      "text/plain": [
       "<matplotlib.figure.Figure at 0x1188f4f60>"
      ]
     },
     "metadata": {},
     "output_type": "display_data"
    },
    {
     "name": "stdout",
     "output_type": "stream",
     "text": [
      " 3. Calling matplotlib.pyplot.close\n",
      " 4. Returning <NoneType:4483024808> from matplotlib.pyplot.close\n",
      "-------------------------------------------------------------------------------\n",
      " 1. Calling matplotlib.pyplot.figure\n",
      " 2. Returning <Figure:4712092336> from matplotlib.pyplot.figure\n"
     ]
    },
    {
     "data": {
      "image/png": "[encoded data removed]",
      "text/plain": [
       "<matplotlib.figure.Figure at 0x118dcd2b0>"
      ]
     },
     "metadata": {},
     "output_type": "display_data"
    },
    {
     "name": "stdout",
     "output_type": "stream",
     "text": [
      " 3. Calling matplotlib.pyplot.close\n",
      " 4. Returning <NoneType:4483024808> from matplotlib.pyplot.close\n",
      "-------------------------------------------------------------------------------\n"
     ]
    }
   ],
   "source": [
    "for i in range(21):\n",
    "    plt.figure()\n",
    "    plt.hist(np.random.randn(1000))\n",
    "    plt.show()\n",
    "    print ('-'*79)\n",
    "    println.reset()"
   ]
  },
  {
   "cell_type": "markdown",
   "metadata": {},
   "source": [
    "And, as you can see, we're no longer getting the warning message that we saw earlier even though we're still calling the `pyplot.figure` function, and we're not actively closing each new figure. The reason, as we can also see in the print information above, is that the `pyplot.close` function is being called for us after the `pyplot.show` function is finished executing.\n",
    "\n",
    "And, once again, we can display the current stack by calling the `pyplot.get_fignums` function to verify that all figures have been properly closed."
   ]
  },
  {
   "cell_type": "code",
   "execution_count": 15,
   "metadata": {
    "collapsed": false,
    "scrolled": true
   },
   "outputs": [
    {
     "data": {
      "text/plain": [
       "[]"
      ]
     },
     "execution_count": 15,
     "metadata": {},
     "output_type": "execute_result"
    }
   ],
   "source": [
    "plt.get_fignums()"
   ]
  },
  {
   "cell_type": "code",
   "execution_count": null,
   "metadata": {
    "collapsed": true
   },
   "outputs": [],
   "source": []
  }
 ],
 "metadata": {
  "kernelspec": {
   "display_name": "Python 3",
   "language": "python",
   "name": "python3"
  },
  "language_info": {
   "codemirror_mode": {
    "name": "ipython",
    "version": 3
   },
   "file_extension": ".py",
   "mimetype": "text/x-python",
   "name": "python",
   "nbconvert_exporter": "python",
   "pygments_lexer": "ipython3",
   "version": "3.6.0"
  }
 },
 "nbformat": 4,
 "nbformat_minor": 0
}
