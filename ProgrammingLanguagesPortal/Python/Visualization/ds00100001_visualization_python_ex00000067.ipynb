{
 "cells": [
  {
   "cell_type": "markdown",
   "metadata": {
    "nbpresent": {
     "id": "eb006ba7-1538-4bcc-8cc3-24f6f7c1ada5"
    },
    "slideshow": {
     "slide_type": "slide"
    }
   },
   "source": [
    "# Credit risk modeling in Python - part 4"
   ]
  },
  {
   "cell_type": "code",
   "execution_count": 1,
   "metadata": {
    "collapsed": true,
    "slideshow": {
     "slide_type": "skip"
    }
   },
   "outputs": [],
   "source": [
    "# Commands to get to same point for data in part 1 and 2 notebooks\n",
    "import numpy as np\n",
    "import pandas as pd\n",
    "import matplotlib.pyplot as plt\n",
    "from IPython.display import Image\n",
    "import seaborn as sns\n",
    "sns.set(style=\"white\")\n",
    "sns.set(style=\"whitegrid\", color_codes=True)\n",
    "\n",
    "data = pd.read_csv(\"creditrisk_pydata_nas.csv\", index_col = 0)\n",
    "data = data[data.age < 100]\n",
    "data = data[data.children < 30]\n",
    "data = data[data.address < (data.age + 2)]\n",
    "data[(data.employer > (data.age - 14))]\n",
    "data = data[(data.employer < (data.age - 14)) | data.employer.isnull()]\n",
    "data.amount.fillna(data.amount.median(), inplace = True)\n",
    "\n",
    "bins = [0, 10, 20 ,30, 40, 50]\n",
    "bins_emp1 = pd.cut(data['employer'], bins)\n",
    "\n",
    "bins = [0, 2, 5 ,10, 15, 50, 70]\n",
    "bins_emp2 = pd.cut(data['employer'], bins)\n",
    "bins_emp2.fillna(\"(50, 70]\", inplace = True)\n",
    "bins_emp2 = bins_emp2.cat.rename_categories([\"(0, 2]\",\"(2, 5]\",\"(5, 10]\",\"(10, 15]\",\"(15, 50]\", \"unknown\"])\n",
    "bins_emp2 = bins_emp2.cat.as_unordered()\n",
    "\n",
    "data['employer']= bins_emp2\n",
    "\n",
    "data['payfreq'] = data['payfreq'].astype('category')\n",
    "data['marstat'] = data['marstat'].astype('category')\n",
    "data['home'] = data['home'].astype('category')\n",
    "\n",
    "data['payfreq'] = data['payfreq'].cat.rename_categories([\"quarter\",\"bimon\",\"monthly\",\"biweek\"])\n",
    "data['marstat'] = data['marstat'].cat.rename_categories([\"single\",\"married\",\"divorced\",\"widowed\"])\n",
    "data['home'] = data['home'].cat.rename_categories([\"yes\", \"no\"])"
   ]
  },
  {
   "cell_type": "code",
   "execution_count": 2,
   "metadata": {
    "collapsed": false,
    "nbpresent": {
     "id": "e1fffad8-a7e0-44ae-be96-43d0586bce85"
    },
    "slideshow": {
     "slide_type": "slide"
    }
   },
   "outputs": [
    {
     "data": {
      "image/png": "[encoded data removed]",
      "text/plain": [
       "<matplotlib.figure.Figure at 0x107280780>"
      ]
     },
     "metadata": {},
     "output_type": "display_data"
    }
   ],
   "source": [
    "# countplot for payment frequency goes here\n",
    "sns.countplot(x=data.payfreq, palette = 'hls')\n",
    "plt.show()"
   ]
  },
  {
   "cell_type": "code",
   "execution_count": 3,
   "metadata": {
    "collapsed": false,
    "nbpresent": {
     "id": "d66fe1eb-02d8-4fcd-8baa-052294cf50fd"
    },
    "slideshow": {
     "slide_type": "slide"
    }
   },
   "outputs": [
    {
     "data": {
      "image/png": "[encoded data removed]",
      "text/plain": [
       "<matplotlib.figure.Figure at 0x111c4ceb8>"
      ]
     },
     "metadata": {},
     "output_type": "display_data"
    }
   ],
   "source": [
    "# countplot for marital status goes here\n",
    "sns.countplot(x=data.marstat, palette = 'hls')\n",
    "plt.show()"
   ]
  },
  {
   "cell_type": "code",
   "execution_count": 4,
   "metadata": {
    "collapsed": false,
    "nbpresent": {
     "id": "e0e511e6-b93b-42da-b508-e1d942c5a04c"
    },
    "slideshow": {
     "slide_type": "slide"
    }
   },
   "outputs": [
    {
     "data": {
      "image/png": "[encoded data removed]",
      "text/plain": [
       "<matplotlib.figure.Figure at 0x11504a908>"
      ]
     },
     "metadata": {},
     "output_type": "display_data"
    }
   ],
   "source": [
    "# countplot for home ownership goes here\n",
    "sns.countplot(x = data.home, palette = 'hls')\n",
    "plt.show()"
   ]
  },
  {
   "cell_type": "markdown",
   "metadata": {
    "nbpresent": {
     "id": "3fb81aa1-dd66-4bb4-9ed9-a321bd003015"
    },
    "slideshow": {
     "slide_type": "slide"
    }
   },
   "source": [
    "#### b. Missing values"
   ]
  },
  {
   "cell_type": "markdown",
   "metadata": {
    "nbpresent": {
     "id": "24ae82c0-5cc3-4da5-a43a-43cea432fe65"
    }
   },
   "source": [
    "Back to general rules for missing values. These are similar but slightly different from continuous variables: \n",
    "- replace them: category with the highest frequency\n",
    "- delete them: row (if very few) or column (if an enormous amount)\n",
    "- keep them: new category"
   ]
  },
  {
   "cell_type": "code",
   "execution_count": 5,
   "metadata": {
    "collapsed": false,
    "nbpresent": {
     "id": "956b3408-34e0-4389-9337-2e9786a7ea95"
    },
    "slideshow": {
     "slide_type": "slide"
    }
   },
   "outputs": [
    {
     "data": {
      "text/plain": [
       "default     3973\n",
       "month       3973\n",
       "age         3973\n",
       "amount      3973\n",
       "address     3973\n",
       "employer    3973\n",
       "children    3973\n",
       "payfreq     3973\n",
       "marstat     3973\n",
       "home        3959\n",
       "dtype: int64"
      ]
     },
     "execution_count": 5,
     "metadata": {},
     "output_type": "execute_result"
    }
   ],
   "source": [
    "data.count()"
   ]
  },
  {
   "cell_type": "markdown",
   "metadata": {
    "nbpresent": {
     "id": "9ef89dd2-8177-44c6-9019-013938cdfe99"
    },
    "slideshow": {
     "slide_type": "slide"
    }
   },
   "source": [
    "Only 14 instances are missing, we decided to delete the rows. These were the only missing ones left!"
   ]
  },
  {
   "cell_type": "code",
   "execution_count": 6,
   "metadata": {
    "collapsed": true,
    "nbpresent": {
     "id": "174c5e8a-5d68-4815-bfe3-d0a2c28fe4ff"
    },
    "slideshow": {
     "slide_type": "-"
    }
   },
   "outputs": [],
   "source": [
    "data.dropna(inplace = True)"
   ]
  },
  {
   "cell_type": "code",
   "execution_count": 7,
   "metadata": {
    "collapsed": false,
    "nbpresent": {
     "id": "a2d0a864-d6eb-46a6-9c7d-2e9428a7c1d1"
    }
   },
   "outputs": [
    {
     "data": {
      "text/plain": [
       "default     3959\n",
       "month       3959\n",
       "age         3959\n",
       "amount      3959\n",
       "address     3959\n",
       "employer    3959\n",
       "children    3959\n",
       "payfreq     3959\n",
       "marstat     3959\n",
       "home        3959\n",
       "dtype: int64"
      ]
     },
     "execution_count": 7,
     "metadata": {},
     "output_type": "execute_result"
    }
   ],
   "source": [
    "data.count()"
   ]
  },
  {
   "cell_type": "markdown",
   "metadata": {
    "slideshow": {
     "slide_type": "slide"
    }
   },
   "source": [
    "**Outliers: summary**"
   ]
  },
  {
   "cell_type": "markdown",
   "metadata": {
    "nbpresent": {
     "id": "9d5e460e-8770-40dd-8056-2d7ceef5c559"
    },
    "slideshow": {
     "slide_type": "-"
    }
   },
   "source": [
    "![](missing_data.png)"
   ]
  },
  {
   "cell_type": "markdown",
   "metadata": {
    "nbpresent": {
     "id": "027b31d3-18ba-4c6d-97e1-27e4f671256f"
    },
    "slideshow": {
     "slide_type": "slide"
    }
   },
   "source": [
    "### 2.3 Outcome variables"
   ]
  },
  {
   "cell_type": "markdown",
   "metadata": {
    "nbpresent": {
     "id": "0b1c2b88-225a-4a03-939f-ae9ab1c61c55"
    },
    "slideshow": {
     "slide_type": "slide"
    }
   },
   "source": [
    "#### a. Look at individual frequencies for `default` and `month`"
   ]
  },
  {
   "cell_type": "code",
   "execution_count": 8,
   "metadata": {
    "collapsed": false,
    "nbpresent": {
     "id": "6430b8dc-339f-4f78-839f-8daf96173dd3"
    },
    "slideshow": {
     "slide_type": "slide"
    }
   },
   "outputs": [
    {
     "data": {
      "image/png": "[encoded data removed]",
      "text/plain": [
       "<matplotlib.figure.Figure at 0x1150bd470>"
      ]
     },
     "metadata": {},
     "output_type": "display_data"
    }
   ],
   "source": [
    "sns.countplot(x=data.default, palette = 'hls')\n",
    "plt.show()"
   ]
  },
  {
   "cell_type": "code",
   "execution_count": 9,
   "metadata": {
    "collapsed": false
   },
   "outputs": [
    {
     "name": "stdout",
     "output_type": "stream",
     "text": [
      "0    3654\n",
      "1     305\n",
      "Name: default, dtype: int64\n"
     ]
    }
   ],
   "source": [
    "print(data['default'].value_counts())"
   ]
  },
  {
   "cell_type": "code",
   "execution_count": 10,
   "metadata": {
    "collapsed": false,
    "nbpresent": {
     "id": "b0f4a72c-3735-483f-8ba8-ca02de95a911"
    },
    "slideshow": {
     "slide_type": "slide"
    }
   },
   "outputs": [
    {
     "data": {
      "image/png": "[encoded data removed]",
      "text/plain": [
       "<matplotlib.figure.Figure at 0x10e1b41d0>"
      ]
     },
     "metadata": {},
     "output_type": "display_data"
    }
   ],
   "source": [
    "sns.countplot(x=data.month, palette = 'hls')\n",
    "plt.show()"
   ]
  },
  {
   "cell_type": "markdown",
   "metadata": {
    "collapsed": true,
    "nbpresent": {
     "id": "1f40a738-5bf4-4d1c-ad12-823d4f28ddd0"
    },
    "slideshow": {
     "slide_type": "slide"
    }
   },
   "source": [
    "The combination of `default` and `month`. loan term is 24 months, so there are 3 possible outcomes:\n",
    "- `default` is 0 and `month` is 24: loan has been repaid successfully.\n",
    "- `default` is 0 and `month` is somewhere between 1 and 23: the loan is still being repaid.\n",
    "- `default` is 1 and `month` is $m$ $\\in$ [1, 24]: default took place in month $m$."
   ]
  },
  {
   "cell_type": "markdown",
   "metadata": {
    "slideshow": {
     "slide_type": "slide"
    }
   },
   "source": [
    "#### b. How do our variables interact with `default`? "
   ]
  },
  {
   "cell_type": "code",
   "execution_count": 11,
   "metadata": {
    "collapsed": false,
    "slideshow": {
     "slide_type": "-"
    }
   },
   "outputs": [
    {
     "data": {
      "text/html": [
       "<div>\n",
       "<table border=\"1\" class=\"dataframe\">\n",
       "  <thead>\n",
       "    <tr style=\"text-align: right;\">\n",
       "      <th>default</th>\n",
       "      <th>0</th>\n",
       "      <th>1</th>\n",
       "    </tr>\n",
       "    <tr>\n",
       "      <th>marstat</th>\n",
       "      <th></th>\n",
       "      <th></th>\n",
       "    </tr>\n",
       "  </thead>\n",
       "  <tbody>\n",
       "    <tr>\n",
       "      <th>single</th>\n",
       "      <td>1254</td>\n",
       "      <td>137</td>\n",
       "    </tr>\n",
       "    <tr>\n",
       "      <th>married</th>\n",
       "      <td>2099</td>\n",
       "      <td>135</td>\n",
       "    </tr>\n",
       "    <tr>\n",
       "      <th>divorced</th>\n",
       "      <td>266</td>\n",
       "      <td>31</td>\n",
       "    </tr>\n",
       "    <tr>\n",
       "      <th>widowed</th>\n",
       "      <td>35</td>\n",
       "      <td>2</td>\n",
       "    </tr>\n",
       "  </tbody>\n",
       "</table>\n",
       "</div>"
      ],
      "text/plain": [
       "default      0    1\n",
       "marstat            \n",
       "single    1254  137\n",
       "married   2099  135\n",
       "divorced   266   31\n",
       "widowed     35    2"
      ]
     },
     "execution_count": 11,
     "metadata": {},
     "output_type": "execute_result"
    }
   ],
   "source": [
    "crosstab_marstat = pd.crosstab(data[\"marstat\"], data[\"default\"])\n",
    "crosstab_marstat"
   ]
  },
  {
   "cell_type": "code",
   "execution_count": 12,
   "metadata": {
    "collapsed": false,
    "nbpresent": {
     "id": "4a7ff9c9-c927-43ba-b455-c499ad951437"
    },
    "slideshow": {
     "slide_type": "slide"
    }
   },
   "outputs": [
    {
     "data": {
      "text/plain": [
       "<matplotlib.text.Text at 0x1154c5080>"
      ]
     },
     "execution_count": 12,
     "metadata": {},
     "output_type": "execute_result"
    },
    {
     "data": {
      "image/png": "[encoded data removed]",
      "text/plain": [
       "<matplotlib.figure.Figure at 0x1154ee128>"
      ]
     },
     "metadata": {},
     "output_type": "display_data"
    }
   ],
   "source": [
    "%matplotlib inline\n",
    "crosstab_marstat.plot(kind='bar')\n",
    "plt.title('Default for Marital Status')\n",
    "plt.xlabel('Marital Status')\n",
    "plt.ylabel('Frequency of Marital Status')"
   ]
  },
  {
   "cell_type": "markdown",
   "metadata": {
    "nbpresent": {
     "id": "173c61b0-70dc-4bf9-8ded-184fcd0fa980"
    },
    "slideshow": {
     "slide_type": "slide"
    }
   },
   "source": [
    "Volume differences: let's look at a stacked chart."
   ]
  },
  {
   "cell_type": "code",
   "execution_count": 13,
   "metadata": {
    "collapsed": false,
    "nbpresent": {
     "id": "8828c6b7-5ef4-424c-89e3-c5efbe8604bc"
    }
   },
   "outputs": [
    {
     "data": {
      "text/plain": [
       "<matplotlib.text.Text at 0x1156e5048>"
      ]
     },
     "execution_count": 13,
     "metadata": {},
     "output_type": "execute_result"
    },
    {
     "data": {
      "image/png": "[encoded data removed]",
      "text/plain": [
       "<matplotlib.figure.Figure at 0x11566b828>"
      ]
     },
     "metadata": {},
     "output_type": "display_data"
    }
   ],
   "source": [
    "crosstab_marstat.div(crosstab_marstat.sum(1), axis=0).plot(kind='bar', stacked = True)\n",
    "plt.title('Default for marital status')\n",
    "plt.xlabel('Marital Status')\n",
    "plt.ylabel('Proportion of defaults')"
   ]
  },
  {
   "cell_type": "markdown",
   "metadata": {
    "nbpresent": {
     "id": "51ffc325-0946-4663-b23b-06832c6daffb"
    },
    "slideshow": {
     "slide_type": "skip"
    }
   },
   "source": [
    "We can also get the numeric fraction through using `normalize='index'` in pd.crosstab directly."
   ]
  },
  {
   "cell_type": "code",
   "execution_count": 14,
   "metadata": {
    "collapsed": false,
    "nbpresent": {
     "id": "a2627b99-4bb9-4d10-be15-57ad907b9cf4"
    },
    "slideshow": {
     "slide_type": "slide"
    }
   },
   "outputs": [
    {
     "data": {
      "text/html": [
       "<div>\n",
       "<table border=\"1\" class=\"dataframe\">\n",
       "  <thead>\n",
       "    <tr style=\"text-align: right;\">\n",
       "      <th>default</th>\n",
       "      <th>0</th>\n",
       "      <th>1</th>\n",
       "    </tr>\n",
       "    <tr>\n",
       "      <th>marstat</th>\n",
       "      <th></th>\n",
       "      <th></th>\n",
       "    </tr>\n",
       "  </thead>\n",
       "  <tbody>\n",
       "    <tr>\n",
       "      <th>single</th>\n",
       "      <td>0.901510</td>\n",
       "      <td>0.098490</td>\n",
       "    </tr>\n",
       "    <tr>\n",
       "      <th>married</th>\n",
       "      <td>0.939570</td>\n",
       "      <td>0.060430</td>\n",
       "    </tr>\n",
       "    <tr>\n",
       "      <th>divorced</th>\n",
       "      <td>0.895623</td>\n",
       "      <td>0.104377</td>\n",
       "    </tr>\n",
       "    <tr>\n",
       "      <th>widowed</th>\n",
       "      <td>0.945946</td>\n",
       "      <td>0.054054</td>\n",
       "    </tr>\n",
       "  </tbody>\n",
       "</table>\n",
       "</div>"
      ],
      "text/plain": [
       "default          0         1\n",
       "marstat                     \n",
       "single    0.901510  0.098490\n",
       "married   0.939570  0.060430\n",
       "divorced  0.895623  0.104377\n",
       "widowed   0.945946  0.054054"
      ]
     },
     "execution_count": 14,
     "metadata": {},
     "output_type": "execute_result"
    }
   ],
   "source": [
    "pd.crosstab(data[\"marstat\"], data[\"default\"],  normalize='index')"
   ]
  },
  {
   "cell_type": "markdown",
   "metadata": {},
   "source": [
    "Recommended to make crosstables and plots for `home` and `payfreq` too! \n",
    "\n",
    "In a bit, you'll try it yourself for the newly categorized variable `employer`."
   ]
  },
  {
   "cell_type": "markdown",
   "metadata": {
    "nbpresent": {
     "id": "9e78fbcc-949b-4d5d-a93a-d4271ef36948"
    },
    "slideshow": {
     "slide_type": "slide"
    }
   },
   "source": [
    "### 2.4 Summary"
   ]
  },
  {
   "cell_type": "code",
   "execution_count": 15,
   "metadata": {
    "collapsed": false,
    "nbpresent": {
     "id": "a2e00ab0-3742-433d-9121-eb94750405a2"
    }
   },
   "outputs": [
    {
     "data": {
      "text/html": [
       "<div>\n",
       "<table border=\"1\" class=\"dataframe\">\n",
       "  <thead>\n",
       "    <tr style=\"text-align: right;\">\n",
       "      <th></th>\n",
       "      <th>default</th>\n",
       "      <th>month</th>\n",
       "      <th>age</th>\n",
       "      <th>amount</th>\n",
       "      <th>address</th>\n",
       "      <th>employer</th>\n",
       "      <th>children</th>\n",
       "      <th>payfreq</th>\n",
       "      <th>marstat</th>\n",
       "      <th>home</th>\n",
       "    </tr>\n",
       "  </thead>\n",
       "  <tbody>\n",
       "    <tr>\n",
       "      <th>1</th>\n",
       "      <td>0</td>\n",
       "      <td>21</td>\n",
       "      <td>25</td>\n",
       "      <td>1000.0</td>\n",
       "      <td>0.3</td>\n",
       "      <td>(0, 2]</td>\n",
       "      <td>0</td>\n",
       "      <td>monthly</td>\n",
       "      <td>single</td>\n",
       "      <td>yes</td>\n",
       "    </tr>\n",
       "    <tr>\n",
       "      <th>2</th>\n",
       "      <td>0</td>\n",
       "      <td>23</td>\n",
       "      <td>40</td>\n",
       "      <td>2000.0</td>\n",
       "      <td>5.6</td>\n",
       "      <td>(5, 10]</td>\n",
       "      <td>2</td>\n",
       "      <td>monthly</td>\n",
       "      <td>married</td>\n",
       "      <td>yes</td>\n",
       "    </tr>\n",
       "    <tr>\n",
       "      <th>3</th>\n",
       "      <td>0</td>\n",
       "      <td>24</td>\n",
       "      <td>21</td>\n",
       "      <td>1400.0</td>\n",
       "      <td>8.7</td>\n",
       "      <td>unknown</td>\n",
       "      <td>0</td>\n",
       "      <td>monthly</td>\n",
       "      <td>single</td>\n",
       "      <td>no</td>\n",
       "    </tr>\n",
       "    <tr>\n",
       "      <th>4</th>\n",
       "      <td>0</td>\n",
       "      <td>24</td>\n",
       "      <td>21</td>\n",
       "      <td>1200.0</td>\n",
       "      <td>21.5</td>\n",
       "      <td>(2, 5]</td>\n",
       "      <td>0</td>\n",
       "      <td>monthly</td>\n",
       "      <td>single</td>\n",
       "      <td>no</td>\n",
       "    </tr>\n",
       "    <tr>\n",
       "      <th>5</th>\n",
       "      <td>0</td>\n",
       "      <td>24</td>\n",
       "      <td>62</td>\n",
       "      <td>1500.0</td>\n",
       "      <td>1.2</td>\n",
       "      <td>(0, 2]</td>\n",
       "      <td>0</td>\n",
       "      <td>monthly</td>\n",
       "      <td>single</td>\n",
       "      <td>no</td>\n",
       "    </tr>\n",
       "  </tbody>\n",
       "</table>\n",
       "</div>"
      ],
      "text/plain": [
       "   default  month  age  amount  address employer  children  payfreq  marstat  \\\n",
       "1        0     21   25  1000.0      0.3   (0, 2]         0  monthly   single   \n",
       "2        0     23   40  2000.0      5.6  (5, 10]         2  monthly  married   \n",
       "3        0     24   21  1400.0      8.7  unknown         0  monthly   single   \n",
       "4        0     24   21  1200.0     21.5   (2, 5]         0  monthly   single   \n",
       "5        0     24   62  1500.0      1.2   (0, 2]         0  monthly   single   \n",
       "\n",
       "  home  \n",
       "1  yes  \n",
       "2  yes  \n",
       "3   no  \n",
       "4   no  \n",
       "5   no  "
      ]
     },
     "execution_count": 15,
     "metadata": {},
     "output_type": "execute_result"
    }
   ],
   "source": [
    "data.head()"
   ]
  },
  {
   "cell_type": "markdown",
   "metadata": {
    "nbpresent": {
     "id": "c585b8e7-437c-4d83-8496-f324e305a1df"
    }
   },
   "source": [
    "- 4 categorical variables \n",
    "- 4 continuous variables\n",
    "- 3959 observations\n",
    "- 305 defaults -> 7.70%"
   ]
  },
  {
   "cell_type": "markdown",
   "metadata": {
    "nbpresent": {
     "id": "1ad8c77f-8239-4ab0-b441-ead97fb43d24"
    },
    "slideshow": {
     "slide_type": "slide"
    }
   },
   "source": [
    "In the remainder of this presentation, we will work with 2 versions of this data set.\n",
    "\n",
    "- First we will look at ML classification methods. **Have to take the censored cases out.**\n",
    "- Secondly, we will briefly cover survival analysis methods. These methods can take censored instances into account!"
   ]
  },
  {
   "cell_type": "markdown",
   "metadata": {
    "slideshow": {
     "slide_type": "slide"
    }
   },
   "source": [
    "But first, try it yourself!\n",
    "\n",
    "Create these for our newly \"binned\" categorical variable 'employer':\n",
    "- A crosstable (value counts) --> store it in crosstab_employer\n",
    "- A stacked chart\n",
    "- A normalized crosstable"
   ]
  },
  {
   "cell_type": "code",
   "execution_count": 16,
   "metadata": {
    "collapsed": true,
    "slideshow": {
     "slide_type": "skip"
    }
   },
   "outputs": [],
   "source": [
    "# Crosstable\n",
    "crosstab_employer = ___"
   ]
  },
  {
   "cell_type": "code",
   "execution_count": 17,
   "metadata": {
    "collapsed": true,
    "slideshow": {
     "slide_type": "skip"
    }
   },
   "outputs": [],
   "source": [
    "# Stacked chart\n"
   ]
  },
  {
   "cell_type": "code",
   "execution_count": 18,
   "metadata": {
    "collapsed": true,
    "nbpresent": {
     "id": "4b729520-9f97-42f6-94b1-ab5b915d5841"
    },
    "slideshow": {
     "slide_type": "skip"
    }
   },
   "outputs": [],
   "source": [
    "# Crosstable with fractions\n"
   ]
  },
  {
   "cell_type": "code",
   "execution_count": null,
   "metadata": {
    "collapsed": true
   },
   "outputs": [],
   "source": []
  }
 ],
 "metadata": {
  "anaconda-cloud": {},
  "celltoolbar": "Slideshow",
  "kernelspec": {
   "display_name": "Python 3",
   "language": "python",
   "name": "python3"
  },
  "language_info": {
   "codemirror_mode": {
    "name": "ipython",
    "version": 3
   },
   "file_extension": ".py",
   "mimetype": "text/x-python",
   "name": "python",
   "nbconvert_exporter": "python",
   "pygments_lexer": "ipython3",
   "version": "3.6.0"
  },
  "nbpresent": {
   "slides": {
    "0150731a-8f68-4e0d-bcdb-5fe7591ac3dc": {
     "id": "0150731a-8f68-4e0d-bcdb-5fe7591ac3dc",
     "prev": "5afbe600-2f24-4a6a-9692-1ea58496c00c",
     "regions": {
      "cc479a40-4292-445c-a3db-401e2e048c86": {
       "attrs": {
        "height": 0.8,
        "width": 0.8,
        "x": 0.1,
        "y": 0.1
       },
       "content": {
        "cell": "61172f4e-ec4a-4c21-9167-b993d738c45a",
        "part": "whole"
       },
       "id": "cc479a40-4292-445c-a3db-401e2e048c86"
      }
     }
    },
    "02d8b1cb-34c3-42be-99e6-44775203c2e2": {
     "id": "02d8b1cb-34c3-42be-99e6-44775203c2e2",
     "prev": "1d26358c-b3e0-4385-8030-5580008d6033",
     "regions": {
      "d588f41e-d909-4649-bd19-470d6ca65cb9": {
       "attrs": {
        "height": 0.8,
        "width": 0.8,
        "x": 0.1,
        "y": 0.1
       },
       "content": {
        "cell": "a90940ae-61d9-47ed-b6cc-947cadc6e9c5",
        "part": "whole"
       },
       "id": "d588f41e-d909-4649-bd19-470d6ca65cb9"
      }
     }
    },
    "03d28ce2-3f49-4592-9e92-0fb4cf7e4ca1": {
     "id": "03d28ce2-3f49-4592-9e92-0fb4cf7e4ca1",
     "prev": "be18d89b-1b73-4e0b-a5e5-45e8a00af76c",
     "regions": {
      "dd73cd56-0a9b-41b6-81b8-9866419ce01e": {
       "attrs": {
        "height": 0.8,
        "width": 0.8,
        "x": 0.1,
        "y": 0.1
       },
       "content": {
        "cell": "62e54ed5-d364-43ce-a77d-a52fb42a744b",
        "part": "whole"
       },
       "id": "dd73cd56-0a9b-41b6-81b8-9866419ce01e"
      }
     }
    },
    "04926abb-8ad7-4e4f-9cb9-0d1485319f11": {
     "id": "04926abb-8ad7-4e4f-9cb9-0d1485319f11",
     "prev": "13b8605a-1a0b-4008-8b53-9495705f2a18",
     "regions": {
      "35a69653-0e33-4481-ba36-08a175fa7579": {
       "attrs": {
        "height": 0.8,
        "width": 0.8,
        "x": 0.1,
        "y": 0.1
       },
       "content": {
        "cell": "4b729520-9f97-42f6-94b1-ab5b915d5841",
        "part": "whole"
       },
       "id": "35a69653-0e33-4481-ba36-08a175fa7579"
      }
     }
    },
    "0647204b-050e-4b3a-a221-93ea71679c99": {
     "id": "0647204b-050e-4b3a-a221-93ea71679c99",
     "prev": "e72f6615-92e6-4d13-8fab-fea9e702f913",
     "regions": {
      "9a1746a7-c6e7-46e3-bbe4-a37cc9865145": {
       "attrs": {
        "height": 0.8,
        "width": 0.8,
        "x": 0.1,
        "y": 0.1
       },
       "content": {
        "cell": "8805390d-f284-43be-9dc5-1b9a13d461ef",
        "part": "whole"
       },
       "id": "9a1746a7-c6e7-46e3-bbe4-a37cc9865145"
      }
     }
    },
    "0727ed75-3fdf-41f0-b1e8-d23458ef1a0e": {
     "id": "0727ed75-3fdf-41f0-b1e8-d23458ef1a0e",
     "prev": "f73ad40e-248b-45b1-a8a4-38dd90815aaa",
     "regions": {
      "be9f5143-4eea-4e83-aef5-6d8cdc8b91fa": {
       "attrs": {
        "height": 0.8,
        "width": 0.8,
        "x": 0.1,
        "y": 0.1
       },
       "content": {
        "cell": "2369c168-606e-4771-b1a6-f99fefea150d",
        "part": "whole"
       },
       "id": "be9f5143-4eea-4e83-aef5-6d8cdc8b91fa"
      }
     }
    },
    "08e0f81e-a57c-45a3-a478-9e2e7cddd0df": {
     "id": "08e0f81e-a57c-45a3-a478-9e2e7cddd0df",
     "prev": "cdb3c4ce-76f8-4fe1-973f-097a8b8dd98f",
     "regions": {
      "2ba57206-2650-4ba8-919f-e55e8f151a45": {
       "attrs": {
        "height": 0.8,
        "width": 0.8,
        "x": 0.1,
        "y": 0.1
       },
       "content": {
        "cell": "174c5e8a-5d68-4815-bfe3-d0a2c28fe4ff",
        "part": "whole"
       },
       "id": "2ba57206-2650-4ba8-919f-e55e8f151a45"
      }
     }
    },
    "0a43b65a-cb4e-4524-b165-b77c5996d539": {
     "id": "0a43b65a-cb4e-4524-b165-b77c5996d539",
     "prev": "87f9eb46-940f-426c-995b-7bc3f9446488",
     "regions": {
      "2454f969-592f-40ca-83c3-28b98c761124": {
       "attrs": {
        "height": 0.8,
        "width": 0.8,
        "x": 0.1,
        "y": 0.1
       },
       "content": {
        "cell": "bcc23830-ab52-4639-b10b-57335ea0037e",
        "part": "whole"
       },
       "id": "2454f969-592f-40ca-83c3-28b98c761124"
      }
     }
    },
    "0aabc912-ca49-4cb7-978a-0415be8c859e": {
     "id": "0aabc912-ca49-4cb7-978a-0415be8c859e",
     "prev": "662c7868-4c37-4893-a30c-409ce3e4ccae",
     "regions": {
      "a64d3a98-8756-453b-adcd-f35310011748": {
       "attrs": {
        "height": 0.8,
        "width": 0.8,
        "x": 0.1,
        "y": 0.1
       },
       "content": {
        "cell": "d66fe1eb-02d8-4fcd-8baa-052294cf50fd",
        "part": "whole"
       },
       "id": "a64d3a98-8756-453b-adcd-f35310011748"
      }
     }
    },
    "0b5ac761-9ef9-4cd0-827c-b4cbbfbd38dd": {
     "id": "0b5ac761-9ef9-4cd0-827c-b4cbbfbd38dd",
     "prev": "6e20a1bb-4792-462c-bf6e-cf9499b610da",
     "regions": {
      "e6e9c8fb-3a46-4369-8c42-4532665ec237": {
       "attrs": {
        "height": 0.8,
        "width": 0.8,
        "x": 0.1,
        "y": 0.1
       },
       "content": {
        "cell": "96bbdb57-e964-4820-a33c-fc55cdb78e90",
        "part": "whole"
       },
       "id": "e6e9c8fb-3a46-4369-8c42-4532665ec237"
      }
     }
    },
    "0bfa801f-2193-440a-9b31-e83a52e1f33a": {
     "id": "0bfa801f-2193-440a-9b31-e83a52e1f33a",
     "prev": "c32943f1-e0d6-46b5-ad4e-1e8e1a073e38",
     "regions": {
      "e87d9fb8-c473-49eb-b1fd-dd9adaf252df": {
       "attrs": {
        "height": 0.8,
        "width": 0.8,
        "x": 0.1,
        "y": 0.1
       },
       "content": {
        "cell": "1ccf650d-e324-4c14-b67d-f4f089f86ff9",
        "part": "whole"
       },
       "id": "e87d9fb8-c473-49eb-b1fd-dd9adaf252df"
      }
     }
    },
    "0c43f537-b93a-4f62-9c0a-52b21f99f80c": {
     "id": "0c43f537-b93a-4f62-9c0a-52b21f99f80c",
     "prev": "6a8570b6-f7e9-4ed1-9867-d36d038b7a0c",
     "regions": {
      "dedb4d23-8f37-4abe-b11f-05c76365a3e7": {
       "attrs": {
        "height": 0.8,
        "width": 0.8,
        "x": 0.1,
        "y": 0.1
       },
       "content": {
        "cell": "c7a7184a-bb80-45db-819c-37de91302e85",
        "part": "whole"
       },
       "id": "dedb4d23-8f37-4abe-b11f-05c76365a3e7"
      }
     }
    },
    "0cdbf61f-dc90-4204-894f-e336d4549f51": {
     "id": "0cdbf61f-dc90-4204-894f-e336d4549f51",
     "prev": "283b75cb-8938-4479-b431-f1d36ccfbc84",
     "regions": {
      "856061ce-ff36-43ab-8c4b-ac1d21229b32": {
       "attrs": {
        "height": 0.8,
        "width": 0.8,
        "x": 0.1,
        "y": 0.1
       },
       "content": {
        "cell": "76a9f604-b007-442c-8bf6-a118b464136a",
        "part": "whole"
       },
       "id": "856061ce-ff36-43ab-8c4b-ac1d21229b32"
      }
     }
    },
    "0d39c7a9-ed35-4822-bc74-c94b04987403": {
     "id": "0d39c7a9-ed35-4822-bc74-c94b04987403",
     "prev": "f3e16403-1f25-4cfb-9812-d059bbf9403b",
     "regions": {
      "ce1c6f7a-28c0-4816-93d9-5ac280b8fc38": {
       "attrs": {
        "height": 0.8,
        "width": 0.8,
        "x": 0.1,
        "y": 0.1
       },
       "content": {
        "cell": "0f7aac61-db5c-4aa2-90ad-a565e91db98c",
        "part": "whole"
       },
       "id": "ce1c6f7a-28c0-4816-93d9-5ac280b8fc38"
      }
     }
    },
    "0d3aa4ca-2e07-4b13-b25a-47ea1844e983": {
     "id": "0d3aa4ca-2e07-4b13-b25a-47ea1844e983",
     "prev": "942659ad-312c-49cc-a490-3fc1028059e3",
     "regions": {
      "fd25ce00-ae2f-4332-8a4d-9336a2f0915d": {
       "attrs": {
        "height": 0.8,
        "width": 0.8,
        "x": 0.1,
        "y": 0.1
       },
       "content": {
        "cell": "6932b1e6-9b95-4e0f-b4f9-1a2ff5078b32",
        "part": "whole"
       },
       "id": "fd25ce00-ae2f-4332-8a4d-9336a2f0915d"
      }
     }
    },
    "0eb0ffc7-cdc8-4cde-868b-704d5f69fd64": {
     "id": "0eb0ffc7-cdc8-4cde-868b-704d5f69fd64",
     "prev": "08e0f81e-a57c-45a3-a478-9e2e7cddd0df",
     "regions": {
      "32f340d0-8f0b-464d-aedd-fd304fb42d43": {
       "attrs": {
        "height": 0.8,
        "width": 0.8,
        "x": 0.1,
        "y": 0.1
       },
       "content": {
        "cell": "a2d0a864-d6eb-46a6-9c7d-2e9428a7c1d1",
        "part": "whole"
       },
       "id": "32f340d0-8f0b-464d-aedd-fd304fb42d43"
      }
     }
    },
    "10702a9b-2e33-4c93-a2ce-f08f599e76a6": {
     "id": "10702a9b-2e33-4c93-a2ce-f08f599e76a6",
     "prev": "164b4af6-8ee6-48e2-889d-24567d4bd887",
     "regions": {
      "5e67cd34-f170-488a-b2f3-674cea0810f1": {
       "attrs": {
        "height": 0.8,
        "width": 0.8,
        "x": 0.1,
        "y": 0.1
       },
       "content": {
        "cell": "3afb24ca-5a30-479f-9f3d-21f5d801afeb",
        "part": "whole"
       },
       "id": "5e67cd34-f170-488a-b2f3-674cea0810f1"
      }
     }
    },
    "13b8605a-1a0b-4008-8b53-9495705f2a18": {
     "id": "13b8605a-1a0b-4008-8b53-9495705f2a18",
     "prev": "e4ef033c-3c58-479a-80dd-e49e7554caed",
     "regions": {
      "4e7efcb9-06a5-4397-b591-a1205927361c": {
       "attrs": {
        "height": 0.8,
        "width": 0.8,
        "x": 0.1,
        "y": 0.1
       },
       "content": {
        "cell": "d3b98b1e-f76c-43ba-92cd-f2fb851088a5",
        "part": "whole"
       },
       "id": "4e7efcb9-06a5-4397-b591-a1205927361c"
      }
     }
    },
    "159ccd34-b7da-46e1-91f7-03edd61a3c0d": {
     "id": "159ccd34-b7da-46e1-91f7-03edd61a3c0d",
     "prev": "22c6b3ea-8333-4eb3-a916-337afc846d46",
     "regions": {
      "107511a2-eb39-4f29-92b6-57f576426a39": {
       "attrs": {
        "height": 0.8,
        "width": 0.8,
        "x": 0.1,
        "y": 0.1
       },
       "content": {
        "cell": "7423ee35-ef85-4bc9-8dae-77f97e84ea34",
        "part": "whole"
       },
       "id": "107511a2-eb39-4f29-92b6-57f576426a39"
      }
     }
    },
    "164b4af6-8ee6-48e2-889d-24567d4bd887": {
     "id": "164b4af6-8ee6-48e2-889d-24567d4bd887",
     "prev": "df7989b0-1c28-496d-8078-9fb0c8d8204a",
     "regions": {
      "c9e28589-9fb3-4978-a060-291a1a9ff0e1": {
       "attrs": {
        "height": 0.8,
        "width": 0.8,
        "x": 0.1,
        "y": 0.1
       },
       "content": {
        "cell": "12bfdd26-43b6-452e-b229-938cee8a74c5",
        "part": "whole"
       },
       "id": "c9e28589-9fb3-4978-a060-291a1a9ff0e1"
      }
     }
    },
    "192690d2-2181-4e1e-9490-91d21db6ecf4": {
     "id": "192690d2-2181-4e1e-9490-91d21db6ecf4",
     "prev": "d38c37ea-7904-4781-8d1c-6f56ca76ed7f",
     "regions": {
      "50f53b3d-5b76-42e2-a185-24d53d70c567": {
       "attrs": {
        "height": 0.8,
        "width": 0.8,
        "x": 0.1,
        "y": 0.1
       },
       "content": {
        "cell": "ffb81c3b-7bb5-44af-a826-bcd9a9cb9b41",
        "part": "whole"
       },
       "id": "50f53b3d-5b76-42e2-a185-24d53d70c567"
      }
     }
    },
    "1c4cb739-88be-4807-8427-3caa279976bb": {
     "id": "1c4cb739-88be-4807-8427-3caa279976bb",
     "prev": "71d4ff58-f5c6-41bd-8de6-d92711c2584c",
     "regions": {
      "863b81d6-9112-4c12-add8-782d1c37b4ae": {
       "attrs": {
        "height": 0.8,
        "width": 0.8,
        "x": 0.1,
        "y": 0.1
       },
       "content": {
        "cell": "b297365e-2441-4584-8a6b-522449d19519",
        "part": "whole"
       },
       "id": "863b81d6-9112-4c12-add8-782d1c37b4ae"
      }
     }
    },
    "1ce669fa-9798-49cf-9744-8a7c9e10d54b": {
     "id": "1ce669fa-9798-49cf-9744-8a7c9e10d54b",
     "prev": "0bfa801f-2193-440a-9b31-e83a52e1f33a",
     "regions": {
      "4f7de4b0-abb0-40a9-94a6-dfa2d9df3433": {
       "attrs": {
        "height": 0.8,
        "width": 0.8,
        "x": 0.1,
        "y": 0.1
       },
       "content": {
        "cell": "ec9931f0-9b66-4434-9442-e80ca1252ead",
        "part": "whole"
       },
       "id": "4f7de4b0-abb0-40a9-94a6-dfa2d9df3433"
      }
     }
    },
    "1d26358c-b3e0-4385-8030-5580008d6033": {
     "id": "1d26358c-b3e0-4385-8030-5580008d6033",
     "prev": "c267af8c-67d1-4f40-80ae-6c1375cb2eef",
     "regions": {
      "f9436a2f-77a3-482a-afef-b8232deb8dfc": {
       "attrs": {
        "height": 0.8,
        "width": 0.8,
        "x": 0.1,
        "y": 0.1
       },
       "content": {
        "cell": "7278cc20-200e-4fb8-9902-0ea567d1279c",
        "part": "whole"
       },
       "id": "f9436a2f-77a3-482a-afef-b8232deb8dfc"
      }
     }
    },
    "1d901717-8bfb-47b3-9a4d-1686705f74da": {
     "id": "1d901717-8bfb-47b3-9a4d-1686705f74da",
     "prev": "e42bf5e2-0ac1-4c72-b949-2b72519cfd87",
     "regions": {
      "0bc8cade-eb0e-4c2a-9ccb-e5cbd6bb5484": {
       "attrs": {
        "height": 0.8,
        "width": 0.8,
        "x": 0.1,
        "y": 0.1
       },
       "content": {
        "cell": "72c8a059-d4d6-4cb3-be9b-73fabcb45a54",
        "part": "whole"
       },
       "id": "0bc8cade-eb0e-4c2a-9ccb-e5cbd6bb5484"
      }
     }
    },
    "20569b99-9f3f-4911-875a-75987914cf9e": {
     "id": "20569b99-9f3f-4911-875a-75987914cf9e",
     "prev": "604ab4e2-c4e0-455d-b05d-843cb8e25efb",
     "regions": {
      "138f3dee-51e2-47f4-b1a9-5fa64323dc25": {
       "attrs": {
        "height": 0.8,
        "width": 0.8,
        "x": 0.1,
        "y": 0.1
       },
       "content": {
        "cell": "ce552af1-4099-4929-be5b-e4364bf96af5",
        "part": "whole"
       },
       "id": "138f3dee-51e2-47f4-b1a9-5fa64323dc25"
      }
     }
    },
    "21d656c3-7461-4a33-9965-05c340c186ad": {
     "id": "21d656c3-7461-4a33-9965-05c340c186ad",
     "prev": "442ccdc0-29a5-4e38-8dda-432ae6e5ff14",
     "regions": {
      "356f3fdd-2e5f-4eb3-a5b4-0ef4aabfd3a9": {
       "attrs": {
        "height": 0.8,
        "width": 0.8,
        "x": 0.1,
        "y": 0.1
       },
       "content": {
        "cell": "4a7ff9c9-c927-43ba-b455-c499ad951437",
        "part": "whole"
       },
       "id": "356f3fdd-2e5f-4eb3-a5b4-0ef4aabfd3a9"
      }
     }
    },
    "21de5452-76cd-4606-b236-856a7390ff46": {
     "id": "21de5452-76cd-4606-b236-856a7390ff46",
     "prev": "e76b3c24-9578-4e66-861d-bc5daffe7277",
     "regions": {
      "c354377c-9450-4071-ba26-9ea4354860e4": {
       "attrs": {
        "height": 0.8,
        "width": 0.8,
        "x": 0.1,
        "y": 0.1
       },
       "content": {
        "cell": "745ff0ce-d211-4daa-8934-282f9e70c72a",
        "part": "whole"
       },
       "id": "c354377c-9450-4071-ba26-9ea4354860e4"
      }
     }
    },
    "21e8560d-d394-46c2-8458-a174f925052a": {
     "id": "21e8560d-d394-46c2-8458-a174f925052a",
     "prev": "d92a36c1-dd52-4042-8075-4f3790e3c15d",
     "regions": {
      "19bc89a5-4169-470b-a97b-ec4a45e2d74e": {
       "attrs": {
        "height": 0.8,
        "width": 0.8,
        "x": 0.1,
        "y": 0.1
       },
       "content": {
        "cell": "5cb35037-6427-4ee3-97a8-4c12d99a0b0d",
        "part": "whole"
       },
       "id": "19bc89a5-4169-470b-a97b-ec4a45e2d74e"
      }
     }
    },
    "22c6b3ea-8333-4eb3-a916-337afc846d46": {
     "id": "22c6b3ea-8333-4eb3-a916-337afc846d46",
     "prev": "21e8560d-d394-46c2-8458-a174f925052a",
     "regions": {
      "1117e43d-0005-46ff-ae5a-15722e6b9166": {
       "attrs": {
        "height": 0.8,
        "width": 0.8,
        "x": 0.1,
        "y": 0.1
       },
       "content": {
        "cell": "46d10343-9ffc-4a8c-beec-4222dd8f97c9",
        "part": "whole"
       },
       "id": "1117e43d-0005-46ff-ae5a-15722e6b9166"
      }
     }
    },
    "22e283b3-734a-4bc7-addd-165ffc240bde": {
     "id": "22e283b3-734a-4bc7-addd-165ffc240bde",
     "prev": "0d39c7a9-ed35-4822-bc74-c94b04987403",
     "regions": {
      "7d8f37df-b1b8-41ea-be67-ce3fa6e6a774": {
       "attrs": {
        "height": 0.8,
        "width": 0.8,
        "x": 0.1,
        "y": 0.1
       },
       "content": {
        "cell": "9a6ece86-fab7-48e6-ade0-b6ba69041154",
        "part": "whole"
       },
       "id": "7d8f37df-b1b8-41ea-be67-ce3fa6e6a774"
      }
     }
    },
    "22eb2da4-e7c7-414d-9efe-40476146626c": {
     "id": "22eb2da4-e7c7-414d-9efe-40476146626c",
     "prev": "4c395f85-3b9c-4de5-a7e8-5597e074a8f2",
     "regions": {
      "37960a90-2993-49fe-a9e7-a9b3c659e1e6": {
       "attrs": {
        "height": 0.8,
        "width": 0.8,
        "x": 0.1,
        "y": 0.1
       },
       "content": {
        "cell": "fc0adcbc-92b1-439b-85dc-61e3cbcb069b",
        "part": "whole"
       },
       "id": "37960a90-2993-49fe-a9e7-a9b3c659e1e6"
      }
     }
    },
    "237e7eb8-ac9f-492c-8025-07b48f81ee0a": {
     "id": "237e7eb8-ac9f-492c-8025-07b48f81ee0a",
     "prev": "3d3c1fa4-84b6-4ead-823b-99b9ce372d2e",
     "regions": {
      "3862bbd0-2fb2-44b0-b04f-d5b6601d6226": {
       "attrs": {
        "height": 0.8,
        "width": 0.8,
        "x": 0.1,
        "y": 0.1
       },
       "content": {
        "cell": "956b3408-34e0-4389-9337-2e9786a7ea95",
        "part": "whole"
       },
       "id": "3862bbd0-2fb2-44b0-b04f-d5b6601d6226"
      }
     }
    },
    "252b5f08-d812-4e00-a2df-812962659518": {
     "id": "252b5f08-d812-4e00-a2df-812962659518",
     "prev": "41dbaf02-6fae-4166-9ad8-54f479afbc20",
     "regions": {
      "82a2066a-a534-48b7-9afa-13efceef2665": {
       "attrs": {
        "height": 0.8,
        "width": 0.8,
        "x": 0.1,
        "y": 0.1
       },
       "content": {
        "cell": "c2b4f99b-0b99-4bc4-93ed-1243c9656315",
        "part": "whole"
       },
       "id": "82a2066a-a534-48b7-9afa-13efceef2665"
      }
     }
    },
    "253d0db2-3e94-4957-b5ec-3c6745d57579": {
     "id": "253d0db2-3e94-4957-b5ec-3c6745d57579",
     "prev": "8cc4cd8b-9a31-4fac-a381-5e29803e7e08",
     "regions": {
      "b4755002-95bb-40ea-a1e0-19a8e6a4f8f1": {
       "attrs": {
        "height": 0.8,
        "width": 0.8,
        "x": 0.1,
        "y": 0.1
       },
       "content": {
        "cell": "996c7b12-09fb-47c4-9aac-cc64b3149323",
        "part": "whole"
       },
       "id": "b4755002-95bb-40ea-a1e0-19a8e6a4f8f1"
      }
     }
    },
    "25e0ac89-1f5e-4d21-a744-0823951378e3": {
     "id": "25e0ac89-1f5e-4d21-a744-0823951378e3",
     "prev": "6002bf82-7ed4-4fb1-b225-ddcbf3677de9",
     "regions": {
      "6528b17c-e3e9-4de2-a7f2-0f86ce2012bb": {
       "attrs": {
        "height": 0.8,
        "width": 0.8,
        "x": 0.1,
        "y": 0.1
       },
       "content": {
        "cell": "e629cebc-27ce-41e8-9828-9a5f22b3b5ea",
        "part": "whole"
       },
       "id": "6528b17c-e3e9-4de2-a7f2-0f86ce2012bb"
      }
     }
    },
    "2676b552-0559-4ee3-9f72-556e50e68bac": {
     "id": "2676b552-0559-4ee3-9f72-556e50e68bac",
     "prev": "e1278cd4-ce9f-4859-a7f9-ae0e8b3b187b",
     "regions": {
      "76d02662-9646-4c7c-9be4-6953a4887ac0": {
       "attrs": {
        "height": 0.8,
        "width": 0.8,
        "x": 0.1,
        "y": 0.1
       },
       "content": {
        "cell": "e0e511e6-b93b-42da-b508-e1d942c5a04c",
        "part": "whole"
       },
       "id": "76d02662-9646-4c7c-9be4-6953a4887ac0"
      }
     }
    },
    "271bc731-6a1e-4dc1-a13b-3a4445cfc9c6": {
     "id": "271bc731-6a1e-4dc1-a13b-3a4445cfc9c6",
     "prev": "af4bf94b-2cb0-432d-ab3e-084e828a0406",
     "regions": {
      "4ad01cdf-a1bb-4c4f-8c6d-317a8c0b392c": {
       "attrs": {
        "height": 0.8,
        "width": 0.8,
        "x": 0.1,
        "y": 0.1
       },
       "content": {
        "cell": "b31b3e89-8b52-4987-a050-8e2b32af8103",
        "part": "whole"
       },
       "id": "4ad01cdf-a1bb-4c4f-8c6d-317a8c0b392c"
      }
     }
    },
    "283b75cb-8938-4479-b431-f1d36ccfbc84": {
     "id": "283b75cb-8938-4479-b431-f1d36ccfbc84",
     "prev": "d61b14fc-02d2-43cb-afe8-aee70a70caf7",
     "regions": {
      "5993d7d9-20a8-4f8f-b3d0-565ab02db33e": {
       "attrs": {
        "height": 0.8,
        "width": 0.8,
        "x": 0.1,
        "y": 0.1
       },
       "content": {
        "cell": "96f69151-f1bd-452b-bf46-5d47fe883e42",
        "part": "whole"
       },
       "id": "5993d7d9-20a8-4f8f-b3d0-565ab02db33e"
      }
     }
    },
    "2a5e3494-0f63-4580-a6cb-3d764b2be1eb": {
     "id": "2a5e3494-0f63-4580-a6cb-3d764b2be1eb",
     "prev": "31b68336-09d8-462c-9ace-a7ee1f709645",
     "regions": {
      "1e612975-8397-4bf7-ace9-04d50a0a4d0d": {
       "attrs": {
        "height": 0.8,
        "width": 0.8,
        "x": 0.1,
        "y": 0.1
       },
       "content": {
        "cell": "51ffc325-0946-4663-b23b-06832c6daffb",
        "part": "whole"
       },
       "id": "1e612975-8397-4bf7-ace9-04d50a0a4d0d"
      }
     }
    },
    "2de2033c-b3db-44ae-9c4d-b9cb085324d3": {
     "id": "2de2033c-b3db-44ae-9c4d-b9cb085324d3",
     "prev": "ec5c0013-9b7a-45ef-a0b3-d0ddd687a28b",
     "regions": {
      "5f29700a-d0e0-49c1-8a15-083062d7b804": {
       "attrs": {
        "height": 0.8,
        "width": 0.8,
        "x": 0.1,
        "y": 0.1
       },
       "content": {
        "cell": "24fc40c9-4508-46f2-92aa-d3c6a2f375a1",
        "part": "whole"
       },
       "id": "5f29700a-d0e0-49c1-8a15-083062d7b804"
      }
     }
    },
    "2e031470-b639-4b90-85c5-7e5571412263": {
     "id": "2e031470-b639-4b90-85c5-7e5571412263",
     "prev": "47a42e73-1af1-419f-916f-933082660bb7",
     "regions": {
      "09ae405a-48a7-4c5b-9168-a507ff1f45fc": {
       "attrs": {
        "height": 0.8,
        "width": 0.8,
        "x": 0.1,
        "y": 0.1
       },
       "content": {
        "cell": "5e02bcaa-979d-4c55-bf62-f01fb227dc33",
        "part": "whole"
       },
       "id": "09ae405a-48a7-4c5b-9168-a507ff1f45fc"
      }
     }
    },
    "2e76c401-8ab8-4d73-bcf9-2e4b5582db13": {
     "id": "2e76c401-8ab8-4d73-bcf9-2e4b5582db13",
     "prev": "c93aa63b-b828-49c2-8619-95c3a9cb35b8",
     "regions": {
      "29e2dcda-fba8-48fb-aad6-6e6281a8fbc0": {
       "attrs": {
        "height": 0.8,
        "width": 0.8,
        "x": 0.1,
        "y": 0.1
       },
       "content": {
        "cell": "8d188710-269d-43fa-9ae7-6390c256048c",
        "part": "whole"
       },
       "id": "29e2dcda-fba8-48fb-aad6-6e6281a8fbc0"
      }
     }
    },
    "31b68336-09d8-462c-9ace-a7ee1f709645": {
     "id": "31b68336-09d8-462c-9ace-a7ee1f709645",
     "prev": "a85643d0-0b40-4a06-b32b-0d2b30c15303",
     "regions": {
      "8c4cd33f-aefa-4cc1-8a41-79eadeb53bcd": {
       "attrs": {
        "height": 0.8,
        "width": 0.8,
        "x": 0.1,
        "y": 0.1
       },
       "content": {
        "cell": "8828c6b7-5ef4-424c-89e3-c5efbe8604bc",
        "part": "whole"
       },
       "id": "8c4cd33f-aefa-4cc1-8a41-79eadeb53bcd"
      }
     }
    },
    "32728d6f-201a-4cd5-bc35-abad9a934725": {
     "id": "32728d6f-201a-4cd5-bc35-abad9a934725",
     "prev": "9497c44c-9f95-4174-bc61-1485048ade6b",
     "regions": {
      "f35bf07f-4b6d-4a89-a713-fc9d29b31c44": {
       "attrs": {
        "height": 0.8,
        "width": 0.8,
        "x": 0.1,
        "y": 0.1
       },
       "content": {
        "cell": "43ab2d4c-5477-47f3-a87a-be018bd401a2",
        "part": "whole"
       },
       "id": "f35bf07f-4b6d-4a89-a713-fc9d29b31c44"
      }
     }
    },
    "32d6b550-5eca-4019-8cee-ada486c02ab9": {
     "id": "32d6b550-5eca-4019-8cee-ada486c02ab9",
     "prev": "22e283b3-734a-4bc7-addd-165ffc240bde",
     "regions": {
      "72e01cd1-49fb-4a82-8cd0-719f560ad4b5": {
       "attrs": {
        "height": 0.8,
        "width": 0.8,
        "x": 0.1,
        "y": 0.1
       },
       "content": {
        "cell": "6762b3c6-2647-468d-b379-5b3298a8088e",
        "part": "whole"
       },
       "id": "72e01cd1-49fb-4a82-8cd0-719f560ad4b5"
      }
     }
    },
    "332d387e-a663-410c-83f7-4e2747a466a2": {
     "id": "332d387e-a663-410c-83f7-4e2747a466a2",
     "prev": "a15e724a-8879-48e2-80c7-b34a3ce4ba61",
     "regions": {
      "06edffe2-4923-4b96-8c93-22634e8ebee2": {
       "attrs": {
        "height": 0.8,
        "width": 0.8,
        "x": 0.1,
        "y": 0.1
       },
       "content": {
        "cell": "82745227-57f9-40e4-bcda-76e6c238e86b",
        "part": "whole"
       },
       "id": "06edffe2-4923-4b96-8c93-22634e8ebee2"
      }
     }
    },
    "3356e81a-a94f-47e6-af09-49e77f366658": {
     "id": "3356e81a-a94f-47e6-af09-49e77f366658",
     "prev": "332d387e-a663-410c-83f7-4e2747a466a2",
     "regions": {
      "de5931e9-a2b7-4e9a-95ac-053a6514e5ae": {
       "attrs": {
        "height": 0.8,
        "width": 0.8,
        "x": 0.1,
        "y": 0.1
       },
       "content": {
        "cell": "2336d23b-7c17-4319-8c26-2f9e444d6c1f",
        "part": "whole"
       },
       "id": "de5931e9-a2b7-4e9a-95ac-053a6514e5ae"
      }
     }
    },
    "357d1e94-742e-4885-b9eb-662d650dd47c": {
     "id": "357d1e94-742e-4885-b9eb-662d650dd47c",
     "prev": "32728d6f-201a-4cd5-bc35-abad9a934725",
     "regions": {
      "04e7aad8-770f-4706-acba-8b5329ce2717": {
       "attrs": {
        "height": 0.8,
        "width": 0.8,
        "x": 0.1,
        "y": 0.1
       },
       "content": {
        "cell": "213b8762-c40d-43f6-94de-fce2084cb688",
        "part": "whole"
       },
       "id": "04e7aad8-770f-4706-acba-8b5329ce2717"
      }
     }
    },
    "35a6ce76-ad15-4067-8353-a77e5ba2f8cb": {
     "id": "35a6ce76-ad15-4067-8353-a77e5ba2f8cb",
     "prev": "63f74ac8-684f-43ed-adbd-6f0642d37662",
     "regions": {
      "f946c91a-b03e-4025-b80b-c6ecf05955a7": {
       "attrs": {
        "height": 0.8,
        "width": 0.8,
        "x": 0.1,
        "y": 0.1
       },
       "content": {
        "cell": "0d61921f-e5e4-4000-9403-221b77cb0d9a",
        "part": "whole"
       },
       "id": "f946c91a-b03e-4025-b80b-c6ecf05955a7"
      }
     }
    },
    "362bca06-442e-49f6-9918-4d731d12372d": {
     "id": "362bca06-442e-49f6-9918-4d731d12372d",
     "prev": "4cdaf7b5-26ae-4b9d-a37e-7df149281092",
     "regions": {
      "2306f78f-26e9-4335-80d8-9900d8ea8cad": {
       "attrs": {
        "height": 0.8,
        "width": 0.8,
        "x": 0.1,
        "y": 0.1
       },
       "content": {
        "cell": "826b96a6-22f3-438a-975d-7162561d0065",
        "part": "whole"
       },
       "id": "2306f78f-26e9-4335-80d8-9900d8ea8cad"
      }
     }
    },
    "36a8fbf7-2ae8-452e-9277-dcc0b179b741": {
     "id": "36a8fbf7-2ae8-452e-9277-dcc0b179b741",
     "prev": "0727ed75-3fdf-41f0-b1e8-d23458ef1a0e",
     "regions": {
      "ed6940f9-9cf5-4ef4-8ca6-27bd9eeb9613": {
       "attrs": {
        "height": 0.8,
        "width": 0.8,
        "x": 0.1,
        "y": 0.1
       },
       "content": {
        "cell": "d7e42aae-20d0-4b02-90d6-a326522cdadb",
        "part": "whole"
       },
       "id": "ed6940f9-9cf5-4ef4-8ca6-27bd9eeb9613"
      }
     }
    },
    "378f7763-3630-4e21-bd8a-ddff881b0b01": {
     "id": "378f7763-3630-4e21-bd8a-ddff881b0b01",
     "prev": "948d1fdb-9125-488a-ba68-9562625c01db",
     "regions": {
      "06418aea-837b-4e8d-aa02-0df8413855b0": {
       "attrs": {
        "height": 0.8,
        "width": 0.8,
        "x": 0.1,
        "y": 0.1
       },
       "content": {
        "cell": "a2e00ab0-3742-433d-9121-eb94750405a2",
        "part": "whole"
       },
       "id": "06418aea-837b-4e8d-aa02-0df8413855b0"
      }
     }
    },
    "379db703-a2c8-41a4-a65d-7874146bfa9c": {
     "id": "379db703-a2c8-41a4-a65d-7874146bfa9c",
     "prev": "729501d7-b0d3-4631-ad76-878acec612bb",
     "regions": {
      "025d878d-6906-424e-9441-e1437fdf0eaa": {
       "attrs": {
        "height": 0.8,
        "width": 0.8,
        "x": 0.1,
        "y": 0.1
       },
       "content": {
        "cell": "2ac746b2-0d18-4ab0-a7aa-da352eba07d4",
        "part": "whole"
       },
       "id": "025d878d-6906-424e-9441-e1437fdf0eaa"
      }
     }
    },
    "399eb467-b696-41bb-bf80-e6a6e50a6b1a": {
     "id": "399eb467-b696-41bb-bf80-e6a6e50a6b1a",
     "prev": "d4a4c87c-62f5-49e7-ae80-c0335fa4ff51",
     "regions": {
      "258f39f3-907f-4166-b2c5-e38ff04bd0f3": {
       "attrs": {
        "height": 0.8,
        "width": 0.8,
        "x": 0.1,
        "y": 0.1
       },
       "content": {
        "cell": "6430b8dc-339f-4f78-839f-8daf96173dd3",
        "part": "whole"
       },
       "id": "258f39f3-907f-4166-b2c5-e38ff04bd0f3"
      }
     }
    },
    "3bd792ed-e9c9-464a-a10c-96f1fcb15ce9": {
     "id": "3bd792ed-e9c9-464a-a10c-96f1fcb15ce9",
     "prev": "f97e6c60-f607-4b98-8b8a-df402a8438f0",
     "regions": {
      "1578cebf-c6c2-4208-b513-c53f5b9f897b": {
       "attrs": {
        "height": 0.8,
        "width": 0.8,
        "x": 0.1,
        "y": 0.1
       },
       "content": {
        "cell": "47328348-da94-4fa3-b947-0c6ea81e1ebf",
        "part": "whole"
       },
       "id": "1578cebf-c6c2-4208-b513-c53f5b9f897b"
      }
     }
    },
    "3c0adf74-6eb8-4fa5-8e73-4f637309bcbd": {
     "id": "3c0adf74-6eb8-4fa5-8e73-4f637309bcbd",
     "prev": "67ecb9f0-282b-449d-8c00-e87bea7d1b95",
     "regions": {
      "8521c3d5-6c81-4d08-b711-3f23c0dcbc11": {
       "attrs": {
        "height": 0.8,
        "width": 0.8,
        "x": 0.1,
        "y": 0.1
       },
       "content": {
        "cell": "58443412-18cc-4209-93a7-244051a508a7",
        "part": "whole"
       },
       "id": "8521c3d5-6c81-4d08-b711-3f23c0dcbc11"
      }
     }
    },
    "3d3c1fa4-84b6-4ead-823b-99b9ce372d2e": {
     "id": "3d3c1fa4-84b6-4ead-823b-99b9ce372d2e",
     "prev": "d447d22c-d860-429e-97d7-655b754f27c9",
     "regions": {
      "2a29d5ba-3bc8-431a-8825-ddf2216363e5": {
       "attrs": {
        "height": 0.8,
        "width": 0.8,
        "x": 0.1,
        "y": 0.1
       },
       "content": {
        "cell": "24ae82c0-5cc3-4da5-a43a-43cea432fe65",
        "part": "whole"
       },
       "id": "2a29d5ba-3bc8-431a-8825-ddf2216363e5"
      }
     }
    },
    "3e6867c9-f719-43e9-a0fa-83e5eb72b06a": {
     "id": "3e6867c9-f719-43e9-a0fa-83e5eb72b06a",
     "prev": "3356e81a-a94f-47e6-af09-49e77f366658",
     "regions": {
      "34989602-ef51-4e65-9620-d22fa551f6d6": {
       "attrs": {
        "height": 0.8,
        "width": 0.8,
        "x": 0.1,
        "y": 0.1
       },
       "content": {
        "cell": "a3f6a7c1-aaab-4532-a302-b88c8fad1431",
        "part": "whole"
       },
       "id": "34989602-ef51-4e65-9620-d22fa551f6d6"
      }
     }
    },
    "3ef47eb3-d71c-4420-b9e6-17bc3c22c32c": {
     "id": "3ef47eb3-d71c-4420-b9e6-17bc3c22c32c",
     "prev": "5418a116-7898-46aa-b4d2-2a0c1e10c200",
     "regions": {
      "36db7d5d-eb41-43f8-ac1b-a844cc8588ef": {
       "attrs": {
        "height": 0.8,
        "width": 0.8,
        "x": 0.1,
        "y": 0.1
       },
       "content": {
        "cell": "ccc1eca4-7d46-4791-b815-56d6d4e6a5ed",
        "part": "whole"
       },
       "id": "36db7d5d-eb41-43f8-ac1b-a844cc8588ef"
      }
     }
    },
    "405bd35f-531f-4977-9507-f6043b9be5b6": {
     "id": "405bd35f-531f-4977-9507-f6043b9be5b6",
     "prev": "6344f2cf-3e28-4aa6-b4ec-8d68f16b7fd7",
     "regions": {
      "c8b515c8-2204-4d89-93e0-c4c13937bc0c": {
       "attrs": {
        "height": 0.8,
        "width": 0.8,
        "x": 0.1,
        "y": 0.1
       },
       "content": {
        "cell": "4f3616aa-9b88-44b0-8d52-257e6ee35dc0",
        "part": "whole"
       },
       "id": "c8b515c8-2204-4d89-93e0-c4c13937bc0c"
      }
     }
    },
    "40c08d32-17ec-48b1-ae29-d208d46c9522": {
     "id": "40c08d32-17ec-48b1-ae29-d208d46c9522",
     "prev": "357d1e94-742e-4885-b9eb-662d650dd47c",
     "regions": {
      "464eaa4f-236f-452e-a531-bd7a69060668": {
       "attrs": {
        "height": 0.8,
        "width": 0.8,
        "x": 0.1,
        "y": 0.1
       },
       "content": {
        "cell": "da8b83a1-d34e-48c8-97eb-7887ca15d43e",
        "part": "whole"
       },
       "id": "464eaa4f-236f-452e-a531-bd7a69060668"
      }
     }
    },
    "40e03782-fc38-47bd-89c6-5cc494667df7": {
     "id": "40e03782-fc38-47bd-89c6-5cc494667df7",
     "prev": "bce2f83e-ee30-4319-99d1-406083a44ac4",
     "regions": {
      "6a9028c6-774a-42be-943a-d4a5c3a7b099": {
       "attrs": {
        "height": 0.8,
        "width": 0.8,
        "x": 0.1,
        "y": 0.1
       },
       "content": {
        "cell": "8d908c82-f7e3-4036-9622-11a8f11931f4",
        "part": "whole"
       },
       "id": "6a9028c6-774a-42be-943a-d4a5c3a7b099"
      }
     }
    },
    "41dbaf02-6fae-4166-9ad8-54f479afbc20": {
     "id": "41dbaf02-6fae-4166-9ad8-54f479afbc20",
     "prev": "a0d304c8-a93a-4cf1-a0d7-c367da7ed6c8",
     "regions": {
      "f08576c1-9ae4-440d-9fb3-f5507f9efb89": {
       "attrs": {
        "height": 0.8,
        "width": 0.8,
        "x": 0.1,
        "y": 0.1
       },
       "content": {
        "cell": "561d40e5-71c6-41dd-a10b-a42a692f8978",
        "part": "whole"
       },
       "id": "f08576c1-9ae4-440d-9fb3-f5507f9efb89"
      }
     }
    },
    "442ccdc0-29a5-4e38-8dda-432ae6e5ff14": {
     "id": "442ccdc0-29a5-4e38-8dda-432ae6e5ff14",
     "prev": "85b6929a-24a2-48db-bf10-a875e45cbe3b",
     "regions": {
      "eda43ba1-18a4-4795-ba69-1ab897b75815": {
       "attrs": {
        "height": 0.8,
        "width": 0.8,
        "x": 0.1,
        "y": 0.1
       },
       "content": {
        "cell": "7da47036-01df-43ec-9852-15d905eccce4",
        "part": "whole"
       },
       "id": "eda43ba1-18a4-4795-ba69-1ab897b75815"
      }
     }
    },
    "47679d95-21cf-463f-abfd-50b67cf4cfe4": {
     "id": "47679d95-21cf-463f-abfd-50b67cf4cfe4",
     "prev": "ccbee646-e72c-425b-a8c7-dd03ae5cf6d8",
     "regions": {
      "da4a6288-adc7-4a18-814b-f36eb6be8eb2": {
       "attrs": {
        "height": 0.8,
        "width": 0.8,
        "x": 0.1,
        "y": 0.1
       },
       "content": {
        "cell": "3e321b6c-beec-4fd0-8d0e-20f85e1a752e",
        "part": "whole"
       },
       "id": "da4a6288-adc7-4a18-814b-f36eb6be8eb2"
      }
     }
    },
    "47a42e73-1af1-419f-916f-933082660bb7": {
     "id": "47a42e73-1af1-419f-916f-933082660bb7",
     "prev": "252b5f08-d812-4e00-a2df-812962659518",
     "regions": {
      "51e36dc0-49c2-4a55-b82f-2efc5909ee35": {
       "attrs": {
        "height": 0.8,
        "width": 0.8,
        "x": 0.1,
        "y": 0.1
       },
       "content": {
        "cell": "589bb8d5-f2b2-4501-b5f0-c50e2da5ae19",
        "part": "whole"
       },
       "id": "51e36dc0-49c2-4a55-b82f-2efc5909ee35"
      }
     }
    },
    "4c395f85-3b9c-4de5-a7e8-5597e074a8f2": {
     "id": "4c395f85-3b9c-4de5-a7e8-5597e074a8f2",
     "prev": "f7da36b1-e07c-41d5-8dd4-5f5a23f33259",
     "regions": {
      "52cb2af4-a73f-43d2-9101-0c806377ff51": {
       "attrs": {
        "height": 0.8,
        "width": 0.8,
        "x": 0.1,
        "y": 0.1
       },
       "content": {
        "cell": "396e56c1-ad33-4c5f-a537-1891da724452",
        "part": "whole"
       },
       "id": "52cb2af4-a73f-43d2-9101-0c806377ff51"
      }
     }
    },
    "4cdaf7b5-26ae-4b9d-a37e-7df149281092": {
     "id": "4cdaf7b5-26ae-4b9d-a37e-7df149281092",
     "prev": "615a71df-3d87-401b-b51c-29bea19c1db0",
     "regions": {
      "9821c690-8d51-45f5-b3ee-e2ec2caf32d7": {
       "attrs": {
        "height": 0.8,
        "width": 0.8,
        "x": 0.1,
        "y": 0.1
       },
       "content": {
        "cell": "6728f54a-3018-4f2e-ab5d-abfa52b6ca36",
        "part": "whole"
       },
       "id": "9821c690-8d51-45f5-b3ee-e2ec2caf32d7"
      }
     }
    },
    "4dd6685a-db11-481b-a76a-a3761d08cf9c": {
     "id": "4dd6685a-db11-481b-a76a-a3761d08cf9c",
     "prev": "1c4cb739-88be-4807-8427-3caa279976bb",
     "regions": {
      "3ab8006d-d637-42da-bf70-69a1184c2a1f": {
       "attrs": {
        "height": 0.8,
        "width": 0.8,
        "x": 0.1,
        "y": 0.1
       },
       "content": {
        "cell": "3207e440-bbe4-4614-bbc2-e4d615a006a3",
        "part": "whole"
       },
       "id": "3ab8006d-d637-42da-bf70-69a1184c2a1f"
      }
     }
    },
    "4e1e0ae2-9b69-4e72-b57b-e132389515ef": {
     "id": "4e1e0ae2-9b69-4e72-b57b-e132389515ef",
     "prev": "db6142fb-6a3e-4ac3-8516-bd176d8a325f",
     "regions": {
      "d48a9d12-b96e-4db4-a693-4f1d0d15edb8": {
       "attrs": {
        "height": 0.8,
        "width": 0.8,
        "x": 0.1,
        "y": 0.1
       },
       "content": {
        "cell": "85f2371b-ee8e-436a-8876-fcc346b6be7f",
        "part": "whole"
       },
       "id": "d48a9d12-b96e-4db4-a693-4f1d0d15edb8"
      }
     }
    },
    "4e24c06c-6645-43af-b762-afb684ffaaeb": {
     "id": "4e24c06c-6645-43af-b762-afb684ffaaeb",
     "prev": "c11bbca7-3a43-456b-8ffb-9d4bbdd71ac1",
     "regions": {
      "d30a70db-18e6-4861-8eeb-4ff939ce428e": {
       "attrs": {
        "height": 0.8,
        "width": 0.8,
        "x": 0.1,
        "y": 0.1
       },
       "content": {
        "cell": "8f5bafde-578b-48bd-87b2-e4f865ad35ee",
        "part": "whole"
       },
       "id": "d30a70db-18e6-4861-8eeb-4ff939ce428e"
      }
     }
    },
    "4e71fdc1-db76-4ce3-b9f0-4faa2844911e": {
     "id": "4e71fdc1-db76-4ce3-b9f0-4faa2844911e",
     "prev": "0150731a-8f68-4e0d-bcdb-5fe7591ac3dc",
     "regions": {
      "77bfa379-61c2-41e9-a214-7885db87a25a": {
       "attrs": {
        "height": 0.8,
        "width": 0.8,
        "x": 0.1,
        "y": 0.1
       },
       "content": {
        "cell": "98ad92c9-fdbb-4a0f-bcf7-1aa762e0fbd6",
        "part": "whole"
       },
       "id": "77bfa379-61c2-41e9-a214-7885db87a25a"
      }
     }
    },
    "4f2ff8e8-149e-46d4-8e20-039d72622481": {
     "id": "4f2ff8e8-149e-46d4-8e20-039d72622481",
     "prev": "b62ba4b5-dec6-40f4-9194-bf15c3552f7c",
     "regions": {
      "04c94a11-75c2-4036-8f3f-9e3b306564bf": {
       "attrs": {
        "height": 0.8,
        "width": 0.8,
        "x": 0.1,
        "y": 0.1
       },
       "content": {
        "cell": "2fc4f255-4766-4253-bb59-54eafc074de6",
        "part": "whole"
       },
       "id": "04c94a11-75c2-4036-8f3f-9e3b306564bf"
      }
     }
    },
    "4f4742a3-88f3-4761-8539-7c38e26edd83": {
     "id": "4f4742a3-88f3-4761-8539-7c38e26edd83",
     "prev": "3c0adf74-6eb8-4fa5-8e73-4f637309bcbd",
     "regions": {
      "d9967126-e243-466d-bf09-6eb5f1e3eb5d": {
       "attrs": {
        "height": 0.8,
        "width": 0.8,
        "x": 0.1,
        "y": 0.1
       },
       "content": {
        "cell": "11f83e9b-daaa-47c0-af51-ec7a508ee2cd",
        "part": "whole"
       },
       "id": "d9967126-e243-466d-bf09-6eb5f1e3eb5d"
      }
     }
    },
    "50856f73-8140-4a51-9a6e-6f4cc53d905d": {
     "id": "50856f73-8140-4a51-9a6e-6f4cc53d905d",
     "prev": "8ad094a7-b473-4aa5-8bf7-aad1ac44be6d",
     "regions": {
      "bac47a8b-6173-46e5-b344-cd57ce1a1e6c": {
       "attrs": {
        "height": 0.8,
        "width": 0.8,
        "x": 0.1,
        "y": 0.1
       },
       "content": {
        "cell": "54adf652-27f7-41df-95c5-befdcb2e46e2",
        "part": "whole"
       },
       "id": "bac47a8b-6173-46e5-b344-cd57ce1a1e6c"
      }
     }
    },
    "52261bb0-41ea-48c5-9953-a963543cacbc": {
     "id": "52261bb0-41ea-48c5-9953-a963543cacbc",
     "prev": "4f4742a3-88f3-4761-8539-7c38e26edd83",
     "regions": {
      "4a718519-972b-4780-b3ca-194ee8f8c635": {
       "attrs": {
        "height": 0.8,
        "width": 0.8,
        "x": 0.1,
        "y": 0.1
       },
       "content": {
        "cell": "ff89bbb9-58c0-464c-ad2c-96e5e14b3181",
        "part": "whole"
       },
       "id": "4a718519-972b-4780-b3ca-194ee8f8c635"
      }
     }
    },
    "527f1932-332e-42bd-a3c6-18228dceffa9": {
     "id": "527f1932-332e-42bd-a3c6-18228dceffa9",
     "prev": "8437e220-26bf-441c-adaf-335ee39b63da",
     "regions": {
      "5f218da6-dcf7-476f-8efe-d4caa3091af9": {
       "attrs": {
        "height": 0.8,
        "width": 0.8,
        "x": 0.1,
        "y": 0.1
       },
       "content": {
        "cell": "77fba136-42f5-47ea-849e-e0842a28c53e",
        "part": "whole"
       },
       "id": "5f218da6-dcf7-476f-8efe-d4caa3091af9"
      }
     }
    },
    "5418a116-7898-46aa-b4d2-2a0c1e10c200": {
     "id": "5418a116-7898-46aa-b4d2-2a0c1e10c200",
     "prev": "10702a9b-2e33-4c93-a2ce-f08f599e76a6",
     "regions": {
      "171c42d0-924d-4124-9c9b-6a6e5b283ee3": {
       "attrs": {
        "height": 0.8,
        "width": 0.8,
        "x": 0.1,
        "y": 0.1
       },
       "content": {
        "cell": "b4d3dbed-42c0-4c4e-8d1c-1ce70a63fdb5",
        "part": "whole"
       },
       "id": "171c42d0-924d-4124-9c9b-6a6e5b283ee3"
      }
     }
    },
    "5424f70e-8b97-4c91-834e-1b9691956a26": {
     "id": "5424f70e-8b97-4c91-834e-1b9691956a26",
     "prev": "2676b552-0559-4ee3-9f72-556e50e68bac",
     "regions": {
      "a5e7e3de-949c-440c-a873-9c9267448287": {
       "attrs": {
        "height": 0.8,
        "width": 0.8,
        "x": 0.1,
        "y": 0.1
       },
       "content": {
        "cell": "5511d2ba-4f4e-4e24-876c-7aaa43fb2b74",
        "part": "whole"
       },
       "id": "a5e7e3de-949c-440c-a873-9c9267448287"
      }
     }
    },
    "549cbf86-a134-40da-913e-b5e6c3d29cc2": {
     "id": "549cbf86-a134-40da-913e-b5e6c3d29cc2",
     "prev": "fb48fe13-517d-487f-83c1-f2f7d27f8158",
     "regions": {
      "3dbefaa7-4d96-4a6c-a473-2b69f6c8f47b": {
       "attrs": {
        "height": 0.8,
        "width": 0.8,
        "x": 0.1,
        "y": 0.1
       },
       "content": {
        "cell": "061fb60f-2a68-4ce7-bfeb-a3a6b7ef7aaa",
        "part": "whole"
       },
       "id": "3dbefaa7-4d96-4a6c-a473-2b69f6c8f47b"
      }
     }
    },
    "560f8355-d320-4cf1-b969-079008cebbe6": {
     "id": "560f8355-d320-4cf1-b969-079008cebbe6",
     "prev": "f481833f-e737-44e7-afcd-79f0f0f46b79",
     "regions": {
      "857fd265-2548-431a-b241-10457a458792": {
       "attrs": {
        "height": 0.8,
        "width": 0.8,
        "x": 0.1,
        "y": 0.1
       },
       "content": {
        "cell": "dd620bfa-0fa4-42b9-a322-c8b1b41474f2",
        "part": "whole"
       },
       "id": "857fd265-2548-431a-b241-10457a458792"
      }
     }
    },
    "57d2b049-c914-448b-b62b-e0433976c69f": {
     "id": "57d2b049-c914-448b-b62b-e0433976c69f",
     "prev": "4e71fdc1-db76-4ce3-b9f0-4faa2844911e",
     "regions": {
      "0de4cd5a-13ae-4b38-ad64-dc635c6cd083": {
       "attrs": {
        "height": 0.8,
        "width": 0.8,
        "x": 0.1,
        "y": 0.1
       },
       "content": {
        "cell": "79c3fb89-c642-4886-b4cb-166933327170",
        "part": "whole"
       },
       "id": "0de4cd5a-13ae-4b38-ad64-dc635c6cd083"
      }
     }
    },
    "58f50f4b-6c99-4646-b61e-20539ec5bf51": {
     "id": "58f50f4b-6c99-4646-b61e-20539ec5bf51",
     "prev": "a4da9d8c-3461-49d8-ab69-5b989074c147",
     "regions": {
      "13697806-785a-4bdb-93b9-5442daa1b857": {
       "attrs": {
        "height": 0.8,
        "width": 0.8,
        "x": 0.1,
        "y": 0.1
       },
       "content": {
        "cell": "c07bb804-7241-470c-a321-14ce76c98b3e",
        "part": "whole"
       },
       "id": "13697806-785a-4bdb-93b9-5442daa1b857"
      }
     }
    },
    "5ac6c33c-c1fa-4187-a50a-867a7fd438e5": {
     "id": "5ac6c33c-c1fa-4187-a50a-867a7fd438e5",
     "prev": "4dd6685a-db11-481b-a76a-a3761d08cf9c",
     "regions": {
      "caf56b4c-965f-4e2e-b6a6-a00e1ec5dfa7": {
       "attrs": {
        "height": 0.8,
        "width": 0.8,
        "x": 0.1,
        "y": 0.1
       },
       "content": {
        "cell": "f59b15a0-a6ef-4347-b12c-a2ec482f267c",
        "part": "whole"
       },
       "id": "caf56b4c-965f-4e2e-b6a6-a00e1ec5dfa7"
      }
     }
    },
    "5afbe600-2f24-4a6a-9692-1ea58496c00c": {
     "id": "5afbe600-2f24-4a6a-9692-1ea58496c00c",
     "prev": "d1106806-74fa-4422-990c-0edef30198e1",
     "regions": {
      "4c9b1b12-b52c-467f-a141-e736331af1b0": {
       "attrs": {
        "height": 0.8,
        "width": 0.8,
        "x": 0.1,
        "y": 0.1
       },
       "content": {
        "cell": "f3e72019-9bd9-4ea7-bfa6-54490c8c1741",
        "part": "whole"
       },
       "id": "4c9b1b12-b52c-467f-a141-e736331af1b0"
      }
     }
    },
    "5bdb7e50-11a6-4a16-95ca-0720f5c55c38": {
     "id": "5bdb7e50-11a6-4a16-95ca-0720f5c55c38",
     "prev": "a5b2a085-ce8d-464d-b35e-74bec65f382c",
     "regions": {
      "9773d276-11ff-45b9-b506-d7d6d3906156": {
       "attrs": {
        "height": 0.8,
        "width": 0.8,
        "x": 0.1,
        "y": 0.1
       },
       "content": {
        "cell": "1cace889-ff5f-4232-8f60-ee0bc77bdf0d",
        "part": "whole"
       },
       "id": "9773d276-11ff-45b9-b506-d7d6d3906156"
      }
     }
    },
    "5ec0f273-c86f-4bce-8c10-89e664fc38d8": {
     "id": "5ec0f273-c86f-4bce-8c10-89e664fc38d8",
     "prev": "e2212f62-cdc9-430f-b4c9-552b1985dcc7",
     "regions": {
      "5e6954cd-3870-4a0a-8cc0-e5292675063b": {
       "attrs": {
        "height": 0.8,
        "width": 0.8,
        "x": 0.1,
        "y": 0.1
       },
       "content": {
        "cell": "bead7419-f04d-4a4b-9b88-19578f90d1c3",
        "part": "whole"
       },
       "id": "5e6954cd-3870-4a0a-8cc0-e5292675063b"
      }
     }
    },
    "6002bf82-7ed4-4fb1-b225-ddcbf3677de9": {
     "id": "6002bf82-7ed4-4fb1-b225-ddcbf3677de9",
     "prev": "77142ed4-3578-4168-873e-caa8f287d58d",
     "regions": {
      "42cfbaf0-a2d2-4ea8-9797-03d9a6fc11ad": {
       "attrs": {
        "height": 0.8,
        "width": 0.8,
        "x": 0.1,
        "y": 0.1
       },
       "content": {
        "cell": "3ab47496-f4ce-4b12-94d8-1204c5e469a8",
        "part": "whole"
       },
       "id": "42cfbaf0-a2d2-4ea8-9797-03d9a6fc11ad"
      }
     }
    },
    "604ab4e2-c4e0-455d-b05d-843cb8e25efb": {
     "id": "604ab4e2-c4e0-455d-b05d-843cb8e25efb",
     "prev": "5ec0f273-c86f-4bce-8c10-89e664fc38d8",
     "regions": {
      "fed462e3-3757-40b4-850e-6012e9b321e2": {
       "attrs": {
        "height": 0.8,
        "width": 0.8,
        "x": 0.1,
        "y": 0.1
       },
       "content": {
        "cell": "f231325e-c36b-42f9-adde-6aeca7e5f176",
        "part": "whole"
       },
       "id": "fed462e3-3757-40b4-850e-6012e9b321e2"
      }
     }
    },
    "607edb78-5439-448e-a143-29918fc22d85": {
     "id": "607edb78-5439-448e-a143-29918fc22d85",
     "prev": "78a790c9-bc2a-4a4b-b883-2ab50454ca1a",
     "regions": {
      "814640fa-1bdd-49b8-8ec3-1753c82b6019": {
       "attrs": {
        "height": 0.8,
        "width": 0.8,
        "x": 0.1,
        "y": 0.1
       },
       "content": {
        "cell": "d4fb7347-ccd5-4027-b9d6-38c521ae92bf",
        "part": "whole"
       },
       "id": "814640fa-1bdd-49b8-8ec3-1753c82b6019"
      }
     }
    },
    "609e2bbe-2943-4725-b703-ec1d3032d6ce": {
     "id": "609e2bbe-2943-4725-b703-ec1d3032d6ce",
     "prev": "a611538d-1dd3-4a4c-b3bc-63117adc9f3b",
     "regions": {
      "90834b8e-5ce7-4d8f-bcf4-67db6011e30d": {
       "attrs": {
        "height": 0.8,
        "width": 0.8,
        "x": 0.1,
        "y": 0.1
       },
       "content": {
        "cell": "89a4c81b-877d-48fd-ad1b-1f217236be97",
        "part": "whole"
       },
       "id": "90834b8e-5ce7-4d8f-bcf4-67db6011e30d"
      }
     }
    },
    "60c02802-995b-4217-95af-45ddfe98e5d9": {
     "id": "60c02802-995b-4217-95af-45ddfe98e5d9",
     "prev": "d79fb6e7-180d-4722-b186-896b19ca33d3",
     "regions": {
      "ba54b01c-038f-4f0b-9b57-ca6f6df496b4": {
       "attrs": {
        "height": 0.8,
        "width": 0.8,
        "x": 0.1,
        "y": 0.1
       },
       "content": {
        "cell": "f89754d0-6af2-4054-b9a4-c2f350f6a6f5",
        "part": "whole"
       },
       "id": "ba54b01c-038f-4f0b-9b57-ca6f6df496b4"
      }
     }
    },
    "615a71df-3d87-401b-b51c-29bea19c1db0": {
     "id": "615a71df-3d87-401b-b51c-29bea19c1db0",
     "prev": "62059b41-fb2a-473a-81c3-3447de342515",
     "regions": {
      "564d53bc-f467-480e-b5fc-9e8554dce2c7": {
       "attrs": {
        "height": 0.8,
        "width": 0.8,
        "x": 0.1,
        "y": 0.1
       },
       "content": {
        "cell": "92f44d12-cdad-466c-ba60-48e12a40349c",
        "part": "whole"
       },
       "id": "564d53bc-f467-480e-b5fc-9e8554dce2c7"
      }
     }
    },
    "62059b41-fb2a-473a-81c3-3447de342515": {
     "id": "62059b41-fb2a-473a-81c3-3447de342515",
     "prev": "2e031470-b639-4b90-85c5-7e5571412263",
     "regions": {
      "b6e7b09d-7a24-43eb-bd8a-6b334eb676f0": {
       "attrs": {
        "height": 0.8,
        "width": 0.8,
        "x": 0.1,
        "y": 0.1
       },
       "content": {
        "cell": "de7b06e7-5470-4b2f-a02b-93929bfc1058",
        "part": "whole"
       },
       "id": "b6e7b09d-7a24-43eb-bd8a-6b334eb676f0"
      }
     }
    },
    "6344f2cf-3e28-4aa6-b4ec-8d68f16b7fd7": {
     "id": "6344f2cf-3e28-4aa6-b4ec-8d68f16b7fd7",
     "prev": "ed916482-3fa3-4a47-81c8-c0adf4d3c846",
     "regions": {
      "30a39336-8093-4419-988b-54ebeb56f3fc": {
       "attrs": {
        "height": 0.8,
        "width": 0.8,
        "x": 0.1,
        "y": 0.1
       },
       "content": {
        "cell": "bda98190-963b-4a62-b502-68129ddce430",
        "part": "whole"
       },
       "id": "30a39336-8093-4419-988b-54ebeb56f3fc"
      }
     }
    },
    "63f74ac8-684f-43ed-adbd-6f0642d37662": {
     "id": "63f74ac8-684f-43ed-adbd-6f0642d37662",
     "prev": "a998abff-560e-4d96-b102-6911e41467a4",
     "regions": {
      "8ca110ad-045a-4954-9096-98ce95fb2266": {
       "attrs": {
        "height": 0.8,
        "width": 0.8,
        "x": 0.1,
        "y": 0.1
       },
       "content": {
        "cell": "885e2d1b-9a78-48bf-b89a-8f460e6b3d6b",
        "part": "whole"
       },
       "id": "8ca110ad-045a-4954-9096-98ce95fb2266"
      }
     }
    },
    "6515f000-1614-41b0-a069-47a5aae54e3f": {
     "id": "6515f000-1614-41b0-a069-47a5aae54e3f",
     "prev": "0c43f537-b93a-4f62-9c0a-52b21f99f80c",
     "regions": {
      "0fa92b36-de85-4a25-a856-2e3d95752d4a": {
       "attrs": {
        "height": 0.8,
        "width": 0.8,
        "x": 0.1,
        "y": 0.1
       },
       "content": {
        "cell": "1dc46865-3cc4-42ef-8dc1-c38fa7177edf",
        "part": "whole"
       },
       "id": "0fa92b36-de85-4a25-a856-2e3d95752d4a"
      }
     }
    },
    "662c7868-4c37-4893-a30c-409ce3e4ccae": {
     "id": "662c7868-4c37-4893-a30c-409ce3e4ccae",
     "prev": "6741c283-4c9f-4737-82d4-b8e3f34453a0",
     "regions": {
      "eb114f5b-18ce-456c-b42b-dd383660d6aa": {
       "attrs": {
        "height": 0.8,
        "width": 0.8,
        "x": 0.1,
        "y": 0.1
       },
       "content": {
        "cell": "23caf5d1-36f5-4945-aaee-0bda210011a5",
        "part": "whole"
       },
       "id": "eb114f5b-18ce-456c-b42b-dd383660d6aa"
      }
     }
    },
    "6741c283-4c9f-4737-82d4-b8e3f34453a0": {
     "id": "6741c283-4c9f-4737-82d4-b8e3f34453a0",
     "prev": "af5892bd-2e3d-44ee-86b8-4aab776cc59e",
     "regions": {
      "4332cf04-267d-4272-9d2d-a9b421aab5ce": {
       "attrs": {
        "height": 0.8,
        "width": 0.8,
        "x": 0.1,
        "y": 0.1
       },
       "content": {
        "cell": "e1fffad8-a7e0-44ae-be96-43d0586bce85",
        "part": "whole"
       },
       "id": "4332cf04-267d-4272-9d2d-a9b421aab5ce"
      }
     }
    },
    "67ecb9f0-282b-449d-8c00-e87bea7d1b95": {
     "id": "67ecb9f0-282b-449d-8c00-e87bea7d1b95",
     "prev": "0b5ac761-9ef9-4cd0-827c-b4cbbfbd38dd",
     "regions": {
      "dedb7d0f-b1c4-4e18-a2b1-0a920e998622": {
       "attrs": {
        "height": 0.8,
        "width": 0.8,
        "x": 0.1,
        "y": 0.1
       },
       "content": {
        "cell": "a89149e9-f8e7-4995-ad9b-339b76167af8",
        "part": "whole"
       },
       "id": "dedb7d0f-b1c4-4e18-a2b1-0a920e998622"
      }
     }
    },
    "693a6328-b92c-4856-adb0-553902df9701": {
     "id": "693a6328-b92c-4856-adb0-553902df9701",
     "prev": "b5cd7d09-39c0-44e1-aaf6-ee37fc492c09",
     "regions": {
      "07d24b52-1536-4a55-b705-0bc217a2a572": {
       "attrs": {
        "height": 0.8,
        "width": 0.8,
        "x": 0.1,
        "y": 0.1
       },
       "content": {
        "cell": "24756bea-5887-4b1f-894a-4259be67b86a",
        "part": "whole"
       },
       "id": "07d24b52-1536-4a55-b705-0bc217a2a572"
      }
     }
    },
    "695a7d8d-2c2b-49c0-b9c2-1ef33003318b": {
     "id": "695a7d8d-2c2b-49c0-b9c2-1ef33003318b",
     "prev": "8a86477a-ba6e-430f-ac5a-d99536eb915f",
     "regions": {
      "2f3eddcd-5dea-42a5-b0a0-cc5c221a2560": {
       "attrs": {
        "height": 0.8,
        "width": 0.8,
        "x": 0.1,
        "y": 0.1
       },
       "content": {
        "cell": "a7c3a371-9e1d-4161-a702-671e045ea09a",
        "part": "whole"
       },
       "id": "2f3eddcd-5dea-42a5-b0a0-cc5c221a2560"
      }
     }
    },
    "695ca2ec-9ff6-4e70-acb8-e3657a093c2e": {
     "id": "695ca2ec-9ff6-4e70-acb8-e3657a093c2e",
     "prev": "b4626fb9-3a7a-49f7-8507-5f97283c8a3c",
     "regions": {
      "98c8ef71-86b3-4034-b257-4f2a698e2632": {
       "attrs": {
        "height": 0.8,
        "width": 0.8,
        "x": 0.1,
        "y": 0.1
       },
       "content": {
        "cell": "4890a4a7-5a56-4064-9f48-2eb27c0a16de",
        "part": "whole"
       },
       "id": "98c8ef71-86b3-4034-b257-4f2a698e2632"
      }
     }
    },
    "69ed5899-c882-4cdd-9280-7f07a9e159ae": {
     "id": "69ed5899-c882-4cdd-9280-7f07a9e159ae",
     "prev": "03d28ce2-3f49-4592-9e92-0fb4cf7e4ca1",
     "regions": {
      "1b7a5f8d-5299-4f19-b53b-f3a2f688326d": {
       "attrs": {
        "height": 0.8,
        "width": 0.8,
        "x": 0.1,
        "y": 0.1
       },
       "content": {
        "cell": "5c3e1c39-59fc-4cfe-bc1e-ebd780e3f7a8",
        "part": "whole"
       },
       "id": "1b7a5f8d-5299-4f19-b53b-f3a2f688326d"
      }
     }
    },
    "6a8570b6-f7e9-4ed1-9867-d36d038b7a0c": {
     "id": "6a8570b6-f7e9-4ed1-9867-d36d038b7a0c",
     "prev": "693a6328-b92c-4856-adb0-553902df9701",
     "regions": {
      "9f7e1ba8-ebc8-48be-8bae-b34bbc48121c": {
       "attrs": {
        "height": 0.8,
        "width": 0.8,
        "x": 0.1,
        "y": 0.1
       },
       "content": {
        "cell": "6e11874f-cd3a-4869-889a-884b8074d179",
        "part": "whole"
       },
       "id": "9f7e1ba8-ebc8-48be-8bae-b34bbc48121c"
      }
     }
    },
    "6bd1f0d5-8533-4674-8e4e-fa1a05375193": {
     "id": "6bd1f0d5-8533-4674-8e4e-fa1a05375193",
     "prev": "549cbf86-a134-40da-913e-b5e6c3d29cc2",
     "regions": {
      "6ee92d5c-c12c-43c1-9065-a137c77284c9": {
       "attrs": {
        "height": 0.8,
        "width": 0.8,
        "x": 0.1,
        "y": 0.1
       },
       "content": {
        "cell": "3cd06068-43ec-4e7c-92ae-0df8f8e04d17",
        "part": "whole"
       },
       "id": "6ee92d5c-c12c-43c1-9065-a137c77284c9"
      }
     }
    },
    "6cc21f30-e2dd-43f0-a1d5-effd04eb8be5": {
     "id": "6cc21f30-e2dd-43f0-a1d5-effd04eb8be5",
     "prev": "4e24c06c-6645-43af-b762-afb684ffaaeb",
     "regions": {
      "e277b13b-fc20-4365-b7e0-61cd06cd703d": {
       "attrs": {
        "height": 0.8,
        "width": 0.8,
        "x": 0.1,
        "y": 0.1
       },
       "content": {
        "cell": "fa3146b4-fdde-41a3-a01e-c170311619ab",
        "part": "whole"
       },
       "id": "e277b13b-fc20-4365-b7e0-61cd06cd703d"
      }
     }
    },
    "6d6229c6-4513-4007-bbed-709354ac3678": {
     "id": "6d6229c6-4513-4007-bbed-709354ac3678",
     "prev": "0cdbf61f-dc90-4204-894f-e336d4549f51",
     "regions": {
      "33b0af99-b1d8-4a24-b487-292c5cc9dac1": {
       "attrs": {
        "height": 0.8,
        "width": 0.8,
        "x": 0.1,
        "y": 0.1
       },
       "content": {
        "cell": "2c5244c6-f407-459a-ac1a-4d044e4d97ef",
        "part": "whole"
       },
       "id": "33b0af99-b1d8-4a24-b487-292c5cc9dac1"
      }
     }
    },
    "6e20a1bb-4792-462c-bf6e-cf9499b610da": {
     "id": "6e20a1bb-4792-462c-bf6e-cf9499b610da",
     "prev": "253d0db2-3e94-4957-b5ec-3c6745d57579",
     "regions": {
      "a4af169c-52a0-4981-a5b5-018099f8e9b7": {
       "attrs": {
        "height": 0.8,
        "width": 0.8,
        "x": 0.1,
        "y": 0.1
       },
       "content": {
        "cell": "c6471038-e1f2-45a2-8563-2aec0ee3250c",
        "part": "whole"
       },
       "id": "a4af169c-52a0-4981-a5b5-018099f8e9b7"
      }
     }
    },
    "6f0d56d0-0b8f-4009-8be8-29c9cdc9e42c": {
     "id": "6f0d56d0-0b8f-4009-8be8-29c9cdc9e42c",
     "prev": "844c4c47-1c86-45e1-acab-6c728b8faf41",
     "regions": {
      "845e471f-639d-4890-b8a8-f500ed50ab4d": {
       "attrs": {
        "height": 0.8,
        "width": 0.8,
        "x": 0.1,
        "y": 0.1
       },
       "content": {
        "cell": "691d824a-f35b-4567-b430-5f5711756c1f",
        "part": "whole"
       },
       "id": "845e471f-639d-4890-b8a8-f500ed50ab4d"
      }
     }
    },
    "6f1d42eb-490a-4010-bd5e-df70f4ebab8d": {
     "id": "6f1d42eb-490a-4010-bd5e-df70f4ebab8d",
     "prev": "3bd792ed-e9c9-464a-a10c-96f1fcb15ce9",
     "regions": {
      "7292a0e4-7bd9-4d5a-903a-a630400b06fe": {
       "attrs": {
        "height": 0.8,
        "width": 0.8,
        "x": 0.1,
        "y": 0.1
       },
       "content": {
        "cell": "ca505515-9a70-48e9-9e8d-c6e0ae18ce83",
        "part": "whole"
       },
       "id": "7292a0e4-7bd9-4d5a-903a-a630400b06fe"
      }
     }
    },
    "71d4ff58-f5c6-41bd-8de6-d92711c2584c": {
     "id": "71d4ff58-f5c6-41bd-8de6-d92711c2584c",
     "prev": "b6efb3af-8333-4ae6-86ee-18cffb96cf17",
     "regions": {
      "d83fafab-7b49-4936-9c03-29cc94229b05": {
       "attrs": {
        "height": 0.8,
        "width": 0.8,
        "x": 0.1,
        "y": 0.1
       },
       "content": {
        "cell": "61dd7bd6-bb90-4597-b0c6-e1814506a4cf",
        "part": "whole"
       },
       "id": "d83fafab-7b49-4936-9c03-29cc94229b05"
      }
     }
    },
    "7279df0a-a4b2-4946-9474-98be9ad0dfc3": {
     "id": "7279df0a-a4b2-4946-9474-98be9ad0dfc3",
     "prev": "35a6ce76-ad15-4067-8353-a77e5ba2f8cb",
     "regions": {
      "b9c0e54b-a3ad-46fc-9f3c-04d3319d5e77": {
       "attrs": {
        "height": 0.8,
        "width": 0.8,
        "x": 0.1,
        "y": 0.1
       },
       "content": {
        "cell": "f440eb56-601c-4ded-a0b0-937c2c3b0090",
        "part": "whole"
       },
       "id": "b9c0e54b-a3ad-46fc-9f3c-04d3319d5e77"
      }
     }
    },
    "729501d7-b0d3-4631-ad76-878acec612bb": {
     "id": "729501d7-b0d3-4631-ad76-878acec612bb",
     "prev": "607edb78-5439-448e-a143-29918fc22d85",
     "regions": {
      "42cb8f6d-64ea-4b91-bfdf-da3098697b05": {
       "attrs": {
        "height": 0.8,
        "width": 0.8,
        "x": 0.1,
        "y": 0.1
       },
       "content": {
        "cell": "3fc1f14e-124a-42e1-afc4-118ba6d2ad2a",
        "part": "whole"
       },
       "id": "42cb8f6d-64ea-4b91-bfdf-da3098697b05"
      }
     }
    },
    "73d866d1-6d40-4c40-9575-6b3ba90ce248": {
     "id": "73d866d1-6d40-4c40-9575-6b3ba90ce248",
     "prev": "6515f000-1614-41b0-a069-47a5aae54e3f",
     "regions": {
      "f219e6b5-cbdf-4709-a524-39b0a39f8ac7": {
       "attrs": {
        "height": 0.8,
        "width": 0.8,
        "x": 0.1,
        "y": 0.1
       },
       "content": {
        "cell": "c017cad3-a0d2-455e-bfb0-06983c5df993",
        "part": "whole"
       },
       "id": "f219e6b5-cbdf-4709-a524-39b0a39f8ac7"
      }
     }
    },
    "77142ed4-3578-4168-873e-caa8f287d58d": {
     "id": "77142ed4-3578-4168-873e-caa8f287d58d",
     "prev": "dc950843-22d3-41e0-a4ad-b28412907f9a",
     "regions": {
      "913b9c6b-4021-4b94-9aa1-a0d355748dfd": {
       "attrs": {
        "height": 0.8,
        "width": 0.8,
        "x": 0.1,
        "y": 0.1
       },
       "content": {
        "cell": "328c66cf-20d4-4902-828c-3a42b0b0bfb0",
        "part": "whole"
       },
       "id": "913b9c6b-4021-4b94-9aa1-a0d355748dfd"
      }
     }
    },
    "78a790c9-bc2a-4a4b-b883-2ab50454ca1a": {
     "id": "78a790c9-bc2a-4a4b-b883-2ab50454ca1a",
     "prev": "b33d4b35-2d51-4fc9-8afc-04409c1822bc",
     "regions": {
      "0900809b-84b8-4aed-b2c4-f9efc32d3681": {
       "attrs": {
        "height": 0.8,
        "width": 0.8,
        "x": 0.1,
        "y": 0.1
       },
       "content": {
        "cell": "b874f2fd-f5a2-4f13-bd2e-32f08164baf3",
        "part": "whole"
       },
       "id": "0900809b-84b8-4aed-b2c4-f9efc32d3681"
      }
     }
    },
    "7db2f4ad-634e-4f7e-b371-fa53a5c65720": {
     "id": "7db2f4ad-634e-4f7e-b371-fa53a5c65720",
     "prev": "6f0d56d0-0b8f-4009-8be8-29c9cdc9e42c",
     "regions": {
      "74020c66-27ae-4f10-9eae-bb405f41dff9": {
       "attrs": {
        "height": 0.8,
        "width": 0.8,
        "x": 0.1,
        "y": 0.1
       },
       "content": {
        "cell": "79550a08-e855-4010-9716-0837e2bc2fe2",
        "part": "whole"
       },
       "id": "74020c66-27ae-4f10-9eae-bb405f41dff9"
      }
     }
    },
    "7e62b389-7240-40c3-9a21-c8b0a26c4576": {
     "id": "7e62b389-7240-40c3-9a21-c8b0a26c4576",
     "prev": "7279df0a-a4b2-4946-9474-98be9ad0dfc3",
     "regions": {
      "a544de1f-1b37-4c06-84a6-8af6c8dc79cd": {
       "attrs": {
        "height": 0.8,
        "width": 0.8,
        "x": 0.1,
        "y": 0.1
       },
       "content": {
        "cell": "6f1acdfe-1176-457d-9824-05867443d2d1",
        "part": "whole"
       },
       "id": "a544de1f-1b37-4c06-84a6-8af6c8dc79cd"
      }
     }
    },
    "80481121-4055-4fdf-acd2-633159c5b94d": {
     "id": "80481121-4055-4fdf-acd2-633159c5b94d",
     "prev": "c8d07bef-9772-4c43-a3dd-7507a39e97aa",
     "regions": {
      "9c38f99a-77f9-4ded-bd4b-a9ad82c12d3b": {
       "attrs": {
        "height": 0.8,
        "width": 0.8,
        "x": 0.1,
        "y": 0.1
       },
       "content": {
        "cell": "d3bdf150-5542-44b6-aa5e-db279e3ce3d4",
        "part": "whole"
       },
       "id": "9c38f99a-77f9-4ded-bd4b-a9ad82c12d3b"
      }
     }
    },
    "8437e220-26bf-441c-adaf-335ee39b63da": {
     "id": "8437e220-26bf-441c-adaf-335ee39b63da",
     "prev": "e58815be-f9c3-409a-acf6-22bf6ff8e08b",
     "regions": {
      "5114929d-31e5-45bc-b7a4-3ed0e11fd255": {
       "attrs": {
        "height": 0.8,
        "width": 0.8,
        "x": 0.1,
        "y": 0.1
       },
       "content": {
        "cell": "59ed8a64-74df-4852-9f47-3d62f3881e11",
        "part": "whole"
       },
       "id": "5114929d-31e5-45bc-b7a4-3ed0e11fd255"
      }
     }
    },
    "844c4c47-1c86-45e1-acab-6c728b8faf41": {
     "id": "844c4c47-1c86-45e1-acab-6c728b8faf41",
     "prev": "4e1e0ae2-9b69-4e72-b57b-e132389515ef",
     "regions": {
      "e7f1c012-cd50-498d-8b26-41aa86d913c8": {
       "attrs": {
        "height": 0.8,
        "width": 0.8,
        "x": 0.1,
        "y": 0.1
       },
       "content": {
        "cell": "f5c387c2-df51-40b5-925f-d30c2c65879f",
        "part": "whole"
       },
       "id": "e7f1c012-cd50-498d-8b26-41aa86d913c8"
      }
     }
    },
    "85b6929a-24a2-48db-bf10-a875e45cbe3b": {
     "id": "85b6929a-24a2-48db-bf10-a875e45cbe3b",
     "prev": "47679d95-21cf-463f-abfd-50b67cf4cfe4",
     "regions": {
      "f8344fa7-2ea0-46f3-81aa-d20dea05ac66": {
       "attrs": {
        "height": 0.8,
        "width": 0.8,
        "x": 0.1,
        "y": 0.1
       },
       "content": {
        "cell": "9c7d0cf3-220f-40e6-ab6e-56b1f74bdc90",
        "part": "whole"
       },
       "id": "f8344fa7-2ea0-46f3-81aa-d20dea05ac66"
      }
     }
    },
    "8627ca75-a91b-4569-a2c0-423f8623d02a": {
     "id": "8627ca75-a91b-4569-a2c0-423f8623d02a",
     "prev": "22eb2da4-e7c7-414d-9efe-40476146626c",
     "regions": {
      "4c65fb2b-b9a1-4746-8be5-06614286fe2c": {
       "attrs": {
        "height": 0.8,
        "width": 0.8,
        "x": 0.1,
        "y": 0.1
       },
       "content": {
        "cell": "26912166-7046-43d2-9f40-4aec3eb517f1",
        "part": "whole"
       },
       "id": "4c65fb2b-b9a1-4746-8be5-06614286fe2c"
      }
     }
    },
    "87ee66d2-4560-41fa-a954-60911441c645": {
     "id": "87ee66d2-4560-41fa-a954-60911441c645",
     "prev": "560f8355-d320-4cf1-b969-079008cebbe6",
     "regions": {
      "7ed0f42c-c7b9-49f4-8634-66e8710e7f3b": {
       "attrs": {
        "height": 0.8,
        "width": 0.8,
        "x": 0.1,
        "y": 0.1
       },
       "content": {
        "cell": "e54a4aac-25f8-4520-8df8-323016d39d88",
        "part": "whole"
       },
       "id": "7ed0f42c-c7b9-49f4-8634-66e8710e7f3b"
      }
     }
    },
    "87f9eb46-940f-426c-995b-7bc3f9446488": {
     "id": "87f9eb46-940f-426c-995b-7bc3f9446488",
     "prev": "36a8fbf7-2ae8-452e-9277-dcc0b179b741",
     "regions": {
      "7f15d575-dfd4-45f7-a444-99f9332225f5": {
       "attrs": {
        "height": 0.8,
        "width": 0.8,
        "x": 0.1,
        "y": 0.1
       },
       "content": {
        "cell": "e956a902-c215-417c-9cdd-3f75ecb4cd0a",
        "part": "whole"
       },
       "id": "7f15d575-dfd4-45f7-a444-99f9332225f5"
      }
     }
    },
    "8a86477a-ba6e-430f-ac5a-d99536eb915f": {
     "id": "8a86477a-ba6e-430f-ac5a-d99536eb915f",
     "prev": "40c08d32-17ec-48b1-ae29-d208d46c9522",
     "regions": {
      "030cbdd5-59a7-44bd-a4af-1d44203bff28": {
       "attrs": {
        "height": 0.8,
        "width": 0.8,
        "x": 0.1,
        "y": 0.1
       },
       "content": {
        "cell": "b53c03a5-cbc1-43db-ad23-1f6bfe637b20",
        "part": "whole"
       },
       "id": "030cbdd5-59a7-44bd-a4af-1d44203bff28"
      }
     }
    },
    "8ad094a7-b473-4aa5-8bf7-aad1ac44be6d": {
     "id": "8ad094a7-b473-4aa5-8bf7-aad1ac44be6d",
     "prev": "69ed5899-c882-4cdd-9280-7f07a9e159ae",
     "regions": {
      "52fb611e-d216-4446-b9c2-3f3e9ef2df19": {
       "attrs": {
        "height": 0.8,
        "width": 0.8,
        "x": 0.1,
        "y": 0.1
       },
       "content": {
        "cell": "da1d9012-872b-4940-b0ee-0ca583904dce",
        "part": "whole"
       },
       "id": "52fb611e-d216-4446-b9c2-3f3e9ef2df19"
      }
     }
    },
    "8b774221-713e-4533-8706-17e7ccef6bf3": {
     "id": "8b774221-713e-4533-8706-17e7ccef6bf3",
     "prev": "b60596cd-ccce-43e1-94ec-3659e5b2d0de",
     "regions": {
      "62601383-b095-4b12-91f0-202f4000a443": {
       "attrs": {
        "height": 0.8,
        "width": 0.8,
        "x": 0.1,
        "y": 0.1
       },
       "content": {
        "cell": "e991fe8b-3f04-4a35-9c0f-e0277806f6c0",
        "part": "whole"
       },
       "id": "62601383-b095-4b12-91f0-202f4000a443"
      }
     }
    },
    "8cc4cd8b-9a31-4fac-a381-5e29803e7e08": {
     "id": "8cc4cd8b-9a31-4fac-a381-5e29803e7e08",
     "prev": "87ee66d2-4560-41fa-a954-60911441c645",
     "regions": {
      "9cfeae24-90fa-420f-8b4a-d8a8151d7b4f": {
       "attrs": {
        "height": 0.8,
        "width": 0.8,
        "x": 0.1,
        "y": 0.1
       },
       "content": {
        "cell": "8fb75cca-3bb0-421a-8052-9b0c3a0eed9e",
        "part": "whole"
       },
       "id": "9cfeae24-90fa-420f-8b4a-d8a8151d7b4f"
      }
     }
    },
    "8db9729b-ca46-45d9-b9bc-4698ad5f18df": {
     "id": "8db9729b-ca46-45d9-b9bc-4698ad5f18df",
     "prev": "58f50f4b-6c99-4646-b61e-20539ec5bf51",
     "regions": {
      "0650b221-a414-40e6-a305-3cf6c9a03523": {
       "attrs": {
        "height": 0.8,
        "width": 0.8,
        "x": 0.1,
        "y": 0.1
       },
       "content": {
        "cell": "ccaed536-4008-416b-bcb1-7c72d5188944",
        "part": "whole"
       },
       "id": "0650b221-a414-40e6-a305-3cf6c9a03523"
      }
     }
    },
    "912b5ba4-d812-45a2-9f3f-8f5511f572fe": {
     "id": "912b5ba4-d812-45a2-9f3f-8f5511f572fe",
     "prev": "b4fa3dbd-cf39-4a1a-9efb-a13f69678903",
     "regions": {
      "a09175b4-b873-460a-bf7a-3ff4d0e41999": {
       "attrs": {
        "height": 0.8,
        "width": 0.8,
        "x": 0.1,
        "y": 0.1
       },
       "content": {
        "cell": "a7fc7990-30e6-4ef7-9bad-a817de66dbaa",
        "part": "whole"
       },
       "id": "a09175b4-b873-460a-bf7a-3ff4d0e41999"
      }
     }
    },
    "92787aad-26bd-4fa5-bce2-69af51b54126": {
     "id": "92787aad-26bd-4fa5-bce2-69af51b54126",
     "prev": "25e0ac89-1f5e-4d21-a744-0823951378e3",
     "regions": {
      "74c6ecb6-8f20-4f77-9cd1-7df577ec5235": {
       "attrs": {
        "height": 0.8,
        "width": 0.8,
        "x": 0.1,
        "y": 0.1
       },
       "content": {
        "cell": "59449a66-7d01-4130-9e26-3c4e18b4a091",
        "part": "whole"
       },
       "id": "74c6ecb6-8f20-4f77-9cd1-7df577ec5235"
      }
     }
    },
    "942659ad-312c-49cc-a490-3fc1028059e3": {
     "id": "942659ad-312c-49cc-a490-3fc1028059e3",
     "prev": "60c02802-995b-4217-95af-45ddfe98e5d9",
     "regions": {
      "eb2acbda-f284-4187-8185-32598eef95a7": {
       "attrs": {
        "height": 0.8,
        "width": 0.8,
        "x": 0.1,
        "y": 0.1
       },
       "content": {
        "cell": "2a9b705d-aba1-47a7-b729-1e211e2d646f",
        "part": "whole"
       },
       "id": "eb2acbda-f284-4187-8185-32598eef95a7"
      }
     }
    },
    "948d1fdb-9125-488a-ba68-9562625c01db": {
     "id": "948d1fdb-9125-488a-ba68-9562625c01db",
     "prev": "a27fafd6-84e4-4e1f-a656-2c4d506e4243",
     "regions": {
      "b274b744-8ec0-440f-92c1-6fd4f9f51f8d": {
       "attrs": {
        "height": 0.8,
        "width": 0.8,
        "x": 0.1,
        "y": 0.1
       },
       "content": {
        "cell": "9e78fbcc-949b-4d5d-a93a-d4271ef36948",
        "part": "whole"
       },
       "id": "b274b744-8ec0-440f-92c1-6fd4f9f51f8d"
      }
     }
    },
    "9497c44c-9f95-4174-bc61-1485048ade6b": {
     "id": "9497c44c-9f95-4174-bc61-1485048ade6b",
     "prev": "192690d2-2181-4e1e-9490-91d21db6ecf4",
     "regions": {
      "e98dd741-8368-4811-aacd-d77b86a8e860": {
       "attrs": {
        "height": 0.8,
        "width": 0.8,
        "x": 0.1,
        "y": 0.1
       },
       "content": {
        "cell": "bd6e4dfd-9cf9-4d54-8b0c-5ee77dea0366",
        "part": "whole"
       },
       "id": "e98dd741-8368-4811-aacd-d77b86a8e860"
      }
     }
    },
    "9a52ae3e-a688-4891-9e3e-092977039a10": {
     "id": "9a52ae3e-a688-4891-9e3e-092977039a10",
     "prev": "b2a61269-7dac-4e86-a0c0-aacac3716f4e",
     "regions": {
      "fdb6030f-d58c-47c5-8691-74ef6f2c4467": {
       "attrs": {
        "height": 0.8,
        "width": 0.8,
        "x": 0.1,
        "y": 0.1
       },
       "content": {
        "cell": "76d248ea-c1c0-4def-bafa-fc30685a9e1d",
        "part": "whole"
       },
       "id": "fdb6030f-d58c-47c5-8691-74ef6f2c4467"
      }
     }
    },
    "9e54e6a2-e8c3-4fd1-b3e6-845cbb07cbef": {
     "id": "9e54e6a2-e8c3-4fd1-b3e6-845cbb07cbef",
     "prev": "e740401d-bfe0-4723-ab22-065e289eac1b",
     "regions": {
      "5cc88742-07ff-4a8b-a301-7d36d0eeae86": {
       "attrs": {
        "height": 0.8,
        "width": 0.8,
        "x": 0.1,
        "y": 0.1
       },
       "content": {
        "cell": "ac2ce08a-88df-4e57-b930-826e8263e683",
        "part": "whole"
       },
       "id": "5cc88742-07ff-4a8b-a301-7d36d0eeae86"
      }
     }
    },
    "a022bc03-0235-4aad-9da6-a04aa37bbed0": {
     "id": "a022bc03-0235-4aad-9da6-a04aa37bbed0",
     "prev": "de558a79-77b5-4793-9b39-fabc9c3f9aa0",
     "regions": {
      "e1f1a9f1-3c2a-4fba-9a7d-5376e0d06133": {
       "attrs": {
        "height": 0.8,
        "width": 0.8,
        "x": 0.1,
        "y": 0.1
       },
       "content": {
        "cell": "ddd40255-6999-4407-b871-50dc2b195828",
        "part": "whole"
       },
       "id": "e1f1a9f1-3c2a-4fba-9a7d-5376e0d06133"
      }
     }
    },
    "a0d304c8-a93a-4cf1-a0d7-c367da7ed6c8": {
     "id": "a0d304c8-a93a-4cf1-a0d7-c367da7ed6c8",
     "prev": "f0d41e5c-9444-4ba0-ac69-89cf8c24320e",
     "regions": {
      "43da8cf8-2967-45ac-8ba3-f33e58b78afb": {
       "attrs": {
        "height": 0.8,
        "width": 0.8,
        "x": 0.1,
        "y": 0.1
       },
       "content": {
        "cell": "5bc8b3f5-3fb6-4255-bdf7-17a037eede0d",
        "part": "whole"
       },
       "id": "43da8cf8-2967-45ac-8ba3-f33e58b78afb"
      }
     }
    },
    "a0e68253-705e-4c18-9522-3dee7d707d2c": {
     "id": "a0e68253-705e-4c18-9522-3dee7d707d2c",
     "prev": "80481121-4055-4fdf-acd2-633159c5b94d",
     "regions": {
      "80f7bb9f-cb44-4b6c-bfd8-032b67c4124c": {
       "attrs": {
        "height": 0.8,
        "width": 0.8,
        "x": 0.1,
        "y": 0.1
       },
       "content": {
        "cell": "bbba924b-c85c-481c-a627-e124a6fde22b",
        "part": "whole"
       },
       "id": "80f7bb9f-cb44-4b6c-bfd8-032b67c4124c"
      }
     }
    },
    "a15e724a-8879-48e2-80c7-b34a3ce4ba61": {
     "id": "a15e724a-8879-48e2-80c7-b34a3ce4ba61",
     "prev": "a9d01809-8b7f-4aee-801b-4aaf3e36e976",
     "regions": {
      "602ff536-4175-47a8-9b8c-c6a3dad90b9c": {
       "attrs": {
        "height": 0.8,
        "width": 0.8,
        "x": 0.1,
        "y": 0.1
       },
       "content": {
        "cell": "400175b7-b95e-4a64-b9f1-d743751e71f6",
        "part": "whole"
       },
       "id": "602ff536-4175-47a8-9b8c-c6a3dad90b9c"
      }
     }
    },
    "a27fafd6-84e4-4e1f-a656-2c4d506e4243": {
     "id": "a27fafd6-84e4-4e1f-a656-2c4d506e4243",
     "prev": "fef1f112-c4e5-4177-8c44-be734c6ddba6",
     "regions": {
      "6dfbed84-ec9d-433f-bb6c-5216a94517d5": {
       "attrs": {
        "height": 0.8,
        "width": 0.8,
        "x": 0.1,
        "y": 0.1
       },
       "content": {
        "cell": "1f40a738-5bf4-4d1c-ad12-823d4f28ddd0",
        "part": "whole"
       },
       "id": "6dfbed84-ec9d-433f-bb6c-5216a94517d5"
      }
     }
    },
    "a3933b74-2bf7-4365-b9c8-4664cd98dada": {
     "id": "a3933b74-2bf7-4365-b9c8-4664cd98dada",
     "prev": "adae84e5-0a9a-4301-b4ba-70f906b0ba17",
     "regions": {
      "5ec0feac-c3d3-45eb-b90a-e9ea45632aac": {
       "attrs": {
        "height": 0.8,
        "width": 0.8,
        "x": 0.1,
        "y": 0.1
       },
       "content": {
        "cell": "269226c0-d8b3-4c33-88db-ad91e80957c5",
        "part": "whole"
       },
       "id": "5ec0feac-c3d3-45eb-b90a-e9ea45632aac"
      }
     }
    },
    "a4da9d8c-3461-49d8-ab69-5b989074c147": {
     "id": "a4da9d8c-3461-49d8-ab69-5b989074c147",
     "prev": "159ccd34-b7da-46e1-91f7-03edd61a3c0d",
     "regions": {
      "e8c49233-aa45-422e-bce2-c4df87e8c81c": {
       "attrs": {
        "height": 0.8,
        "width": 0.8,
        "x": 0.1,
        "y": 0.1
       },
       "content": {
        "cell": "24594d50-1d2f-483c-9e27-ddf9ba42e949",
        "part": "whole"
       },
       "id": "e8c49233-aa45-422e-bce2-c4df87e8c81c"
      }
     }
    },
    "a5b2a085-ce8d-464d-b35e-74bec65f382c": {
     "id": "a5b2a085-ce8d-464d-b35e-74bec65f382c",
     "prev": "dbecc210-6c69-4c3b-b494-c1d96b342d49",
     "regions": {
      "769de8cd-28d3-466c-9b7a-605e0155a29f": {
       "attrs": {
        "height": 0.8,
        "width": 0.8,
        "x": 0.1,
        "y": 0.1
       },
       "content": {
        "cell": "a581e3c7-71d0-42f4-8f47-2b9c968d2117",
        "part": "whole"
       },
       "id": "769de8cd-28d3-466c-9b7a-605e0155a29f"
      }
     }
    },
    "a603048c-247c-4b26-9e4c-21498693e215": {
     "id": "a603048c-247c-4b26-9e4c-21498693e215",
     "prev": "0eb0ffc7-cdc8-4cde-868b-704d5f69fd64",
     "regions": {
      "c2bf9bd0-69c3-458f-8df5-4ce5fcb15fa8": {
       "attrs": {
        "height": 0.8,
        "width": 0.8,
        "x": 0.1,
        "y": 0.1
       },
       "content": {
        "cell": "9d5e460e-8770-40dd-8056-2d7ceef5c559",
        "part": "whole"
       },
       "id": "c2bf9bd0-69c3-458f-8df5-4ce5fcb15fa8"
      }
     }
    },
    "a611538d-1dd3-4a4c-b3bc-63117adc9f3b": {
     "id": "a611538d-1dd3-4a4c-b3bc-63117adc9f3b",
     "prev": "e024534e-03e3-4338-85d9-084ecb484d16",
     "regions": {
      "b3c2eb62-981c-4538-b187-32f7ddfa3c13": {
       "attrs": {
        "height": 0.8,
        "width": 0.8,
        "x": 0.1,
        "y": 0.1
       },
       "content": {
        "cell": "1f45a4fe-324d-45be-8bbb-8b7cc3c65a9c",
        "part": "whole"
       },
       "id": "b3c2eb62-981c-4538-b187-32f7ddfa3c13"
      }
     }
    },
    "a85643d0-0b40-4a06-b32b-0d2b30c15303": {
     "id": "a85643d0-0b40-4a06-b32b-0d2b30c15303",
     "prev": "21d656c3-7461-4a33-9965-05c340c186ad",
     "regions": {
      "c91bbbe9-6216-4946-8fdf-83c6f3759c28": {
       "attrs": {
        "height": 0.8,
        "width": 0.8,
        "x": 0.1,
        "y": 0.1
       },
       "content": {
        "cell": "173c61b0-70dc-4bf9-8ded-184fcd0fa980",
        "part": "whole"
       },
       "id": "c91bbbe9-6216-4946-8fdf-83c6f3759c28"
      }
     }
    },
    "a998abff-560e-4d96-b102-6911e41467a4": {
     "id": "a998abff-560e-4d96-b102-6911e41467a4",
     "prev": "d60e2313-0423-4599-b3bf-98c8b1c6b615",
     "regions": {
      "c5f8e9d6-afaa-4b2c-af52-68569be189a2": {
       "attrs": {
        "height": 0.8,
        "width": 0.8,
        "x": 0.1,
        "y": 0.1
       },
       "content": {
        "cell": "b5108981-b337-4f03-b323-a6a65cb5eeff",
        "part": "whole"
       },
       "id": "c5f8e9d6-afaa-4b2c-af52-68569be189a2"
      }
     }
    },
    "a9d01809-8b7f-4aee-801b-4aaf3e36e976": {
     "id": "a9d01809-8b7f-4aee-801b-4aaf3e36e976",
     "prev": "6d6229c6-4513-4007-bbed-709354ac3678",
     "regions": {
      "b751c578-aade-48be-a770-65e7188d920b": {
       "attrs": {
        "height": 0.8,
        "width": 0.8,
        "x": 0.1,
        "y": 0.1
       },
       "content": {
        "cell": "7ea38422-53b9-4f33-9571-47c661d1e660",
        "part": "whole"
       },
       "id": "b751c578-aade-48be-a770-65e7188d920b"
      }
     }
    },
    "ab719cda-5c1d-451a-814c-95d689bce6b6": {
     "id": "ab719cda-5c1d-451a-814c-95d689bce6b6",
     "prev": "32d6b550-5eca-4019-8cee-ada486c02ab9",
     "regions": {
      "8ff172d7-bce3-4053-8776-48dccccc1c55": {
       "attrs": {
        "height": 0.8,
        "width": 0.8,
        "x": 0.1,
        "y": 0.1
       },
       "content": {
        "cell": "0bf6c630-634c-4b64-a412-58d65c4457e3",
        "part": "whole"
       },
       "id": "8ff172d7-bce3-4053-8776-48dccccc1c55"
      }
     }
    },
    "adae84e5-0a9a-4301-b4ba-70f906b0ba17": {
     "id": "adae84e5-0a9a-4301-b4ba-70f906b0ba17",
     "prev": "3ef47eb3-d71c-4420-b9e6-17bc3c22c32c",
     "regions": {
      "e089d073-1f1c-4e27-adab-811f1815b6cf": {
       "attrs": {
        "height": 0.8,
        "width": 0.8,
        "x": 0.1,
        "y": 0.1
       },
       "content": {
        "cell": "8ac2fed5-65ef-4387-96d3-fa81a5664f40",
        "part": "whole"
       },
       "id": "e089d073-1f1c-4e27-adab-811f1815b6cf"
      }
     }
    },
    "af4bf94b-2cb0-432d-ab3e-084e828a0406": {
     "id": "af4bf94b-2cb0-432d-ab3e-084e828a0406",
     "prev": "a3933b74-2bf7-4365-b9c8-4664cd98dada",
     "regions": {
      "d2c72f02-b65d-4e4c-8723-6a2cefd91725": {
       "attrs": {
        "height": 0.8,
        "width": 0.8,
        "x": 0.1,
        "y": 0.1
       },
       "content": {
        "cell": "07f2e445-5e3c-415e-816f-440b82b31df8",
        "part": "whole"
       },
       "id": "d2c72f02-b65d-4e4c-8723-6a2cefd91725"
      }
     }
    },
    "af5892bd-2e3d-44ee-86b8-4aab776cc59e": {
     "id": "af5892bd-2e3d-44ee-86b8-4aab776cc59e",
     "prev": "ca294861-ac97-4030-bc9a-7bc0eb06be16",
     "regions": {
      "8962aba8-a1c6-476e-bac0-44de35b79d94": {
       "attrs": {
        "height": 0.8,
        "width": 0.8,
        "x": 0.1,
        "y": 0.1
       },
       "content": {
        "cell": "3cf0250b-c7e0-4d90-afde-a7ae5fb88407",
        "part": "whole"
       },
       "id": "8962aba8-a1c6-476e-bac0-44de35b79d94"
      }
     }
    },
    "b2a61269-7dac-4e86-a0c0-aacac3716f4e": {
     "id": "b2a61269-7dac-4e86-a0c0-aacac3716f4e",
     "prev": "fe2c2bcd-3da9-44b4-ab27-d892b622f8e9",
     "regions": {
      "5fbec71e-c224-4408-9c0e-65623fda3c5f": {
       "attrs": {
        "height": 0.8,
        "width": 0.8,
        "x": 0.1,
        "y": 0.1
       },
       "content": {
        "cell": "f50b6c0c-691b-42db-b28b-026c73074a18",
        "part": "whole"
       },
       "id": "5fbec71e-c224-4408-9c0e-65623fda3c5f"
      }
     }
    },
    "b33d4b35-2d51-4fc9-8afc-04409c1822bc": {
     "id": "b33d4b35-2d51-4fc9-8afc-04409c1822bc",
     "prev": "1ce669fa-9798-49cf-9744-8a7c9e10d54b",
     "regions": {
      "0697fe06-9351-416e-83f1-07046beb23ea": {
       "attrs": {
        "height": 0.8,
        "width": 0.8,
        "x": 0.1,
        "y": 0.1
       },
       "content": {
        "cell": "e2717675-643d-481d-8f4b-9691d4b88154",
        "part": "whole"
       },
       "id": "0697fe06-9351-416e-83f1-07046beb23ea"
      }
     }
    },
    "b3a68e33-bb89-4ec6-877e-0f82b9ea0b40": {
     "id": "b3a68e33-bb89-4ec6-877e-0f82b9ea0b40",
     "prev": "8b774221-713e-4533-8706-17e7ccef6bf3",
     "regions": {
      "89f79c38-0072-4fef-acff-29808804ebec": {
       "attrs": {
        "height": 0.8,
        "width": 0.8,
        "x": 0.1,
        "y": 0.1
       },
       "content": {
        "cell": "1ad8c77f-8239-4ab0-b441-ead97fb43d24",
        "part": "whole"
       },
       "id": "89f79c38-0072-4fef-acff-29808804ebec"
      }
     }
    },
    "b4626fb9-3a7a-49f7-8507-5f97283c8a3c": {
     "id": "b4626fb9-3a7a-49f7-8507-5f97283c8a3c",
     "prev": "8627ca75-a91b-4569-a2c0-423f8623d02a",
     "regions": {
      "5be893ff-4b4e-4e32-af6f-de392ebb511b": {
       "attrs": {
        "height": 0.8,
        "width": 0.8,
        "x": 0.1,
        "y": 0.1
       },
       "content": {
        "cell": "965ee900-967c-4d90-b637-a33b58ebb05f",
        "part": "whole"
       },
       "id": "5be893ff-4b4e-4e32-af6f-de392ebb511b"
      }
     }
    },
    "b471573d-be23-4421-aea2-043b0aefa98f": {
     "id": "b471573d-be23-4421-aea2-043b0aefa98f",
     "prev": "5bdb7e50-11a6-4a16-95ca-0720f5c55c38",
     "regions": {
      "79b906d4-eb0d-40e7-ba08-4ac72d834f15": {
       "attrs": {
        "height": 0.8,
        "width": 0.8,
        "x": 0.1,
        "y": 0.1
       },
       "content": {
        "cell": "ff0c8601-481e-4309-8951-43065569c17f",
        "part": "whole"
       },
       "id": "79b906d4-eb0d-40e7-ba08-4ac72d834f15"
      }
     }
    },
    "b4fa3dbd-cf39-4a1a-9efb-a13f69678903": {
     "id": "b4fa3dbd-cf39-4a1a-9efb-a13f69678903",
     "prev": "73d866d1-6d40-4c40-9575-6b3ba90ce248",
     "regions": {
      "3f0e26c9-cea3-4372-81f3-705dea3ed8f2": {
       "attrs": {
        "height": 0.8,
        "width": 0.8,
        "x": 0.1,
        "y": 0.1
       },
       "content": {
        "cell": "8d9300ff-0f6b-4c43-9818-ca858684d54e",
        "part": "whole"
       },
       "id": "3f0e26c9-cea3-4372-81f3-705dea3ed8f2"
      }
     }
    },
    "b5cd7d09-39c0-44e1-aaf6-ee37fc492c09": {
     "id": "b5cd7d09-39c0-44e1-aaf6-ee37fc492c09",
     "prev": "52261bb0-41ea-48c5-9953-a963543cacbc",
     "regions": {
      "91e34df0-f65e-4390-b1b3-65d610a23d5c": {
       "attrs": {
        "height": 0.8,
        "width": 0.8,
        "x": 0.1,
        "y": 0.1
       },
       "content": {
        "cell": "ff95f450-a226-47f8-9803-4d78e6413a46",
        "part": "whole"
       },
       "id": "91e34df0-f65e-4390-b1b3-65d610a23d5c"
      }
     }
    },
    "b60596cd-ccce-43e1-94ec-3659e5b2d0de": {
     "id": "b60596cd-ccce-43e1-94ec-3659e5b2d0de",
     "prev": "378f7763-3630-4e21-bd8a-ddff881b0b01",
     "regions": {
      "4c5e0c6e-20db-49fb-81a5-915780ee08c4": {
       "attrs": {
        "height": 0.8,
        "width": 0.8,
        "x": 0.1,
        "y": 0.1
       },
       "content": {
        "cell": "c585b8e7-437c-4d83-8496-f324e305a1df",
        "part": "whole"
       },
       "id": "4c5e0c6e-20db-49fb-81a5-915780ee08c4"
      }
     }
    },
    "b62ba4b5-dec6-40f4-9194-bf15c3552f7c": {
     "id": "b62ba4b5-dec6-40f4-9194-bf15c3552f7c",
     "prev": "40e03782-fc38-47bd-89c6-5cc494667df7",
     "regions": {
      "c0e757f2-c3f1-4af8-a8b2-44ee0e15ca6f": {
       "attrs": {
        "height": 0.8,
        "width": 0.8,
        "x": 0.1,
        "y": 0.1
       },
       "content": {
        "cell": "a0e0d500-3d74-416d-a316-f72b876ce351",
        "part": "whole"
       },
       "id": "c0e757f2-c3f1-4af8-a8b2-44ee0e15ca6f"
      }
     }
    },
    "b6efb3af-8333-4ae6-86ee-18cffb96cf17": {
     "id": "b6efb3af-8333-4ae6-86ee-18cffb96cf17",
     "prev": "6bd1f0d5-8533-4674-8e4e-fa1a05375193",
     "regions": {
      "fd95bf3c-8298-4dec-a901-510956106c51": {
       "attrs": {
        "height": 0.8,
        "width": 0.8,
        "x": 0.1,
        "y": 0.1
       },
       "content": {
        "cell": "6c29614d-d25d-4d63-b893-577062cd8e1b",
        "part": "whole"
       },
       "id": "fd95bf3c-8298-4dec-a901-510956106c51"
      }
     }
    },
    "bce2f83e-ee30-4319-99d1-406083a44ac4": {
     "id": "bce2f83e-ee30-4319-99d1-406083a44ac4",
     "prev": "695a7d8d-2c2b-49c0-b9c2-1ef33003318b",
     "regions": {
      "103d6e5d-2eb5-4d30-bad1-7ba196dc84c8": {
       "attrs": {
        "height": 0.8,
        "width": 0.8,
        "x": 0.1,
        "y": 0.1
       },
       "content": {
        "cell": "8e27c153-b54a-46db-b900-0102610044b8",
        "part": "whole"
       },
       "id": "103d6e5d-2eb5-4d30-bad1-7ba196dc84c8"
      }
     }
    },
    "be18d89b-1b73-4e0b-a5e5-45e8a00af76c": {
     "id": "be18d89b-1b73-4e0b-a5e5-45e8a00af76c",
     "prev": "df986a1d-ed82-4bcd-b64c-3196890d2831",
     "regions": {
      "d40e0182-eb0c-4514-8d3c-ced4aab4714b": {
       "attrs": {
        "height": 0.8,
        "width": 0.8,
        "x": 0.1,
        "y": 0.1
       },
       "content": {
        "cell": "de8fd99a-11c2-4f1d-a9ce-34f93878ab84",
        "part": "whole"
       },
       "id": "d40e0182-eb0c-4514-8d3c-ced4aab4714b"
      }
     }
    },
    "c11bbca7-3a43-456b-8ffb-9d4bbdd71ac1": {
     "id": "c11bbca7-3a43-456b-8ffb-9d4bbdd71ac1",
     "prev": "2e76c401-8ab8-4d73-bcf9-2e4b5582db13",
     "regions": {
      "fe89e8f2-20a4-4b5c-bd7f-ef9fe378d485": {
       "attrs": {
        "height": 0.8,
        "width": 0.8,
        "x": 0.1,
        "y": 0.1
       },
       "content": {
        "cell": "b6ae6339-3121-459b-8bc9-16a13d3a3561",
        "part": "whole"
       },
       "id": "fe89e8f2-20a4-4b5c-bd7f-ef9fe378d485"
      }
     }
    },
    "c169a3a7-3bef-4bb3-b20f-ce83d519ac5e": {
     "id": "c169a3a7-3bef-4bb3-b20f-ce83d519ac5e",
     "prev": "0d3aa4ca-2e07-4b13-b25a-47ea1844e983",
     "regions": {
      "edc5071f-b26c-4e16-af69-da77d425f911": {
       "attrs": {
        "height": 0.8,
        "width": 0.8,
        "x": 0.1,
        "y": 0.1
       },
       "content": {
        "cell": "2d691d6a-aadc-484b-989f-14ca043b9d76",
        "part": "whole"
       },
       "id": "edc5071f-b26c-4e16-af69-da77d425f911"
      }
     }
    },
    "c267af8c-67d1-4f40-80ae-6c1375cb2eef": {
     "id": "c267af8c-67d1-4f40-80ae-6c1375cb2eef",
     "prev": "609e2bbe-2943-4725-b703-ec1d3032d6ce",
     "regions": {
      "972d1ae3-d294-4841-955b-1b55a8b24bad": {
       "attrs": {
        "height": 0.8,
        "width": 0.8,
        "x": 0.1,
        "y": 0.1
       },
       "content": {
        "cell": "ae88c9b3-d21b-43e2-a049-1283261afe02",
        "part": "whole"
       },
       "id": "972d1ae3-d294-4841-955b-1b55a8b24bad"
      }
     }
    },
    "c32943f1-e0d6-46b5-ad4e-1e8e1a073e38": {
     "id": "c32943f1-e0d6-46b5-ad4e-1e8e1a073e38",
     "prev": "6f1d42eb-490a-4010-bd5e-df70f4ebab8d",
     "regions": {
      "6f3e7b6c-bb6d-4611-8b81-ba7bde52c89c": {
       "attrs": {
        "height": 0.8,
        "width": 0.8,
        "x": 0.1,
        "y": 0.1
       },
       "content": {
        "cell": "cf7f96d2-46c4-4151-9cc0-5f558508c613",
        "part": "whole"
       },
       "id": "6f3e7b6c-bb6d-4611-8b81-ba7bde52c89c"
      }
     }
    },
    "c5d60fe8-5e77-4a56-a288-35bcd4dd417e": {
     "id": "c5d60fe8-5e77-4a56-a288-35bcd4dd417e",
     "prev": "e4bae744-04f7-44bc-84c4-687bccabfb5f",
     "regions": {
      "2b02ed24-d3e0-4aed-a6b0-b49c62f97678": {
       "attrs": {
        "height": 0.8,
        "width": 0.8,
        "x": 0.1,
        "y": 0.1
       },
       "content": {
        "cell": "b9775706-8c0f-43cc-b659-4472b4468b8f",
        "part": "whole"
       },
       "id": "2b02ed24-d3e0-4aed-a6b0-b49c62f97678"
      }
     }
    },
    "c8d07bef-9772-4c43-a3dd-7507a39e97aa": {
     "id": "c8d07bef-9772-4c43-a3dd-7507a39e97aa",
     "prev": "1d901717-8bfb-47b3-9a4d-1686705f74da",
     "regions": {
      "f8ebecb3-6bf1-4787-b7f9-0c88e7deefb2": {
       "attrs": {
        "height": 0.8,
        "width": 0.8,
        "x": 0.1,
        "y": 0.1
       },
       "content": {
        "cell": "cb4bb9f2-8842-49c2-8998-7f9660f8b316",
        "part": "whole"
       },
       "id": "f8ebecb3-6bf1-4787-b7f9-0c88e7deefb2"
      }
     }
    },
    "c93aa63b-b828-49c2-8619-95c3a9cb35b8": {
     "id": "c93aa63b-b828-49c2-8619-95c3a9cb35b8",
     "prev": null,
     "regions": {
      "d7762499-d1e6-4f95-92c5-6b0510edef58": {
       "attrs": {
        "height": 0.8,
        "width": 0.8,
        "x": 0.1,
        "y": 0.1
       },
       "content": {
        "cell": "eb006ba7-1538-4bcc-8cc3-24f6f7c1ada5",
        "part": "whole"
       },
       "id": "d7762499-d1e6-4f95-92c5-6b0510edef58"
      }
     }
    },
    "ca294861-ac97-4030-bc9a-7bc0eb06be16": {
     "id": "ca294861-ac97-4030-bc9a-7bc0eb06be16",
     "prev": "02d8b1cb-34c3-42be-99e6-44775203c2e2",
     "regions": {
      "f147dc11-2d2e-4308-85a1-24d2f8d8e151": {
       "attrs": {
        "height": 0.8,
        "width": 0.8,
        "x": 0.1,
        "y": 0.1
       },
       "content": {
        "cell": "7f63d7c7-dcb7-4281-be2e-ff261b28269f",
        "part": "whole"
       },
       "id": "f147dc11-2d2e-4308-85a1-24d2f8d8e151"
      }
     }
    },
    "caf24473-8941-4f2b-a558-4bb859ab5b7c": {
     "id": "caf24473-8941-4f2b-a558-4bb859ab5b7c",
     "prev": "9e54e6a2-e8c3-4fd1-b3e6-845cbb07cbef",
     "regions": {
      "2efeefd1-8504-4322-8455-89ad4ac009ad": {
       "attrs": {
        "height": 0.8,
        "width": 0.8,
        "x": 0.1,
        "y": 0.1
       },
       "content": {
        "cell": "40957d4d-b933-4658-9020-bb4a82a07c7b",
        "part": "whole"
       },
       "id": "2efeefd1-8504-4322-8455-89ad4ac009ad"
      }
     }
    },
    "cb34a453-3cab-44ff-96e5-265f329eb975": {
     "id": "cb34a453-3cab-44ff-96e5-265f329eb975",
     "prev": "5ac6c33c-c1fa-4187-a50a-867a7fd438e5",
     "regions": {
      "b17d0737-d222-4aaf-bc73-deec34d284b2": {
       "attrs": {
        "height": 0.8,
        "width": 0.8,
        "x": 0.1,
        "y": 0.1
       },
       "content": {
        "cell": "a1f70247-9b23-4d97-b689-69cea5a34621",
        "part": "whole"
       },
       "id": "b17d0737-d222-4aaf-bc73-deec34d284b2"
      }
     }
    },
    "ccbee646-e72c-425b-a8c7-dd03ae5cf6d8": {
     "id": "ccbee646-e72c-425b-a8c7-dd03ae5cf6d8",
     "prev": "5424f70e-8b97-4c91-834e-1b9691956a26",
     "regions": {
      "c0578697-688c-4bca-958c-1a6497262ee0": {
       "attrs": {
        "height": 0.8,
        "width": 0.8,
        "x": 0.1,
        "y": 0.1
       },
       "content": {
        "cell": "8b187aca-5156-4bb7-824e-4abd5c0f18de",
        "part": "whole"
       },
       "id": "c0578697-688c-4bca-958c-1a6497262ee0"
      }
     }
    },
    "cdb3c4ce-76f8-4fe1-973f-097a8b8dd98f": {
     "id": "cdb3c4ce-76f8-4fe1-973f-097a8b8dd98f",
     "prev": "237e7eb8-ac9f-492c-8025-07b48f81ee0a",
     "regions": {
      "8a5ad42c-b7f5-42c6-8a1e-03cc5fc56758": {
       "attrs": {
        "height": 0.8,
        "width": 0.8,
        "x": 0.1,
        "y": 0.1
       },
       "content": {
        "cell": "9ef89dd2-8177-44c6-9019-013938cdfe99",
        "part": "whole"
       },
       "id": "8a5ad42c-b7f5-42c6-8a1e-03cc5fc56758"
      }
     }
    },
    "d1106806-74fa-4422-990c-0edef30198e1": {
     "id": "d1106806-74fa-4422-990c-0edef30198e1",
     "prev": "db4e5101-14c9-4089-b6a4-cee1d48ef5e8",
     "regions": {
      "5c8e3b9b-53aa-4319-8533-ca059bbc1533": {
       "attrs": {
        "height": 0.8,
        "width": 0.8,
        "x": 0.1,
        "y": 0.1
       },
       "content": {
        "cell": "2b4496b2-ea4b-4f94-b8b4-be9872bd89c5",
        "part": "whole"
       },
       "id": "5c8e3b9b-53aa-4319-8533-ca059bbc1533"
      }
     }
    },
    "d38c37ea-7904-4781-8d1c-6f56ca76ed7f": {
     "id": "d38c37ea-7904-4781-8d1c-6f56ca76ed7f",
     "prev": "57d2b049-c914-448b-b62b-e0433976c69f",
     "regions": {
      "c2666a7c-1657-49b4-bb1b-54c533b42245": {
       "attrs": {
        "height": 0.8,
        "width": 0.8,
        "x": 0.1,
        "y": 0.1
       },
       "content": {
        "cell": "155ff8eb-b67a-4170-867f-f2424e5a583f",
        "part": "whole"
       },
       "id": "c2666a7c-1657-49b4-bb1b-54c533b42245"
      }
     }
    },
    "d38f128b-9b23-4407-8145-cb411b8fd06d": {
     "id": "d38f128b-9b23-4407-8145-cb411b8fd06d",
     "prev": "50856f73-8140-4a51-9a6e-6f4cc53d905d",
     "regions": {
      "721f04b9-fcce-4e14-a9cc-d7d54856b33d": {
       "attrs": {
        "height": 0.8,
        "width": 0.8,
        "x": 0.1,
        "y": 0.1
       },
       "content": {
        "cell": "94d1e3ee-d0a1-4777-9f1f-a64ac741d72f",
        "part": "whole"
       },
       "id": "721f04b9-fcce-4e14-a9cc-d7d54856b33d"
      }
     }
    },
    "d3b40461-426d-4e57-acb1-04d156d4a619": {
     "id": "d3b40461-426d-4e57-acb1-04d156d4a619",
     "prev": "405bd35f-531f-4977-9507-f6043b9be5b6",
     "regions": {
      "8eb47edc-6845-4eb3-ad2c-cb8267239b9e": {
       "attrs": {
        "height": 0.8,
        "width": 0.8,
        "x": 0.1,
        "y": 0.1
       },
       "content": {
        "cell": "20d5fd81-1796-494f-b2d4-35a0c10ed36f",
        "part": "whole"
       },
       "id": "8eb47edc-6845-4eb3-ad2c-cb8267239b9e"
      }
     }
    },
    "d447d22c-d860-429e-97d7-655b754f27c9": {
     "id": "d447d22c-d860-429e-97d7-655b754f27c9",
     "prev": "04926abb-8ad7-4e4f-9cb9-0d1485319f11",
     "regions": {
      "4bb62466-6db3-4b7d-b26e-f2116094c745": {
       "attrs": {
        "height": 0.8,
        "width": 0.8,
        "x": 0.1,
        "y": 0.1
       },
       "content": {
        "cell": "3fb81aa1-dd66-4bb4-9ed9-a321bd003015",
        "part": "whole"
       },
       "id": "4bb62466-6db3-4b7d-b26e-f2116094c745"
      }
     }
    },
    "d4a4c87c-62f5-49e7-ae80-c0335fa4ff51": {
     "id": "d4a4c87c-62f5-49e7-ae80-c0335fa4ff51",
     "prev": "e6611676-960d-4734-a6c9-e43de44281ed",
     "regions": {
      "bfdba909-fead-4cf2-aa18-1220449099fd": {
       "attrs": {
        "height": 0.8,
        "width": 0.8,
        "x": 0.1,
        "y": 0.1
       },
       "content": {
        "cell": "0b1c2b88-225a-4a03-939f-ae9ab1c61c55",
        "part": "whole"
       },
       "id": "bfdba909-fead-4cf2-aa18-1220449099fd"
      }
     }
    },
    "d60e2313-0423-4599-b3bf-98c8b1c6b615": {
     "id": "d60e2313-0423-4599-b3bf-98c8b1c6b615",
     "prev": "379db703-a2c8-41a4-a65d-7874146bfa9c",
     "regions": {
      "886fb2d9-d7d8-43e7-afca-ea592a79a1cc": {
       "attrs": {
        "height": 0.8,
        "width": 0.8,
        "x": 0.1,
        "y": 0.1
       },
       "content": {
        "cell": "94355958-7a74-46f9-97a2-2ce68cfc2b2e",
        "part": "whole"
       },
       "id": "886fb2d9-d7d8-43e7-afca-ea592a79a1cc"
      }
     }
    },
    "d61b14fc-02d2-43cb-afe8-aee70a70caf7": {
     "id": "d61b14fc-02d2-43cb-afe8-aee70a70caf7",
     "prev": "d3b40461-426d-4e57-acb1-04d156d4a619",
     "regions": {
      "c3395bb3-105d-4e8c-81d8-db8ddaa7b903": {
       "attrs": {
        "height": 0.8,
        "width": 0.8,
        "x": 0.1,
        "y": 0.1
       },
       "content": {
        "cell": "98973d1c-0b63-4042-8f98-38364e838000",
        "part": "whole"
       },
       "id": "c3395bb3-105d-4e8c-81d8-db8ddaa7b903"
      }
     }
    },
    "d79fb6e7-180d-4722-b186-896b19ca33d3": {
     "id": "d79fb6e7-180d-4722-b186-896b19ca33d3",
     "prev": "21de5452-76cd-4606-b236-856a7390ff46",
     "regions": {
      "9c546f21-8b51-4a3d-b6a0-ac4212099ce1": {
       "attrs": {
        "height": 0.8,
        "width": 0.8,
        "x": 0.1,
        "y": 0.1
       },
       "content": {
        "cell": "fa46adab-a08c-40d1-b54a-f1b4fb7c75db",
        "part": "whole"
       },
       "id": "9c546f21-8b51-4a3d-b6a0-ac4212099ce1"
      }
     }
    },
    "d92a36c1-dd52-4042-8075-4f3790e3c15d": {
     "id": "d92a36c1-dd52-4042-8075-4f3790e3c15d",
     "prev": "6cc21f30-e2dd-43f0-a1d5-effd04eb8be5",
     "regions": {
      "dca009f2-be1e-4033-afca-0e9333ba4716": {
       "attrs": {
        "height": 0.8,
        "width": 0.8,
        "x": 0.1,
        "y": 0.1
       },
       "content": {
        "cell": "0a25d717-0c82-448a-8ebe-bbe9dc5b1899",
        "part": "whole"
       },
       "id": "dca009f2-be1e-4033-afca-0e9333ba4716"
      }
     }
    },
    "db4e5101-14c9-4089-b6a4-cee1d48ef5e8": {
     "id": "db4e5101-14c9-4089-b6a4-cee1d48ef5e8",
     "prev": "362bca06-442e-49f6-9918-4d731d12372d",
     "regions": {
      "8ff5fd04-ccbd-4a9a-9525-82d91f1056f6": {
       "attrs": {
        "height": 0.8,
        "width": 0.8,
        "x": 0.1,
        "y": 0.1
       },
       "content": {
        "cell": "014a32dd-1776-42b2-975e-20ad4163dcf3",
        "part": "whole"
       },
       "id": "8ff5fd04-ccbd-4a9a-9525-82d91f1056f6"
      }
     }
    },
    "db6142fb-6a3e-4ac3-8516-bd176d8a325f": {
     "id": "db6142fb-6a3e-4ac3-8516-bd176d8a325f",
     "prev": "ab719cda-5c1d-451a-814c-95d689bce6b6",
     "regions": {
      "4c8f3c17-8970-4bf9-ab67-81ebf86e6e70": {
       "attrs": {
        "height": 0.8,
        "width": 0.8,
        "x": 0.1,
        "y": 0.1
       },
       "content": {
        "cell": "8ddc92a3-0914-4f64-86ed-a90af5488eb5",
        "part": "whole"
       },
       "id": "4c8f3c17-8970-4bf9-ab67-81ebf86e6e70"
      }
     }
    },
    "dbecc210-6c69-4c3b-b494-c1d96b342d49": {
     "id": "dbecc210-6c69-4c3b-b494-c1d96b342d49",
     "prev": "92787aad-26bd-4fa5-bce2-69af51b54126",
     "regions": {
      "65038d54-950c-4659-bc05-77c08181fcb4": {
       "attrs": {
        "height": 0.8,
        "width": 0.8,
        "x": 0.1,
        "y": 0.1
       },
       "content": {
        "cell": "f620d817-2b6d-4efd-9708-3a38c18ae349",
        "part": "whole"
       },
       "id": "65038d54-950c-4659-bc05-77c08181fcb4"
      }
     }
    },
    "dc950843-22d3-41e0-a4ad-b28412907f9a": {
     "id": "dc950843-22d3-41e0-a4ad-b28412907f9a",
     "prev": "271bc731-6a1e-4dc1-a13b-3a4445cfc9c6",
     "regions": {
      "0033121c-21c7-4669-8952-e342f6026988": {
       "attrs": {
        "height": 0.8,
        "width": 0.8,
        "x": 0.1,
        "y": 0.1
       },
       "content": {
        "cell": "f0149ca7-247e-4347-bc9a-9827be777041",
        "part": "whole"
       },
       "id": "0033121c-21c7-4669-8952-e342f6026988"
      }
     }
    },
    "de558a79-77b5-4793-9b39-fabc9c3f9aa0": {
     "id": "de558a79-77b5-4793-9b39-fabc9c3f9aa0",
     "prev": "b3a68e33-bb89-4ec6-877e-0f82b9ea0b40",
     "regions": {
      "6872e21d-5fd6-4ddd-b4fb-42356d015525": {
       "attrs": {
        "height": 0.8,
        "width": 0.8,
        "x": 0.1,
        "y": 0.1
       },
       "content": {
        "cell": "d70e2a3a-4845-414b-be75-d559ae9c5a36",
        "part": "whole"
       },
       "id": "6872e21d-5fd6-4ddd-b4fb-42356d015525"
      }
     }
    },
    "df507381-3dd7-44d8-84b5-feccc309f30e": {
     "id": "df507381-3dd7-44d8-84b5-feccc309f30e",
     "prev": "399eb467-b696-41bb-bf80-e6a6e50a6b1a",
     "regions": {
      "48178a4e-43ac-4ca3-9ec0-a6e25b9e836d": {
       "attrs": {
        "height": 0.8,
        "width": 0.8,
        "x": 0.1,
        "y": 0.1
       },
       "content": {
        "cell": "b0f4a72c-3735-483f-8ba8-ca02de95a911",
        "part": "whole"
       },
       "id": "48178a4e-43ac-4ca3-9ec0-a6e25b9e836d"
      }
     }
    },
    "df7989b0-1c28-496d-8078-9fb0c8d8204a": {
     "id": "df7989b0-1c28-496d-8078-9fb0c8d8204a",
     "prev": "0647204b-050e-4b3a-a221-93ea71679c99",
     "regions": {
      "2efead97-a12b-4954-82fe-312504150a09": {
       "attrs": {
        "height": 0.8,
        "width": 0.8,
        "x": 0.1,
        "y": 0.1
       },
       "content": {
        "cell": "aa119f43-341e-4d04-9e4c-a400244bec75",
        "part": "whole"
       },
       "id": "2efead97-a12b-4954-82fe-312504150a09"
      }
     }
    },
    "df986a1d-ed82-4bcd-b64c-3196890d2831": {
     "id": "df986a1d-ed82-4bcd-b64c-3196890d2831",
     "prev": "20569b99-9f3f-4911-875a-75987914cf9e",
     "regions": {
      "92b80563-710f-4847-a679-a5a2aa344cd4": {
       "attrs": {
        "height": 0.8,
        "width": 0.8,
        "x": 0.1,
        "y": 0.1
       },
       "content": {
        "cell": "08d228d7-ed6d-4258-907a-36d7cef68b62",
        "part": "whole"
       },
       "id": "92b80563-710f-4847-a679-a5a2aa344cd4"
      }
     }
    },
    "e024534e-03e3-4338-85d9-084ecb484d16": {
     "id": "e024534e-03e3-4338-85d9-084ecb484d16",
     "prev": "912b5ba4-d812-45a2-9f3f-8f5511f572fe",
     "regions": {
      "b18e641a-3af8-4449-9bee-536abfa21249": {
       "attrs": {
        "height": 0.8,
        "width": 0.8,
        "x": 0.1,
        "y": 0.1
       },
       "content": {
        "cell": "b963fd79-44b2-432b-9a2e-39fde120424a",
        "part": "whole"
       },
       "id": "b18e641a-3af8-4449-9bee-536abfa21249"
      }
     }
    },
    "e1278cd4-ce9f-4859-a7f9-ae0e8b3b187b": {
     "id": "e1278cd4-ce9f-4859-a7f9-ae0e8b3b187b",
     "prev": "0aabc912-ca49-4cb7-978a-0415be8c859e",
     "regions": {
      "b4a82fb3-3c13-4416-b10c-f4071ed3385b": {
       "attrs": {
        "height": 0.8,
        "width": 0.8,
        "x": 0.1,
        "y": 0.1
       },
       "content": {
        "cell": "2eb24817-979e-4604-89cb-dea9e11f5603",
        "part": "whole"
       },
       "id": "b4a82fb3-3c13-4416-b10c-f4071ed3385b"
      }
     }
    },
    "e2212f62-cdc9-430f-b4c9-552b1985dcc7": {
     "id": "e2212f62-cdc9-430f-b4c9-552b1985dcc7",
     "prev": "9a52ae3e-a688-4891-9e3e-092977039a10",
     "regions": {
      "cfc6f271-758c-4da1-b57b-f2cc3fa71316": {
       "attrs": {
        "height": 0.8,
        "width": 0.8,
        "x": 0.1,
        "y": 0.1
       },
       "content": {
        "cell": "c0d93e5f-cf63-4a14-806e-5c72ca97dbe1",
        "part": "whole"
       },
       "id": "cfc6f271-758c-4da1-b57b-f2cc3fa71316"
      }
     }
    },
    "e42bf5e2-0ac1-4c72-b949-2b72519cfd87": {
     "id": "e42bf5e2-0ac1-4c72-b949-2b72519cfd87",
     "prev": "d38f128b-9b23-4407-8145-cb411b8fd06d",
     "regions": {
      "17fe9db1-111b-4827-92fa-e9650a7218ca": {
       "attrs": {
        "height": 0.8,
        "width": 0.8,
        "x": 0.1,
        "y": 0.1
       },
       "content": {
        "cell": "aad4de48-2adf-48b9-878c-81c4edebc740",
        "part": "whole"
       },
       "id": "17fe9db1-111b-4827-92fa-e9650a7218ca"
      }
     }
    },
    "e4bae744-04f7-44bc-84c4-687bccabfb5f": {
     "id": "e4bae744-04f7-44bc-84c4-687bccabfb5f",
     "prev": "a0e68253-705e-4c18-9522-3dee7d707d2c",
     "regions": {
      "1011e74f-fab4-429d-b4e4-25f5a2db90a2": {
       "attrs": {
        "height": 0.8,
        "width": 0.8,
        "x": 0.1,
        "y": 0.1
       },
       "content": {
        "cell": "dcbca1ac-dd66-4cf1-a868-a5da41e97037",
        "part": "whole"
       },
       "id": "1011e74f-fab4-429d-b4e4-25f5a2db90a2"
      }
     }
    },
    "e4ef033c-3c58-479a-80dd-e49e7554caed": {
     "id": "e4ef033c-3c58-479a-80dd-e49e7554caed",
     "prev": "2a5e3494-0f63-4580-a6cb-3d764b2be1eb",
     "regions": {
      "9986879a-c2a0-426d-b9c4-00b314ec7a34": {
       "attrs": {
        "height": 0.8,
        "width": 0.8,
        "x": 0.1,
        "y": 0.1
       },
       "content": {
        "cell": "a2627b99-4bb9-4d10-be15-57ad907b9cf4",
        "part": "whole"
       },
       "id": "9986879a-c2a0-426d-b9c4-00b314ec7a34"
      }
     }
    },
    "e58815be-f9c3-409a-acf6-22bf6ff8e08b": {
     "id": "e58815be-f9c3-409a-acf6-22bf6ff8e08b",
     "prev": "ee1248de-196a-4061-9858-88867093da70",
     "regions": {
      "4d53430c-5207-46e1-9851-6270a540e0b6": {
       "attrs": {
        "height": 0.8,
        "width": 0.8,
        "x": 0.1,
        "y": 0.1
       },
       "content": {
        "cell": "905d165c-1a77-426e-a385-1e10a3f85e99",
        "part": "whole"
       },
       "id": "4d53430c-5207-46e1-9851-6270a540e0b6"
      }
     }
    },
    "e6611676-960d-4734-a6c9-e43de44281ed": {
     "id": "e6611676-960d-4734-a6c9-e43de44281ed",
     "prev": "a603048c-247c-4b26-9e4c-21498693e215",
     "regions": {
      "52d02082-c8fd-4577-99ee-419f10da8a13": {
       "attrs": {
        "height": 0.8,
        "width": 0.8,
        "x": 0.1,
        "y": 0.1
       },
       "content": {
        "cell": "027b31d3-18ba-4c6d-97e1-27e4f671256f",
        "part": "whole"
       },
       "id": "52d02082-c8fd-4577-99ee-419f10da8a13"
      }
     }
    },
    "e72f6615-92e6-4d13-8fab-fea9e702f913": {
     "id": "e72f6615-92e6-4d13-8fab-fea9e702f913",
     "prev": "e99f2b4b-6988-4f6b-a498-d383ba682cba",
     "regions": {
      "6b6b530b-8800-4136-a4f2-a5fdb7c74f00": {
       "attrs": {
        "height": 0.8,
        "width": 0.8,
        "x": 0.1,
        "y": 0.1
       },
       "content": {
        "cell": "94d44d8c-8f56-4a50-976b-866f56cf563e",
        "part": "whole"
       },
       "id": "6b6b530b-8800-4136-a4f2-a5fdb7c74f00"
      }
     }
    },
    "e740401d-bfe0-4723-ab22-065e289eac1b": {
     "id": "e740401d-bfe0-4723-ab22-065e289eac1b",
     "prev": "4f2ff8e8-149e-46d4-8e20-039d72622481",
     "regions": {
      "4d18218e-3881-42e7-94e0-b0efdde57663": {
       "attrs": {
        "height": 0.8,
        "width": 0.8,
        "x": 0.1,
        "y": 0.1
       },
       "content": {
        "cell": "5cb6b35c-5db4-4a19-8b6f-8f2b2be86a7f",
        "part": "whole"
       },
       "id": "4d18218e-3881-42e7-94e0-b0efdde57663"
      }
     }
    },
    "e76b3c24-9578-4e66-861d-bc5daffe7277": {
     "id": "e76b3c24-9578-4e66-861d-bc5daffe7277",
     "prev": "695ca2ec-9ff6-4e70-acb8-e3657a093c2e",
     "regions": {
      "9d3b12d3-0099-4696-9531-d6b8399d6a7c": {
       "attrs": {
        "height": 0.8,
        "width": 0.8,
        "x": 0.1,
        "y": 0.1
       },
       "content": {
        "cell": "a911e705-aafa-4633-ba09-9726f60fee97",
        "part": "whole"
       },
       "id": "9d3b12d3-0099-4696-9531-d6b8399d6a7c"
      }
     }
    },
    "e99f2b4b-6988-4f6b-a498-d383ba682cba": {
     "id": "e99f2b4b-6988-4f6b-a498-d383ba682cba",
     "prev": "3e6867c9-f719-43e9-a0fa-83e5eb72b06a",
     "regions": {
      "86fcae62-27fc-4ca7-8846-cae2af735396": {
       "attrs": {
        "height": 0.8,
        "width": 0.8,
        "x": 0.1,
        "y": 0.1
       },
       "content": {
        "cell": "9358d35b-b51b-40c5-9397-8cdddd8c12d0",
        "part": "whole"
       },
       "id": "86fcae62-27fc-4ca7-8846-cae2af735396"
      }
     }
    },
    "ec5c0013-9b7a-45ef-a0b3-d0ddd687a28b": {
     "id": "ec5c0013-9b7a-45ef-a0b3-d0ddd687a28b",
     "prev": "7db2f4ad-634e-4f7e-b371-fa53a5c65720",
     "regions": {
      "da5931a1-da0c-45b7-9d54-7f35276e4294": {
       "attrs": {
        "height": 0.8,
        "width": 0.8,
        "x": 0.1,
        "y": 0.1
       },
       "content": {
        "cell": "299f37bd-ba23-493d-87a7-61c16800f714",
        "part": "whole"
       },
       "id": "da5931a1-da0c-45b7-9d54-7f35276e4294"
      }
     }
    },
    "ed916482-3fa3-4a47-81c8-c0adf4d3c846": {
     "id": "ed916482-3fa3-4a47-81c8-c0adf4d3c846",
     "prev": "0a43b65a-cb4e-4524-b165-b77c5996d539",
     "regions": {
      "f087ea85-f693-4fb5-96eb-59b6b954a06e": {
       "attrs": {
        "height": 0.8,
        "width": 0.8,
        "x": 0.1,
        "y": 0.1
       },
       "content": {
        "cell": "2cbd6caf-8e34-4d5f-bad9-99910ab7eb67",
        "part": "whole"
       },
       "id": "f087ea85-f693-4fb5-96eb-59b6b954a06e"
      }
     }
    },
    "ee1248de-196a-4061-9858-88867093da70": {
     "id": "ee1248de-196a-4061-9858-88867093da70",
     "prev": "caf24473-8941-4f2b-a558-4bb859ab5b7c",
     "regions": {
      "4eed5dbb-5e77-429b-91de-6cc266b810dc": {
       "attrs": {
        "height": 0.8,
        "width": 0.8,
        "x": 0.1,
        "y": 0.1
       },
       "content": {
        "cell": "828f944c-f3be-44a8-94ec-59b0bb819ab3",
        "part": "whole"
       },
       "id": "4eed5dbb-5e77-429b-91de-6cc266b810dc"
      }
     }
    },
    "f0d41e5c-9444-4ba0-ac69-89cf8c24320e": {
     "id": "f0d41e5c-9444-4ba0-ac69-89cf8c24320e",
     "prev": "2de2033c-b3db-44ae-9c4d-b9cb085324d3",
     "regions": {
      "d40e5d57-2eeb-4a89-8b9b-2caa8181b825": {
       "attrs": {
        "height": 0.8,
        "width": 0.8,
        "x": 0.1,
        "y": 0.1
       },
       "content": {
        "cell": "07a0d936-97a4-4a8d-85c6-634402695619",
        "part": "whole"
       },
       "id": "d40e5d57-2eeb-4a89-8b9b-2caa8181b825"
      }
     }
    },
    "f3e16403-1f25-4cfb-9812-d059bbf9403b": {
     "id": "f3e16403-1f25-4cfb-9812-d059bbf9403b",
     "prev": "cb34a453-3cab-44ff-96e5-265f329eb975",
     "regions": {
      "815f1bfc-4e92-44a2-9be9-408c7f8f514c": {
       "attrs": {
        "height": 0.8,
        "width": 0.8,
        "x": 0.1,
        "y": 0.1
       },
       "content": {
        "cell": "2d3b97b7-89f9-419c-9ea3-c264678a8de4",
        "part": "whole"
       },
       "id": "815f1bfc-4e92-44a2-9be9-408c7f8f514c"
      }
     }
    },
    "f481833f-e737-44e7-afcd-79f0f0f46b79": {
     "id": "f481833f-e737-44e7-afcd-79f0f0f46b79",
     "prev": "b471573d-be23-4421-aea2-043b0aefa98f",
     "regions": {
      "06e56c17-4542-4882-a57c-b0552176d315": {
       "attrs": {
        "height": 0.8,
        "width": 0.8,
        "x": 0.1,
        "y": 0.1
       },
       "content": {
        "cell": "37be27f7-7c4e-4bcf-96ae-078feb3016fc",
        "part": "whole"
       },
       "id": "06e56c17-4542-4882-a57c-b0552176d315"
      }
     }
    },
    "f73ad40e-248b-45b1-a8a4-38dd90815aaa": {
     "id": "f73ad40e-248b-45b1-a8a4-38dd90815aaa",
     "prev": "8db9729b-ca46-45d9-b9bc-4698ad5f18df",
     "regions": {
      "151ad69c-662c-4b2d-83bf-e0e14eb1dcc4": {
       "attrs": {
        "height": 0.8,
        "width": 0.8,
        "x": 0.1,
        "y": 0.1
       },
       "content": {
        "cell": "0cb95f4c-5f1d-4857-a875-d4876bdda95d",
        "part": "whole"
       },
       "id": "151ad69c-662c-4b2d-83bf-e0e14eb1dcc4"
      }
     }
    },
    "f7da36b1-e07c-41d5-8dd4-5f5a23f33259": {
     "id": "f7da36b1-e07c-41d5-8dd4-5f5a23f33259",
     "prev": "527f1932-332e-42bd-a3c6-18228dceffa9",
     "regions": {
      "b6276e22-f4fa-43bb-84af-184ee098125b": {
       "attrs": {
        "height": 0.8,
        "width": 0.8,
        "x": 0.1,
        "y": 0.1
       },
       "content": {
        "cell": "51ef015a-5390-4713-9495-794d9cddeb55",
        "part": "whole"
       },
       "id": "b6276e22-f4fa-43bb-84af-184ee098125b"
      }
     }
    },
    "f97e6c60-f607-4b98-8b8a-df402a8438f0": {
     "id": "f97e6c60-f607-4b98-8b8a-df402a8438f0",
     "prev": "c169a3a7-3bef-4bb3-b20f-ce83d519ac5e",
     "regions": {
      "97c29675-1c97-4cc3-aaaf-266345df8fe1": {
       "attrs": {
        "height": 0.8,
        "width": 0.8,
        "x": 0.1,
        "y": 0.1
       },
       "content": {
        "cell": "bd08c2b8-f2dd-4b7e-bb9b-29852d4b1ddd",
        "part": "whole"
       },
       "id": "97c29675-1c97-4cc3-aaaf-266345df8fe1"
      }
     }
    },
    "fb48fe13-517d-487f-83c1-f2f7d27f8158": {
     "id": "fb48fe13-517d-487f-83c1-f2f7d27f8158",
     "prev": "a022bc03-0235-4aad-9da6-a04aa37bbed0",
     "regions": {
      "e75c6465-1bf8-4c49-820b-f654121bc147": {
       "attrs": {
        "height": 0.8,
        "width": 0.8,
        "x": 0.1,
        "y": 0.1
       },
       "content": {
        "cell": "24619971-15e1-44f0-bab6-633ad78da83a",
        "part": "whole"
       },
       "id": "e75c6465-1bf8-4c49-820b-f654121bc147"
      }
     }
    },
    "fe2c2bcd-3da9-44b4-ab27-d892b622f8e9": {
     "id": "fe2c2bcd-3da9-44b4-ab27-d892b622f8e9",
     "prev": "7e62b389-7240-40c3-9a21-c8b0a26c4576",
     "regions": {
      "dff92b48-1fcb-4a1b-a391-115cd186b607": {
       "attrs": {
        "height": 0.8,
        "width": 0.8,
        "x": 0.1,
        "y": 0.1
       },
       "content": {
        "cell": "bca993f8-65df-454f-9992-f58303a90e1a",
        "part": "whole"
       },
       "id": "dff92b48-1fcb-4a1b-a391-115cd186b607"
      }
     }
    },
    "fef1f112-c4e5-4177-8c44-be734c6ddba6": {
     "id": "fef1f112-c4e5-4177-8c44-be734c6ddba6",
     "prev": "df507381-3dd7-44d8-84b5-feccc309f30e",
     "regions": {
      "aed1e0c4-69db-4b80-a937-81c102e415e0": {
       "attrs": {
        "height": 0.8,
        "width": 0.8,
        "x": 0.1,
        "y": 0.1
       },
       "content": {
        "cell": "c49f71b0-cab5-4819-bf3f-c60a9da64fc5",
        "part": "whole"
       },
       "id": "aed1e0c4-69db-4b80-a937-81c102e415e0"
      }
     }
    }
   },
   "themes": {}
  }
 },
 "nbformat": 4,
 "nbformat_minor": 1
}
