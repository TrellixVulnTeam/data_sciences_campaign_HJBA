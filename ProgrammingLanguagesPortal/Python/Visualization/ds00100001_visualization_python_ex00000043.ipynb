{
 "cells": [
  {
   "cell_type": "code",
   "execution_count": 1,
   "metadata": {
    "collapsed": false
   },
   "outputs": [],
   "source": [
    "%matplotlib inline\n",
    "\n",
    "import matplotlib as mpl\n",
    "import matplotlib.pyplot as plt\n",
    "import numpy as np\n",
    "\n",
    "from IPython.display import set_matplotlib_formats\n",
    "set_matplotlib_formats('retina')"
   ]
  },
  {
   "cell_type": "markdown",
   "metadata": {
    "collapsed": true
   },
   "source": [
    "## Finding matplotlib's Config Directory\n",
    "\n",
    "Now, to find all of the default style sheets that ship with matplotlib, you'll need to call the `get_data_path()` global function on the `matplotlib` module to get the directory where matplotlib keeps all of its default settings. Let's go ahead and do that now."
   ]
  },
  {
   "cell_type": "code",
   "execution_count": 2,
   "metadata": {
    "collapsed": false
   },
   "outputs": [
    {
     "data": {
      "text/plain": [
       "'/Users/bater.makhabel/anaconda3/lib/python3.6/site-packages/matplotlib/mpl-data'"
      ]
     },
     "execution_count": 2,
     "metadata": {},
     "output_type": "execute_result"
    }
   ],
   "source": [
    "mpl.get_data_path()"
   ]
  },
  {
   "cell_type": "markdown",
   "metadata": {},
   "source": [
    "Ok, so we now know the path where matplotlib keeps all of its default settings, but to find the style sheets themselves, we'll need to go one level deeper, into the `stylelib` directory. \n",
    "\n",
    "In the code below, we use the `cat` command to display the contents of the `'fivethirtyeight'` style that we used in our last lesson."
   ]
  },
  {
   "cell_type": "code",
   "execution_count": 4,
   "metadata": {
    "collapsed": false
   },
   "outputs": [],
   "source": [
    "import os\n",
    "\n"
   ]
  },
  {
   "cell_type": "code",
   "execution_count": 5,
   "metadata": {
    "collapsed": false
   },
   "outputs": [
    {
     "name": "stdout",
     "output_type": "stream",
     "text": [
      "#Author: Cameron Davidson-Pilon, replicated styles from FiveThirtyEight.com\r\n",
      "# See https://www.dataorigami.net/blogs/fivethirtyeight-mpl\r\n",
      "\r\n",
      "lines.linewidth: 4\r\n",
      "lines.solid_capstyle: butt\r\n",
      "\r\n",
      "legend.fancybox: true\r\n",
      "\r\n",
      "axes.prop_cycle: cycler('color', ['008fd5', 'fc4f30', 'e5ae38', '6d904f', '8b8b8b', '810f7c'])\r\n",
      "axes.facecolor: f0f0f0\r\n",
      "axes.labelsize: large\r\n",
      "axes.axisbelow: true\r\n",
      "axes.grid: true\r\n",
      "axes.edgecolor: f0f0f0\r\n",
      "axes.linewidth: 3.0\r\n",
      "axes.titlesize: x-large\r\n",
      "\r\n",
      "patch.edgecolor: f0f0f0\r\n",
      "patch.linewidth: 0.5\r\n",
      "\r\n",
      "svg.fonttype: path\r\n",
      "\r\n",
      "grid.linestyle: -\r\n",
      "grid.linewidth: 1.0\r\n",
      "grid.color: cbcbcb\r\n",
      "\r\n",
      "xtick.major.size: 0\r\n",
      "xtick.minor.size: 0\r\n",
      "ytick.major.size: 0\r\n",
      "ytick.minor.size: 0\r\n",
      "\r\n",
      "font.size:14.0\r\n",
      "\r\n",
      "savefig.edgecolor: f0f0f0\r\n",
      "savefig.facecolor: f0f0f0\r\n",
      "\r\n",
      "figure.subplot.left: 0.08\r\n",
      "figure.subplot.right: 0.95\r\n",
      "figure.subplot.bottom: 0.07\r\n",
      "figure.facecolor: f0f0f0\r\n"
     ]
    }
   ],
   "source": [
    "!cat {os.path.join(mpl.get_data_path(), 'stylelib', 'fivethirtyeight.mplstyle')}"
   ]
  },
  {
   "cell_type": "markdown",
   "metadata": {},
   "source": [
    "## Conclusion\n",
    "\n",
    "Well, how do you like that, with just a slight jiggering of some settings---less than 30 lines, by my count---you can create an entirely unique and applealing set of plots with matplotlib. And, now that you know where to find the style sheets for each of the default matplotlib styles, you'll always have examples to learn from and a constant source of inspiration."
   ]
  },
  {
   "cell_type": "code",
   "execution_count": null,
   "metadata": {
    "collapsed": true
   },
   "outputs": [],
   "source": []
  }
 ],
 "metadata": {
  "kernelspec": {
   "display_name": "Python 3",
   "language": "python",
   "name": "python3"
  },
  "language_info": {
   "codemirror_mode": {
    "name": "ipython",
    "version": 3
   },
   "file_extension": ".py",
   "mimetype": "text/x-python",
   "name": "python",
   "nbconvert_exporter": "python",
   "pygments_lexer": "ipython3",
   "version": "3.6.0"
  }
 },
 "nbformat": 4,
 "nbformat_minor": 0
}
