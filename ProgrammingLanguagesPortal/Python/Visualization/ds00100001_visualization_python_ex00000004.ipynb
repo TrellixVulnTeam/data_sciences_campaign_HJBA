{
 "cells": [
  {
   "cell_type": "code",
   "execution_count": 1,
   "metadata": {
    "collapsed": true
   },
   "outputs": [],
   "source": [
    "# encoding=utf8"
   ]
  },
  {
   "cell_type": "code",
   "execution_count": 2,
   "metadata": {
    "collapsed": true
   },
   "outputs": [],
   "source": [
    "# Visualization\n"
   ]
  },
  {
   "cell_type": "markdown",
   "metadata": {},
   "source": [
    "## Matplotlib\n",
    "Creating publication-quality figures with matplotlib\n"
   ]
  },
  {
   "cell_type": "code",
   "execution_count": 5,
   "metadata": {
    "collapsed": false
   },
   "outputs": [
    {
     "name": "stdout",
     "output_type": "stream",
     "text": [
      "Collecting brewer2mpl\n",
      "  Downloading brewer2mpl-1.4.1-py2.py3-none-any.whl\n",
      "Installing collected packages: brewer2mpl\n",
      "Successfully installed brewer2mpl-1.4.1\n",
      "\u001b[33mYou are using pip version 9.0.1, however version 9.0.3 is available.\n",
      "You should consider upgrading via the 'pip install --upgrade pip' command.\u001b[0m\n"
     ]
    }
   ],
   "source": [
    "!pip install brewer2mpl"
   ]
  },
  {
   "cell_type": "markdown",
   "metadata": {},
   "source": [
    "### boxplot3\n"
   ]
  },
  {
   "cell_type": "code",
   "execution_count": 8,
   "metadata": {
    "collapsed": false
   },
   "outputs": [
    {
     "name": "stderr",
     "output_type": "stream",
     "text": [
      "/Users/bater.makhabel/anaconda3/lib/python3.6/site-packages/matplotlib/__init__.py:913: UserWarning: text.fontsize is deprecated and replaced with font.size; please use the latter.\n",
      "  warnings.warn(self.msg_depr % (key, alt_key))\n"
     ]
    }
   ],
   "source": [
    "import glob\n",
    "from pylab import *\n",
    "\n",
    "import brewer2mpl\n",
    "bmap = brewer2mpl.get_map('Set2', 'qualitative', 7)\n",
    "colors = bmap.mpl_colors\n",
    "\n",
    "params = {\n",
    "    'axes.labelsize': 8,\n",
    "    'text.fontsize': 8,\n",
    "    'legend.fontsize': 10,\n",
    "    'xtick.labelsize': 10,\n",
    "    'ytick.labelsize': 10,\n",
    "    'text.usetex': False,\n",
    "    'figure.figsize': [2.5, 4.5]\n",
    "}\n",
    "rcParams.update(params)\n",
    "\n",
    "def load(dir):\n",
    "    f_list = glob.glob(dir + '/*/*/bestfit.dat')\n",
    "    num_lines = sum(1 for line in open(f_list[0]))\n",
    "    i = 0;\n",
    "    data = np.zeros((len(f_list), num_lines)) \n",
    "    for f in f_list:\n",
    "        data[i, :] = np.loadtxt(f)[:,1]\n",
    "        i += 1\n",
    "    return data\n",
    "\n"
   ]
  },
  {
   "cell_type": "code",
   "execution_count": 9,
   "metadata": {
    "collapsed": false
   },
   "outputs": [
    {
     "ename": "IndexError",
     "evalue": "list index out of range",
     "output_type": "error",
     "traceback": [
      "\u001b[0;31m---------------------------------------------------------------------------\u001b[0m",
      "\u001b[0;31mIndexError\u001b[0m                                Traceback (most recent call last)",
      "\u001b[0;32m<ipython-input-9-71163afc9e37>\u001b[0m in \u001b[0;36m<module>\u001b[0;34m()\u001b[0m\n\u001b[1;32m     18\u001b[0m     \u001b[0mbp\u001b[0m\u001b[0;34m[\u001b[0m\u001b[0;34m'whiskers'\u001b[0m\u001b[0;34m]\u001b[0m\u001b[0;34m[\u001b[0m\u001b[0mi\u001b[0m\u001b[0;34m*\u001b[0m\u001b[0;36m2\u001b[0m \u001b[0;34m+\u001b[0m \u001b[0;36m1\u001b[0m\u001b[0;34m]\u001b[0m\u001b[0;34m.\u001b[0m\u001b[0mset_linewidth\u001b[0m\u001b[0;34m(\u001b[0m\u001b[0;36m2\u001b[0m\u001b[0;34m)\u001b[0m\u001b[0;34m\u001b[0m\u001b[0m\n\u001b[1;32m     19\u001b[0m     \u001b[0;31m# top and bottom fliers\u001b[0m\u001b[0;34m\u001b[0m\u001b[0;34m\u001b[0m\u001b[0m\n\u001b[0;32m---> 20\u001b[0;31m     bp['fliers'][i * 2].set(markerfacecolor=colors[i],\n\u001b[0m\u001b[1;32m     21\u001b[0m                     \u001b[0mmarker\u001b[0m\u001b[0;34m=\u001b[0m\u001b[0;34m'o'\u001b[0m\u001b[0;34m,\u001b[0m \u001b[0malpha\u001b[0m\u001b[0;34m=\u001b[0m\u001b[0;36m0.75\u001b[0m\u001b[0;34m,\u001b[0m \u001b[0mmarkersize\u001b[0m\u001b[0;34m=\u001b[0m\u001b[0;36m6\u001b[0m\u001b[0;34m,\u001b[0m\u001b[0;34m\u001b[0m\u001b[0m\n\u001b[1;32m     22\u001b[0m                     markeredgecolor='none')\n",
      "\u001b[0;31mIndexError\u001b[0m: list index out of range"
     ]
    }
   ],
   "source": [
    "data_low_mut = load('../../DataSets/pybk031master/low_mut')\n",
    "data_high_mut = load('../../DataSets/pybk031master/high_mut')\n",
    "low_mut_100 = data_low_mut[:, 100]\n",
    "high_mut_100 =  data_high_mut[:, 100]\n",
    "\n",
    "fig = figure()\n",
    "ax = fig.add_subplot(111)\n",
    "\n",
    "bp = ax.boxplot([low_mut_100, high_mut_100], notch=0, sym='b+', vert=1, whis=1.5, \n",
    "             positions=None, widths=0.6)\n",
    "\n",
    "for i in range(0, len(bp['boxes'])):\n",
    "    bp['boxes'][i].set_color(colors[i])\n",
    "    # we have two whiskers!\n",
    "    bp['whiskers'][i*2].set_color(colors[i])\n",
    "    bp['whiskers'][i*2 + 1].set_color(colors[i])\n",
    "    bp['whiskers'][i*2].set_linewidth(2)\n",
    "    bp['whiskers'][i*2 + 1].set_linewidth(2)\n",
    "    # top and bottom fliers\n",
    "    bp['fliers'][i * 2].set(markerfacecolor=colors[i],\n",
    "                    marker='o', alpha=0.75, markersize=6,\n",
    "                    markeredgecolor='none')\n",
    "    bp['fliers'][i * 2 + 1].set(markerfacecolor=colors[i],\n",
    "                    marker='o', alpha=0.75, markersize=6,\n",
    "                    markeredgecolor='none')\n",
    "    bp['medians'][i].set_color('black')\n",
    "    bp['medians'][i].set_linewidth(3)\n",
    "    # and 4 caps to remove\n",
    "    for c in bp['caps']:\n",
    "        c.set_linewidth(0)\n",
    "\n",
    "ax.spines['top'].set_visible(False)\n",
    "ax.spines['right'].set_visible(False)\n",
    "ax.spines['left'].set_visible(False)\n",
    "ax.get_xaxis().tick_bottom()\n",
    "ax.get_yaxis().tick_left()\n",
    "ax.tick_params(axis='x', direction='out')\n",
    "ax.tick_params(axis='y', length=0)\n",
    "\n",
    "ax.grid(axis='y', color=\"0.9\", linestyle='-', linewidth=1)\n",
    "ax.set_axisbelow(True)\n",
    "\n",
    "\n",
    "savefig('boxplot3.png')\n",
    "\n"
   ]
  },
  {
   "cell_type": "markdown",
   "metadata": {},
   "source": [
    "### boxplot4\n"
   ]
  },
  {
   "cell_type": "code",
   "execution_count": 10,
   "metadata": {
    "collapsed": false
   },
   "outputs": [
    {
     "name": "stderr",
     "output_type": "stream",
     "text": [
      "/Users/bater.makhabel/anaconda3/lib/python3.6/site-packages/matplotlib/__init__.py:913: UserWarning: text.fontsize is deprecated and replaced with font.size; please use the latter.\n",
      "  warnings.warn(self.msg_depr % (key, alt_key))\n"
     ]
    }
   ],
   "source": [
    "import glob\n",
    "from pylab import *\n",
    "\n",
    "import brewer2mpl\n",
    "bmap = brewer2mpl.get_map('Set2', 'qualitative', 7)\n",
    "colors = bmap.mpl_colors\n",
    "\n",
    "params = {\n",
    "    'axes.labelsize': 8,\n",
    "    'text.fontsize': 8,\n",
    "    'legend.fontsize': 10,\n",
    "    'xtick.labelsize': 10,\n",
    "    'ytick.labelsize': 10,\n",
    "    'text.usetex': False,\n",
    "    'figure.figsize': [2.5, 4.5]\n",
    "}\n",
    "rcParams.update(params)\n",
    "\n",
    "def load(dir):\n",
    "    f_list = glob.glob(dir + '/*/*/bestfit.dat')\n",
    "    num_lines = sum(1 for line in open(f_list[0]))\n",
    "    i = 0;\n",
    "    data = np.zeros((len(f_list), num_lines)) \n",
    "    for f in f_list:\n",
    "        data[i, :] = np.loadtxt(f)[:,1]\n",
    "        i += 1\n",
    "    return data\n",
    "\n"
   ]
  },
  {
   "cell_type": "code",
   "execution_count": 11,
   "metadata": {
    "collapsed": false
   },
   "outputs": [
    {
     "ename": "TypeError",
     "evalue": "len() of unsized object",
     "output_type": "error",
     "traceback": [
      "\u001b[0;31m---------------------------------------------------------------------------\u001b[0m",
      "\u001b[0;31mTypeError\u001b[0m                                 Traceback (most recent call last)",
      "\u001b[0;32m<ipython-input-11-066140933160>\u001b[0m in \u001b[0;36m<module>\u001b[0;34m()\u001b[0m\n\u001b[1;32m     20\u001b[0m         \u001b[0mboxY\u001b[0m\u001b[0;34m.\u001b[0m\u001b[0mappend\u001b[0m\u001b[0;34m(\u001b[0m\u001b[0mbox\u001b[0m\u001b[0;34m.\u001b[0m\u001b[0mget_ydata\u001b[0m\u001b[0;34m(\u001b[0m\u001b[0;34m)\u001b[0m\u001b[0;34m[\u001b[0m\u001b[0mj\u001b[0m\u001b[0;34m]\u001b[0m\u001b[0;34m)\u001b[0m\u001b[0;34m\u001b[0m\u001b[0m\n\u001b[1;32m     21\u001b[0m         \u001b[0mboxCoords\u001b[0m \u001b[0;34m=\u001b[0m \u001b[0mzip\u001b[0m\u001b[0;34m(\u001b[0m\u001b[0mboxX\u001b[0m\u001b[0;34m,\u001b[0m\u001b[0mboxY\u001b[0m\u001b[0;34m)\u001b[0m\u001b[0;34m\u001b[0m\u001b[0m\n\u001b[0;32m---> 22\u001b[0;31m         \u001b[0mboxPolygon\u001b[0m \u001b[0;34m=\u001b[0m \u001b[0mPolygon\u001b[0m\u001b[0;34m(\u001b[0m\u001b[0mboxCoords\u001b[0m\u001b[0;34m,\u001b[0m \u001b[0mfacecolor\u001b[0m \u001b[0;34m=\u001b[0m \u001b[0mcolors\u001b[0m\u001b[0;34m[\u001b[0m\u001b[0mi\u001b[0m \u001b[0;34m%\u001b[0m \u001b[0mlen\u001b[0m\u001b[0;34m(\u001b[0m\u001b[0mcolors\u001b[0m\u001b[0;34m)\u001b[0m\u001b[0;34m]\u001b[0m\u001b[0;34m,\u001b[0m \u001b[0mlinewidth\u001b[0m\u001b[0;34m=\u001b[0m\u001b[0;36m0\u001b[0m\u001b[0;34m)\u001b[0m\u001b[0;34m\u001b[0m\u001b[0m\n\u001b[0m\u001b[1;32m     23\u001b[0m         \u001b[0max\u001b[0m\u001b[0;34m.\u001b[0m\u001b[0madd_patch\u001b[0m\u001b[0;34m(\u001b[0m\u001b[0mboxPolygon\u001b[0m\u001b[0;34m)\u001b[0m\u001b[0;34m\u001b[0m\u001b[0m\n\u001b[1;32m     24\u001b[0m \u001b[0;34m\u001b[0m\u001b[0m\n",
      "\u001b[0;32m/Users/bater.makhabel/anaconda3/lib/python3.6/site-packages/matplotlib/patches.py\u001b[0m in \u001b[0;36m__init__\u001b[0;34m(self, xy, closed, **kwargs)\u001b[0m\n\u001b[1;32m    937\u001b[0m         \u001b[0mPatch\u001b[0m\u001b[0;34m.\u001b[0m\u001b[0m__init__\u001b[0m\u001b[0;34m(\u001b[0m\u001b[0mself\u001b[0m\u001b[0;34m,\u001b[0m \u001b[0;34m**\u001b[0m\u001b[0mkwargs\u001b[0m\u001b[0;34m)\u001b[0m\u001b[0;34m\u001b[0m\u001b[0m\n\u001b[1;32m    938\u001b[0m         \u001b[0mself\u001b[0m\u001b[0;34m.\u001b[0m\u001b[0m_closed\u001b[0m \u001b[0;34m=\u001b[0m \u001b[0mclosed\u001b[0m\u001b[0;34m\u001b[0m\u001b[0m\n\u001b[0;32m--> 939\u001b[0;31m         \u001b[0mself\u001b[0m\u001b[0;34m.\u001b[0m\u001b[0mset_xy\u001b[0m\u001b[0;34m(\u001b[0m\u001b[0mxy\u001b[0m\u001b[0;34m)\u001b[0m\u001b[0;34m\u001b[0m\u001b[0m\n\u001b[0m\u001b[1;32m    940\u001b[0m \u001b[0;34m\u001b[0m\u001b[0m\n\u001b[1;32m    941\u001b[0m     \u001b[0;32mdef\u001b[0m \u001b[0mget_path\u001b[0m\u001b[0;34m(\u001b[0m\u001b[0mself\u001b[0m\u001b[0;34m)\u001b[0m\u001b[0;34m:\u001b[0m\u001b[0;34m\u001b[0m\u001b[0m\n",
      "\u001b[0;32m/Users/bater.makhabel/anaconda3/lib/python3.6/site-packages/matplotlib/patches.py\u001b[0m in \u001b[0;36mset_xy\u001b[0;34m(self, xy)\u001b[0m\n\u001b[1;32m   1001\u001b[0m         \u001b[0mxy\u001b[0m \u001b[0;34m=\u001b[0m \u001b[0mnp\u001b[0m\u001b[0;34m.\u001b[0m\u001b[0masarray\u001b[0m\u001b[0;34m(\u001b[0m\u001b[0mxy\u001b[0m\u001b[0;34m)\u001b[0m\u001b[0;34m\u001b[0m\u001b[0m\n\u001b[1;32m   1002\u001b[0m         \u001b[0;32mif\u001b[0m \u001b[0mself\u001b[0m\u001b[0;34m.\u001b[0m\u001b[0m_closed\u001b[0m\u001b[0;34m:\u001b[0m\u001b[0;34m\u001b[0m\u001b[0m\n\u001b[0;32m-> 1003\u001b[0;31m             \u001b[0;32mif\u001b[0m \u001b[0mlen\u001b[0m\u001b[0;34m(\u001b[0m\u001b[0mxy\u001b[0m\u001b[0;34m)\u001b[0m \u001b[0;32mand\u001b[0m \u001b[0;34m(\u001b[0m\u001b[0mxy\u001b[0m\u001b[0;34m[\u001b[0m\u001b[0;36m0\u001b[0m\u001b[0;34m]\u001b[0m \u001b[0;34m!=\u001b[0m \u001b[0mxy\u001b[0m\u001b[0;34m[\u001b[0m\u001b[0;34m-\u001b[0m\u001b[0;36m1\u001b[0m\u001b[0;34m]\u001b[0m\u001b[0;34m)\u001b[0m\u001b[0;34m.\u001b[0m\u001b[0many\u001b[0m\u001b[0;34m(\u001b[0m\u001b[0;34m)\u001b[0m\u001b[0;34m:\u001b[0m\u001b[0;34m\u001b[0m\u001b[0m\n\u001b[0m\u001b[1;32m   1004\u001b[0m                 \u001b[0mxy\u001b[0m \u001b[0;34m=\u001b[0m \u001b[0mnp\u001b[0m\u001b[0;34m.\u001b[0m\u001b[0mconcatenate\u001b[0m\u001b[0;34m(\u001b[0m\u001b[0;34m[\u001b[0m\u001b[0mxy\u001b[0m\u001b[0;34m,\u001b[0m \u001b[0;34m[\u001b[0m\u001b[0mxy\u001b[0m\u001b[0;34m[\u001b[0m\u001b[0;36m0\u001b[0m\u001b[0;34m]\u001b[0m\u001b[0;34m]\u001b[0m\u001b[0;34m]\u001b[0m\u001b[0;34m)\u001b[0m\u001b[0;34m\u001b[0m\u001b[0m\n\u001b[1;32m   1005\u001b[0m         \u001b[0;32melse\u001b[0m\u001b[0;34m:\u001b[0m\u001b[0;34m\u001b[0m\u001b[0m\n",
      "\u001b[0;31mTypeError\u001b[0m: len() of unsized object"
     ]
    }
   ],
   "source": [
    "data_low_mut = load('../../DataSets/pybk031master/low_mut')\n",
    "data_high_mut = load('../../DataSets/pybk031master/high_mut')\n",
    "low_mut_100 = data_low_mut[:, 100]\n",
    "high_mut_100 =  data_high_mut[:, 100]\n",
    "\n",
    "fig = figure()\n",
    "ax = fig.add_subplot(111)\n",
    "\n",
    "bp = ax.boxplot([low_mut_100, high_mut_100], notch=0, sym='b+', vert=1, whis=1.5, \n",
    "             positions=None, widths=0.6)\n",
    "\n",
    "\n",
    "for i in range(len(bp['boxes'])):\n",
    "    box = bp['boxes'][i]\n",
    "    box.set_linewidth(0)\n",
    "    boxX = []\n",
    "    boxY = []\n",
    "    for j in range(5):\n",
    "        boxX.append(box.get_xdata()[j])\n",
    "        boxY.append(box.get_ydata()[j])\n",
    "        boxCoords = zip(boxX,boxY)\n",
    "        boxPolygon = Polygon(boxCoords, facecolor = colors[i % len(colors)], linewidth=0)\n",
    "        ax.add_patch(boxPolygon)\n",
    "\n",
    "for i in range(0, len(bp['boxes'])):\n",
    "    bp['boxes'][i].set_color(colors[i])\n",
    "    # we have two whiskers!\n",
    "    bp['whiskers'][i*2].set_color(colors[i])\n",
    "    bp['whiskers'][i*2 + 1].set_color(colors[i])\n",
    "    bp['whiskers'][i*2].set_linewidth(2)\n",
    "    bp['whiskers'][i*2 + 1].set_linewidth(2)\n",
    "    # top and bottom fliers\n",
    "    bp['fliers'][i * 2].set(markerfacecolor=colors[i],\n",
    "                    marker='o', alpha=0.75, markersize=6,\n",
    "                    markeredgecolor='none')\n",
    "    bp['fliers'][i * 2 + 1].set(markerfacecolor=colors[i],\n",
    "                    marker='o', alpha=0.75, markersize=6,\n",
    "                    markeredgecolor='none')\n",
    "    bp['medians'][i].set_color('black')\n",
    "    bp['medians'][i].set_linewidth(3)\n",
    "    # and 4 caps to remove\n",
    "    for c in bp['caps']:\n",
    "        c.set_linewidth(0)\n",
    "\n",
    "\n",
    "ax.spines['top'].set_visible(False)\n",
    "ax.spines['right'].set_visible(False)\n",
    "ax.spines['left'].set_visible(False)\n",
    "ax.get_xaxis().tick_bottom()\n",
    "ax.get_yaxis().tick_left()\n",
    "ax.tick_params(axis='x', direction='out')\n",
    "ax.tick_params(axis='y', length=0)\n",
    "\n",
    "ax.grid(axis='y', color=\"0.9\", linestyle='-', linewidth=1)\n",
    "ax.set_axisbelow(True)\n",
    "\n",
    "ax.set_xticklabels(['low\\nmutation','high\\nmutation'])\n",
    "\n",
    "fig.subplots_adjust(left=0.2)\n",
    "\n",
    "\n",
    "savefig('boxplot4.png')\n",
    "\n"
   ]
  },
  {
   "cell_type": "markdown",
   "metadata": {},
   "source": [
    "### boxplot5\n"
   ]
  },
  {
   "cell_type": "code",
   "execution_count": 14,
   "metadata": {
    "collapsed": false
   },
   "outputs": [
    {
     "name": "stderr",
     "output_type": "stream",
     "text": [
      "/Users/bater.makhabel/anaconda3/lib/python3.6/site-packages/matplotlib/__init__.py:913: UserWarning: text.fontsize is deprecated and replaced with font.size; please use the latter.\n",
      "  warnings.warn(self.msg_depr % (key, alt_key))\n"
     ]
    },
    {
     "ename": "TypeError",
     "evalue": "len() of unsized object",
     "output_type": "error",
     "traceback": [
      "\u001b[0;31m---------------------------------------------------------------------------\u001b[0m",
      "\u001b[0;31mTypeError\u001b[0m                                 Traceback (most recent call last)",
      "\u001b[0;32m<ipython-input-14-b5b782933a4c>\u001b[0m in \u001b[0;36m<module>\u001b[0;34m()\u001b[0m\n\u001b[1;32m     62\u001b[0m         \u001b[0mboxY\u001b[0m\u001b[0;34m.\u001b[0m\u001b[0mappend\u001b[0m\u001b[0;34m(\u001b[0m\u001b[0mbox\u001b[0m\u001b[0;34m.\u001b[0m\u001b[0mget_ydata\u001b[0m\u001b[0;34m(\u001b[0m\u001b[0;34m)\u001b[0m\u001b[0;34m[\u001b[0m\u001b[0mj\u001b[0m\u001b[0;34m]\u001b[0m\u001b[0;34m)\u001b[0m\u001b[0;34m\u001b[0m\u001b[0m\n\u001b[1;32m     63\u001b[0m         \u001b[0mboxCoords\u001b[0m \u001b[0;34m=\u001b[0m \u001b[0mzip\u001b[0m\u001b[0;34m(\u001b[0m\u001b[0mboxX\u001b[0m\u001b[0;34m,\u001b[0m\u001b[0mboxY\u001b[0m\u001b[0;34m)\u001b[0m\u001b[0;34m\u001b[0m\u001b[0m\n\u001b[0;32m---> 64\u001b[0;31m         \u001b[0mboxPolygon\u001b[0m \u001b[0;34m=\u001b[0m \u001b[0mPolygon\u001b[0m\u001b[0;34m(\u001b[0m\u001b[0mboxCoords\u001b[0m\u001b[0;34m,\u001b[0m \u001b[0mfacecolor\u001b[0m \u001b[0;34m=\u001b[0m \u001b[0mcolors\u001b[0m\u001b[0;34m[\u001b[0m\u001b[0mi\u001b[0m \u001b[0;34m%\u001b[0m \u001b[0mlen\u001b[0m\u001b[0;34m(\u001b[0m\u001b[0mcolors\u001b[0m\u001b[0;34m)\u001b[0m\u001b[0;34m]\u001b[0m\u001b[0;34m,\u001b[0m \u001b[0mlinewidth\u001b[0m\u001b[0;34m=\u001b[0m\u001b[0;36m0\u001b[0m\u001b[0;34m)\u001b[0m\u001b[0;34m\u001b[0m\u001b[0m\n\u001b[0m\u001b[1;32m     65\u001b[0m         \u001b[0max\u001b[0m\u001b[0;34m.\u001b[0m\u001b[0madd_patch\u001b[0m\u001b[0;34m(\u001b[0m\u001b[0mboxPolygon\u001b[0m\u001b[0;34m)\u001b[0m\u001b[0;34m\u001b[0m\u001b[0m\n\u001b[1;32m     66\u001b[0m \u001b[0;34m\u001b[0m\u001b[0m\n",
      "\u001b[0;32m/Users/bater.makhabel/anaconda3/lib/python3.6/site-packages/matplotlib/patches.py\u001b[0m in \u001b[0;36m__init__\u001b[0;34m(self, xy, closed, **kwargs)\u001b[0m\n\u001b[1;32m    937\u001b[0m         \u001b[0mPatch\u001b[0m\u001b[0;34m.\u001b[0m\u001b[0m__init__\u001b[0m\u001b[0;34m(\u001b[0m\u001b[0mself\u001b[0m\u001b[0;34m,\u001b[0m \u001b[0;34m**\u001b[0m\u001b[0mkwargs\u001b[0m\u001b[0;34m)\u001b[0m\u001b[0;34m\u001b[0m\u001b[0m\n\u001b[1;32m    938\u001b[0m         \u001b[0mself\u001b[0m\u001b[0;34m.\u001b[0m\u001b[0m_closed\u001b[0m \u001b[0;34m=\u001b[0m \u001b[0mclosed\u001b[0m\u001b[0;34m\u001b[0m\u001b[0m\n\u001b[0;32m--> 939\u001b[0;31m         \u001b[0mself\u001b[0m\u001b[0;34m.\u001b[0m\u001b[0mset_xy\u001b[0m\u001b[0;34m(\u001b[0m\u001b[0mxy\u001b[0m\u001b[0;34m)\u001b[0m\u001b[0;34m\u001b[0m\u001b[0m\n\u001b[0m\u001b[1;32m    940\u001b[0m \u001b[0;34m\u001b[0m\u001b[0m\n\u001b[1;32m    941\u001b[0m     \u001b[0;32mdef\u001b[0m \u001b[0mget_path\u001b[0m\u001b[0;34m(\u001b[0m\u001b[0mself\u001b[0m\u001b[0;34m)\u001b[0m\u001b[0;34m:\u001b[0m\u001b[0;34m\u001b[0m\u001b[0m\n",
      "\u001b[0;32m/Users/bater.makhabel/anaconda3/lib/python3.6/site-packages/matplotlib/patches.py\u001b[0m in \u001b[0;36mset_xy\u001b[0;34m(self, xy)\u001b[0m\n\u001b[1;32m   1001\u001b[0m         \u001b[0mxy\u001b[0m \u001b[0;34m=\u001b[0m \u001b[0mnp\u001b[0m\u001b[0;34m.\u001b[0m\u001b[0masarray\u001b[0m\u001b[0;34m(\u001b[0m\u001b[0mxy\u001b[0m\u001b[0;34m)\u001b[0m\u001b[0;34m\u001b[0m\u001b[0m\n\u001b[1;32m   1002\u001b[0m         \u001b[0;32mif\u001b[0m \u001b[0mself\u001b[0m\u001b[0;34m.\u001b[0m\u001b[0m_closed\u001b[0m\u001b[0;34m:\u001b[0m\u001b[0;34m\u001b[0m\u001b[0m\n\u001b[0;32m-> 1003\u001b[0;31m             \u001b[0;32mif\u001b[0m \u001b[0mlen\u001b[0m\u001b[0;34m(\u001b[0m\u001b[0mxy\u001b[0m\u001b[0;34m)\u001b[0m \u001b[0;32mand\u001b[0m \u001b[0;34m(\u001b[0m\u001b[0mxy\u001b[0m\u001b[0;34m[\u001b[0m\u001b[0;36m0\u001b[0m\u001b[0;34m]\u001b[0m \u001b[0;34m!=\u001b[0m \u001b[0mxy\u001b[0m\u001b[0;34m[\u001b[0m\u001b[0;34m-\u001b[0m\u001b[0;36m1\u001b[0m\u001b[0;34m]\u001b[0m\u001b[0;34m)\u001b[0m\u001b[0;34m.\u001b[0m\u001b[0many\u001b[0m\u001b[0;34m(\u001b[0m\u001b[0;34m)\u001b[0m\u001b[0;34m:\u001b[0m\u001b[0;34m\u001b[0m\u001b[0m\n\u001b[0m\u001b[1;32m   1004\u001b[0m                 \u001b[0mxy\u001b[0m \u001b[0;34m=\u001b[0m \u001b[0mnp\u001b[0m\u001b[0;34m.\u001b[0m\u001b[0mconcatenate\u001b[0m\u001b[0;34m(\u001b[0m\u001b[0;34m[\u001b[0m\u001b[0mxy\u001b[0m\u001b[0;34m,\u001b[0m \u001b[0;34m[\u001b[0m\u001b[0mxy\u001b[0m\u001b[0;34m[\u001b[0m\u001b[0;36m0\u001b[0m\u001b[0;34m]\u001b[0m\u001b[0;34m]\u001b[0m\u001b[0;34m]\u001b[0m\u001b[0;34m)\u001b[0m\u001b[0;34m\u001b[0m\u001b[0m\n\u001b[1;32m   1005\u001b[0m         \u001b[0;32melse\u001b[0m\u001b[0;34m:\u001b[0m\u001b[0;34m\u001b[0m\u001b[0m\n",
      "\u001b[0;31mTypeError\u001b[0m: len() of unsized object"
     ]
    }
   ],
   "source": [
    "import glob\n",
    "from pylab import *\n",
    "import scipy.stats\n",
    "\n",
    "import brewer2mpl\n",
    "bmap = brewer2mpl.get_map('Set2', 'qualitative', 7)\n",
    "colors = bmap.mpl_colors\n",
    "\n",
    "params = {\n",
    "    'axes.labelsize': 8,\n",
    "    'text.fontsize': 8,\n",
    "    'legend.fontsize': 10,\n",
    "    'xtick.labelsize': 10,\n",
    "    'ytick.labelsize': 10,\n",
    "    'text.usetex': False,\n",
    "    'figure.figsize': [2.5, 4.5]\n",
    "}\n",
    "rcParams.update(params)\n",
    "\n",
    "def load(dir):\n",
    "    f_list = glob.glob(dir + '/*/*/bestfit.dat')\n",
    "    num_lines = sum(1 for line in open(f_list[0]))\n",
    "    i = 0;\n",
    "    data = np.zeros((len(f_list), num_lines)) \n",
    "    for f in f_list:\n",
    "        data[i, :] = np.loadtxt(f)[:,1]\n",
    "        i += 1\n",
    "    return data\n",
    "\n",
    "\n",
    "def stars(p):\n",
    "    if p < 0.0001:\n",
    "        return \"****\"\n",
    "    elif (p < 0.001):\n",
    "        return \"***\"\n",
    "    elif (p < 0.01):\n",
    "        return \"**\"\n",
    "    elif (p < 0.05):\n",
    "        return \"*\"\n",
    "    else:\n",
    "        return \"-\"\n",
    "\n",
    "data_low_mut = load('../../DataSets/pybk031master/low_mut')\n",
    "data_high_mut = load('../../DataSets/pybk031master/high_mut')\n",
    "low_mut_100 = data_low_mut[:, 100]\n",
    "high_mut_100 =  data_high_mut[:, 100]\n",
    "\n",
    "fig = figure()\n",
    "ax = fig.add_subplot(111)\n",
    "\n",
    "bp = ax.boxplot([low_mut_100, high_mut_100], notch=0, sym='b+', vert=1, whis=1.5, \n",
    "             positions=None, widths=0.6)\n",
    "\n",
    "\n",
    "for i in range(len(bp['boxes'])):\n",
    "    box = bp['boxes'][i]\n",
    "    box.set_linewidth(0)\n",
    "    boxX = []\n",
    "    boxY = []\n",
    "    for j in range(5):\n",
    "        boxX.append(box.get_xdata()[j])\n",
    "        boxY.append(box.get_ydata()[j])\n",
    "        boxCoords = zip(boxX,boxY)\n",
    "        boxPolygon = Polygon(boxCoords, facecolor = colors[i % len(colors)], linewidth=0)\n",
    "        ax.add_patch(boxPolygon)\n",
    "\n",
    "for i in range(0, len(bp['boxes'])):\n",
    "    bp['boxes'][i].set_color(colors[i])\n",
    "    # we have two whiskers!\n",
    "    bp['whiskers'][i*2].set_color(colors[i])\n",
    "    bp['whiskers'][i*2 + 1].set_color(colors[i])\n",
    "    bp['whiskers'][i*2].set_linewidth(2)\n",
    "    bp['whiskers'][i*2 + 1].set_linewidth(2)\n",
    "    # top and bottom fliers\n",
    "    bp['fliers'][i * 2].set(markerfacecolor=colors[i],\n",
    "                    marker='o', alpha=0.75, markersize=6,\n",
    "                    markeredgecolor='none')\n",
    "    bp['fliers'][i * 2 + 1].set(markerfacecolor=colors[i],\n",
    "                    marker='o', alpha=0.75, markersize=6,\n",
    "                    markeredgecolor='none')\n",
    "    bp['medians'][i].set_color('black')\n",
    "    bp['medians'][i].set_linewidth(3)\n",
    "    # and 4 caps to remove\n",
    "    for c in bp['caps']:\n",
    "        c.set_linewidth(0)\n",
    "\n",
    "\n",
    "ax.spines['top'].set_visible(False)\n",
    "ax.spines['right'].set_visible(False)\n",
    "ax.spines['left'].set_visible(False)\n",
    "ax.get_xaxis().tick_bottom()\n",
    "ax.get_yaxis().tick_left()\n",
    "ax.tick_params(axis='x', direction='out')\n",
    "ax.tick_params(axis='y', length=0)\n",
    "\n",
    "ax.grid(axis='y', color=\"0.9\", linestyle='-', linewidth=1)\n",
    "ax.set_axisbelow(True)\n",
    "\n",
    "ax.set_xticklabels(['low\\nmutation','high\\nmutation'])\n",
    "\n",
    "# the stars\n",
    "z, p = scipy.stats.mannwhitneyu(low_mut_100, high_mut_100)\n",
    "p_value = p * 2\n",
    "s = stars(p)\n",
    "\n",
    "y_max = np.max(np.concatenate((low_mut_100, high_mut_100)))\n",
    "y_min = np.min(np.concatenate((low_mut_100, high_mut_100)))\n",
    "print (y_max)\n",
    "ax.annotate(\"\", xy=(1, y_max), xycoords='data',\n",
    "            xytext=(2, y_max), textcoords='data',\n",
    "            arrowprops=dict(arrowstyle=\"-\", ec='#aaaaaa',\n",
    "                            connectionstyle=\"bar,fraction=0.2\"))\n",
    "ax.text(1.5, y_max + abs(y_max - y_min)*0.1, stars(p_value),\n",
    "        horizontalalignment='center',\n",
    "        verticalalignment='center') \n",
    "\n",
    "\n",
    "fig.subplots_adjust(left=0.2)\n",
    "\n",
    "\n",
    "savefig('boxplot5.png')\n",
    "\n"
   ]
  },
  {
   "cell_type": "code",
   "execution_count": null,
   "metadata": {
    "collapsed": true
   },
   "outputs": [],
   "source": []
  }
 ],
 "metadata": {
  "kernelspec": {
   "display_name": "Python 3",
   "language": "python",
   "name": "python3"
  },
  "language_info": {
   "codemirror_mode": {
    "name": "ipython",
    "version": 3
   },
   "file_extension": ".py",
   "mimetype": "text/x-python",
   "name": "python",
   "nbconvert_exporter": "python",
   "pygments_lexer": "ipython3",
   "version": "3.6.0"
  }
 },
 "nbformat": 4,
 "nbformat_minor": 2
}
