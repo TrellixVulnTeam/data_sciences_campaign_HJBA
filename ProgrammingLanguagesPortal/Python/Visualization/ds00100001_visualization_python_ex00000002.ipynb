{
 "cells": [
  {
   "cell_type": "code",
   "execution_count": 1,
   "metadata": {
    "collapsed": true
   },
   "outputs": [],
   "source": [
    "# encoding=utf8"
   ]
  },
  {
   "cell_type": "markdown",
   "metadata": {},
   "source": [
    "# Visualization\n",
    "\n"
   ]
  },
  {
   "cell_type": "markdown",
   "metadata": {},
   "source": [
    "## Matplotlib\n",
    "\n",
    "Creating publication-quality figures with matplotlib\n"
   ]
  },
  {
   "cell_type": "code",
   "execution_count": 2,
   "metadata": {
    "collapsed": true
   },
   "outputs": [],
   "source": [
    "import glob\n",
    "from pylab import *\n",
    "\n"
   ]
  },
  {
   "cell_type": "code",
   "execution_count": 3,
   "metadata": {
    "collapsed": true
   },
   "outputs": [],
   "source": [
    "\n",
    "def load(dir):\n",
    "    f_list = glob.glob(dir + '/*/*/bestfit.dat')\n",
    "    num_lines = sum(1 for line in open(f_list[0]))\n",
    "    i = 0;\n",
    "    data = np.zeros((len(f_list), num_lines)) \n",
    "    for f in f_list:\n",
    "        data[i, :] = np.loadtxt(f)[:,1]\n",
    "        i += 1\n",
    "    return data\n",
    "\n"
   ]
  },
  {
   "cell_type": "code",
   "execution_count": 6,
   "metadata": {
    "collapsed": false
   },
   "outputs": [],
   "source": [
    "data_low_mut = load('../../DataSets/pybk031master/low_mut')\n",
    "data_high_mut = load('../../DataSets/pybk031master/high_mut')\n"
   ]
  },
  {
   "cell_type": "code",
   "execution_count": 8,
   "metadata": {
    "collapsed": false
   },
   "outputs": [
    {
     "data": {
      "text/plain": [
       "array([[-5440.98   , -5440.98   , -5440.98   , ...,    -9.44895,\n",
       "           -9.44895,    -9.44895],\n",
       "       [-3194.25   , -3194.25   , -3194.25   , ...,    -9.42471,\n",
       "           -9.42471,    -9.42471],\n",
       "       [-4244.78   , -4244.78   , -4244.78   , ...,    -9.45887,\n",
       "           -9.45887,    -9.45887],\n",
       "       ..., \n",
       "       [-7071.43   , -7071.43   , -7071.43   , ...,    -9.44188,\n",
       "           -9.44188,    -9.44188],\n",
       "       [-2925.83   , -2925.83   , -2925.83   , ...,    -9.44366,\n",
       "           -9.44366,    -9.44366],\n",
       "       [-4852.43   , -4852.43   , -4852.43   , ...,    -9.43874,\n",
       "           -9.4341 ,    -9.4341 ]])"
      ]
     },
     "execution_count": 8,
     "metadata": {},
     "output_type": "execute_result"
    }
   ],
   "source": [
    "data_low_mut"
   ]
  },
  {
   "cell_type": "code",
   "execution_count": 9,
   "metadata": {
    "collapsed": false
   },
   "outputs": [
    {
     "data": {
      "text/plain": [
       "array([[-4026.84   , -4026.84   , -4026.84   , ...,    -9.41762,\n",
       "           -9.41762,    -9.41762],\n",
       "       [-7539.74   , -7539.74   , -7539.74   , ...,    -9.41499,\n",
       "           -9.41499,    -9.41499],\n",
       "       [-3218.82   , -3218.82   , -3218.82   , ...,    -9.41778,\n",
       "           -9.41778,    -9.41778],\n",
       "       ..., \n",
       "       [-7182.44   , -7182.44   , -7182.44   , ...,    -9.41635,\n",
       "           -9.41635,    -9.41635],\n",
       "       [-4513.19   , -4513.19   , -4513.19   , ...,    -9.41552,\n",
       "           -9.41552,    -9.41552],\n",
       "       [-5764.04   , -5764.04   , -5764.04   , ...,    -9.41429,\n",
       "           -9.41429,    -9.41429]])"
      ]
     },
     "execution_count": 9,
     "metadata": {},
     "output_type": "execute_result"
    }
   ],
   "source": [
    "data_high_mut"
   ]
  },
  {
   "cell_type": "code",
   "execution_count": null,
   "metadata": {
    "collapsed": true
   },
   "outputs": [],
   "source": [
    "low_mut_100 = data_low_mut[:, 100]\n",
    "high_mut_100 =  data_high_mut[:, 100]\n",
    "\n",
    "fig = figure()\n",
    "ax = fig.add_subplot(111)\n",
    "\n",
    "bp = ax.boxplot([low_mut_100, high_mut_100], notch=0, sym='b+', vert=1, whis=1.5, \n",
    "             positions=None, widths=0.6)\n",
    "\n",
    "savefig('boxplot1.png')\n"
   ]
  },
  {
   "cell_type": "code",
   "execution_count": 7,
   "metadata": {
    "collapsed": false,
    "scrolled": false
   },
   "outputs": [
    {
     "data": {
      "image/png": "[encoded data removed]",
      "text/plain": [
       "<matplotlib.figure.Figure at 0x103197f60>"
      ]
     },
     "metadata": {},
     "output_type": "display_data"
    },
    {
     "data": {
      "image/png": "[encoded data removed]",
      "text/plain": [
       "<matplotlib.figure.Figure at 0x10938b588>"
      ]
     },
     "metadata": {},
     "output_type": "display_data"
    }
   ],
   "source": [
    "show()"
   ]
  },
  {
   "cell_type": "code",
   "execution_count": null,
   "metadata": {
    "collapsed": true
   },
   "outputs": [],
   "source": []
  }
 ],
 "metadata": {
  "kernelspec": {
   "display_name": "Python 3",
   "language": "python",
   "name": "python3"
  },
  "language_info": {
   "codemirror_mode": {
    "name": "ipython",
    "version": 3
   },
   "file_extension": ".py",
   "mimetype": "text/x-python",
   "name": "python",
   "nbconvert_exporter": "python",
   "pygments_lexer": "ipython3",
   "version": "3.6.0"
  }
 },
 "nbformat": 4,
 "nbformat_minor": 2
}
