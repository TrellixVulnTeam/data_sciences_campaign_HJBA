{
 "cells": [
  {
   "cell_type": "code",
   "execution_count": 1,
   "metadata": {
    "collapsed": true
   },
   "outputs": [],
   "source": [
    "# encoding=utf8"
   ]
  },
  {
   "cell_type": "markdown",
   "metadata": {},
   "source": [
    "# Visualization\n"
   ]
  },
  {
   "cell_type": "markdown",
   "metadata": {},
   "source": [
    "## Matplotlib\n",
    "\n",
    "Creating publication-quality figures with matplotlib\n"
   ]
  },
  {
   "cell_type": "code",
   "execution_count": 2,
   "metadata": {
    "collapsed": true
   },
   "outputs": [],
   "source": [
    "import glob\n",
    "from pylab import *\n",
    "\n"
   ]
  },
  {
   "cell_type": "code",
   "execution_count": 5,
   "metadata": {
    "collapsed": false
   },
   "outputs": [],
   "source": [
    "params = {\n",
    "    'axes.labelsize': 8,\n",
    "    'font.size': 8,\n",
    "    'legend.fontsize': 10,\n",
    "    'xtick.labelsize': 10,\n",
    "    'ytick.labelsize': 10,\n",
    "    'text.usetex': False,\n",
    "    'figure.figsize': [2.5, 4.5]\n",
    "}\n",
    "rcParams.update(params)\n",
    "\n"
   ]
  },
  {
   "cell_type": "code",
   "execution_count": 6,
   "metadata": {
    "collapsed": true
   },
   "outputs": [],
   "source": [
    "def load(dir):\n",
    "    f_list = glob.glob(dir + '/*/*/bestfit.dat')\n",
    "    num_lines = sum(1 for line in open(f_list[0]))\n",
    "    i = 0;\n",
    "    data = np.zeros((len(f_list), num_lines)) \n",
    "    for f in f_list:\n",
    "        data[i, :] = np.loadtxt(f)[:,1]\n",
    "        i += 1\n",
    "    return data\n",
    "\n",
    "data_low_mut = load('../../DataSets/pybk031master/low_mut')\n",
    "data_high_mut = load('../../DataSets/pybk031master/high_mut')\n",
    "\n"
   ]
  },
  {
   "cell_type": "code",
   "execution_count": 7,
   "metadata": {
    "collapsed": false
   },
   "outputs": [
    {
     "data": {
      "text/plain": [
       "array([[-5440.98   , -5440.98   , -5440.98   , ...,    -9.44895,\n",
       "           -9.44895,    -9.44895],\n",
       "       [-3194.25   , -3194.25   , -3194.25   , ...,    -9.42471,\n",
       "           -9.42471,    -9.42471],\n",
       "       [-4244.78   , -4244.78   , -4244.78   , ...,    -9.45887,\n",
       "           -9.45887,    -9.45887],\n",
       "       ..., \n",
       "       [-7071.43   , -7071.43   , -7071.43   , ...,    -9.44188,\n",
       "           -9.44188,    -9.44188],\n",
       "       [-2925.83   , -2925.83   , -2925.83   , ...,    -9.44366,\n",
       "           -9.44366,    -9.44366],\n",
       "       [-4852.43   , -4852.43   , -4852.43   , ...,    -9.43874,\n",
       "           -9.4341 ,    -9.4341 ]])"
      ]
     },
     "execution_count": 7,
     "metadata": {},
     "output_type": "execute_result"
    }
   ],
   "source": [
    "data_low_mut"
   ]
  },
  {
   "cell_type": "code",
   "execution_count": 8,
   "metadata": {
    "collapsed": false
   },
   "outputs": [
    {
     "data": {
      "text/plain": [
       "array([[-4026.84   , -4026.84   , -4026.84   , ...,    -9.41762,\n",
       "           -9.41762,    -9.41762],\n",
       "       [-7539.74   , -7539.74   , -7539.74   , ...,    -9.41499,\n",
       "           -9.41499,    -9.41499],\n",
       "       [-3218.82   , -3218.82   , -3218.82   , ...,    -9.41778,\n",
       "           -9.41778,    -9.41778],\n",
       "       ..., \n",
       "       [-7182.44   , -7182.44   , -7182.44   , ...,    -9.41635,\n",
       "           -9.41635,    -9.41635],\n",
       "       [-4513.19   , -4513.19   , -4513.19   , ...,    -9.41552,\n",
       "           -9.41552,    -9.41552],\n",
       "       [-5764.04   , -5764.04   , -5764.04   , ...,    -9.41429,\n",
       "           -9.41429,    -9.41429]])"
      ]
     },
     "execution_count": 8,
     "metadata": {},
     "output_type": "execute_result"
    }
   ],
   "source": [
    "data_high_mut"
   ]
  },
  {
   "cell_type": "code",
   "execution_count": 15,
   "metadata": {
    "collapsed": true
   },
   "outputs": [],
   "source": [
    "low_mut_100 = data_low_mut[:, 100]\n",
    "high_mut_100 =  data_high_mut[:, 100]\n",
    "\n",
    "fig = figure()\n",
    "ax = fig.add_subplot(111)\n",
    "\n",
    "bp = ax.boxplot([low_mut_100, high_mut_100], notch=0, sym='b+', vert=1, whis=1.5, \n",
    "             positions=None, widths=0.6)\n",
    "\n",
    "# now all plot function should be applied to ax\n",
    "ax.spines['top'].set_visible(True)\n",
    "ax.spines['right'].set_visible(False)\n",
    "ax.spines['left'].set_visible(True)\n",
    "ax.get_xaxis().tick_bottom()\n",
    "ax.get_yaxis().tick_left()\n",
    "ax.tick_params(axis='x', direction='out')\n",
    "ax.tick_params(axis='y', length=0)\n",
    "\n",
    "ax.grid(axis='y', color=\"0.9\", linestyle='-', linewidth=1)\n",
    "ax.set_axisbelow(True)\n"
   ]
  },
  {
   "cell_type": "code",
   "execution_count": 16,
   "metadata": {
    "collapsed": true
   },
   "outputs": [],
   "source": [
    "#savefig('boxplot2.png')"
   ]
  },
  {
   "cell_type": "code",
   "execution_count": 17,
   "metadata": {
    "collapsed": false
   },
   "outputs": [
    {
     "data": {
      "image/png": "[encoded data removed]",
      "text/plain": [
       "<matplotlib.figure.Figure at 0x116b926d8>"
      ]
     },
     "metadata": {},
     "output_type": "display_data"
    }
   ],
   "source": [
    "show()"
   ]
  },
  {
   "cell_type": "code",
   "execution_count": null,
   "metadata": {
    "collapsed": true
   },
   "outputs": [],
   "source": []
  }
 ],
 "metadata": {
  "kernelspec": {
   "display_name": "Python 3",
   "language": "python",
   "name": "python3"
  },
  "language_info": {
   "codemirror_mode": {
    "name": "ipython",
    "version": 3
   },
   "file_extension": ".py",
   "mimetype": "text/x-python",
   "name": "python",
   "nbconvert_exporter": "python",
   "pygments_lexer": "ipython3",
   "version": "3.6.0"
  }
 },
 "nbformat": 4,
 "nbformat_minor": 2
}
